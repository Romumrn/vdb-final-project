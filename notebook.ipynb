{
 "cells": [
  {
   "cell_type": "code",
   "execution_count": null,
   "metadata": {},
   "outputs": [],
   "source": [
    "#Importation des differentes packages\n",
    "import pandas as pd\n",
    "import plotly.graph_objects as go\n",
    "import plotly.express as px\n",
    "from ipywidgets import widgets"
   ]
  },
  {
   "cell_type": "code",
   "execution_count": 1,
   "metadata": {},
   "outputs": [
    {
     "data": {
      "text/html": [
       "<div>\n",
       "<style scoped>\n",
       "    .dataframe tbody tr th:only-of-type {\n",
       "        vertical-align: middle;\n",
       "    }\n",
       "\n",
       "    .dataframe tbody tr th {\n",
       "        vertical-align: top;\n",
       "    }\n",
       "\n",
       "    .dataframe thead th {\n",
       "        text-align: right;\n",
       "    }\n",
       "</style>\n",
       "<table border=\"1\" class=\"dataframe\">\n",
       "  <thead>\n",
       "    <tr style=\"text-align: right;\">\n",
       "      <th></th>\n",
       "      <th>OTUNumber</th>\n",
       "      <th>OTUConTaxonomy</th>\n",
       "      <th>door_in_1</th>\n",
       "      <th>door_in_2</th>\n",
       "      <th>faucet_handle_1</th>\n",
       "      <th>faucet_handle_2</th>\n",
       "      <th>sink_floor_1</th>\n",
       "      <th>sink_floor_2</th>\n",
       "      <th>soap_dispenser_1</th>\n",
       "      <th>stall_in_1</th>\n",
       "      <th>...</th>\n",
       "      <th>toilet_flush_handle_1</th>\n",
       "      <th>toilet_flush_handle_2</th>\n",
       "      <th>toilet_seat_1</th>\n",
       "      <th>toilet_seat_2</th>\n",
       "      <th>regne</th>\n",
       "      <th>embranchement</th>\n",
       "      <th>classe</th>\n",
       "      <th>ordre</th>\n",
       "      <th>famille</th>\n",
       "      <th>genre</th>\n",
       "    </tr>\n",
       "  </thead>\n",
       "  <tbody>\n",
       "    <tr>\n",
       "      <th>0</th>\n",
       "      <td>Otu00001</td>\n",
       "      <td>Bacteria(100);Actinobacteria(100);Actinobacter...</td>\n",
       "      <td>1381</td>\n",
       "      <td>1032</td>\n",
       "      <td>335</td>\n",
       "      <td>577</td>\n",
       "      <td>38</td>\n",
       "      <td>36</td>\n",
       "      <td>1115</td>\n",
       "      <td>598</td>\n",
       "      <td>...</td>\n",
       "      <td>13</td>\n",
       "      <td>329</td>\n",
       "      <td>76</td>\n",
       "      <td>156</td>\n",
       "      <td>Bacteria</td>\n",
       "      <td>Actinobacteria</td>\n",
       "      <td>Actinobacteria</td>\n",
       "      <td>Actinomycetales</td>\n",
       "      <td>Propionibacteriaceae</td>\n",
       "      <td>Propionibacterium</td>\n",
       "    </tr>\n",
       "    <tr>\n",
       "      <th>1</th>\n",
       "      <td>Otu00002</td>\n",
       "      <td>Bacteria(100);Proteobacteria(100);Gammaproteob...</td>\n",
       "      <td>20</td>\n",
       "      <td>17</td>\n",
       "      <td>1686</td>\n",
       "      <td>3</td>\n",
       "      <td>411</td>\n",
       "      <td>564</td>\n",
       "      <td>128</td>\n",
       "      <td>9</td>\n",
       "      <td>...</td>\n",
       "      <td>0</td>\n",
       "      <td>25</td>\n",
       "      <td>258</td>\n",
       "      <td>0</td>\n",
       "      <td>Bacteria</td>\n",
       "      <td>Proteobacteria</td>\n",
       "      <td>Gammaproteobacteria</td>\n",
       "      <td>Pseudomonadales</td>\n",
       "      <td>Moraxellaceae</td>\n",
       "      <td>Enhydrobacter</td>\n",
       "    </tr>\n",
       "    <tr>\n",
       "      <th>2</th>\n",
       "      <td>Otu00003</td>\n",
       "      <td>Bacteria(100);Actinobacteria(100);Actinobacter...</td>\n",
       "      <td>8</td>\n",
       "      <td>47</td>\n",
       "      <td>6</td>\n",
       "      <td>418</td>\n",
       "      <td>15</td>\n",
       "      <td>8</td>\n",
       "      <td>84</td>\n",
       "      <td>45</td>\n",
       "      <td>...</td>\n",
       "      <td>3</td>\n",
       "      <td>283</td>\n",
       "      <td>41</td>\n",
       "      <td>1059</td>\n",
       "      <td>Bacteria</td>\n",
       "      <td>Actinobacteria</td>\n",
       "      <td>Actinobacteria</td>\n",
       "      <td>Actinomycetales</td>\n",
       "      <td>Corynebacteriaceae</td>\n",
       "      <td>Corynebacterium</td>\n",
       "    </tr>\n",
       "    <tr>\n",
       "      <th>3</th>\n",
       "      <td>Otu00004</td>\n",
       "      <td>Bacteria(100);Actinobacteria(100);Actinobacter...</td>\n",
       "      <td>6</td>\n",
       "      <td>27</td>\n",
       "      <td>5</td>\n",
       "      <td>6</td>\n",
       "      <td>452</td>\n",
       "      <td>275</td>\n",
       "      <td>63</td>\n",
       "      <td>0</td>\n",
       "      <td>...</td>\n",
       "      <td>9</td>\n",
       "      <td>51</td>\n",
       "      <td>5</td>\n",
       "      <td>3</td>\n",
       "      <td>Bacteria</td>\n",
       "      <td>Actinobacteria</td>\n",
       "      <td>Actinobacteria</td>\n",
       "      <td>Actinomycetales</td>\n",
       "      <td>Micrococcaceae</td>\n",
       "      <td>Arthrobacter</td>\n",
       "    </tr>\n",
       "    <tr>\n",
       "      <th>4</th>\n",
       "      <td>Otu00005</td>\n",
       "      <td>Bacteria(100);Actinobacteria(100);Actinobacter...</td>\n",
       "      <td>0</td>\n",
       "      <td>29</td>\n",
       "      <td>0</td>\n",
       "      <td>648</td>\n",
       "      <td>2</td>\n",
       "      <td>8</td>\n",
       "      <td>3</td>\n",
       "      <td>32</td>\n",
       "      <td>...</td>\n",
       "      <td>0</td>\n",
       "      <td>206</td>\n",
       "      <td>7</td>\n",
       "      <td>95</td>\n",
       "      <td>Bacteria</td>\n",
       "      <td>Actinobacteria</td>\n",
       "      <td>Actinobacteria</td>\n",
       "      <td>Actinomycetales</td>\n",
       "      <td>Corynebacteriaceae</td>\n",
       "      <td>Corynebacterium</td>\n",
       "    </tr>\n",
       "  </tbody>\n",
       "</table>\n",
       "<p>5 rows × 22 columns</p>\n",
       "</div>"
      ],
      "text/plain": [
       "  OTUNumber                                     OTUConTaxonomy  door_in_1  \\\n",
       "0  Otu00001  Bacteria(100);Actinobacteria(100);Actinobacter...       1381   \n",
       "1  Otu00002  Bacteria(100);Proteobacteria(100);Gammaproteob...         20   \n",
       "2  Otu00003  Bacteria(100);Actinobacteria(100);Actinobacter...          8   \n",
       "3  Otu00004  Bacteria(100);Actinobacteria(100);Actinobacter...          6   \n",
       "4  Otu00005  Bacteria(100);Actinobacteria(100);Actinobacter...          0   \n",
       "\n",
       "   door_in_2  faucet_handle_1  faucet_handle_2  sink_floor_1  sink_floor_2  \\\n",
       "0       1032              335              577            38            36   \n",
       "1         17             1686                3           411           564   \n",
       "2         47                6              418            15             8   \n",
       "3         27                5                6           452           275   \n",
       "4         29                0              648             2             8   \n",
       "\n",
       "   soap_dispenser_1  stall_in_1  ...  toilet_flush_handle_1  \\\n",
       "0              1115         598  ...                     13   \n",
       "1               128           9  ...                      0   \n",
       "2                84          45  ...                      3   \n",
       "3                63           0  ...                      9   \n",
       "4                 3          32  ...                      0   \n",
       "\n",
       "   toilet_flush_handle_2  toilet_seat_1  toilet_seat_2     regne  \\\n",
       "0                    329             76            156  Bacteria   \n",
       "1                     25            258              0  Bacteria   \n",
       "2                    283             41           1059  Bacteria   \n",
       "3                     51              5              3  Bacteria   \n",
       "4                    206              7             95  Bacteria   \n",
       "\n",
       "    embranchement               classe            ordre               famille  \\\n",
       "0  Actinobacteria       Actinobacteria  Actinomycetales  Propionibacteriaceae   \n",
       "1  Proteobacteria  Gammaproteobacteria  Pseudomonadales         Moraxellaceae   \n",
       "2  Actinobacteria       Actinobacteria  Actinomycetales    Corynebacteriaceae   \n",
       "3  Actinobacteria       Actinobacteria  Actinomycetales        Micrococcaceae   \n",
       "4  Actinobacteria       Actinobacteria  Actinomycetales    Corynebacteriaceae   \n",
       "\n",
       "               genre  \n",
       "0  Propionibacterium  \n",
       "1      Enhydrobacter  \n",
       "2    Corynebacterium  \n",
       "3       Arthrobacter  \n",
       "4    Corynebacterium  \n",
       "\n",
       "[5 rows x 22 columns]"
      ]
     },
     "execution_count": 1,
     "metadata": {},
     "output_type": "execute_result"
    }
   ],
   "source": [
    "#Importation des données de metagenomique en un dataframe pandas\n",
    "df = pd.read_csv(\"1335.vdb.tab\", sep ='\\t')\n",
    "\n",
    "#decoupage des noms des bacteries\n",
    "\n",
    "l1= []\n",
    "l2= []\n",
    "l3= []\n",
    "l4= []\n",
    "l5= []\n",
    "l6= []\n",
    "\n",
    "for nom in df['OTUConTaxonomy'].tolist():\n",
    "    l1.append( nom.split(\";\")[0].split(\"(\")[0])\n",
    "    l2.append( nom.split(\";\")[1].split(\"(\")[0])\n",
    "    l3.append( nom.split(\";\")[2].split(\"(\")[0])\n",
    "    l4.append( nom.split(\";\")[3].split(\"(\")[0])\n",
    "    l5.append( nom.split(\";\")[4].split(\"(\")[0])\n",
    "    l6.append( nom.split(\";\")[5].split(\"(\")[0])\n",
    "\n",
    "df['regne'] = l1\n",
    "df['embranchement']= l2\n",
    "df['classe'] = l3\n",
    "df['ordre']= l4\n",
    "df['famille']= l5\n",
    "df['genre']= l6\n",
    "\n",
    "df.head()"
   ]
  },
  {
   "cell_type": "code",
   "execution_count": 13,
   "metadata": {
    "scrolled": false
   },
   "outputs": [
    {
     "data": {
      "application/vnd.plotly.v1+json": {
       "config": {
        "plotlyServerURL": "https://plot.ly"
       },
       "data": [
        {
         "hoverongaps": false,
         "type": "heatmap",
         "x": [
          "door_in_1",
          "door_in_2",
          "faucet_handle_1",
          "faucet_handle_2",
          "sink_floor_1",
          "sink_floor_2",
          "soap_dispenser_1",
          "stall_in_1",
          "toilet_floor_1",
          "toilet_floor_2",
          "toilet_flush_handle_1",
          "toilet_flush_handle_2",
          "toilet_seat_1",
          "toilet_seat_2"
         ],
         "y": [
          "Acidobacteria",
          "Actinobacteria",
          "Armatimonadetes",
          "Bacteroidetes",
          "Candidatus_Saccharibacteria",
          "Chloroflexi",
          "Deinococcus-Thermus",
          "Firmicutes",
          "Fusobacteria",
          "Gemmatimonadetes",
          "Microgenomates",
          "Parcubacteria",
          "Planctomycetes",
          "Proteobacteria",
          "Spirochaetes",
          "Synergistetes",
          "Verrucomicrobia",
          "unclassified"
         ],
         "z": [
          [
           6,
           0,
           3,
           0,
           17,
           13,
           0,
           11,
           19,
           16,
           65,
           23,
           7,
           1
          ],
          [
           1669,
           1483,
           434,
           2224,
           1382,
           978,
           1665,
           1077,
           1133,
           1013,
           1006,
           1400,
           685,
           1968
          ],
          [
           0,
           0,
           0,
           0,
           0,
           0,
           5,
           0,
           1,
           0,
           3,
           0,
           2,
           0
          ],
          [
           100,
           170,
           54,
           84,
           201,
           333,
           127,
           235,
           267,
           228,
           276,
           120,
           117,
           80
          ],
          [
           10,
           0,
           0,
           1,
           12,
           6,
           0,
           0,
           6,
           3,
           40,
           1,
           1,
           0
          ],
          [
           0,
           0,
           0,
           0,
           0,
           0,
           0,
           0,
           3,
           0,
           23,
           1,
           0,
           0
          ],
          [
           10,
           20,
           0,
           12,
           59,
           50,
           0,
           0,
           23,
           28,
           5,
           10,
           2,
           1
          ],
          [
           686,
           457,
           155,
           440,
           123,
           94,
           378,
           446,
           130,
           131,
           51,
           433,
           363,
           946
          ],
          [
           15,
           7,
           8,
           12,
           1,
           2,
           14,
           0,
           3,
           2,
           1,
           9,
           2,
           4
          ],
          [
           0,
           0,
           1,
           0,
           3,
           1,
           0,
           0,
           0,
           1,
           2,
           0,
           0,
           0
          ],
          [
           0,
           0,
           0,
           0,
           2,
           0,
           0,
           0,
           0,
           0,
           0,
           0,
           0,
           0
          ],
          [
           0,
           0,
           0,
           0,
           0,
           0,
           0,
           0,
           0,
           1,
           12,
           0,
           0,
           0
          ],
          [
           0,
           0,
           0,
           0,
           1,
           1,
           3,
           0,
           2,
           1,
           0,
           0,
           0,
           0
          ],
          [
           593,
           960,
           2445,
           340,
           1229,
           1555,
           897,
           1272,
           1419,
           1634,
           1133,
           1096,
           1906,
           100
          ],
          [
           0,
           0,
           0,
           0,
           0,
           0,
           0,
           0,
           6,
           0,
           0,
           0,
           0,
           0
          ],
          [
           0,
           0,
           0,
           0,
           0,
           0,
           0,
           0,
           0,
           0,
           0,
           0,
           2,
           0
          ],
          [
           0,
           0,
           0,
           0,
           0,
           1,
           0,
           0,
           1,
           1,
           16,
           0,
           0,
           0
          ],
          [
           30,
           22,
           19,
           6,
           89,
           85,
           30,
           78,
           106,
           60,
           486,
           26,
           32,
           19
          ]
         ]
        }
       ],
       "layout": {
        "template": {
         "data": {
          "bar": [
           {
            "error_x": {
             "color": "#2a3f5f"
            },
            "error_y": {
             "color": "#2a3f5f"
            },
            "marker": {
             "line": {
              "color": "#E5ECF6",
              "width": 0.5
             }
            },
            "type": "bar"
           }
          ],
          "barpolar": [
           {
            "marker": {
             "line": {
              "color": "#E5ECF6",
              "width": 0.5
             }
            },
            "type": "barpolar"
           }
          ],
          "carpet": [
           {
            "aaxis": {
             "endlinecolor": "#2a3f5f",
             "gridcolor": "white",
             "linecolor": "white",
             "minorgridcolor": "white",
             "startlinecolor": "#2a3f5f"
            },
            "baxis": {
             "endlinecolor": "#2a3f5f",
             "gridcolor": "white",
             "linecolor": "white",
             "minorgridcolor": "white",
             "startlinecolor": "#2a3f5f"
            },
            "type": "carpet"
           }
          ],
          "choropleth": [
           {
            "colorbar": {
             "outlinewidth": 0,
             "ticks": ""
            },
            "type": "choropleth"
           }
          ],
          "contour": [
           {
            "colorbar": {
             "outlinewidth": 0,
             "ticks": ""
            },
            "colorscale": [
             [
              0,
              "#0d0887"
             ],
             [
              0.1111111111111111,
              "#46039f"
             ],
             [
              0.2222222222222222,
              "#7201a8"
             ],
             [
              0.3333333333333333,
              "#9c179e"
             ],
             [
              0.4444444444444444,
              "#bd3786"
             ],
             [
              0.5555555555555556,
              "#d8576b"
             ],
             [
              0.6666666666666666,
              "#ed7953"
             ],
             [
              0.7777777777777778,
              "#fb9f3a"
             ],
             [
              0.8888888888888888,
              "#fdca26"
             ],
             [
              1,
              "#f0f921"
             ]
            ],
            "type": "contour"
           }
          ],
          "contourcarpet": [
           {
            "colorbar": {
             "outlinewidth": 0,
             "ticks": ""
            },
            "type": "contourcarpet"
           }
          ],
          "heatmap": [
           {
            "colorbar": {
             "outlinewidth": 0,
             "ticks": ""
            },
            "colorscale": [
             [
              0,
              "#0d0887"
             ],
             [
              0.1111111111111111,
              "#46039f"
             ],
             [
              0.2222222222222222,
              "#7201a8"
             ],
             [
              0.3333333333333333,
              "#9c179e"
             ],
             [
              0.4444444444444444,
              "#bd3786"
             ],
             [
              0.5555555555555556,
              "#d8576b"
             ],
             [
              0.6666666666666666,
              "#ed7953"
             ],
             [
              0.7777777777777778,
              "#fb9f3a"
             ],
             [
              0.8888888888888888,
              "#fdca26"
             ],
             [
              1,
              "#f0f921"
             ]
            ],
            "type": "heatmap"
           }
          ],
          "heatmapgl": [
           {
            "colorbar": {
             "outlinewidth": 0,
             "ticks": ""
            },
            "colorscale": [
             [
              0,
              "#0d0887"
             ],
             [
              0.1111111111111111,
              "#46039f"
             ],
             [
              0.2222222222222222,
              "#7201a8"
             ],
             [
              0.3333333333333333,
              "#9c179e"
             ],
             [
              0.4444444444444444,
              "#bd3786"
             ],
             [
              0.5555555555555556,
              "#d8576b"
             ],
             [
              0.6666666666666666,
              "#ed7953"
             ],
             [
              0.7777777777777778,
              "#fb9f3a"
             ],
             [
              0.8888888888888888,
              "#fdca26"
             ],
             [
              1,
              "#f0f921"
             ]
            ],
            "type": "heatmapgl"
           }
          ],
          "histogram": [
           {
            "marker": {
             "colorbar": {
              "outlinewidth": 0,
              "ticks": ""
             }
            },
            "type": "histogram"
           }
          ],
          "histogram2d": [
           {
            "colorbar": {
             "outlinewidth": 0,
             "ticks": ""
            },
            "colorscale": [
             [
              0,
              "#0d0887"
             ],
             [
              0.1111111111111111,
              "#46039f"
             ],
             [
              0.2222222222222222,
              "#7201a8"
             ],
             [
              0.3333333333333333,
              "#9c179e"
             ],
             [
              0.4444444444444444,
              "#bd3786"
             ],
             [
              0.5555555555555556,
              "#d8576b"
             ],
             [
              0.6666666666666666,
              "#ed7953"
             ],
             [
              0.7777777777777778,
              "#fb9f3a"
             ],
             [
              0.8888888888888888,
              "#fdca26"
             ],
             [
              1,
              "#f0f921"
             ]
            ],
            "type": "histogram2d"
           }
          ],
          "histogram2dcontour": [
           {
            "colorbar": {
             "outlinewidth": 0,
             "ticks": ""
            },
            "colorscale": [
             [
              0,
              "#0d0887"
             ],
             [
              0.1111111111111111,
              "#46039f"
             ],
             [
              0.2222222222222222,
              "#7201a8"
             ],
             [
              0.3333333333333333,
              "#9c179e"
             ],
             [
              0.4444444444444444,
              "#bd3786"
             ],
             [
              0.5555555555555556,
              "#d8576b"
             ],
             [
              0.6666666666666666,
              "#ed7953"
             ],
             [
              0.7777777777777778,
              "#fb9f3a"
             ],
             [
              0.8888888888888888,
              "#fdca26"
             ],
             [
              1,
              "#f0f921"
             ]
            ],
            "type": "histogram2dcontour"
           }
          ],
          "mesh3d": [
           {
            "colorbar": {
             "outlinewidth": 0,
             "ticks": ""
            },
            "type": "mesh3d"
           }
          ],
          "parcoords": [
           {
            "line": {
             "colorbar": {
              "outlinewidth": 0,
              "ticks": ""
             }
            },
            "type": "parcoords"
           }
          ],
          "pie": [
           {
            "automargin": true,
            "type": "pie"
           }
          ],
          "scatter": [
           {
            "marker": {
             "colorbar": {
              "outlinewidth": 0,
              "ticks": ""
             }
            },
            "type": "scatter"
           }
          ],
          "scatter3d": [
           {
            "line": {
             "colorbar": {
              "outlinewidth": 0,
              "ticks": ""
             }
            },
            "marker": {
             "colorbar": {
              "outlinewidth": 0,
              "ticks": ""
             }
            },
            "type": "scatter3d"
           }
          ],
          "scattercarpet": [
           {
            "marker": {
             "colorbar": {
              "outlinewidth": 0,
              "ticks": ""
             }
            },
            "type": "scattercarpet"
           }
          ],
          "scattergeo": [
           {
            "marker": {
             "colorbar": {
              "outlinewidth": 0,
              "ticks": ""
             }
            },
            "type": "scattergeo"
           }
          ],
          "scattergl": [
           {
            "marker": {
             "colorbar": {
              "outlinewidth": 0,
              "ticks": ""
             }
            },
            "type": "scattergl"
           }
          ],
          "scattermapbox": [
           {
            "marker": {
             "colorbar": {
              "outlinewidth": 0,
              "ticks": ""
             }
            },
            "type": "scattermapbox"
           }
          ],
          "scatterpolar": [
           {
            "marker": {
             "colorbar": {
              "outlinewidth": 0,
              "ticks": ""
             }
            },
            "type": "scatterpolar"
           }
          ],
          "scatterpolargl": [
           {
            "marker": {
             "colorbar": {
              "outlinewidth": 0,
              "ticks": ""
             }
            },
            "type": "scatterpolargl"
           }
          ],
          "scatterternary": [
           {
            "marker": {
             "colorbar": {
              "outlinewidth": 0,
              "ticks": ""
             }
            },
            "type": "scatterternary"
           }
          ],
          "surface": [
           {
            "colorbar": {
             "outlinewidth": 0,
             "ticks": ""
            },
            "colorscale": [
             [
              0,
              "#0d0887"
             ],
             [
              0.1111111111111111,
              "#46039f"
             ],
             [
              0.2222222222222222,
              "#7201a8"
             ],
             [
              0.3333333333333333,
              "#9c179e"
             ],
             [
              0.4444444444444444,
              "#bd3786"
             ],
             [
              0.5555555555555556,
              "#d8576b"
             ],
             [
              0.6666666666666666,
              "#ed7953"
             ],
             [
              0.7777777777777778,
              "#fb9f3a"
             ],
             [
              0.8888888888888888,
              "#fdca26"
             ],
             [
              1,
              "#f0f921"
             ]
            ],
            "type": "surface"
           }
          ],
          "table": [
           {
            "cells": {
             "fill": {
              "color": "#EBF0F8"
             },
             "line": {
              "color": "white"
             }
            },
            "header": {
             "fill": {
              "color": "#C8D4E3"
             },
             "line": {
              "color": "white"
             }
            },
            "type": "table"
           }
          ]
         },
         "layout": {
          "annotationdefaults": {
           "arrowcolor": "#2a3f5f",
           "arrowhead": 0,
           "arrowwidth": 1
          },
          "coloraxis": {
           "colorbar": {
            "outlinewidth": 0,
            "ticks": ""
           }
          },
          "colorscale": {
           "diverging": [
            [
             0,
             "#8e0152"
            ],
            [
             0.1,
             "#c51b7d"
            ],
            [
             0.2,
             "#de77ae"
            ],
            [
             0.3,
             "#f1b6da"
            ],
            [
             0.4,
             "#fde0ef"
            ],
            [
             0.5,
             "#f7f7f7"
            ],
            [
             0.6,
             "#e6f5d0"
            ],
            [
             0.7,
             "#b8e186"
            ],
            [
             0.8,
             "#7fbc41"
            ],
            [
             0.9,
             "#4d9221"
            ],
            [
             1,
             "#276419"
            ]
           ],
           "sequential": [
            [
             0,
             "#0d0887"
            ],
            [
             0.1111111111111111,
             "#46039f"
            ],
            [
             0.2222222222222222,
             "#7201a8"
            ],
            [
             0.3333333333333333,
             "#9c179e"
            ],
            [
             0.4444444444444444,
             "#bd3786"
            ],
            [
             0.5555555555555556,
             "#d8576b"
            ],
            [
             0.6666666666666666,
             "#ed7953"
            ],
            [
             0.7777777777777778,
             "#fb9f3a"
            ],
            [
             0.8888888888888888,
             "#fdca26"
            ],
            [
             1,
             "#f0f921"
            ]
           ],
           "sequentialminus": [
            [
             0,
             "#0d0887"
            ],
            [
             0.1111111111111111,
             "#46039f"
            ],
            [
             0.2222222222222222,
             "#7201a8"
            ],
            [
             0.3333333333333333,
             "#9c179e"
            ],
            [
             0.4444444444444444,
             "#bd3786"
            ],
            [
             0.5555555555555556,
             "#d8576b"
            ],
            [
             0.6666666666666666,
             "#ed7953"
            ],
            [
             0.7777777777777778,
             "#fb9f3a"
            ],
            [
             0.8888888888888888,
             "#fdca26"
            ],
            [
             1,
             "#f0f921"
            ]
           ]
          },
          "colorway": [
           "#636efa",
           "#EF553B",
           "#00cc96",
           "#ab63fa",
           "#FFA15A",
           "#19d3f3",
           "#FF6692",
           "#B6E880",
           "#FF97FF",
           "#FECB52"
          ],
          "font": {
           "color": "#2a3f5f"
          },
          "geo": {
           "bgcolor": "white",
           "lakecolor": "white",
           "landcolor": "#E5ECF6",
           "showlakes": true,
           "showland": true,
           "subunitcolor": "white"
          },
          "hoverlabel": {
           "align": "left"
          },
          "hovermode": "closest",
          "mapbox": {
           "style": "light"
          },
          "paper_bgcolor": "white",
          "plot_bgcolor": "#E5ECF6",
          "polar": {
           "angularaxis": {
            "gridcolor": "white",
            "linecolor": "white",
            "ticks": ""
           },
           "bgcolor": "#E5ECF6",
           "radialaxis": {
            "gridcolor": "white",
            "linecolor": "white",
            "ticks": ""
           }
          },
          "scene": {
           "xaxis": {
            "backgroundcolor": "#E5ECF6",
            "gridcolor": "white",
            "gridwidth": 2,
            "linecolor": "white",
            "showbackground": true,
            "ticks": "",
            "zerolinecolor": "white"
           },
           "yaxis": {
            "backgroundcolor": "#E5ECF6",
            "gridcolor": "white",
            "gridwidth": 2,
            "linecolor": "white",
            "showbackground": true,
            "ticks": "",
            "zerolinecolor": "white"
           },
           "zaxis": {
            "backgroundcolor": "#E5ECF6",
            "gridcolor": "white",
            "gridwidth": 2,
            "linecolor": "white",
            "showbackground": true,
            "ticks": "",
            "zerolinecolor": "white"
           }
          },
          "shapedefaults": {
           "line": {
            "color": "#2a3f5f"
           }
          },
          "ternary": {
           "aaxis": {
            "gridcolor": "white",
            "linecolor": "white",
            "ticks": ""
           },
           "baxis": {
            "gridcolor": "white",
            "linecolor": "white",
            "ticks": ""
           },
           "bgcolor": "#E5ECF6",
           "caxis": {
            "gridcolor": "white",
            "linecolor": "white",
            "ticks": ""
           }
          },
          "title": {
           "x": 0.05
          },
          "xaxis": {
           "automargin": true,
           "gridcolor": "white",
           "linecolor": "white",
           "ticks": "",
           "title": {
            "standoff": 15
           },
           "zerolinecolor": "white",
           "zerolinewidth": 2
          },
          "yaxis": {
           "automargin": true,
           "gridcolor": "white",
           "linecolor": "white",
           "ticks": "",
           "title": {
            "standoff": 15
           },
           "zerolinecolor": "white",
           "zerolinewidth": 2
          }
         }
        }
       }
      },
      "text/html": [
       "<div>                            <div id=\"40456ef4-f994-4769-8524-8f0ab5b7b009\" class=\"plotly-graph-div\" style=\"height:525px; width:100%;\"></div>            <script type=\"text/javascript\">                require([\"plotly\"], function(Plotly) {                    window.PLOTLYENV=window.PLOTLYENV || {};                                    if (document.getElementById(\"40456ef4-f994-4769-8524-8f0ab5b7b009\")) {                    Plotly.newPlot(                        \"40456ef4-f994-4769-8524-8f0ab5b7b009\",                        [{\"hoverongaps\": false, \"type\": \"heatmap\", \"x\": [\"door_in_1\", \"door_in_2\", \"faucet_handle_1\", \"faucet_handle_2\", \"sink_floor_1\", \"sink_floor_2\", \"soap_dispenser_1\", \"stall_in_1\", \"toilet_floor_1\", \"toilet_floor_2\", \"toilet_flush_handle_1\", \"toilet_flush_handle_2\", \"toilet_seat_1\", \"toilet_seat_2\"], \"y\": [\"Acidobacteria\", \"Actinobacteria\", \"Armatimonadetes\", \"Bacteroidetes\", \"Candidatus_Saccharibacteria\", \"Chloroflexi\", \"Deinococcus-Thermus\", \"Firmicutes\", \"Fusobacteria\", \"Gemmatimonadetes\", \"Microgenomates\", \"Parcubacteria\", \"Planctomycetes\", \"Proteobacteria\", \"Spirochaetes\", \"Synergistetes\", \"Verrucomicrobia\", \"unclassified\"], \"z\": [[6, 0, 3, 0, 17, 13, 0, 11, 19, 16, 65, 23, 7, 1], [1669, 1483, 434, 2224, 1382, 978, 1665, 1077, 1133, 1013, 1006, 1400, 685, 1968], [0, 0, 0, 0, 0, 0, 5, 0, 1, 0, 3, 0, 2, 0], [100, 170, 54, 84, 201, 333, 127, 235, 267, 228, 276, 120, 117, 80], [10, 0, 0, 1, 12, 6, 0, 0, 6, 3, 40, 1, 1, 0], [0, 0, 0, 0, 0, 0, 0, 0, 3, 0, 23, 1, 0, 0], [10, 20, 0, 12, 59, 50, 0, 0, 23, 28, 5, 10, 2, 1], [686, 457, 155, 440, 123, 94, 378, 446, 130, 131, 51, 433, 363, 946], [15, 7, 8, 12, 1, 2, 14, 0, 3, 2, 1, 9, 2, 4], [0, 0, 1, 0, 3, 1, 0, 0, 0, 1, 2, 0, 0, 0], [0, 0, 0, 0, 2, 0, 0, 0, 0, 0, 0, 0, 0, 0], [0, 0, 0, 0, 0, 0, 0, 0, 0, 1, 12, 0, 0, 0], [0, 0, 0, 0, 1, 1, 3, 0, 2, 1, 0, 0, 0, 0], [593, 960, 2445, 340, 1229, 1555, 897, 1272, 1419, 1634, 1133, 1096, 1906, 100], [0, 0, 0, 0, 0, 0, 0, 0, 6, 0, 0, 0, 0, 0], [0, 0, 0, 0, 0, 0, 0, 0, 0, 0, 0, 0, 2, 0], [0, 0, 0, 0, 0, 1, 0, 0, 1, 1, 16, 0, 0, 0], [30, 22, 19, 6, 89, 85, 30, 78, 106, 60, 486, 26, 32, 19]]}],                        {\"template\": {\"data\": {\"bar\": [{\"error_x\": {\"color\": \"#2a3f5f\"}, \"error_y\": {\"color\": \"#2a3f5f\"}, \"marker\": {\"line\": {\"color\": \"#E5ECF6\", \"width\": 0.5}}, \"type\": \"bar\"}], \"barpolar\": [{\"marker\": {\"line\": {\"color\": \"#E5ECF6\", \"width\": 0.5}}, \"type\": \"barpolar\"}], \"carpet\": [{\"aaxis\": {\"endlinecolor\": \"#2a3f5f\", \"gridcolor\": \"white\", \"linecolor\": \"white\", \"minorgridcolor\": \"white\", \"startlinecolor\": \"#2a3f5f\"}, \"baxis\": {\"endlinecolor\": \"#2a3f5f\", \"gridcolor\": \"white\", \"linecolor\": \"white\", \"minorgridcolor\": \"white\", \"startlinecolor\": \"#2a3f5f\"}, \"type\": \"carpet\"}], \"choropleth\": [{\"colorbar\": {\"outlinewidth\": 0, \"ticks\": \"\"}, \"type\": \"choropleth\"}], \"contour\": [{\"colorbar\": {\"outlinewidth\": 0, \"ticks\": \"\"}, \"colorscale\": [[0.0, \"#0d0887\"], [0.1111111111111111, \"#46039f\"], [0.2222222222222222, \"#7201a8\"], [0.3333333333333333, \"#9c179e\"], [0.4444444444444444, \"#bd3786\"], [0.5555555555555556, \"#d8576b\"], [0.6666666666666666, \"#ed7953\"], [0.7777777777777778, \"#fb9f3a\"], [0.8888888888888888, \"#fdca26\"], [1.0, \"#f0f921\"]], \"type\": \"contour\"}], \"contourcarpet\": [{\"colorbar\": {\"outlinewidth\": 0, \"ticks\": \"\"}, \"type\": \"contourcarpet\"}], \"heatmap\": [{\"colorbar\": {\"outlinewidth\": 0, \"ticks\": \"\"}, \"colorscale\": [[0.0, \"#0d0887\"], [0.1111111111111111, \"#46039f\"], [0.2222222222222222, \"#7201a8\"], [0.3333333333333333, \"#9c179e\"], [0.4444444444444444, \"#bd3786\"], [0.5555555555555556, \"#d8576b\"], [0.6666666666666666, \"#ed7953\"], [0.7777777777777778, \"#fb9f3a\"], [0.8888888888888888, \"#fdca26\"], [1.0, \"#f0f921\"]], \"type\": \"heatmap\"}], \"heatmapgl\": [{\"colorbar\": {\"outlinewidth\": 0, \"ticks\": \"\"}, \"colorscale\": [[0.0, \"#0d0887\"], [0.1111111111111111, \"#46039f\"], [0.2222222222222222, \"#7201a8\"], [0.3333333333333333, \"#9c179e\"], [0.4444444444444444, \"#bd3786\"], [0.5555555555555556, \"#d8576b\"], [0.6666666666666666, \"#ed7953\"], [0.7777777777777778, \"#fb9f3a\"], [0.8888888888888888, \"#fdca26\"], [1.0, \"#f0f921\"]], \"type\": \"heatmapgl\"}], \"histogram\": [{\"marker\": {\"colorbar\": {\"outlinewidth\": 0, \"ticks\": \"\"}}, \"type\": \"histogram\"}], \"histogram2d\": [{\"colorbar\": {\"outlinewidth\": 0, \"ticks\": \"\"}, \"colorscale\": [[0.0, \"#0d0887\"], [0.1111111111111111, \"#46039f\"], [0.2222222222222222, \"#7201a8\"], [0.3333333333333333, \"#9c179e\"], [0.4444444444444444, \"#bd3786\"], [0.5555555555555556, \"#d8576b\"], [0.6666666666666666, \"#ed7953\"], [0.7777777777777778, \"#fb9f3a\"], [0.8888888888888888, \"#fdca26\"], [1.0, \"#f0f921\"]], \"type\": \"histogram2d\"}], \"histogram2dcontour\": [{\"colorbar\": {\"outlinewidth\": 0, \"ticks\": \"\"}, \"colorscale\": [[0.0, \"#0d0887\"], [0.1111111111111111, \"#46039f\"], [0.2222222222222222, \"#7201a8\"], [0.3333333333333333, \"#9c179e\"], [0.4444444444444444, \"#bd3786\"], [0.5555555555555556, \"#d8576b\"], [0.6666666666666666, \"#ed7953\"], [0.7777777777777778, \"#fb9f3a\"], [0.8888888888888888, \"#fdca26\"], [1.0, \"#f0f921\"]], \"type\": \"histogram2dcontour\"}], \"mesh3d\": [{\"colorbar\": {\"outlinewidth\": 0, \"ticks\": \"\"}, \"type\": \"mesh3d\"}], \"parcoords\": [{\"line\": {\"colorbar\": {\"outlinewidth\": 0, \"ticks\": \"\"}}, \"type\": \"parcoords\"}], \"pie\": [{\"automargin\": true, \"type\": \"pie\"}], \"scatter\": [{\"marker\": {\"colorbar\": {\"outlinewidth\": 0, \"ticks\": \"\"}}, \"type\": \"scatter\"}], \"scatter3d\": [{\"line\": {\"colorbar\": {\"outlinewidth\": 0, \"ticks\": \"\"}}, \"marker\": {\"colorbar\": {\"outlinewidth\": 0, \"ticks\": \"\"}}, \"type\": \"scatter3d\"}], \"scattercarpet\": [{\"marker\": {\"colorbar\": {\"outlinewidth\": 0, \"ticks\": \"\"}}, \"type\": \"scattercarpet\"}], \"scattergeo\": [{\"marker\": {\"colorbar\": {\"outlinewidth\": 0, \"ticks\": \"\"}}, \"type\": \"scattergeo\"}], \"scattergl\": [{\"marker\": {\"colorbar\": {\"outlinewidth\": 0, \"ticks\": \"\"}}, \"type\": \"scattergl\"}], \"scattermapbox\": [{\"marker\": {\"colorbar\": {\"outlinewidth\": 0, \"ticks\": \"\"}}, \"type\": \"scattermapbox\"}], \"scatterpolar\": [{\"marker\": {\"colorbar\": {\"outlinewidth\": 0, \"ticks\": \"\"}}, \"type\": \"scatterpolar\"}], \"scatterpolargl\": [{\"marker\": {\"colorbar\": {\"outlinewidth\": 0, \"ticks\": \"\"}}, \"type\": \"scatterpolargl\"}], \"scatterternary\": [{\"marker\": {\"colorbar\": {\"outlinewidth\": 0, \"ticks\": \"\"}}, \"type\": \"scatterternary\"}], \"surface\": [{\"colorbar\": {\"outlinewidth\": 0, \"ticks\": \"\"}, \"colorscale\": [[0.0, \"#0d0887\"], [0.1111111111111111, \"#46039f\"], [0.2222222222222222, \"#7201a8\"], [0.3333333333333333, \"#9c179e\"], [0.4444444444444444, \"#bd3786\"], [0.5555555555555556, \"#d8576b\"], [0.6666666666666666, \"#ed7953\"], [0.7777777777777778, \"#fb9f3a\"], [0.8888888888888888, \"#fdca26\"], [1.0, \"#f0f921\"]], \"type\": \"surface\"}], \"table\": [{\"cells\": {\"fill\": {\"color\": \"#EBF0F8\"}, \"line\": {\"color\": \"white\"}}, \"header\": {\"fill\": {\"color\": \"#C8D4E3\"}, \"line\": {\"color\": \"white\"}}, \"type\": \"table\"}]}, \"layout\": {\"annotationdefaults\": {\"arrowcolor\": \"#2a3f5f\", \"arrowhead\": 0, \"arrowwidth\": 1}, \"coloraxis\": {\"colorbar\": {\"outlinewidth\": 0, \"ticks\": \"\"}}, \"colorscale\": {\"diverging\": [[0, \"#8e0152\"], [0.1, \"#c51b7d\"], [0.2, \"#de77ae\"], [0.3, \"#f1b6da\"], [0.4, \"#fde0ef\"], [0.5, \"#f7f7f7\"], [0.6, \"#e6f5d0\"], [0.7, \"#b8e186\"], [0.8, \"#7fbc41\"], [0.9, \"#4d9221\"], [1, \"#276419\"]], \"sequential\": [[0.0, \"#0d0887\"], [0.1111111111111111, \"#46039f\"], [0.2222222222222222, \"#7201a8\"], [0.3333333333333333, \"#9c179e\"], [0.4444444444444444, \"#bd3786\"], [0.5555555555555556, \"#d8576b\"], [0.6666666666666666, \"#ed7953\"], [0.7777777777777778, \"#fb9f3a\"], [0.8888888888888888, \"#fdca26\"], [1.0, \"#f0f921\"]], \"sequentialminus\": [[0.0, \"#0d0887\"], [0.1111111111111111, \"#46039f\"], [0.2222222222222222, \"#7201a8\"], [0.3333333333333333, \"#9c179e\"], [0.4444444444444444, \"#bd3786\"], [0.5555555555555556, \"#d8576b\"], [0.6666666666666666, \"#ed7953\"], [0.7777777777777778, \"#fb9f3a\"], [0.8888888888888888, \"#fdca26\"], [1.0, \"#f0f921\"]]}, \"colorway\": [\"#636efa\", \"#EF553B\", \"#00cc96\", \"#ab63fa\", \"#FFA15A\", \"#19d3f3\", \"#FF6692\", \"#B6E880\", \"#FF97FF\", \"#FECB52\"], \"font\": {\"color\": \"#2a3f5f\"}, \"geo\": {\"bgcolor\": \"white\", \"lakecolor\": \"white\", \"landcolor\": \"#E5ECF6\", \"showlakes\": true, \"showland\": true, \"subunitcolor\": \"white\"}, \"hoverlabel\": {\"align\": \"left\"}, \"hovermode\": \"closest\", \"mapbox\": {\"style\": \"light\"}, \"paper_bgcolor\": \"white\", \"plot_bgcolor\": \"#E5ECF6\", \"polar\": {\"angularaxis\": {\"gridcolor\": \"white\", \"linecolor\": \"white\", \"ticks\": \"\"}, \"bgcolor\": \"#E5ECF6\", \"radialaxis\": {\"gridcolor\": \"white\", \"linecolor\": \"white\", \"ticks\": \"\"}}, \"scene\": {\"xaxis\": {\"backgroundcolor\": \"#E5ECF6\", \"gridcolor\": \"white\", \"gridwidth\": 2, \"linecolor\": \"white\", \"showbackground\": true, \"ticks\": \"\", \"zerolinecolor\": \"white\"}, \"yaxis\": {\"backgroundcolor\": \"#E5ECF6\", \"gridcolor\": \"white\", \"gridwidth\": 2, \"linecolor\": \"white\", \"showbackground\": true, \"ticks\": \"\", \"zerolinecolor\": \"white\"}, \"zaxis\": {\"backgroundcolor\": \"#E5ECF6\", \"gridcolor\": \"white\", \"gridwidth\": 2, \"linecolor\": \"white\", \"showbackground\": true, \"ticks\": \"\", \"zerolinecolor\": \"white\"}}, \"shapedefaults\": {\"line\": {\"color\": \"#2a3f5f\"}}, \"ternary\": {\"aaxis\": {\"gridcolor\": \"white\", \"linecolor\": \"white\", \"ticks\": \"\"}, \"baxis\": {\"gridcolor\": \"white\", \"linecolor\": \"white\", \"ticks\": \"\"}, \"bgcolor\": \"#E5ECF6\", \"caxis\": {\"gridcolor\": \"white\", \"linecolor\": \"white\", \"ticks\": \"\"}}, \"title\": {\"x\": 0.05}, \"xaxis\": {\"automargin\": true, \"gridcolor\": \"white\", \"linecolor\": \"white\", \"ticks\": \"\", \"title\": {\"standoff\": 15}, \"zerolinecolor\": \"white\", \"zerolinewidth\": 2}, \"yaxis\": {\"automargin\": true, \"gridcolor\": \"white\", \"linecolor\": \"white\", \"ticks\": \"\", \"title\": {\"standoff\": 15}, \"zerolinecolor\": \"white\", \"zerolinewidth\": 2}}}},                        {\"responsive\": true}                    ).then(function(){\n",
       "                            \n",
       "var gd = document.getElementById('40456ef4-f994-4769-8524-8f0ab5b7b009');\n",
       "var x = new MutationObserver(function (mutations, observer) {{\n",
       "        var display = window.getComputedStyle(gd).display;\n",
       "        if (!display || display === 'none') {{\n",
       "            console.log([gd, 'removed!']);\n",
       "            Plotly.purge(gd);\n",
       "            observer.disconnect();\n",
       "        }}\n",
       "}});\n",
       "\n",
       "// Listen for the removal of the full notebook cells\n",
       "var notebookContainer = gd.closest('#notebook-container');\n",
       "if (notebookContainer) {{\n",
       "    x.observe(notebookContainer, {childList: true});\n",
       "}}\n",
       "\n",
       "// Listen for the clearing of the current output cell\n",
       "var outputEl = gd.closest('.output');\n",
       "if (outputEl) {{\n",
       "    x.observe(outputEl, {childList: true});\n",
       "}}\n",
       "\n",
       "                        })                };                });            </script>        </div>"
      ]
     },
     "metadata": {},
     "output_type": "display_data"
    }
   ],
   "source": [
    "#heatmap\n",
    "\n",
    "#df_short = df[['door_in_1','door_in_2','faucet_handle_1','faucet_handle_2','sink_floor_1','sink_floor_2','soap_dispenser_1','stall_in_1','toilet_floor_1','toilet_floor_2','toilet_flush_handle_1','toilet_flush_handle_2','toilet_seat_1','toilet_seat_2']]\n",
    "\n",
    "#remove line with 0\n",
    "#df_short_clean = df_short.loc[(df.sum(axis=1) != 0)]\n",
    "#matrice=df.groupby(by=\"embranchement\").sum()\n",
    "\n",
    "\n",
    "indexNamesArr = matrice.index.values\n",
    "\n",
    "embranchement = list(indexNamesArr)\n",
    "samples = list(matrice.columns.values)\n",
    "\n",
    "\n",
    "fig = go.Figure(data=go.Heatmap(\n",
    "                   z=matrice,\n",
    "                   x=samples,\n",
    "                   y=embranchement,\n",
    "                   hoverongaps = False))\n",
    "fig.show()"
   ]
  },
  {
   "cell_type": "code",
   "execution_count": 14,
   "metadata": {
    "scrolled": true
   },
   "outputs": [
    {
     "data": {
      "application/vnd.plotly.v1+json": {
       "config": {
        "plotlyServerURL": "https://plot.ly"
       },
       "data": [
        {
         "alignmentgroup": "True",
         "hovertemplate": "variable=Acidobacteria<br>x=%{x}<br>value=%{y}<extra></extra>",
         "legendgroup": "Acidobacteria",
         "marker": {
          "color": "#440154"
         },
         "name": "Acidobacteria",
         "offsetgroup": "Acidobacteria",
         "orientation": "v",
         "showlegend": true,
         "textposition": "auto",
         "type": "bar",
         "x": [
          "door_in_1",
          "door_in_2",
          "faucet_handle_1",
          "faucet_handle_2",
          "sink_floor_1",
          "sink_floor_2",
          "soap_dispenser_1",
          "stall_in_1",
          "toilet_floor_1",
          "toilet_floor_2",
          "toilet_flush_handle_1",
          "toilet_flush_handle_2",
          "toilet_seat_1",
          "toilet_seat_2"
         ],
         "xaxis": "x",
         "y": [
          6,
          0,
          3,
          0,
          17,
          13,
          0,
          11,
          19,
          16,
          65,
          23,
          7,
          1
         ],
         "yaxis": "y"
        },
        {
         "alignmentgroup": "True",
         "hovertemplate": "variable=Actinobacteria<br>x=%{x}<br>value=%{y}<extra></extra>",
         "legendgroup": "Actinobacteria",
         "marker": {
          "color": "#482878"
         },
         "name": "Actinobacteria",
         "offsetgroup": "Actinobacteria",
         "orientation": "v",
         "showlegend": true,
         "textposition": "auto",
         "type": "bar",
         "x": [
          "door_in_1",
          "door_in_2",
          "faucet_handle_1",
          "faucet_handle_2",
          "sink_floor_1",
          "sink_floor_2",
          "soap_dispenser_1",
          "stall_in_1",
          "toilet_floor_1",
          "toilet_floor_2",
          "toilet_flush_handle_1",
          "toilet_flush_handle_2",
          "toilet_seat_1",
          "toilet_seat_2"
         ],
         "xaxis": "x",
         "y": [
          1669,
          1483,
          434,
          2224,
          1382,
          978,
          1665,
          1077,
          1133,
          1013,
          1006,
          1400,
          685,
          1968
         ],
         "yaxis": "y"
        },
        {
         "alignmentgroup": "True",
         "hovertemplate": "variable=Armatimonadetes<br>x=%{x}<br>value=%{y}<extra></extra>",
         "legendgroup": "Armatimonadetes",
         "marker": {
          "color": "#3e4989"
         },
         "name": "Armatimonadetes",
         "offsetgroup": "Armatimonadetes",
         "orientation": "v",
         "showlegend": true,
         "textposition": "auto",
         "type": "bar",
         "x": [
          "door_in_1",
          "door_in_2",
          "faucet_handle_1",
          "faucet_handle_2",
          "sink_floor_1",
          "sink_floor_2",
          "soap_dispenser_1",
          "stall_in_1",
          "toilet_floor_1",
          "toilet_floor_2",
          "toilet_flush_handle_1",
          "toilet_flush_handle_2",
          "toilet_seat_1",
          "toilet_seat_2"
         ],
         "xaxis": "x",
         "y": [
          0,
          0,
          0,
          0,
          0,
          0,
          5,
          0,
          1,
          0,
          3,
          0,
          2,
          0
         ],
         "yaxis": "y"
        },
        {
         "alignmentgroup": "True",
         "hovertemplate": "variable=Bacteroidetes<br>x=%{x}<br>value=%{y}<extra></extra>",
         "legendgroup": "Bacteroidetes",
         "marker": {
          "color": "#31688e"
         },
         "name": "Bacteroidetes",
         "offsetgroup": "Bacteroidetes",
         "orientation": "v",
         "showlegend": true,
         "textposition": "auto",
         "type": "bar",
         "x": [
          "door_in_1",
          "door_in_2",
          "faucet_handle_1",
          "faucet_handle_2",
          "sink_floor_1",
          "sink_floor_2",
          "soap_dispenser_1",
          "stall_in_1",
          "toilet_floor_1",
          "toilet_floor_2",
          "toilet_flush_handle_1",
          "toilet_flush_handle_2",
          "toilet_seat_1",
          "toilet_seat_2"
         ],
         "xaxis": "x",
         "y": [
          100,
          170,
          54,
          84,
          201,
          333,
          127,
          235,
          267,
          228,
          276,
          120,
          117,
          80
         ],
         "yaxis": "y"
        },
        {
         "alignmentgroup": "True",
         "hovertemplate": "variable=Candidatus_Saccharibacteria<br>x=%{x}<br>value=%{y}<extra></extra>",
         "legendgroup": "Candidatus_Saccharibacteria",
         "marker": {
          "color": "#26828e"
         },
         "name": "Candidatus_Saccharibacteria",
         "offsetgroup": "Candidatus_Saccharibacteria",
         "orientation": "v",
         "showlegend": true,
         "textposition": "auto",
         "type": "bar",
         "x": [
          "door_in_1",
          "door_in_2",
          "faucet_handle_1",
          "faucet_handle_2",
          "sink_floor_1",
          "sink_floor_2",
          "soap_dispenser_1",
          "stall_in_1",
          "toilet_floor_1",
          "toilet_floor_2",
          "toilet_flush_handle_1",
          "toilet_flush_handle_2",
          "toilet_seat_1",
          "toilet_seat_2"
         ],
         "xaxis": "x",
         "y": [
          10,
          0,
          0,
          1,
          12,
          6,
          0,
          0,
          6,
          3,
          40,
          1,
          1,
          0
         ],
         "yaxis": "y"
        },
        {
         "alignmentgroup": "True",
         "hovertemplate": "variable=Chloroflexi<br>x=%{x}<br>value=%{y}<extra></extra>",
         "legendgroup": "Chloroflexi",
         "marker": {
          "color": "#1f9e89"
         },
         "name": "Chloroflexi",
         "offsetgroup": "Chloroflexi",
         "orientation": "v",
         "showlegend": true,
         "textposition": "auto",
         "type": "bar",
         "x": [
          "door_in_1",
          "door_in_2",
          "faucet_handle_1",
          "faucet_handle_2",
          "sink_floor_1",
          "sink_floor_2",
          "soap_dispenser_1",
          "stall_in_1",
          "toilet_floor_1",
          "toilet_floor_2",
          "toilet_flush_handle_1",
          "toilet_flush_handle_2",
          "toilet_seat_1",
          "toilet_seat_2"
         ],
         "xaxis": "x",
         "y": [
          0,
          0,
          0,
          0,
          0,
          0,
          0,
          0,
          3,
          0,
          23,
          1,
          0,
          0
         ],
         "yaxis": "y"
        },
        {
         "alignmentgroup": "True",
         "hovertemplate": "variable=Deinococcus-Thermus<br>x=%{x}<br>value=%{y}<extra></extra>",
         "legendgroup": "Deinococcus-Thermus",
         "marker": {
          "color": "#35b779"
         },
         "name": "Deinococcus-Thermus",
         "offsetgroup": "Deinococcus-Thermus",
         "orientation": "v",
         "showlegend": true,
         "textposition": "auto",
         "type": "bar",
         "x": [
          "door_in_1",
          "door_in_2",
          "faucet_handle_1",
          "faucet_handle_2",
          "sink_floor_1",
          "sink_floor_2",
          "soap_dispenser_1",
          "stall_in_1",
          "toilet_floor_1",
          "toilet_floor_2",
          "toilet_flush_handle_1",
          "toilet_flush_handle_2",
          "toilet_seat_1",
          "toilet_seat_2"
         ],
         "xaxis": "x",
         "y": [
          10,
          20,
          0,
          12,
          59,
          50,
          0,
          0,
          23,
          28,
          5,
          10,
          2,
          1
         ],
         "yaxis": "y"
        },
        {
         "alignmentgroup": "True",
         "hovertemplate": "variable=Firmicutes<br>x=%{x}<br>value=%{y}<extra></extra>",
         "legendgroup": "Firmicutes",
         "marker": {
          "color": "#6ece58"
         },
         "name": "Firmicutes",
         "offsetgroup": "Firmicutes",
         "orientation": "v",
         "showlegend": true,
         "textposition": "auto",
         "type": "bar",
         "x": [
          "door_in_1",
          "door_in_2",
          "faucet_handle_1",
          "faucet_handle_2",
          "sink_floor_1",
          "sink_floor_2",
          "soap_dispenser_1",
          "stall_in_1",
          "toilet_floor_1",
          "toilet_floor_2",
          "toilet_flush_handle_1",
          "toilet_flush_handle_2",
          "toilet_seat_1",
          "toilet_seat_2"
         ],
         "xaxis": "x",
         "y": [
          686,
          457,
          155,
          440,
          123,
          94,
          378,
          446,
          130,
          131,
          51,
          433,
          363,
          946
         ],
         "yaxis": "y"
        },
        {
         "alignmentgroup": "True",
         "hovertemplate": "variable=Fusobacteria<br>x=%{x}<br>value=%{y}<extra></extra>",
         "legendgroup": "Fusobacteria",
         "marker": {
          "color": "#b5de2b"
         },
         "name": "Fusobacteria",
         "offsetgroup": "Fusobacteria",
         "orientation": "v",
         "showlegend": true,
         "textposition": "auto",
         "type": "bar",
         "x": [
          "door_in_1",
          "door_in_2",
          "faucet_handle_1",
          "faucet_handle_2",
          "sink_floor_1",
          "sink_floor_2",
          "soap_dispenser_1",
          "stall_in_1",
          "toilet_floor_1",
          "toilet_floor_2",
          "toilet_flush_handle_1",
          "toilet_flush_handle_2",
          "toilet_seat_1",
          "toilet_seat_2"
         ],
         "xaxis": "x",
         "y": [
          15,
          7,
          8,
          12,
          1,
          2,
          14,
          0,
          3,
          2,
          1,
          9,
          2,
          4
         ],
         "yaxis": "y"
        },
        {
         "alignmentgroup": "True",
         "hovertemplate": "variable=Gemmatimonadetes<br>x=%{x}<br>value=%{y}<extra></extra>",
         "legendgroup": "Gemmatimonadetes",
         "marker": {
          "color": "#fde725"
         },
         "name": "Gemmatimonadetes",
         "offsetgroup": "Gemmatimonadetes",
         "orientation": "v",
         "showlegend": true,
         "textposition": "auto",
         "type": "bar",
         "x": [
          "door_in_1",
          "door_in_2",
          "faucet_handle_1",
          "faucet_handle_2",
          "sink_floor_1",
          "sink_floor_2",
          "soap_dispenser_1",
          "stall_in_1",
          "toilet_floor_1",
          "toilet_floor_2",
          "toilet_flush_handle_1",
          "toilet_flush_handle_2",
          "toilet_seat_1",
          "toilet_seat_2"
         ],
         "xaxis": "x",
         "y": [
          0,
          0,
          1,
          0,
          3,
          1,
          0,
          0,
          0,
          1,
          2,
          0,
          0,
          0
         ],
         "yaxis": "y"
        },
        {
         "alignmentgroup": "True",
         "hovertemplate": "variable=Microgenomates<br>x=%{x}<br>value=%{y}<extra></extra>",
         "legendgroup": "Microgenomates",
         "marker": {
          "color": "#440154"
         },
         "name": "Microgenomates",
         "offsetgroup": "Microgenomates",
         "orientation": "v",
         "showlegend": true,
         "textposition": "auto",
         "type": "bar",
         "x": [
          "door_in_1",
          "door_in_2",
          "faucet_handle_1",
          "faucet_handle_2",
          "sink_floor_1",
          "sink_floor_2",
          "soap_dispenser_1",
          "stall_in_1",
          "toilet_floor_1",
          "toilet_floor_2",
          "toilet_flush_handle_1",
          "toilet_flush_handle_2",
          "toilet_seat_1",
          "toilet_seat_2"
         ],
         "xaxis": "x",
         "y": [
          0,
          0,
          0,
          0,
          2,
          0,
          0,
          0,
          0,
          0,
          0,
          0,
          0,
          0
         ],
         "yaxis": "y"
        },
        {
         "alignmentgroup": "True",
         "hovertemplate": "variable=Parcubacteria<br>x=%{x}<br>value=%{y}<extra></extra>",
         "legendgroup": "Parcubacteria",
         "marker": {
          "color": "#482878"
         },
         "name": "Parcubacteria",
         "offsetgroup": "Parcubacteria",
         "orientation": "v",
         "showlegend": true,
         "textposition": "auto",
         "type": "bar",
         "x": [
          "door_in_1",
          "door_in_2",
          "faucet_handle_1",
          "faucet_handle_2",
          "sink_floor_1",
          "sink_floor_2",
          "soap_dispenser_1",
          "stall_in_1",
          "toilet_floor_1",
          "toilet_floor_2",
          "toilet_flush_handle_1",
          "toilet_flush_handle_2",
          "toilet_seat_1",
          "toilet_seat_2"
         ],
         "xaxis": "x",
         "y": [
          0,
          0,
          0,
          0,
          0,
          0,
          0,
          0,
          0,
          1,
          12,
          0,
          0,
          0
         ],
         "yaxis": "y"
        },
        {
         "alignmentgroup": "True",
         "hovertemplate": "variable=Planctomycetes<br>x=%{x}<br>value=%{y}<extra></extra>",
         "legendgroup": "Planctomycetes",
         "marker": {
          "color": "#3e4989"
         },
         "name": "Planctomycetes",
         "offsetgroup": "Planctomycetes",
         "orientation": "v",
         "showlegend": true,
         "textposition": "auto",
         "type": "bar",
         "x": [
          "door_in_1",
          "door_in_2",
          "faucet_handle_1",
          "faucet_handle_2",
          "sink_floor_1",
          "sink_floor_2",
          "soap_dispenser_1",
          "stall_in_1",
          "toilet_floor_1",
          "toilet_floor_2",
          "toilet_flush_handle_1",
          "toilet_flush_handle_2",
          "toilet_seat_1",
          "toilet_seat_2"
         ],
         "xaxis": "x",
         "y": [
          0,
          0,
          0,
          0,
          1,
          1,
          3,
          0,
          2,
          1,
          0,
          0,
          0,
          0
         ],
         "yaxis": "y"
        },
        {
         "alignmentgroup": "True",
         "hovertemplate": "variable=Proteobacteria<br>x=%{x}<br>value=%{y}<extra></extra>",
         "legendgroup": "Proteobacteria",
         "marker": {
          "color": "#31688e"
         },
         "name": "Proteobacteria",
         "offsetgroup": "Proteobacteria",
         "orientation": "v",
         "showlegend": true,
         "textposition": "auto",
         "type": "bar",
         "x": [
          "door_in_1",
          "door_in_2",
          "faucet_handle_1",
          "faucet_handle_2",
          "sink_floor_1",
          "sink_floor_2",
          "soap_dispenser_1",
          "stall_in_1",
          "toilet_floor_1",
          "toilet_floor_2",
          "toilet_flush_handle_1",
          "toilet_flush_handle_2",
          "toilet_seat_1",
          "toilet_seat_2"
         ],
         "xaxis": "x",
         "y": [
          593,
          960,
          2445,
          340,
          1229,
          1555,
          897,
          1272,
          1419,
          1634,
          1133,
          1096,
          1906,
          100
         ],
         "yaxis": "y"
        },
        {
         "alignmentgroup": "True",
         "hovertemplate": "variable=Spirochaetes<br>x=%{x}<br>value=%{y}<extra></extra>",
         "legendgroup": "Spirochaetes",
         "marker": {
          "color": "#26828e"
         },
         "name": "Spirochaetes",
         "offsetgroup": "Spirochaetes",
         "orientation": "v",
         "showlegend": true,
         "textposition": "auto",
         "type": "bar",
         "x": [
          "door_in_1",
          "door_in_2",
          "faucet_handle_1",
          "faucet_handle_2",
          "sink_floor_1",
          "sink_floor_2",
          "soap_dispenser_1",
          "stall_in_1",
          "toilet_floor_1",
          "toilet_floor_2",
          "toilet_flush_handle_1",
          "toilet_flush_handle_2",
          "toilet_seat_1",
          "toilet_seat_2"
         ],
         "xaxis": "x",
         "y": [
          0,
          0,
          0,
          0,
          0,
          0,
          0,
          0,
          6,
          0,
          0,
          0,
          0,
          0
         ],
         "yaxis": "y"
        },
        {
         "alignmentgroup": "True",
         "hovertemplate": "variable=Synergistetes<br>x=%{x}<br>value=%{y}<extra></extra>",
         "legendgroup": "Synergistetes",
         "marker": {
          "color": "#1f9e89"
         },
         "name": "Synergistetes",
         "offsetgroup": "Synergistetes",
         "orientation": "v",
         "showlegend": true,
         "textposition": "auto",
         "type": "bar",
         "x": [
          "door_in_1",
          "door_in_2",
          "faucet_handle_1",
          "faucet_handle_2",
          "sink_floor_1",
          "sink_floor_2",
          "soap_dispenser_1",
          "stall_in_1",
          "toilet_floor_1",
          "toilet_floor_2",
          "toilet_flush_handle_1",
          "toilet_flush_handle_2",
          "toilet_seat_1",
          "toilet_seat_2"
         ],
         "xaxis": "x",
         "y": [
          0,
          0,
          0,
          0,
          0,
          0,
          0,
          0,
          0,
          0,
          0,
          0,
          2,
          0
         ],
         "yaxis": "y"
        },
        {
         "alignmentgroup": "True",
         "hovertemplate": "variable=Verrucomicrobia<br>x=%{x}<br>value=%{y}<extra></extra>",
         "legendgroup": "Verrucomicrobia",
         "marker": {
          "color": "#35b779"
         },
         "name": "Verrucomicrobia",
         "offsetgroup": "Verrucomicrobia",
         "orientation": "v",
         "showlegend": true,
         "textposition": "auto",
         "type": "bar",
         "x": [
          "door_in_1",
          "door_in_2",
          "faucet_handle_1",
          "faucet_handle_2",
          "sink_floor_1",
          "sink_floor_2",
          "soap_dispenser_1",
          "stall_in_1",
          "toilet_floor_1",
          "toilet_floor_2",
          "toilet_flush_handle_1",
          "toilet_flush_handle_2",
          "toilet_seat_1",
          "toilet_seat_2"
         ],
         "xaxis": "x",
         "y": [
          0,
          0,
          0,
          0,
          0,
          1,
          0,
          0,
          1,
          1,
          16,
          0,
          0,
          0
         ],
         "yaxis": "y"
        },
        {
         "alignmentgroup": "True",
         "hovertemplate": "variable=unclassified<br>x=%{x}<br>value=%{y}<extra></extra>",
         "legendgroup": "unclassified",
         "marker": {
          "color": "#6ece58"
         },
         "name": "unclassified",
         "offsetgroup": "unclassified",
         "orientation": "v",
         "showlegend": true,
         "textposition": "auto",
         "type": "bar",
         "x": [
          "door_in_1",
          "door_in_2",
          "faucet_handle_1",
          "faucet_handle_2",
          "sink_floor_1",
          "sink_floor_2",
          "soap_dispenser_1",
          "stall_in_1",
          "toilet_floor_1",
          "toilet_floor_2",
          "toilet_flush_handle_1",
          "toilet_flush_handle_2",
          "toilet_seat_1",
          "toilet_seat_2"
         ],
         "xaxis": "x",
         "y": [
          30,
          22,
          19,
          6,
          89,
          85,
          30,
          78,
          106,
          60,
          486,
          26,
          32,
          19
         ],
         "yaxis": "y"
        }
       ],
       "layout": {
        "barmode": "relative",
        "legend": {
         "title": {
          "text": "variable"
         },
         "tracegroupgap": 0
        },
        "template": {
         "data": {
          "bar": [
           {
            "error_x": {
             "color": "#2a3f5f"
            },
            "error_y": {
             "color": "#2a3f5f"
            },
            "marker": {
             "line": {
              "color": "#E5ECF6",
              "width": 0.5
             }
            },
            "type": "bar"
           }
          ],
          "barpolar": [
           {
            "marker": {
             "line": {
              "color": "#E5ECF6",
              "width": 0.5
             }
            },
            "type": "barpolar"
           }
          ],
          "carpet": [
           {
            "aaxis": {
             "endlinecolor": "#2a3f5f",
             "gridcolor": "white",
             "linecolor": "white",
             "minorgridcolor": "white",
             "startlinecolor": "#2a3f5f"
            },
            "baxis": {
             "endlinecolor": "#2a3f5f",
             "gridcolor": "white",
             "linecolor": "white",
             "minorgridcolor": "white",
             "startlinecolor": "#2a3f5f"
            },
            "type": "carpet"
           }
          ],
          "choropleth": [
           {
            "colorbar": {
             "outlinewidth": 0,
             "ticks": ""
            },
            "type": "choropleth"
           }
          ],
          "contour": [
           {
            "colorbar": {
             "outlinewidth": 0,
             "ticks": ""
            },
            "colorscale": [
             [
              0,
              "#0d0887"
             ],
             [
              0.1111111111111111,
              "#46039f"
             ],
             [
              0.2222222222222222,
              "#7201a8"
             ],
             [
              0.3333333333333333,
              "#9c179e"
             ],
             [
              0.4444444444444444,
              "#bd3786"
             ],
             [
              0.5555555555555556,
              "#d8576b"
             ],
             [
              0.6666666666666666,
              "#ed7953"
             ],
             [
              0.7777777777777778,
              "#fb9f3a"
             ],
             [
              0.8888888888888888,
              "#fdca26"
             ],
             [
              1,
              "#f0f921"
             ]
            ],
            "type": "contour"
           }
          ],
          "contourcarpet": [
           {
            "colorbar": {
             "outlinewidth": 0,
             "ticks": ""
            },
            "type": "contourcarpet"
           }
          ],
          "heatmap": [
           {
            "colorbar": {
             "outlinewidth": 0,
             "ticks": ""
            },
            "colorscale": [
             [
              0,
              "#0d0887"
             ],
             [
              0.1111111111111111,
              "#46039f"
             ],
             [
              0.2222222222222222,
              "#7201a8"
             ],
             [
              0.3333333333333333,
              "#9c179e"
             ],
             [
              0.4444444444444444,
              "#bd3786"
             ],
             [
              0.5555555555555556,
              "#d8576b"
             ],
             [
              0.6666666666666666,
              "#ed7953"
             ],
             [
              0.7777777777777778,
              "#fb9f3a"
             ],
             [
              0.8888888888888888,
              "#fdca26"
             ],
             [
              1,
              "#f0f921"
             ]
            ],
            "type": "heatmap"
           }
          ],
          "heatmapgl": [
           {
            "colorbar": {
             "outlinewidth": 0,
             "ticks": ""
            },
            "colorscale": [
             [
              0,
              "#0d0887"
             ],
             [
              0.1111111111111111,
              "#46039f"
             ],
             [
              0.2222222222222222,
              "#7201a8"
             ],
             [
              0.3333333333333333,
              "#9c179e"
             ],
             [
              0.4444444444444444,
              "#bd3786"
             ],
             [
              0.5555555555555556,
              "#d8576b"
             ],
             [
              0.6666666666666666,
              "#ed7953"
             ],
             [
              0.7777777777777778,
              "#fb9f3a"
             ],
             [
              0.8888888888888888,
              "#fdca26"
             ],
             [
              1,
              "#f0f921"
             ]
            ],
            "type": "heatmapgl"
           }
          ],
          "histogram": [
           {
            "marker": {
             "colorbar": {
              "outlinewidth": 0,
              "ticks": ""
             }
            },
            "type": "histogram"
           }
          ],
          "histogram2d": [
           {
            "colorbar": {
             "outlinewidth": 0,
             "ticks": ""
            },
            "colorscale": [
             [
              0,
              "#0d0887"
             ],
             [
              0.1111111111111111,
              "#46039f"
             ],
             [
              0.2222222222222222,
              "#7201a8"
             ],
             [
              0.3333333333333333,
              "#9c179e"
             ],
             [
              0.4444444444444444,
              "#bd3786"
             ],
             [
              0.5555555555555556,
              "#d8576b"
             ],
             [
              0.6666666666666666,
              "#ed7953"
             ],
             [
              0.7777777777777778,
              "#fb9f3a"
             ],
             [
              0.8888888888888888,
              "#fdca26"
             ],
             [
              1,
              "#f0f921"
             ]
            ],
            "type": "histogram2d"
           }
          ],
          "histogram2dcontour": [
           {
            "colorbar": {
             "outlinewidth": 0,
             "ticks": ""
            },
            "colorscale": [
             [
              0,
              "#0d0887"
             ],
             [
              0.1111111111111111,
              "#46039f"
             ],
             [
              0.2222222222222222,
              "#7201a8"
             ],
             [
              0.3333333333333333,
              "#9c179e"
             ],
             [
              0.4444444444444444,
              "#bd3786"
             ],
             [
              0.5555555555555556,
              "#d8576b"
             ],
             [
              0.6666666666666666,
              "#ed7953"
             ],
             [
              0.7777777777777778,
              "#fb9f3a"
             ],
             [
              0.8888888888888888,
              "#fdca26"
             ],
             [
              1,
              "#f0f921"
             ]
            ],
            "type": "histogram2dcontour"
           }
          ],
          "mesh3d": [
           {
            "colorbar": {
             "outlinewidth": 0,
             "ticks": ""
            },
            "type": "mesh3d"
           }
          ],
          "parcoords": [
           {
            "line": {
             "colorbar": {
              "outlinewidth": 0,
              "ticks": ""
             }
            },
            "type": "parcoords"
           }
          ],
          "pie": [
           {
            "automargin": true,
            "type": "pie"
           }
          ],
          "scatter": [
           {
            "marker": {
             "colorbar": {
              "outlinewidth": 0,
              "ticks": ""
             }
            },
            "type": "scatter"
           }
          ],
          "scatter3d": [
           {
            "line": {
             "colorbar": {
              "outlinewidth": 0,
              "ticks": ""
             }
            },
            "marker": {
             "colorbar": {
              "outlinewidth": 0,
              "ticks": ""
             }
            },
            "type": "scatter3d"
           }
          ],
          "scattercarpet": [
           {
            "marker": {
             "colorbar": {
              "outlinewidth": 0,
              "ticks": ""
             }
            },
            "type": "scattercarpet"
           }
          ],
          "scattergeo": [
           {
            "marker": {
             "colorbar": {
              "outlinewidth": 0,
              "ticks": ""
             }
            },
            "type": "scattergeo"
           }
          ],
          "scattergl": [
           {
            "marker": {
             "colorbar": {
              "outlinewidth": 0,
              "ticks": ""
             }
            },
            "type": "scattergl"
           }
          ],
          "scattermapbox": [
           {
            "marker": {
             "colorbar": {
              "outlinewidth": 0,
              "ticks": ""
             }
            },
            "type": "scattermapbox"
           }
          ],
          "scatterpolar": [
           {
            "marker": {
             "colorbar": {
              "outlinewidth": 0,
              "ticks": ""
             }
            },
            "type": "scatterpolar"
           }
          ],
          "scatterpolargl": [
           {
            "marker": {
             "colorbar": {
              "outlinewidth": 0,
              "ticks": ""
             }
            },
            "type": "scatterpolargl"
           }
          ],
          "scatterternary": [
           {
            "marker": {
             "colorbar": {
              "outlinewidth": 0,
              "ticks": ""
             }
            },
            "type": "scatterternary"
           }
          ],
          "surface": [
           {
            "colorbar": {
             "outlinewidth": 0,
             "ticks": ""
            },
            "colorscale": [
             [
              0,
              "#0d0887"
             ],
             [
              0.1111111111111111,
              "#46039f"
             ],
             [
              0.2222222222222222,
              "#7201a8"
             ],
             [
              0.3333333333333333,
              "#9c179e"
             ],
             [
              0.4444444444444444,
              "#bd3786"
             ],
             [
              0.5555555555555556,
              "#d8576b"
             ],
             [
              0.6666666666666666,
              "#ed7953"
             ],
             [
              0.7777777777777778,
              "#fb9f3a"
             ],
             [
              0.8888888888888888,
              "#fdca26"
             ],
             [
              1,
              "#f0f921"
             ]
            ],
            "type": "surface"
           }
          ],
          "table": [
           {
            "cells": {
             "fill": {
              "color": "#EBF0F8"
             },
             "line": {
              "color": "white"
             }
            },
            "header": {
             "fill": {
              "color": "#C8D4E3"
             },
             "line": {
              "color": "white"
             }
            },
            "type": "table"
           }
          ]
         },
         "layout": {
          "annotationdefaults": {
           "arrowcolor": "#2a3f5f",
           "arrowhead": 0,
           "arrowwidth": 1
          },
          "coloraxis": {
           "colorbar": {
            "outlinewidth": 0,
            "ticks": ""
           }
          },
          "colorscale": {
           "diverging": [
            [
             0,
             "#8e0152"
            ],
            [
             0.1,
             "#c51b7d"
            ],
            [
             0.2,
             "#de77ae"
            ],
            [
             0.3,
             "#f1b6da"
            ],
            [
             0.4,
             "#fde0ef"
            ],
            [
             0.5,
             "#f7f7f7"
            ],
            [
             0.6,
             "#e6f5d0"
            ],
            [
             0.7,
             "#b8e186"
            ],
            [
             0.8,
             "#7fbc41"
            ],
            [
             0.9,
             "#4d9221"
            ],
            [
             1,
             "#276419"
            ]
           ],
           "sequential": [
            [
             0,
             "#0d0887"
            ],
            [
             0.1111111111111111,
             "#46039f"
            ],
            [
             0.2222222222222222,
             "#7201a8"
            ],
            [
             0.3333333333333333,
             "#9c179e"
            ],
            [
             0.4444444444444444,
             "#bd3786"
            ],
            [
             0.5555555555555556,
             "#d8576b"
            ],
            [
             0.6666666666666666,
             "#ed7953"
            ],
            [
             0.7777777777777778,
             "#fb9f3a"
            ],
            [
             0.8888888888888888,
             "#fdca26"
            ],
            [
             1,
             "#f0f921"
            ]
           ],
           "sequentialminus": [
            [
             0,
             "#0d0887"
            ],
            [
             0.1111111111111111,
             "#46039f"
            ],
            [
             0.2222222222222222,
             "#7201a8"
            ],
            [
             0.3333333333333333,
             "#9c179e"
            ],
            [
             0.4444444444444444,
             "#bd3786"
            ],
            [
             0.5555555555555556,
             "#d8576b"
            ],
            [
             0.6666666666666666,
             "#ed7953"
            ],
            [
             0.7777777777777778,
             "#fb9f3a"
            ],
            [
             0.8888888888888888,
             "#fdca26"
            ],
            [
             1,
             "#f0f921"
            ]
           ]
          },
          "colorway": [
           "#636efa",
           "#EF553B",
           "#00cc96",
           "#ab63fa",
           "#FFA15A",
           "#19d3f3",
           "#FF6692",
           "#B6E880",
           "#FF97FF",
           "#FECB52"
          ],
          "font": {
           "color": "#2a3f5f"
          },
          "geo": {
           "bgcolor": "white",
           "lakecolor": "white",
           "landcolor": "#E5ECF6",
           "showlakes": true,
           "showland": true,
           "subunitcolor": "white"
          },
          "hoverlabel": {
           "align": "left"
          },
          "hovermode": "closest",
          "mapbox": {
           "style": "light"
          },
          "paper_bgcolor": "white",
          "plot_bgcolor": "#E5ECF6",
          "polar": {
           "angularaxis": {
            "gridcolor": "white",
            "linecolor": "white",
            "ticks": ""
           },
           "bgcolor": "#E5ECF6",
           "radialaxis": {
            "gridcolor": "white",
            "linecolor": "white",
            "ticks": ""
           }
          },
          "scene": {
           "xaxis": {
            "backgroundcolor": "#E5ECF6",
            "gridcolor": "white",
            "gridwidth": 2,
            "linecolor": "white",
            "showbackground": true,
            "ticks": "",
            "zerolinecolor": "white"
           },
           "yaxis": {
            "backgroundcolor": "#E5ECF6",
            "gridcolor": "white",
            "gridwidth": 2,
            "linecolor": "white",
            "showbackground": true,
            "ticks": "",
            "zerolinecolor": "white"
           },
           "zaxis": {
            "backgroundcolor": "#E5ECF6",
            "gridcolor": "white",
            "gridwidth": 2,
            "linecolor": "white",
            "showbackground": true,
            "ticks": "",
            "zerolinecolor": "white"
           }
          },
          "shapedefaults": {
           "line": {
            "color": "#2a3f5f"
           }
          },
          "ternary": {
           "aaxis": {
            "gridcolor": "white",
            "linecolor": "white",
            "ticks": ""
           },
           "baxis": {
            "gridcolor": "white",
            "linecolor": "white",
            "ticks": ""
           },
           "bgcolor": "#E5ECF6",
           "caxis": {
            "gridcolor": "white",
            "linecolor": "white",
            "ticks": ""
           }
          },
          "title": {
           "x": 0.05
          },
          "xaxis": {
           "automargin": true,
           "gridcolor": "white",
           "linecolor": "white",
           "ticks": "",
           "title": {
            "standoff": 15
           },
           "zerolinecolor": "white",
           "zerolinewidth": 2
          },
          "yaxis": {
           "automargin": true,
           "gridcolor": "white",
           "linecolor": "white",
           "ticks": "",
           "title": {
            "standoff": 15
           },
           "zerolinecolor": "white",
           "zerolinewidth": 2
          }
         }
        },
        "title": {
         "text": "Répartition des differents embranchements"
        },
        "xaxis": {
         "anchor": "y",
         "domain": [
          0,
          1
         ],
         "title": {
          "text": "x"
         }
        },
        "yaxis": {
         "anchor": "x",
         "domain": [
          0,
          1
         ],
         "title": {
          "text": "value"
         }
        }
       }
      },
      "text/html": [
       "<div>                            <div id=\"309290c9-3ecd-4d5d-b423-078571383a92\" class=\"plotly-graph-div\" style=\"height:525px; width:100%;\"></div>            <script type=\"text/javascript\">                require([\"plotly\"], function(Plotly) {                    window.PLOTLYENV=window.PLOTLYENV || {};                                    if (document.getElementById(\"309290c9-3ecd-4d5d-b423-078571383a92\")) {                    Plotly.newPlot(                        \"309290c9-3ecd-4d5d-b423-078571383a92\",                        [{\"alignmentgroup\": \"True\", \"hovertemplate\": \"variable=Acidobacteria<br>x=%{x}<br>value=%{y}<extra></extra>\", \"legendgroup\": \"Acidobacteria\", \"marker\": {\"color\": \"#440154\"}, \"name\": \"Acidobacteria\", \"offsetgroup\": \"Acidobacteria\", \"orientation\": \"v\", \"showlegend\": true, \"textposition\": \"auto\", \"type\": \"bar\", \"x\": [\"door_in_1\", \"door_in_2\", \"faucet_handle_1\", \"faucet_handle_2\", \"sink_floor_1\", \"sink_floor_2\", \"soap_dispenser_1\", \"stall_in_1\", \"toilet_floor_1\", \"toilet_floor_2\", \"toilet_flush_handle_1\", \"toilet_flush_handle_2\", \"toilet_seat_1\", \"toilet_seat_2\"], \"xaxis\": \"x\", \"y\": [6, 0, 3, 0, 17, 13, 0, 11, 19, 16, 65, 23, 7, 1], \"yaxis\": \"y\"}, {\"alignmentgroup\": \"True\", \"hovertemplate\": \"variable=Actinobacteria<br>x=%{x}<br>value=%{y}<extra></extra>\", \"legendgroup\": \"Actinobacteria\", \"marker\": {\"color\": \"#482878\"}, \"name\": \"Actinobacteria\", \"offsetgroup\": \"Actinobacteria\", \"orientation\": \"v\", \"showlegend\": true, \"textposition\": \"auto\", \"type\": \"bar\", \"x\": [\"door_in_1\", \"door_in_2\", \"faucet_handle_1\", \"faucet_handle_2\", \"sink_floor_1\", \"sink_floor_2\", \"soap_dispenser_1\", \"stall_in_1\", \"toilet_floor_1\", \"toilet_floor_2\", \"toilet_flush_handle_1\", \"toilet_flush_handle_2\", \"toilet_seat_1\", \"toilet_seat_2\"], \"xaxis\": \"x\", \"y\": [1669, 1483, 434, 2224, 1382, 978, 1665, 1077, 1133, 1013, 1006, 1400, 685, 1968], \"yaxis\": \"y\"}, {\"alignmentgroup\": \"True\", \"hovertemplate\": \"variable=Armatimonadetes<br>x=%{x}<br>value=%{y}<extra></extra>\", \"legendgroup\": \"Armatimonadetes\", \"marker\": {\"color\": \"#3e4989\"}, \"name\": \"Armatimonadetes\", \"offsetgroup\": \"Armatimonadetes\", \"orientation\": \"v\", \"showlegend\": true, \"textposition\": \"auto\", \"type\": \"bar\", \"x\": [\"door_in_1\", \"door_in_2\", \"faucet_handle_1\", \"faucet_handle_2\", \"sink_floor_1\", \"sink_floor_2\", \"soap_dispenser_1\", \"stall_in_1\", \"toilet_floor_1\", \"toilet_floor_2\", \"toilet_flush_handle_1\", \"toilet_flush_handle_2\", \"toilet_seat_1\", \"toilet_seat_2\"], \"xaxis\": \"x\", \"y\": [0, 0, 0, 0, 0, 0, 5, 0, 1, 0, 3, 0, 2, 0], \"yaxis\": \"y\"}, {\"alignmentgroup\": \"True\", \"hovertemplate\": \"variable=Bacteroidetes<br>x=%{x}<br>value=%{y}<extra></extra>\", \"legendgroup\": \"Bacteroidetes\", \"marker\": {\"color\": \"#31688e\"}, \"name\": \"Bacteroidetes\", \"offsetgroup\": \"Bacteroidetes\", \"orientation\": \"v\", \"showlegend\": true, \"textposition\": \"auto\", \"type\": \"bar\", \"x\": [\"door_in_1\", \"door_in_2\", \"faucet_handle_1\", \"faucet_handle_2\", \"sink_floor_1\", \"sink_floor_2\", \"soap_dispenser_1\", \"stall_in_1\", \"toilet_floor_1\", \"toilet_floor_2\", \"toilet_flush_handle_1\", \"toilet_flush_handle_2\", \"toilet_seat_1\", \"toilet_seat_2\"], \"xaxis\": \"x\", \"y\": [100, 170, 54, 84, 201, 333, 127, 235, 267, 228, 276, 120, 117, 80], \"yaxis\": \"y\"}, {\"alignmentgroup\": \"True\", \"hovertemplate\": \"variable=Candidatus_Saccharibacteria<br>x=%{x}<br>value=%{y}<extra></extra>\", \"legendgroup\": \"Candidatus_Saccharibacteria\", \"marker\": {\"color\": \"#26828e\"}, \"name\": \"Candidatus_Saccharibacteria\", \"offsetgroup\": \"Candidatus_Saccharibacteria\", \"orientation\": \"v\", \"showlegend\": true, \"textposition\": \"auto\", \"type\": \"bar\", \"x\": [\"door_in_1\", \"door_in_2\", \"faucet_handle_1\", \"faucet_handle_2\", \"sink_floor_1\", \"sink_floor_2\", \"soap_dispenser_1\", \"stall_in_1\", \"toilet_floor_1\", \"toilet_floor_2\", \"toilet_flush_handle_1\", \"toilet_flush_handle_2\", \"toilet_seat_1\", \"toilet_seat_2\"], \"xaxis\": \"x\", \"y\": [10, 0, 0, 1, 12, 6, 0, 0, 6, 3, 40, 1, 1, 0], \"yaxis\": \"y\"}, {\"alignmentgroup\": \"True\", \"hovertemplate\": \"variable=Chloroflexi<br>x=%{x}<br>value=%{y}<extra></extra>\", \"legendgroup\": \"Chloroflexi\", \"marker\": {\"color\": \"#1f9e89\"}, \"name\": \"Chloroflexi\", \"offsetgroup\": \"Chloroflexi\", \"orientation\": \"v\", \"showlegend\": true, \"textposition\": \"auto\", \"type\": \"bar\", \"x\": [\"door_in_1\", \"door_in_2\", \"faucet_handle_1\", \"faucet_handle_2\", \"sink_floor_1\", \"sink_floor_2\", \"soap_dispenser_1\", \"stall_in_1\", \"toilet_floor_1\", \"toilet_floor_2\", \"toilet_flush_handle_1\", \"toilet_flush_handle_2\", \"toilet_seat_1\", \"toilet_seat_2\"], \"xaxis\": \"x\", \"y\": [0, 0, 0, 0, 0, 0, 0, 0, 3, 0, 23, 1, 0, 0], \"yaxis\": \"y\"}, {\"alignmentgroup\": \"True\", \"hovertemplate\": \"variable=Deinococcus-Thermus<br>x=%{x}<br>value=%{y}<extra></extra>\", \"legendgroup\": \"Deinococcus-Thermus\", \"marker\": {\"color\": \"#35b779\"}, \"name\": \"Deinococcus-Thermus\", \"offsetgroup\": \"Deinococcus-Thermus\", \"orientation\": \"v\", \"showlegend\": true, \"textposition\": \"auto\", \"type\": \"bar\", \"x\": [\"door_in_1\", \"door_in_2\", \"faucet_handle_1\", \"faucet_handle_2\", \"sink_floor_1\", \"sink_floor_2\", \"soap_dispenser_1\", \"stall_in_1\", \"toilet_floor_1\", \"toilet_floor_2\", \"toilet_flush_handle_1\", \"toilet_flush_handle_2\", \"toilet_seat_1\", \"toilet_seat_2\"], \"xaxis\": \"x\", \"y\": [10, 20, 0, 12, 59, 50, 0, 0, 23, 28, 5, 10, 2, 1], \"yaxis\": \"y\"}, {\"alignmentgroup\": \"True\", \"hovertemplate\": \"variable=Firmicutes<br>x=%{x}<br>value=%{y}<extra></extra>\", \"legendgroup\": \"Firmicutes\", \"marker\": {\"color\": \"#6ece58\"}, \"name\": \"Firmicutes\", \"offsetgroup\": \"Firmicutes\", \"orientation\": \"v\", \"showlegend\": true, \"textposition\": \"auto\", \"type\": \"bar\", \"x\": [\"door_in_1\", \"door_in_2\", \"faucet_handle_1\", \"faucet_handle_2\", \"sink_floor_1\", \"sink_floor_2\", \"soap_dispenser_1\", \"stall_in_1\", \"toilet_floor_1\", \"toilet_floor_2\", \"toilet_flush_handle_1\", \"toilet_flush_handle_2\", \"toilet_seat_1\", \"toilet_seat_2\"], \"xaxis\": \"x\", \"y\": [686, 457, 155, 440, 123, 94, 378, 446, 130, 131, 51, 433, 363, 946], \"yaxis\": \"y\"}, {\"alignmentgroup\": \"True\", \"hovertemplate\": \"variable=Fusobacteria<br>x=%{x}<br>value=%{y}<extra></extra>\", \"legendgroup\": \"Fusobacteria\", \"marker\": {\"color\": \"#b5de2b\"}, \"name\": \"Fusobacteria\", \"offsetgroup\": \"Fusobacteria\", \"orientation\": \"v\", \"showlegend\": true, \"textposition\": \"auto\", \"type\": \"bar\", \"x\": [\"door_in_1\", \"door_in_2\", \"faucet_handle_1\", \"faucet_handle_2\", \"sink_floor_1\", \"sink_floor_2\", \"soap_dispenser_1\", \"stall_in_1\", \"toilet_floor_1\", \"toilet_floor_2\", \"toilet_flush_handle_1\", \"toilet_flush_handle_2\", \"toilet_seat_1\", \"toilet_seat_2\"], \"xaxis\": \"x\", \"y\": [15, 7, 8, 12, 1, 2, 14, 0, 3, 2, 1, 9, 2, 4], \"yaxis\": \"y\"}, {\"alignmentgroup\": \"True\", \"hovertemplate\": \"variable=Gemmatimonadetes<br>x=%{x}<br>value=%{y}<extra></extra>\", \"legendgroup\": \"Gemmatimonadetes\", \"marker\": {\"color\": \"#fde725\"}, \"name\": \"Gemmatimonadetes\", \"offsetgroup\": \"Gemmatimonadetes\", \"orientation\": \"v\", \"showlegend\": true, \"textposition\": \"auto\", \"type\": \"bar\", \"x\": [\"door_in_1\", \"door_in_2\", \"faucet_handle_1\", \"faucet_handle_2\", \"sink_floor_1\", \"sink_floor_2\", \"soap_dispenser_1\", \"stall_in_1\", \"toilet_floor_1\", \"toilet_floor_2\", \"toilet_flush_handle_1\", \"toilet_flush_handle_2\", \"toilet_seat_1\", \"toilet_seat_2\"], \"xaxis\": \"x\", \"y\": [0, 0, 1, 0, 3, 1, 0, 0, 0, 1, 2, 0, 0, 0], \"yaxis\": \"y\"}, {\"alignmentgroup\": \"True\", \"hovertemplate\": \"variable=Microgenomates<br>x=%{x}<br>value=%{y}<extra></extra>\", \"legendgroup\": \"Microgenomates\", \"marker\": {\"color\": \"#440154\"}, \"name\": \"Microgenomates\", \"offsetgroup\": \"Microgenomates\", \"orientation\": \"v\", \"showlegend\": true, \"textposition\": \"auto\", \"type\": \"bar\", \"x\": [\"door_in_1\", \"door_in_2\", \"faucet_handle_1\", \"faucet_handle_2\", \"sink_floor_1\", \"sink_floor_2\", \"soap_dispenser_1\", \"stall_in_1\", \"toilet_floor_1\", \"toilet_floor_2\", \"toilet_flush_handle_1\", \"toilet_flush_handle_2\", \"toilet_seat_1\", \"toilet_seat_2\"], \"xaxis\": \"x\", \"y\": [0, 0, 0, 0, 2, 0, 0, 0, 0, 0, 0, 0, 0, 0], \"yaxis\": \"y\"}, {\"alignmentgroup\": \"True\", \"hovertemplate\": \"variable=Parcubacteria<br>x=%{x}<br>value=%{y}<extra></extra>\", \"legendgroup\": \"Parcubacteria\", \"marker\": {\"color\": \"#482878\"}, \"name\": \"Parcubacteria\", \"offsetgroup\": \"Parcubacteria\", \"orientation\": \"v\", \"showlegend\": true, \"textposition\": \"auto\", \"type\": \"bar\", \"x\": [\"door_in_1\", \"door_in_2\", \"faucet_handle_1\", \"faucet_handle_2\", \"sink_floor_1\", \"sink_floor_2\", \"soap_dispenser_1\", \"stall_in_1\", \"toilet_floor_1\", \"toilet_floor_2\", \"toilet_flush_handle_1\", \"toilet_flush_handle_2\", \"toilet_seat_1\", \"toilet_seat_2\"], \"xaxis\": \"x\", \"y\": [0, 0, 0, 0, 0, 0, 0, 0, 0, 1, 12, 0, 0, 0], \"yaxis\": \"y\"}, {\"alignmentgroup\": \"True\", \"hovertemplate\": \"variable=Planctomycetes<br>x=%{x}<br>value=%{y}<extra></extra>\", \"legendgroup\": \"Planctomycetes\", \"marker\": {\"color\": \"#3e4989\"}, \"name\": \"Planctomycetes\", \"offsetgroup\": \"Planctomycetes\", \"orientation\": \"v\", \"showlegend\": true, \"textposition\": \"auto\", \"type\": \"bar\", \"x\": [\"door_in_1\", \"door_in_2\", \"faucet_handle_1\", \"faucet_handle_2\", \"sink_floor_1\", \"sink_floor_2\", \"soap_dispenser_1\", \"stall_in_1\", \"toilet_floor_1\", \"toilet_floor_2\", \"toilet_flush_handle_1\", \"toilet_flush_handle_2\", \"toilet_seat_1\", \"toilet_seat_2\"], \"xaxis\": \"x\", \"y\": [0, 0, 0, 0, 1, 1, 3, 0, 2, 1, 0, 0, 0, 0], \"yaxis\": \"y\"}, {\"alignmentgroup\": \"True\", \"hovertemplate\": \"variable=Proteobacteria<br>x=%{x}<br>value=%{y}<extra></extra>\", \"legendgroup\": \"Proteobacteria\", \"marker\": {\"color\": \"#31688e\"}, \"name\": \"Proteobacteria\", \"offsetgroup\": \"Proteobacteria\", \"orientation\": \"v\", \"showlegend\": true, \"textposition\": \"auto\", \"type\": \"bar\", \"x\": [\"door_in_1\", \"door_in_2\", \"faucet_handle_1\", \"faucet_handle_2\", \"sink_floor_1\", \"sink_floor_2\", \"soap_dispenser_1\", \"stall_in_1\", \"toilet_floor_1\", \"toilet_floor_2\", \"toilet_flush_handle_1\", \"toilet_flush_handle_2\", \"toilet_seat_1\", \"toilet_seat_2\"], \"xaxis\": \"x\", \"y\": [593, 960, 2445, 340, 1229, 1555, 897, 1272, 1419, 1634, 1133, 1096, 1906, 100], \"yaxis\": \"y\"}, {\"alignmentgroup\": \"True\", \"hovertemplate\": \"variable=Spirochaetes<br>x=%{x}<br>value=%{y}<extra></extra>\", \"legendgroup\": \"Spirochaetes\", \"marker\": {\"color\": \"#26828e\"}, \"name\": \"Spirochaetes\", \"offsetgroup\": \"Spirochaetes\", \"orientation\": \"v\", \"showlegend\": true, \"textposition\": \"auto\", \"type\": \"bar\", \"x\": [\"door_in_1\", \"door_in_2\", \"faucet_handle_1\", \"faucet_handle_2\", \"sink_floor_1\", \"sink_floor_2\", \"soap_dispenser_1\", \"stall_in_1\", \"toilet_floor_1\", \"toilet_floor_2\", \"toilet_flush_handle_1\", \"toilet_flush_handle_2\", \"toilet_seat_1\", \"toilet_seat_2\"], \"xaxis\": \"x\", \"y\": [0, 0, 0, 0, 0, 0, 0, 0, 6, 0, 0, 0, 0, 0], \"yaxis\": \"y\"}, {\"alignmentgroup\": \"True\", \"hovertemplate\": \"variable=Synergistetes<br>x=%{x}<br>value=%{y}<extra></extra>\", \"legendgroup\": \"Synergistetes\", \"marker\": {\"color\": \"#1f9e89\"}, \"name\": \"Synergistetes\", \"offsetgroup\": \"Synergistetes\", \"orientation\": \"v\", \"showlegend\": true, \"textposition\": \"auto\", \"type\": \"bar\", \"x\": [\"door_in_1\", \"door_in_2\", \"faucet_handle_1\", \"faucet_handle_2\", \"sink_floor_1\", \"sink_floor_2\", \"soap_dispenser_1\", \"stall_in_1\", \"toilet_floor_1\", \"toilet_floor_2\", \"toilet_flush_handle_1\", \"toilet_flush_handle_2\", \"toilet_seat_1\", \"toilet_seat_2\"], \"xaxis\": \"x\", \"y\": [0, 0, 0, 0, 0, 0, 0, 0, 0, 0, 0, 0, 2, 0], \"yaxis\": \"y\"}, {\"alignmentgroup\": \"True\", \"hovertemplate\": \"variable=Verrucomicrobia<br>x=%{x}<br>value=%{y}<extra></extra>\", \"legendgroup\": \"Verrucomicrobia\", \"marker\": {\"color\": \"#35b779\"}, \"name\": \"Verrucomicrobia\", \"offsetgroup\": \"Verrucomicrobia\", \"orientation\": \"v\", \"showlegend\": true, \"textposition\": \"auto\", \"type\": \"bar\", \"x\": [\"door_in_1\", \"door_in_2\", \"faucet_handle_1\", \"faucet_handle_2\", \"sink_floor_1\", \"sink_floor_2\", \"soap_dispenser_1\", \"stall_in_1\", \"toilet_floor_1\", \"toilet_floor_2\", \"toilet_flush_handle_1\", \"toilet_flush_handle_2\", \"toilet_seat_1\", \"toilet_seat_2\"], \"xaxis\": \"x\", \"y\": [0, 0, 0, 0, 0, 1, 0, 0, 1, 1, 16, 0, 0, 0], \"yaxis\": \"y\"}, {\"alignmentgroup\": \"True\", \"hovertemplate\": \"variable=unclassified<br>x=%{x}<br>value=%{y}<extra></extra>\", \"legendgroup\": \"unclassified\", \"marker\": {\"color\": \"#6ece58\"}, \"name\": \"unclassified\", \"offsetgroup\": \"unclassified\", \"orientation\": \"v\", \"showlegend\": true, \"textposition\": \"auto\", \"type\": \"bar\", \"x\": [\"door_in_1\", \"door_in_2\", \"faucet_handle_1\", \"faucet_handle_2\", \"sink_floor_1\", \"sink_floor_2\", \"soap_dispenser_1\", \"stall_in_1\", \"toilet_floor_1\", \"toilet_floor_2\", \"toilet_flush_handle_1\", \"toilet_flush_handle_2\", \"toilet_seat_1\", \"toilet_seat_2\"], \"xaxis\": \"x\", \"y\": [30, 22, 19, 6, 89, 85, 30, 78, 106, 60, 486, 26, 32, 19], \"yaxis\": \"y\"}],                        {\"barmode\": \"relative\", \"legend\": {\"title\": {\"text\": \"variable\"}, \"tracegroupgap\": 0}, \"template\": {\"data\": {\"bar\": [{\"error_x\": {\"color\": \"#2a3f5f\"}, \"error_y\": {\"color\": \"#2a3f5f\"}, \"marker\": {\"line\": {\"color\": \"#E5ECF6\", \"width\": 0.5}}, \"type\": \"bar\"}], \"barpolar\": [{\"marker\": {\"line\": {\"color\": \"#E5ECF6\", \"width\": 0.5}}, \"type\": \"barpolar\"}], \"carpet\": [{\"aaxis\": {\"endlinecolor\": \"#2a3f5f\", \"gridcolor\": \"white\", \"linecolor\": \"white\", \"minorgridcolor\": \"white\", \"startlinecolor\": \"#2a3f5f\"}, \"baxis\": {\"endlinecolor\": \"#2a3f5f\", \"gridcolor\": \"white\", \"linecolor\": \"white\", \"minorgridcolor\": \"white\", \"startlinecolor\": \"#2a3f5f\"}, \"type\": \"carpet\"}], \"choropleth\": [{\"colorbar\": {\"outlinewidth\": 0, \"ticks\": \"\"}, \"type\": \"choropleth\"}], \"contour\": [{\"colorbar\": {\"outlinewidth\": 0, \"ticks\": \"\"}, \"colorscale\": [[0.0, \"#0d0887\"], [0.1111111111111111, \"#46039f\"], [0.2222222222222222, \"#7201a8\"], [0.3333333333333333, \"#9c179e\"], [0.4444444444444444, \"#bd3786\"], [0.5555555555555556, \"#d8576b\"], [0.6666666666666666, \"#ed7953\"], [0.7777777777777778, \"#fb9f3a\"], [0.8888888888888888, \"#fdca26\"], [1.0, \"#f0f921\"]], \"type\": \"contour\"}], \"contourcarpet\": [{\"colorbar\": {\"outlinewidth\": 0, \"ticks\": \"\"}, \"type\": \"contourcarpet\"}], \"heatmap\": [{\"colorbar\": {\"outlinewidth\": 0, \"ticks\": \"\"}, \"colorscale\": [[0.0, \"#0d0887\"], [0.1111111111111111, \"#46039f\"], [0.2222222222222222, \"#7201a8\"], [0.3333333333333333, \"#9c179e\"], [0.4444444444444444, \"#bd3786\"], [0.5555555555555556, \"#d8576b\"], [0.6666666666666666, \"#ed7953\"], [0.7777777777777778, \"#fb9f3a\"], [0.8888888888888888, \"#fdca26\"], [1.0, \"#f0f921\"]], \"type\": \"heatmap\"}], \"heatmapgl\": [{\"colorbar\": {\"outlinewidth\": 0, \"ticks\": \"\"}, \"colorscale\": [[0.0, \"#0d0887\"], [0.1111111111111111, \"#46039f\"], [0.2222222222222222, \"#7201a8\"], [0.3333333333333333, \"#9c179e\"], [0.4444444444444444, \"#bd3786\"], [0.5555555555555556, \"#d8576b\"], [0.6666666666666666, \"#ed7953\"], [0.7777777777777778, \"#fb9f3a\"], [0.8888888888888888, \"#fdca26\"], [1.0, \"#f0f921\"]], \"type\": \"heatmapgl\"}], \"histogram\": [{\"marker\": {\"colorbar\": {\"outlinewidth\": 0, \"ticks\": \"\"}}, \"type\": \"histogram\"}], \"histogram2d\": [{\"colorbar\": {\"outlinewidth\": 0, \"ticks\": \"\"}, \"colorscale\": [[0.0, \"#0d0887\"], [0.1111111111111111, \"#46039f\"], [0.2222222222222222, \"#7201a8\"], [0.3333333333333333, \"#9c179e\"], [0.4444444444444444, \"#bd3786\"], [0.5555555555555556, \"#d8576b\"], [0.6666666666666666, \"#ed7953\"], [0.7777777777777778, \"#fb9f3a\"], [0.8888888888888888, \"#fdca26\"], [1.0, \"#f0f921\"]], \"type\": \"histogram2d\"}], \"histogram2dcontour\": [{\"colorbar\": {\"outlinewidth\": 0, \"ticks\": \"\"}, \"colorscale\": [[0.0, \"#0d0887\"], [0.1111111111111111, \"#46039f\"], [0.2222222222222222, \"#7201a8\"], [0.3333333333333333, \"#9c179e\"], [0.4444444444444444, \"#bd3786\"], [0.5555555555555556, \"#d8576b\"], [0.6666666666666666, \"#ed7953\"], [0.7777777777777778, \"#fb9f3a\"], [0.8888888888888888, \"#fdca26\"], [1.0, \"#f0f921\"]], \"type\": \"histogram2dcontour\"}], \"mesh3d\": [{\"colorbar\": {\"outlinewidth\": 0, \"ticks\": \"\"}, \"type\": \"mesh3d\"}], \"parcoords\": [{\"line\": {\"colorbar\": {\"outlinewidth\": 0, \"ticks\": \"\"}}, \"type\": \"parcoords\"}], \"pie\": [{\"automargin\": true, \"type\": \"pie\"}], \"scatter\": [{\"marker\": {\"colorbar\": {\"outlinewidth\": 0, \"ticks\": \"\"}}, \"type\": \"scatter\"}], \"scatter3d\": [{\"line\": {\"colorbar\": {\"outlinewidth\": 0, \"ticks\": \"\"}}, \"marker\": {\"colorbar\": {\"outlinewidth\": 0, \"ticks\": \"\"}}, \"type\": \"scatter3d\"}], \"scattercarpet\": [{\"marker\": {\"colorbar\": {\"outlinewidth\": 0, \"ticks\": \"\"}}, \"type\": \"scattercarpet\"}], \"scattergeo\": [{\"marker\": {\"colorbar\": {\"outlinewidth\": 0, \"ticks\": \"\"}}, \"type\": \"scattergeo\"}], \"scattergl\": [{\"marker\": {\"colorbar\": {\"outlinewidth\": 0, \"ticks\": \"\"}}, \"type\": \"scattergl\"}], \"scattermapbox\": [{\"marker\": {\"colorbar\": {\"outlinewidth\": 0, \"ticks\": \"\"}}, \"type\": \"scattermapbox\"}], \"scatterpolar\": [{\"marker\": {\"colorbar\": {\"outlinewidth\": 0, \"ticks\": \"\"}}, \"type\": \"scatterpolar\"}], \"scatterpolargl\": [{\"marker\": {\"colorbar\": {\"outlinewidth\": 0, \"ticks\": \"\"}}, \"type\": \"scatterpolargl\"}], \"scatterternary\": [{\"marker\": {\"colorbar\": {\"outlinewidth\": 0, \"ticks\": \"\"}}, \"type\": \"scatterternary\"}], \"surface\": [{\"colorbar\": {\"outlinewidth\": 0, \"ticks\": \"\"}, \"colorscale\": [[0.0, \"#0d0887\"], [0.1111111111111111, \"#46039f\"], [0.2222222222222222, \"#7201a8\"], [0.3333333333333333, \"#9c179e\"], [0.4444444444444444, \"#bd3786\"], [0.5555555555555556, \"#d8576b\"], [0.6666666666666666, \"#ed7953\"], [0.7777777777777778, \"#fb9f3a\"], [0.8888888888888888, \"#fdca26\"], [1.0, \"#f0f921\"]], \"type\": \"surface\"}], \"table\": [{\"cells\": {\"fill\": {\"color\": \"#EBF0F8\"}, \"line\": {\"color\": \"white\"}}, \"header\": {\"fill\": {\"color\": \"#C8D4E3\"}, \"line\": {\"color\": \"white\"}}, \"type\": \"table\"}]}, \"layout\": {\"annotationdefaults\": {\"arrowcolor\": \"#2a3f5f\", \"arrowhead\": 0, \"arrowwidth\": 1}, \"coloraxis\": {\"colorbar\": {\"outlinewidth\": 0, \"ticks\": \"\"}}, \"colorscale\": {\"diverging\": [[0, \"#8e0152\"], [0.1, \"#c51b7d\"], [0.2, \"#de77ae\"], [0.3, \"#f1b6da\"], [0.4, \"#fde0ef\"], [0.5, \"#f7f7f7\"], [0.6, \"#e6f5d0\"], [0.7, \"#b8e186\"], [0.8, \"#7fbc41\"], [0.9, \"#4d9221\"], [1, \"#276419\"]], \"sequential\": [[0.0, \"#0d0887\"], [0.1111111111111111, \"#46039f\"], [0.2222222222222222, \"#7201a8\"], [0.3333333333333333, \"#9c179e\"], [0.4444444444444444, \"#bd3786\"], [0.5555555555555556, \"#d8576b\"], [0.6666666666666666, \"#ed7953\"], [0.7777777777777778, \"#fb9f3a\"], [0.8888888888888888, \"#fdca26\"], [1.0, \"#f0f921\"]], \"sequentialminus\": [[0.0, \"#0d0887\"], [0.1111111111111111, \"#46039f\"], [0.2222222222222222, \"#7201a8\"], [0.3333333333333333, \"#9c179e\"], [0.4444444444444444, \"#bd3786\"], [0.5555555555555556, \"#d8576b\"], [0.6666666666666666, \"#ed7953\"], [0.7777777777777778, \"#fb9f3a\"], [0.8888888888888888, \"#fdca26\"], [1.0, \"#f0f921\"]]}, \"colorway\": [\"#636efa\", \"#EF553B\", \"#00cc96\", \"#ab63fa\", \"#FFA15A\", \"#19d3f3\", \"#FF6692\", \"#B6E880\", \"#FF97FF\", \"#FECB52\"], \"font\": {\"color\": \"#2a3f5f\"}, \"geo\": {\"bgcolor\": \"white\", \"lakecolor\": \"white\", \"landcolor\": \"#E5ECF6\", \"showlakes\": true, \"showland\": true, \"subunitcolor\": \"white\"}, \"hoverlabel\": {\"align\": \"left\"}, \"hovermode\": \"closest\", \"mapbox\": {\"style\": \"light\"}, \"paper_bgcolor\": \"white\", \"plot_bgcolor\": \"#E5ECF6\", \"polar\": {\"angularaxis\": {\"gridcolor\": \"white\", \"linecolor\": \"white\", \"ticks\": \"\"}, \"bgcolor\": \"#E5ECF6\", \"radialaxis\": {\"gridcolor\": \"white\", \"linecolor\": \"white\", \"ticks\": \"\"}}, \"scene\": {\"xaxis\": {\"backgroundcolor\": \"#E5ECF6\", \"gridcolor\": \"white\", \"gridwidth\": 2, \"linecolor\": \"white\", \"showbackground\": true, \"ticks\": \"\", \"zerolinecolor\": \"white\"}, \"yaxis\": {\"backgroundcolor\": \"#E5ECF6\", \"gridcolor\": \"white\", \"gridwidth\": 2, \"linecolor\": \"white\", \"showbackground\": true, \"ticks\": \"\", \"zerolinecolor\": \"white\"}, \"zaxis\": {\"backgroundcolor\": \"#E5ECF6\", \"gridcolor\": \"white\", \"gridwidth\": 2, \"linecolor\": \"white\", \"showbackground\": true, \"ticks\": \"\", \"zerolinecolor\": \"white\"}}, \"shapedefaults\": {\"line\": {\"color\": \"#2a3f5f\"}}, \"ternary\": {\"aaxis\": {\"gridcolor\": \"white\", \"linecolor\": \"white\", \"ticks\": \"\"}, \"baxis\": {\"gridcolor\": \"white\", \"linecolor\": \"white\", \"ticks\": \"\"}, \"bgcolor\": \"#E5ECF6\", \"caxis\": {\"gridcolor\": \"white\", \"linecolor\": \"white\", \"ticks\": \"\"}}, \"title\": {\"x\": 0.05}, \"xaxis\": {\"automargin\": true, \"gridcolor\": \"white\", \"linecolor\": \"white\", \"ticks\": \"\", \"title\": {\"standoff\": 15}, \"zerolinecolor\": \"white\", \"zerolinewidth\": 2}, \"yaxis\": {\"automargin\": true, \"gridcolor\": \"white\", \"linecolor\": \"white\", \"ticks\": \"\", \"title\": {\"standoff\": 15}, \"zerolinecolor\": \"white\", \"zerolinewidth\": 2}}}, \"title\": {\"text\": \"R\\u00e9partition des differents embranchements\"}, \"xaxis\": {\"anchor\": \"y\", \"domain\": [0.0, 1.0], \"title\": {\"text\": \"x\"}}, \"yaxis\": {\"anchor\": \"x\", \"domain\": [0.0, 1.0], \"title\": {\"text\": \"value\"}}},                        {\"responsive\": true}                    ).then(function(){\n",
       "                            \n",
       "var gd = document.getElementById('309290c9-3ecd-4d5d-b423-078571383a92');\n",
       "var x = new MutationObserver(function (mutations, observer) {{\n",
       "        var display = window.getComputedStyle(gd).display;\n",
       "        if (!display || display === 'none') {{\n",
       "            console.log([gd, 'removed!']);\n",
       "            Plotly.purge(gd);\n",
       "            observer.disconnect();\n",
       "        }}\n",
       "}});\n",
       "\n",
       "// Listen for the removal of the full notebook cells\n",
       "var notebookContainer = gd.closest('#notebook-container');\n",
       "if (notebookContainer) {{\n",
       "    x.observe(notebookContainer, {childList: true});\n",
       "}}\n",
       "\n",
       "// Listen for the clearing of the current output cell\n",
       "var outputEl = gd.closest('.output');\n",
       "if (outputEl) {{\n",
       "    x.observe(outputEl, {childList: true});\n",
       "}}\n",
       "\n",
       "                        })                };                });            </script>        </div>"
      ]
     },
     "metadata": {},
     "output_type": "display_data"
    }
   ],
   "source": [
    "#Objectif : Visualisation de la repartition des differents embranchements au sein des differents echantillons a l'aide d'un barplot\n",
    "\n",
    "matrice=df.groupby(by=\"embranchement\").sum()\n",
    "\n",
    "\n",
    "indexNamesArr = matrice.index.values\n",
    "\n",
    "embranchement = list(indexNamesArr)\n",
    "samples = list(matrice.columns.values)\n",
    "\n",
    "\n",
    "\n",
    "fig = px.bar(matrice.transpose(), \n",
    "             x=samples, \n",
    "             y=embranchement, \n",
    "             color_discrete_sequence=px.colors.sequential.Viridis, \n",
    "             title=\"Répartition des differents embranchements\")\n",
    "fig.show()"
   ]
  },
  {
   "cell_type": "code",
   "execution_count": 15,
   "metadata": {},
   "outputs": [
    {
     "data": {
      "application/vnd.plotly.v1+json": {
       "config": {
        "plotlyServerURL": "https://plot.ly"
       },
       "data": [
        {
         "alignmentgroup": "True",
         "hovertemplate": "variable=door_in_1<br>x=%{x}<br>value=%{y}<extra></extra>",
         "legendgroup": "door_in_1",
         "marker": {
          "color": "#440154"
         },
         "name": "door_in_1",
         "offsetgroup": "door_in_1",
         "orientation": "v",
         "showlegend": true,
         "textposition": "auto",
         "type": "bar",
         "x": [
          "Acidobacteria",
          "Actinobacteria",
          "Armatimonadetes",
          "Bacteroidetes",
          "Candidatus_Saccharibacteria",
          "Chloroflexi",
          "Deinococcus-Thermus",
          "Firmicutes",
          "Fusobacteria",
          "Gemmatimonadetes",
          "Microgenomates",
          "Parcubacteria",
          "Planctomycetes",
          "Proteobacteria",
          "Spirochaetes",
          "Synergistetes",
          "Verrucomicrobia",
          "unclassified"
         ],
         "xaxis": "x",
         "y": [
          6,
          1669,
          0,
          100,
          10,
          0,
          10,
          686,
          15,
          0,
          0,
          0,
          0,
          593,
          0,
          0,
          0,
          30
         ],
         "yaxis": "y"
        },
        {
         "alignmentgroup": "True",
         "hovertemplate": "variable=door_in_2<br>x=%{x}<br>value=%{y}<extra></extra>",
         "legendgroup": "door_in_2",
         "marker": {
          "color": "#482878"
         },
         "name": "door_in_2",
         "offsetgroup": "door_in_2",
         "orientation": "v",
         "showlegend": true,
         "textposition": "auto",
         "type": "bar",
         "x": [
          "Acidobacteria",
          "Actinobacteria",
          "Armatimonadetes",
          "Bacteroidetes",
          "Candidatus_Saccharibacteria",
          "Chloroflexi",
          "Deinococcus-Thermus",
          "Firmicutes",
          "Fusobacteria",
          "Gemmatimonadetes",
          "Microgenomates",
          "Parcubacteria",
          "Planctomycetes",
          "Proteobacteria",
          "Spirochaetes",
          "Synergistetes",
          "Verrucomicrobia",
          "unclassified"
         ],
         "xaxis": "x",
         "y": [
          0,
          1483,
          0,
          170,
          0,
          0,
          20,
          457,
          7,
          0,
          0,
          0,
          0,
          960,
          0,
          0,
          0,
          22
         ],
         "yaxis": "y"
        },
        {
         "alignmentgroup": "True",
         "hovertemplate": "variable=faucet_handle_1<br>x=%{x}<br>value=%{y}<extra></extra>",
         "legendgroup": "faucet_handle_1",
         "marker": {
          "color": "#3e4989"
         },
         "name": "faucet_handle_1",
         "offsetgroup": "faucet_handle_1",
         "orientation": "v",
         "showlegend": true,
         "textposition": "auto",
         "type": "bar",
         "x": [
          "Acidobacteria",
          "Actinobacteria",
          "Armatimonadetes",
          "Bacteroidetes",
          "Candidatus_Saccharibacteria",
          "Chloroflexi",
          "Deinococcus-Thermus",
          "Firmicutes",
          "Fusobacteria",
          "Gemmatimonadetes",
          "Microgenomates",
          "Parcubacteria",
          "Planctomycetes",
          "Proteobacteria",
          "Spirochaetes",
          "Synergistetes",
          "Verrucomicrobia",
          "unclassified"
         ],
         "xaxis": "x",
         "y": [
          3,
          434,
          0,
          54,
          0,
          0,
          0,
          155,
          8,
          1,
          0,
          0,
          0,
          2445,
          0,
          0,
          0,
          19
         ],
         "yaxis": "y"
        },
        {
         "alignmentgroup": "True",
         "hovertemplate": "variable=faucet_handle_2<br>x=%{x}<br>value=%{y}<extra></extra>",
         "legendgroup": "faucet_handle_2",
         "marker": {
          "color": "#31688e"
         },
         "name": "faucet_handle_2",
         "offsetgroup": "faucet_handle_2",
         "orientation": "v",
         "showlegend": true,
         "textposition": "auto",
         "type": "bar",
         "x": [
          "Acidobacteria",
          "Actinobacteria",
          "Armatimonadetes",
          "Bacteroidetes",
          "Candidatus_Saccharibacteria",
          "Chloroflexi",
          "Deinococcus-Thermus",
          "Firmicutes",
          "Fusobacteria",
          "Gemmatimonadetes",
          "Microgenomates",
          "Parcubacteria",
          "Planctomycetes",
          "Proteobacteria",
          "Spirochaetes",
          "Synergistetes",
          "Verrucomicrobia",
          "unclassified"
         ],
         "xaxis": "x",
         "y": [
          0,
          2224,
          0,
          84,
          1,
          0,
          12,
          440,
          12,
          0,
          0,
          0,
          0,
          340,
          0,
          0,
          0,
          6
         ],
         "yaxis": "y"
        },
        {
         "alignmentgroup": "True",
         "hovertemplate": "variable=sink_floor_1<br>x=%{x}<br>value=%{y}<extra></extra>",
         "legendgroup": "sink_floor_1",
         "marker": {
          "color": "#26828e"
         },
         "name": "sink_floor_1",
         "offsetgroup": "sink_floor_1",
         "orientation": "v",
         "showlegend": true,
         "textposition": "auto",
         "type": "bar",
         "x": [
          "Acidobacteria",
          "Actinobacteria",
          "Armatimonadetes",
          "Bacteroidetes",
          "Candidatus_Saccharibacteria",
          "Chloroflexi",
          "Deinococcus-Thermus",
          "Firmicutes",
          "Fusobacteria",
          "Gemmatimonadetes",
          "Microgenomates",
          "Parcubacteria",
          "Planctomycetes",
          "Proteobacteria",
          "Spirochaetes",
          "Synergistetes",
          "Verrucomicrobia",
          "unclassified"
         ],
         "xaxis": "x",
         "y": [
          17,
          1382,
          0,
          201,
          12,
          0,
          59,
          123,
          1,
          3,
          2,
          0,
          1,
          1229,
          0,
          0,
          0,
          89
         ],
         "yaxis": "y"
        },
        {
         "alignmentgroup": "True",
         "hovertemplate": "variable=sink_floor_2<br>x=%{x}<br>value=%{y}<extra></extra>",
         "legendgroup": "sink_floor_2",
         "marker": {
          "color": "#1f9e89"
         },
         "name": "sink_floor_2",
         "offsetgroup": "sink_floor_2",
         "orientation": "v",
         "showlegend": true,
         "textposition": "auto",
         "type": "bar",
         "x": [
          "Acidobacteria",
          "Actinobacteria",
          "Armatimonadetes",
          "Bacteroidetes",
          "Candidatus_Saccharibacteria",
          "Chloroflexi",
          "Deinococcus-Thermus",
          "Firmicutes",
          "Fusobacteria",
          "Gemmatimonadetes",
          "Microgenomates",
          "Parcubacteria",
          "Planctomycetes",
          "Proteobacteria",
          "Spirochaetes",
          "Synergistetes",
          "Verrucomicrobia",
          "unclassified"
         ],
         "xaxis": "x",
         "y": [
          13,
          978,
          0,
          333,
          6,
          0,
          50,
          94,
          2,
          1,
          0,
          0,
          1,
          1555,
          0,
          0,
          1,
          85
         ],
         "yaxis": "y"
        },
        {
         "alignmentgroup": "True",
         "hovertemplate": "variable=soap_dispenser_1<br>x=%{x}<br>value=%{y}<extra></extra>",
         "legendgroup": "soap_dispenser_1",
         "marker": {
          "color": "#35b779"
         },
         "name": "soap_dispenser_1",
         "offsetgroup": "soap_dispenser_1",
         "orientation": "v",
         "showlegend": true,
         "textposition": "auto",
         "type": "bar",
         "x": [
          "Acidobacteria",
          "Actinobacteria",
          "Armatimonadetes",
          "Bacteroidetes",
          "Candidatus_Saccharibacteria",
          "Chloroflexi",
          "Deinococcus-Thermus",
          "Firmicutes",
          "Fusobacteria",
          "Gemmatimonadetes",
          "Microgenomates",
          "Parcubacteria",
          "Planctomycetes",
          "Proteobacteria",
          "Spirochaetes",
          "Synergistetes",
          "Verrucomicrobia",
          "unclassified"
         ],
         "xaxis": "x",
         "y": [
          0,
          1665,
          5,
          127,
          0,
          0,
          0,
          378,
          14,
          0,
          0,
          0,
          3,
          897,
          0,
          0,
          0,
          30
         ],
         "yaxis": "y"
        },
        {
         "alignmentgroup": "True",
         "hovertemplate": "variable=stall_in_1<br>x=%{x}<br>value=%{y}<extra></extra>",
         "legendgroup": "stall_in_1",
         "marker": {
          "color": "#6ece58"
         },
         "name": "stall_in_1",
         "offsetgroup": "stall_in_1",
         "orientation": "v",
         "showlegend": true,
         "textposition": "auto",
         "type": "bar",
         "x": [
          "Acidobacteria",
          "Actinobacteria",
          "Armatimonadetes",
          "Bacteroidetes",
          "Candidatus_Saccharibacteria",
          "Chloroflexi",
          "Deinococcus-Thermus",
          "Firmicutes",
          "Fusobacteria",
          "Gemmatimonadetes",
          "Microgenomates",
          "Parcubacteria",
          "Planctomycetes",
          "Proteobacteria",
          "Spirochaetes",
          "Synergistetes",
          "Verrucomicrobia",
          "unclassified"
         ],
         "xaxis": "x",
         "y": [
          11,
          1077,
          0,
          235,
          0,
          0,
          0,
          446,
          0,
          0,
          0,
          0,
          0,
          1272,
          0,
          0,
          0,
          78
         ],
         "yaxis": "y"
        },
        {
         "alignmentgroup": "True",
         "hovertemplate": "variable=toilet_floor_1<br>x=%{x}<br>value=%{y}<extra></extra>",
         "legendgroup": "toilet_floor_1",
         "marker": {
          "color": "#b5de2b"
         },
         "name": "toilet_floor_1",
         "offsetgroup": "toilet_floor_1",
         "orientation": "v",
         "showlegend": true,
         "textposition": "auto",
         "type": "bar",
         "x": [
          "Acidobacteria",
          "Actinobacteria",
          "Armatimonadetes",
          "Bacteroidetes",
          "Candidatus_Saccharibacteria",
          "Chloroflexi",
          "Deinococcus-Thermus",
          "Firmicutes",
          "Fusobacteria",
          "Gemmatimonadetes",
          "Microgenomates",
          "Parcubacteria",
          "Planctomycetes",
          "Proteobacteria",
          "Spirochaetes",
          "Synergistetes",
          "Verrucomicrobia",
          "unclassified"
         ],
         "xaxis": "x",
         "y": [
          19,
          1133,
          1,
          267,
          6,
          3,
          23,
          130,
          3,
          0,
          0,
          0,
          2,
          1419,
          6,
          0,
          1,
          106
         ],
         "yaxis": "y"
        },
        {
         "alignmentgroup": "True",
         "hovertemplate": "variable=toilet_floor_2<br>x=%{x}<br>value=%{y}<extra></extra>",
         "legendgroup": "toilet_floor_2",
         "marker": {
          "color": "#fde725"
         },
         "name": "toilet_floor_2",
         "offsetgroup": "toilet_floor_2",
         "orientation": "v",
         "showlegend": true,
         "textposition": "auto",
         "type": "bar",
         "x": [
          "Acidobacteria",
          "Actinobacteria",
          "Armatimonadetes",
          "Bacteroidetes",
          "Candidatus_Saccharibacteria",
          "Chloroflexi",
          "Deinococcus-Thermus",
          "Firmicutes",
          "Fusobacteria",
          "Gemmatimonadetes",
          "Microgenomates",
          "Parcubacteria",
          "Planctomycetes",
          "Proteobacteria",
          "Spirochaetes",
          "Synergistetes",
          "Verrucomicrobia",
          "unclassified"
         ],
         "xaxis": "x",
         "y": [
          16,
          1013,
          0,
          228,
          3,
          0,
          28,
          131,
          2,
          1,
          0,
          1,
          1,
          1634,
          0,
          0,
          1,
          60
         ],
         "yaxis": "y"
        },
        {
         "alignmentgroup": "True",
         "hovertemplate": "variable=toilet_flush_handle_1<br>x=%{x}<br>value=%{y}<extra></extra>",
         "legendgroup": "toilet_flush_handle_1",
         "marker": {
          "color": "#440154"
         },
         "name": "toilet_flush_handle_1",
         "offsetgroup": "toilet_flush_handle_1",
         "orientation": "v",
         "showlegend": true,
         "textposition": "auto",
         "type": "bar",
         "x": [
          "Acidobacteria",
          "Actinobacteria",
          "Armatimonadetes",
          "Bacteroidetes",
          "Candidatus_Saccharibacteria",
          "Chloroflexi",
          "Deinococcus-Thermus",
          "Firmicutes",
          "Fusobacteria",
          "Gemmatimonadetes",
          "Microgenomates",
          "Parcubacteria",
          "Planctomycetes",
          "Proteobacteria",
          "Spirochaetes",
          "Synergistetes",
          "Verrucomicrobia",
          "unclassified"
         ],
         "xaxis": "x",
         "y": [
          65,
          1006,
          3,
          276,
          40,
          23,
          5,
          51,
          1,
          2,
          0,
          12,
          0,
          1133,
          0,
          0,
          16,
          486
         ],
         "yaxis": "y"
        },
        {
         "alignmentgroup": "True",
         "hovertemplate": "variable=toilet_flush_handle_2<br>x=%{x}<br>value=%{y}<extra></extra>",
         "legendgroup": "toilet_flush_handle_2",
         "marker": {
          "color": "#482878"
         },
         "name": "toilet_flush_handle_2",
         "offsetgroup": "toilet_flush_handle_2",
         "orientation": "v",
         "showlegend": true,
         "textposition": "auto",
         "type": "bar",
         "x": [
          "Acidobacteria",
          "Actinobacteria",
          "Armatimonadetes",
          "Bacteroidetes",
          "Candidatus_Saccharibacteria",
          "Chloroflexi",
          "Deinococcus-Thermus",
          "Firmicutes",
          "Fusobacteria",
          "Gemmatimonadetes",
          "Microgenomates",
          "Parcubacteria",
          "Planctomycetes",
          "Proteobacteria",
          "Spirochaetes",
          "Synergistetes",
          "Verrucomicrobia",
          "unclassified"
         ],
         "xaxis": "x",
         "y": [
          23,
          1400,
          0,
          120,
          1,
          1,
          10,
          433,
          9,
          0,
          0,
          0,
          0,
          1096,
          0,
          0,
          0,
          26
         ],
         "yaxis": "y"
        },
        {
         "alignmentgroup": "True",
         "hovertemplate": "variable=toilet_seat_1<br>x=%{x}<br>value=%{y}<extra></extra>",
         "legendgroup": "toilet_seat_1",
         "marker": {
          "color": "#3e4989"
         },
         "name": "toilet_seat_1",
         "offsetgroup": "toilet_seat_1",
         "orientation": "v",
         "showlegend": true,
         "textposition": "auto",
         "type": "bar",
         "x": [
          "Acidobacteria",
          "Actinobacteria",
          "Armatimonadetes",
          "Bacteroidetes",
          "Candidatus_Saccharibacteria",
          "Chloroflexi",
          "Deinococcus-Thermus",
          "Firmicutes",
          "Fusobacteria",
          "Gemmatimonadetes",
          "Microgenomates",
          "Parcubacteria",
          "Planctomycetes",
          "Proteobacteria",
          "Spirochaetes",
          "Synergistetes",
          "Verrucomicrobia",
          "unclassified"
         ],
         "xaxis": "x",
         "y": [
          7,
          685,
          2,
          117,
          1,
          0,
          2,
          363,
          2,
          0,
          0,
          0,
          0,
          1906,
          0,
          2,
          0,
          32
         ],
         "yaxis": "y"
        },
        {
         "alignmentgroup": "True",
         "hovertemplate": "variable=toilet_seat_2<br>x=%{x}<br>value=%{y}<extra></extra>",
         "legendgroup": "toilet_seat_2",
         "marker": {
          "color": "#31688e"
         },
         "name": "toilet_seat_2",
         "offsetgroup": "toilet_seat_2",
         "orientation": "v",
         "showlegend": true,
         "textposition": "auto",
         "type": "bar",
         "x": [
          "Acidobacteria",
          "Actinobacteria",
          "Armatimonadetes",
          "Bacteroidetes",
          "Candidatus_Saccharibacteria",
          "Chloroflexi",
          "Deinococcus-Thermus",
          "Firmicutes",
          "Fusobacteria",
          "Gemmatimonadetes",
          "Microgenomates",
          "Parcubacteria",
          "Planctomycetes",
          "Proteobacteria",
          "Spirochaetes",
          "Synergistetes",
          "Verrucomicrobia",
          "unclassified"
         ],
         "xaxis": "x",
         "y": [
          1,
          1968,
          0,
          80,
          0,
          0,
          1,
          946,
          4,
          0,
          0,
          0,
          0,
          100,
          0,
          0,
          0,
          19
         ],
         "yaxis": "y"
        }
       ],
       "layout": {
        "barmode": "relative",
        "legend": {
         "title": {
          "text": "variable"
         },
         "tracegroupgap": 0
        },
        "template": {
         "data": {
          "bar": [
           {
            "error_x": {
             "color": "#2a3f5f"
            },
            "error_y": {
             "color": "#2a3f5f"
            },
            "marker": {
             "line": {
              "color": "#E5ECF6",
              "width": 0.5
             }
            },
            "type": "bar"
           }
          ],
          "barpolar": [
           {
            "marker": {
             "line": {
              "color": "#E5ECF6",
              "width": 0.5
             }
            },
            "type": "barpolar"
           }
          ],
          "carpet": [
           {
            "aaxis": {
             "endlinecolor": "#2a3f5f",
             "gridcolor": "white",
             "linecolor": "white",
             "minorgridcolor": "white",
             "startlinecolor": "#2a3f5f"
            },
            "baxis": {
             "endlinecolor": "#2a3f5f",
             "gridcolor": "white",
             "linecolor": "white",
             "minorgridcolor": "white",
             "startlinecolor": "#2a3f5f"
            },
            "type": "carpet"
           }
          ],
          "choropleth": [
           {
            "colorbar": {
             "outlinewidth": 0,
             "ticks": ""
            },
            "type": "choropleth"
           }
          ],
          "contour": [
           {
            "colorbar": {
             "outlinewidth": 0,
             "ticks": ""
            },
            "colorscale": [
             [
              0,
              "#0d0887"
             ],
             [
              0.1111111111111111,
              "#46039f"
             ],
             [
              0.2222222222222222,
              "#7201a8"
             ],
             [
              0.3333333333333333,
              "#9c179e"
             ],
             [
              0.4444444444444444,
              "#bd3786"
             ],
             [
              0.5555555555555556,
              "#d8576b"
             ],
             [
              0.6666666666666666,
              "#ed7953"
             ],
             [
              0.7777777777777778,
              "#fb9f3a"
             ],
             [
              0.8888888888888888,
              "#fdca26"
             ],
             [
              1,
              "#f0f921"
             ]
            ],
            "type": "contour"
           }
          ],
          "contourcarpet": [
           {
            "colorbar": {
             "outlinewidth": 0,
             "ticks": ""
            },
            "type": "contourcarpet"
           }
          ],
          "heatmap": [
           {
            "colorbar": {
             "outlinewidth": 0,
             "ticks": ""
            },
            "colorscale": [
             [
              0,
              "#0d0887"
             ],
             [
              0.1111111111111111,
              "#46039f"
             ],
             [
              0.2222222222222222,
              "#7201a8"
             ],
             [
              0.3333333333333333,
              "#9c179e"
             ],
             [
              0.4444444444444444,
              "#bd3786"
             ],
             [
              0.5555555555555556,
              "#d8576b"
             ],
             [
              0.6666666666666666,
              "#ed7953"
             ],
             [
              0.7777777777777778,
              "#fb9f3a"
             ],
             [
              0.8888888888888888,
              "#fdca26"
             ],
             [
              1,
              "#f0f921"
             ]
            ],
            "type": "heatmap"
           }
          ],
          "heatmapgl": [
           {
            "colorbar": {
             "outlinewidth": 0,
             "ticks": ""
            },
            "colorscale": [
             [
              0,
              "#0d0887"
             ],
             [
              0.1111111111111111,
              "#46039f"
             ],
             [
              0.2222222222222222,
              "#7201a8"
             ],
             [
              0.3333333333333333,
              "#9c179e"
             ],
             [
              0.4444444444444444,
              "#bd3786"
             ],
             [
              0.5555555555555556,
              "#d8576b"
             ],
             [
              0.6666666666666666,
              "#ed7953"
             ],
             [
              0.7777777777777778,
              "#fb9f3a"
             ],
             [
              0.8888888888888888,
              "#fdca26"
             ],
             [
              1,
              "#f0f921"
             ]
            ],
            "type": "heatmapgl"
           }
          ],
          "histogram": [
           {
            "marker": {
             "colorbar": {
              "outlinewidth": 0,
              "ticks": ""
             }
            },
            "type": "histogram"
           }
          ],
          "histogram2d": [
           {
            "colorbar": {
             "outlinewidth": 0,
             "ticks": ""
            },
            "colorscale": [
             [
              0,
              "#0d0887"
             ],
             [
              0.1111111111111111,
              "#46039f"
             ],
             [
              0.2222222222222222,
              "#7201a8"
             ],
             [
              0.3333333333333333,
              "#9c179e"
             ],
             [
              0.4444444444444444,
              "#bd3786"
             ],
             [
              0.5555555555555556,
              "#d8576b"
             ],
             [
              0.6666666666666666,
              "#ed7953"
             ],
             [
              0.7777777777777778,
              "#fb9f3a"
             ],
             [
              0.8888888888888888,
              "#fdca26"
             ],
             [
              1,
              "#f0f921"
             ]
            ],
            "type": "histogram2d"
           }
          ],
          "histogram2dcontour": [
           {
            "colorbar": {
             "outlinewidth": 0,
             "ticks": ""
            },
            "colorscale": [
             [
              0,
              "#0d0887"
             ],
             [
              0.1111111111111111,
              "#46039f"
             ],
             [
              0.2222222222222222,
              "#7201a8"
             ],
             [
              0.3333333333333333,
              "#9c179e"
             ],
             [
              0.4444444444444444,
              "#bd3786"
             ],
             [
              0.5555555555555556,
              "#d8576b"
             ],
             [
              0.6666666666666666,
              "#ed7953"
             ],
             [
              0.7777777777777778,
              "#fb9f3a"
             ],
             [
              0.8888888888888888,
              "#fdca26"
             ],
             [
              1,
              "#f0f921"
             ]
            ],
            "type": "histogram2dcontour"
           }
          ],
          "mesh3d": [
           {
            "colorbar": {
             "outlinewidth": 0,
             "ticks": ""
            },
            "type": "mesh3d"
           }
          ],
          "parcoords": [
           {
            "line": {
             "colorbar": {
              "outlinewidth": 0,
              "ticks": ""
             }
            },
            "type": "parcoords"
           }
          ],
          "pie": [
           {
            "automargin": true,
            "type": "pie"
           }
          ],
          "scatter": [
           {
            "marker": {
             "colorbar": {
              "outlinewidth": 0,
              "ticks": ""
             }
            },
            "type": "scatter"
           }
          ],
          "scatter3d": [
           {
            "line": {
             "colorbar": {
              "outlinewidth": 0,
              "ticks": ""
             }
            },
            "marker": {
             "colorbar": {
              "outlinewidth": 0,
              "ticks": ""
             }
            },
            "type": "scatter3d"
           }
          ],
          "scattercarpet": [
           {
            "marker": {
             "colorbar": {
              "outlinewidth": 0,
              "ticks": ""
             }
            },
            "type": "scattercarpet"
           }
          ],
          "scattergeo": [
           {
            "marker": {
             "colorbar": {
              "outlinewidth": 0,
              "ticks": ""
             }
            },
            "type": "scattergeo"
           }
          ],
          "scattergl": [
           {
            "marker": {
             "colorbar": {
              "outlinewidth": 0,
              "ticks": ""
             }
            },
            "type": "scattergl"
           }
          ],
          "scattermapbox": [
           {
            "marker": {
             "colorbar": {
              "outlinewidth": 0,
              "ticks": ""
             }
            },
            "type": "scattermapbox"
           }
          ],
          "scatterpolar": [
           {
            "marker": {
             "colorbar": {
              "outlinewidth": 0,
              "ticks": ""
             }
            },
            "type": "scatterpolar"
           }
          ],
          "scatterpolargl": [
           {
            "marker": {
             "colorbar": {
              "outlinewidth": 0,
              "ticks": ""
             }
            },
            "type": "scatterpolargl"
           }
          ],
          "scatterternary": [
           {
            "marker": {
             "colorbar": {
              "outlinewidth": 0,
              "ticks": ""
             }
            },
            "type": "scatterternary"
           }
          ],
          "surface": [
           {
            "colorbar": {
             "outlinewidth": 0,
             "ticks": ""
            },
            "colorscale": [
             [
              0,
              "#0d0887"
             ],
             [
              0.1111111111111111,
              "#46039f"
             ],
             [
              0.2222222222222222,
              "#7201a8"
             ],
             [
              0.3333333333333333,
              "#9c179e"
             ],
             [
              0.4444444444444444,
              "#bd3786"
             ],
             [
              0.5555555555555556,
              "#d8576b"
             ],
             [
              0.6666666666666666,
              "#ed7953"
             ],
             [
              0.7777777777777778,
              "#fb9f3a"
             ],
             [
              0.8888888888888888,
              "#fdca26"
             ],
             [
              1,
              "#f0f921"
             ]
            ],
            "type": "surface"
           }
          ],
          "table": [
           {
            "cells": {
             "fill": {
              "color": "#EBF0F8"
             },
             "line": {
              "color": "white"
             }
            },
            "header": {
             "fill": {
              "color": "#C8D4E3"
             },
             "line": {
              "color": "white"
             }
            },
            "type": "table"
           }
          ]
         },
         "layout": {
          "annotationdefaults": {
           "arrowcolor": "#2a3f5f",
           "arrowhead": 0,
           "arrowwidth": 1
          },
          "coloraxis": {
           "colorbar": {
            "outlinewidth": 0,
            "ticks": ""
           }
          },
          "colorscale": {
           "diverging": [
            [
             0,
             "#8e0152"
            ],
            [
             0.1,
             "#c51b7d"
            ],
            [
             0.2,
             "#de77ae"
            ],
            [
             0.3,
             "#f1b6da"
            ],
            [
             0.4,
             "#fde0ef"
            ],
            [
             0.5,
             "#f7f7f7"
            ],
            [
             0.6,
             "#e6f5d0"
            ],
            [
             0.7,
             "#b8e186"
            ],
            [
             0.8,
             "#7fbc41"
            ],
            [
             0.9,
             "#4d9221"
            ],
            [
             1,
             "#276419"
            ]
           ],
           "sequential": [
            [
             0,
             "#0d0887"
            ],
            [
             0.1111111111111111,
             "#46039f"
            ],
            [
             0.2222222222222222,
             "#7201a8"
            ],
            [
             0.3333333333333333,
             "#9c179e"
            ],
            [
             0.4444444444444444,
             "#bd3786"
            ],
            [
             0.5555555555555556,
             "#d8576b"
            ],
            [
             0.6666666666666666,
             "#ed7953"
            ],
            [
             0.7777777777777778,
             "#fb9f3a"
            ],
            [
             0.8888888888888888,
             "#fdca26"
            ],
            [
             1,
             "#f0f921"
            ]
           ],
           "sequentialminus": [
            [
             0,
             "#0d0887"
            ],
            [
             0.1111111111111111,
             "#46039f"
            ],
            [
             0.2222222222222222,
             "#7201a8"
            ],
            [
             0.3333333333333333,
             "#9c179e"
            ],
            [
             0.4444444444444444,
             "#bd3786"
            ],
            [
             0.5555555555555556,
             "#d8576b"
            ],
            [
             0.6666666666666666,
             "#ed7953"
            ],
            [
             0.7777777777777778,
             "#fb9f3a"
            ],
            [
             0.8888888888888888,
             "#fdca26"
            ],
            [
             1,
             "#f0f921"
            ]
           ]
          },
          "colorway": [
           "#636efa",
           "#EF553B",
           "#00cc96",
           "#ab63fa",
           "#FFA15A",
           "#19d3f3",
           "#FF6692",
           "#B6E880",
           "#FF97FF",
           "#FECB52"
          ],
          "font": {
           "color": "#2a3f5f"
          },
          "geo": {
           "bgcolor": "white",
           "lakecolor": "white",
           "landcolor": "#E5ECF6",
           "showlakes": true,
           "showland": true,
           "subunitcolor": "white"
          },
          "hoverlabel": {
           "align": "left"
          },
          "hovermode": "closest",
          "mapbox": {
           "style": "light"
          },
          "paper_bgcolor": "white",
          "plot_bgcolor": "#E5ECF6",
          "polar": {
           "angularaxis": {
            "gridcolor": "white",
            "linecolor": "white",
            "ticks": ""
           },
           "bgcolor": "#E5ECF6",
           "radialaxis": {
            "gridcolor": "white",
            "linecolor": "white",
            "ticks": ""
           }
          },
          "scene": {
           "xaxis": {
            "backgroundcolor": "#E5ECF6",
            "gridcolor": "white",
            "gridwidth": 2,
            "linecolor": "white",
            "showbackground": true,
            "ticks": "",
            "zerolinecolor": "white"
           },
           "yaxis": {
            "backgroundcolor": "#E5ECF6",
            "gridcolor": "white",
            "gridwidth": 2,
            "linecolor": "white",
            "showbackground": true,
            "ticks": "",
            "zerolinecolor": "white"
           },
           "zaxis": {
            "backgroundcolor": "#E5ECF6",
            "gridcolor": "white",
            "gridwidth": 2,
            "linecolor": "white",
            "showbackground": true,
            "ticks": "",
            "zerolinecolor": "white"
           }
          },
          "shapedefaults": {
           "line": {
            "color": "#2a3f5f"
           }
          },
          "ternary": {
           "aaxis": {
            "gridcolor": "white",
            "linecolor": "white",
            "ticks": ""
           },
           "baxis": {
            "gridcolor": "white",
            "linecolor": "white",
            "ticks": ""
           },
           "bgcolor": "#E5ECF6",
           "caxis": {
            "gridcolor": "white",
            "linecolor": "white",
            "ticks": ""
           }
          },
          "title": {
           "x": 0.05
          },
          "xaxis": {
           "automargin": true,
           "gridcolor": "white",
           "linecolor": "white",
           "ticks": "",
           "title": {
            "standoff": 15
           },
           "zerolinecolor": "white",
           "zerolinewidth": 2
          },
          "yaxis": {
           "automargin": true,
           "gridcolor": "white",
           "linecolor": "white",
           "ticks": "",
           "title": {
            "standoff": 15
           },
           "zerolinecolor": "white",
           "zerolinewidth": 2
          }
         }
        },
        "title": {
         "text": "Répartition des differents embranchements"
        },
        "xaxis": {
         "anchor": "y",
         "domain": [
          0,
          1
         ],
         "title": {
          "text": "x"
         }
        },
        "yaxis": {
         "anchor": "x",
         "domain": [
          0,
          1
         ],
         "title": {
          "text": "value"
         }
        }
       }
      },
      "text/html": [
       "<div>                            <div id=\"595514e3-8e33-4cf6-8411-57bdad3fc481\" class=\"plotly-graph-div\" style=\"height:525px; width:100%;\"></div>            <script type=\"text/javascript\">                require([\"plotly\"], function(Plotly) {                    window.PLOTLYENV=window.PLOTLYENV || {};                                    if (document.getElementById(\"595514e3-8e33-4cf6-8411-57bdad3fc481\")) {                    Plotly.newPlot(                        \"595514e3-8e33-4cf6-8411-57bdad3fc481\",                        [{\"alignmentgroup\": \"True\", \"hovertemplate\": \"variable=door_in_1<br>x=%{x}<br>value=%{y}<extra></extra>\", \"legendgroup\": \"door_in_1\", \"marker\": {\"color\": \"#440154\"}, \"name\": \"door_in_1\", \"offsetgroup\": \"door_in_1\", \"orientation\": \"v\", \"showlegend\": true, \"textposition\": \"auto\", \"type\": \"bar\", \"x\": [\"Acidobacteria\", \"Actinobacteria\", \"Armatimonadetes\", \"Bacteroidetes\", \"Candidatus_Saccharibacteria\", \"Chloroflexi\", \"Deinococcus-Thermus\", \"Firmicutes\", \"Fusobacteria\", \"Gemmatimonadetes\", \"Microgenomates\", \"Parcubacteria\", \"Planctomycetes\", \"Proteobacteria\", \"Spirochaetes\", \"Synergistetes\", \"Verrucomicrobia\", \"unclassified\"], \"xaxis\": \"x\", \"y\": [6, 1669, 0, 100, 10, 0, 10, 686, 15, 0, 0, 0, 0, 593, 0, 0, 0, 30], \"yaxis\": \"y\"}, {\"alignmentgroup\": \"True\", \"hovertemplate\": \"variable=door_in_2<br>x=%{x}<br>value=%{y}<extra></extra>\", \"legendgroup\": \"door_in_2\", \"marker\": {\"color\": \"#482878\"}, \"name\": \"door_in_2\", \"offsetgroup\": \"door_in_2\", \"orientation\": \"v\", \"showlegend\": true, \"textposition\": \"auto\", \"type\": \"bar\", \"x\": [\"Acidobacteria\", \"Actinobacteria\", \"Armatimonadetes\", \"Bacteroidetes\", \"Candidatus_Saccharibacteria\", \"Chloroflexi\", \"Deinococcus-Thermus\", \"Firmicutes\", \"Fusobacteria\", \"Gemmatimonadetes\", \"Microgenomates\", \"Parcubacteria\", \"Planctomycetes\", \"Proteobacteria\", \"Spirochaetes\", \"Synergistetes\", \"Verrucomicrobia\", \"unclassified\"], \"xaxis\": \"x\", \"y\": [0, 1483, 0, 170, 0, 0, 20, 457, 7, 0, 0, 0, 0, 960, 0, 0, 0, 22], \"yaxis\": \"y\"}, {\"alignmentgroup\": \"True\", \"hovertemplate\": \"variable=faucet_handle_1<br>x=%{x}<br>value=%{y}<extra></extra>\", \"legendgroup\": \"faucet_handle_1\", \"marker\": {\"color\": \"#3e4989\"}, \"name\": \"faucet_handle_1\", \"offsetgroup\": \"faucet_handle_1\", \"orientation\": \"v\", \"showlegend\": true, \"textposition\": \"auto\", \"type\": \"bar\", \"x\": [\"Acidobacteria\", \"Actinobacteria\", \"Armatimonadetes\", \"Bacteroidetes\", \"Candidatus_Saccharibacteria\", \"Chloroflexi\", \"Deinococcus-Thermus\", \"Firmicutes\", \"Fusobacteria\", \"Gemmatimonadetes\", \"Microgenomates\", \"Parcubacteria\", \"Planctomycetes\", \"Proteobacteria\", \"Spirochaetes\", \"Synergistetes\", \"Verrucomicrobia\", \"unclassified\"], \"xaxis\": \"x\", \"y\": [3, 434, 0, 54, 0, 0, 0, 155, 8, 1, 0, 0, 0, 2445, 0, 0, 0, 19], \"yaxis\": \"y\"}, {\"alignmentgroup\": \"True\", \"hovertemplate\": \"variable=faucet_handle_2<br>x=%{x}<br>value=%{y}<extra></extra>\", \"legendgroup\": \"faucet_handle_2\", \"marker\": {\"color\": \"#31688e\"}, \"name\": \"faucet_handle_2\", \"offsetgroup\": \"faucet_handle_2\", \"orientation\": \"v\", \"showlegend\": true, \"textposition\": \"auto\", \"type\": \"bar\", \"x\": [\"Acidobacteria\", \"Actinobacteria\", \"Armatimonadetes\", \"Bacteroidetes\", \"Candidatus_Saccharibacteria\", \"Chloroflexi\", \"Deinococcus-Thermus\", \"Firmicutes\", \"Fusobacteria\", \"Gemmatimonadetes\", \"Microgenomates\", \"Parcubacteria\", \"Planctomycetes\", \"Proteobacteria\", \"Spirochaetes\", \"Synergistetes\", \"Verrucomicrobia\", \"unclassified\"], \"xaxis\": \"x\", \"y\": [0, 2224, 0, 84, 1, 0, 12, 440, 12, 0, 0, 0, 0, 340, 0, 0, 0, 6], \"yaxis\": \"y\"}, {\"alignmentgroup\": \"True\", \"hovertemplate\": \"variable=sink_floor_1<br>x=%{x}<br>value=%{y}<extra></extra>\", \"legendgroup\": \"sink_floor_1\", \"marker\": {\"color\": \"#26828e\"}, \"name\": \"sink_floor_1\", \"offsetgroup\": \"sink_floor_1\", \"orientation\": \"v\", \"showlegend\": true, \"textposition\": \"auto\", \"type\": \"bar\", \"x\": [\"Acidobacteria\", \"Actinobacteria\", \"Armatimonadetes\", \"Bacteroidetes\", \"Candidatus_Saccharibacteria\", \"Chloroflexi\", \"Deinococcus-Thermus\", \"Firmicutes\", \"Fusobacteria\", \"Gemmatimonadetes\", \"Microgenomates\", \"Parcubacteria\", \"Planctomycetes\", \"Proteobacteria\", \"Spirochaetes\", \"Synergistetes\", \"Verrucomicrobia\", \"unclassified\"], \"xaxis\": \"x\", \"y\": [17, 1382, 0, 201, 12, 0, 59, 123, 1, 3, 2, 0, 1, 1229, 0, 0, 0, 89], \"yaxis\": \"y\"}, {\"alignmentgroup\": \"True\", \"hovertemplate\": \"variable=sink_floor_2<br>x=%{x}<br>value=%{y}<extra></extra>\", \"legendgroup\": \"sink_floor_2\", \"marker\": {\"color\": \"#1f9e89\"}, \"name\": \"sink_floor_2\", \"offsetgroup\": \"sink_floor_2\", \"orientation\": \"v\", \"showlegend\": true, \"textposition\": \"auto\", \"type\": \"bar\", \"x\": [\"Acidobacteria\", \"Actinobacteria\", \"Armatimonadetes\", \"Bacteroidetes\", \"Candidatus_Saccharibacteria\", \"Chloroflexi\", \"Deinococcus-Thermus\", \"Firmicutes\", \"Fusobacteria\", \"Gemmatimonadetes\", \"Microgenomates\", \"Parcubacteria\", \"Planctomycetes\", \"Proteobacteria\", \"Spirochaetes\", \"Synergistetes\", \"Verrucomicrobia\", \"unclassified\"], \"xaxis\": \"x\", \"y\": [13, 978, 0, 333, 6, 0, 50, 94, 2, 1, 0, 0, 1, 1555, 0, 0, 1, 85], \"yaxis\": \"y\"}, {\"alignmentgroup\": \"True\", \"hovertemplate\": \"variable=soap_dispenser_1<br>x=%{x}<br>value=%{y}<extra></extra>\", \"legendgroup\": \"soap_dispenser_1\", \"marker\": {\"color\": \"#35b779\"}, \"name\": \"soap_dispenser_1\", \"offsetgroup\": \"soap_dispenser_1\", \"orientation\": \"v\", \"showlegend\": true, \"textposition\": \"auto\", \"type\": \"bar\", \"x\": [\"Acidobacteria\", \"Actinobacteria\", \"Armatimonadetes\", \"Bacteroidetes\", \"Candidatus_Saccharibacteria\", \"Chloroflexi\", \"Deinococcus-Thermus\", \"Firmicutes\", \"Fusobacteria\", \"Gemmatimonadetes\", \"Microgenomates\", \"Parcubacteria\", \"Planctomycetes\", \"Proteobacteria\", \"Spirochaetes\", \"Synergistetes\", \"Verrucomicrobia\", \"unclassified\"], \"xaxis\": \"x\", \"y\": [0, 1665, 5, 127, 0, 0, 0, 378, 14, 0, 0, 0, 3, 897, 0, 0, 0, 30], \"yaxis\": \"y\"}, {\"alignmentgroup\": \"True\", \"hovertemplate\": \"variable=stall_in_1<br>x=%{x}<br>value=%{y}<extra></extra>\", \"legendgroup\": \"stall_in_1\", \"marker\": {\"color\": \"#6ece58\"}, \"name\": \"stall_in_1\", \"offsetgroup\": \"stall_in_1\", \"orientation\": \"v\", \"showlegend\": true, \"textposition\": \"auto\", \"type\": \"bar\", \"x\": [\"Acidobacteria\", \"Actinobacteria\", \"Armatimonadetes\", \"Bacteroidetes\", \"Candidatus_Saccharibacteria\", \"Chloroflexi\", \"Deinococcus-Thermus\", \"Firmicutes\", \"Fusobacteria\", \"Gemmatimonadetes\", \"Microgenomates\", \"Parcubacteria\", \"Planctomycetes\", \"Proteobacteria\", \"Spirochaetes\", \"Synergistetes\", \"Verrucomicrobia\", \"unclassified\"], \"xaxis\": \"x\", \"y\": [11, 1077, 0, 235, 0, 0, 0, 446, 0, 0, 0, 0, 0, 1272, 0, 0, 0, 78], \"yaxis\": \"y\"}, {\"alignmentgroup\": \"True\", \"hovertemplate\": \"variable=toilet_floor_1<br>x=%{x}<br>value=%{y}<extra></extra>\", \"legendgroup\": \"toilet_floor_1\", \"marker\": {\"color\": \"#b5de2b\"}, \"name\": \"toilet_floor_1\", \"offsetgroup\": \"toilet_floor_1\", \"orientation\": \"v\", \"showlegend\": true, \"textposition\": \"auto\", \"type\": \"bar\", \"x\": [\"Acidobacteria\", \"Actinobacteria\", \"Armatimonadetes\", \"Bacteroidetes\", \"Candidatus_Saccharibacteria\", \"Chloroflexi\", \"Deinococcus-Thermus\", \"Firmicutes\", \"Fusobacteria\", \"Gemmatimonadetes\", \"Microgenomates\", \"Parcubacteria\", \"Planctomycetes\", \"Proteobacteria\", \"Spirochaetes\", \"Synergistetes\", \"Verrucomicrobia\", \"unclassified\"], \"xaxis\": \"x\", \"y\": [19, 1133, 1, 267, 6, 3, 23, 130, 3, 0, 0, 0, 2, 1419, 6, 0, 1, 106], \"yaxis\": \"y\"}, {\"alignmentgroup\": \"True\", \"hovertemplate\": \"variable=toilet_floor_2<br>x=%{x}<br>value=%{y}<extra></extra>\", \"legendgroup\": \"toilet_floor_2\", \"marker\": {\"color\": \"#fde725\"}, \"name\": \"toilet_floor_2\", \"offsetgroup\": \"toilet_floor_2\", \"orientation\": \"v\", \"showlegend\": true, \"textposition\": \"auto\", \"type\": \"bar\", \"x\": [\"Acidobacteria\", \"Actinobacteria\", \"Armatimonadetes\", \"Bacteroidetes\", \"Candidatus_Saccharibacteria\", \"Chloroflexi\", \"Deinococcus-Thermus\", \"Firmicutes\", \"Fusobacteria\", \"Gemmatimonadetes\", \"Microgenomates\", \"Parcubacteria\", \"Planctomycetes\", \"Proteobacteria\", \"Spirochaetes\", \"Synergistetes\", \"Verrucomicrobia\", \"unclassified\"], \"xaxis\": \"x\", \"y\": [16, 1013, 0, 228, 3, 0, 28, 131, 2, 1, 0, 1, 1, 1634, 0, 0, 1, 60], \"yaxis\": \"y\"}, {\"alignmentgroup\": \"True\", \"hovertemplate\": \"variable=toilet_flush_handle_1<br>x=%{x}<br>value=%{y}<extra></extra>\", \"legendgroup\": \"toilet_flush_handle_1\", \"marker\": {\"color\": \"#440154\"}, \"name\": \"toilet_flush_handle_1\", \"offsetgroup\": \"toilet_flush_handle_1\", \"orientation\": \"v\", \"showlegend\": true, \"textposition\": \"auto\", \"type\": \"bar\", \"x\": [\"Acidobacteria\", \"Actinobacteria\", \"Armatimonadetes\", \"Bacteroidetes\", \"Candidatus_Saccharibacteria\", \"Chloroflexi\", \"Deinococcus-Thermus\", \"Firmicutes\", \"Fusobacteria\", \"Gemmatimonadetes\", \"Microgenomates\", \"Parcubacteria\", \"Planctomycetes\", \"Proteobacteria\", \"Spirochaetes\", \"Synergistetes\", \"Verrucomicrobia\", \"unclassified\"], \"xaxis\": \"x\", \"y\": [65, 1006, 3, 276, 40, 23, 5, 51, 1, 2, 0, 12, 0, 1133, 0, 0, 16, 486], \"yaxis\": \"y\"}, {\"alignmentgroup\": \"True\", \"hovertemplate\": \"variable=toilet_flush_handle_2<br>x=%{x}<br>value=%{y}<extra></extra>\", \"legendgroup\": \"toilet_flush_handle_2\", \"marker\": {\"color\": \"#482878\"}, \"name\": \"toilet_flush_handle_2\", \"offsetgroup\": \"toilet_flush_handle_2\", \"orientation\": \"v\", \"showlegend\": true, \"textposition\": \"auto\", \"type\": \"bar\", \"x\": [\"Acidobacteria\", \"Actinobacteria\", \"Armatimonadetes\", \"Bacteroidetes\", \"Candidatus_Saccharibacteria\", \"Chloroflexi\", \"Deinococcus-Thermus\", \"Firmicutes\", \"Fusobacteria\", \"Gemmatimonadetes\", \"Microgenomates\", \"Parcubacteria\", \"Planctomycetes\", \"Proteobacteria\", \"Spirochaetes\", \"Synergistetes\", \"Verrucomicrobia\", \"unclassified\"], \"xaxis\": \"x\", \"y\": [23, 1400, 0, 120, 1, 1, 10, 433, 9, 0, 0, 0, 0, 1096, 0, 0, 0, 26], \"yaxis\": \"y\"}, {\"alignmentgroup\": \"True\", \"hovertemplate\": \"variable=toilet_seat_1<br>x=%{x}<br>value=%{y}<extra></extra>\", \"legendgroup\": \"toilet_seat_1\", \"marker\": {\"color\": \"#3e4989\"}, \"name\": \"toilet_seat_1\", \"offsetgroup\": \"toilet_seat_1\", \"orientation\": \"v\", \"showlegend\": true, \"textposition\": \"auto\", \"type\": \"bar\", \"x\": [\"Acidobacteria\", \"Actinobacteria\", \"Armatimonadetes\", \"Bacteroidetes\", \"Candidatus_Saccharibacteria\", \"Chloroflexi\", \"Deinococcus-Thermus\", \"Firmicutes\", \"Fusobacteria\", \"Gemmatimonadetes\", \"Microgenomates\", \"Parcubacteria\", \"Planctomycetes\", \"Proteobacteria\", \"Spirochaetes\", \"Synergistetes\", \"Verrucomicrobia\", \"unclassified\"], \"xaxis\": \"x\", \"y\": [7, 685, 2, 117, 1, 0, 2, 363, 2, 0, 0, 0, 0, 1906, 0, 2, 0, 32], \"yaxis\": \"y\"}, {\"alignmentgroup\": \"True\", \"hovertemplate\": \"variable=toilet_seat_2<br>x=%{x}<br>value=%{y}<extra></extra>\", \"legendgroup\": \"toilet_seat_2\", \"marker\": {\"color\": \"#31688e\"}, \"name\": \"toilet_seat_2\", \"offsetgroup\": \"toilet_seat_2\", \"orientation\": \"v\", \"showlegend\": true, \"textposition\": \"auto\", \"type\": \"bar\", \"x\": [\"Acidobacteria\", \"Actinobacteria\", \"Armatimonadetes\", \"Bacteroidetes\", \"Candidatus_Saccharibacteria\", \"Chloroflexi\", \"Deinococcus-Thermus\", \"Firmicutes\", \"Fusobacteria\", \"Gemmatimonadetes\", \"Microgenomates\", \"Parcubacteria\", \"Planctomycetes\", \"Proteobacteria\", \"Spirochaetes\", \"Synergistetes\", \"Verrucomicrobia\", \"unclassified\"], \"xaxis\": \"x\", \"y\": [1, 1968, 0, 80, 0, 0, 1, 946, 4, 0, 0, 0, 0, 100, 0, 0, 0, 19], \"yaxis\": \"y\"}],                        {\"barmode\": \"relative\", \"legend\": {\"title\": {\"text\": \"variable\"}, \"tracegroupgap\": 0}, \"template\": {\"data\": {\"bar\": [{\"error_x\": {\"color\": \"#2a3f5f\"}, \"error_y\": {\"color\": \"#2a3f5f\"}, \"marker\": {\"line\": {\"color\": \"#E5ECF6\", \"width\": 0.5}}, \"type\": \"bar\"}], \"barpolar\": [{\"marker\": {\"line\": {\"color\": \"#E5ECF6\", \"width\": 0.5}}, \"type\": \"barpolar\"}], \"carpet\": [{\"aaxis\": {\"endlinecolor\": \"#2a3f5f\", \"gridcolor\": \"white\", \"linecolor\": \"white\", \"minorgridcolor\": \"white\", \"startlinecolor\": \"#2a3f5f\"}, \"baxis\": {\"endlinecolor\": \"#2a3f5f\", \"gridcolor\": \"white\", \"linecolor\": \"white\", \"minorgridcolor\": \"white\", \"startlinecolor\": \"#2a3f5f\"}, \"type\": \"carpet\"}], \"choropleth\": [{\"colorbar\": {\"outlinewidth\": 0, \"ticks\": \"\"}, \"type\": \"choropleth\"}], \"contour\": [{\"colorbar\": {\"outlinewidth\": 0, \"ticks\": \"\"}, \"colorscale\": [[0.0, \"#0d0887\"], [0.1111111111111111, \"#46039f\"], [0.2222222222222222, \"#7201a8\"], [0.3333333333333333, \"#9c179e\"], [0.4444444444444444, \"#bd3786\"], [0.5555555555555556, \"#d8576b\"], [0.6666666666666666, \"#ed7953\"], [0.7777777777777778, \"#fb9f3a\"], [0.8888888888888888, \"#fdca26\"], [1.0, \"#f0f921\"]], \"type\": \"contour\"}], \"contourcarpet\": [{\"colorbar\": {\"outlinewidth\": 0, \"ticks\": \"\"}, \"type\": \"contourcarpet\"}], \"heatmap\": [{\"colorbar\": {\"outlinewidth\": 0, \"ticks\": \"\"}, \"colorscale\": [[0.0, \"#0d0887\"], [0.1111111111111111, \"#46039f\"], [0.2222222222222222, \"#7201a8\"], [0.3333333333333333, \"#9c179e\"], [0.4444444444444444, \"#bd3786\"], [0.5555555555555556, \"#d8576b\"], [0.6666666666666666, \"#ed7953\"], [0.7777777777777778, \"#fb9f3a\"], [0.8888888888888888, \"#fdca26\"], [1.0, \"#f0f921\"]], \"type\": \"heatmap\"}], \"heatmapgl\": [{\"colorbar\": {\"outlinewidth\": 0, \"ticks\": \"\"}, \"colorscale\": [[0.0, \"#0d0887\"], [0.1111111111111111, \"#46039f\"], [0.2222222222222222, \"#7201a8\"], [0.3333333333333333, \"#9c179e\"], [0.4444444444444444, \"#bd3786\"], [0.5555555555555556, \"#d8576b\"], [0.6666666666666666, \"#ed7953\"], [0.7777777777777778, \"#fb9f3a\"], [0.8888888888888888, \"#fdca26\"], [1.0, \"#f0f921\"]], \"type\": \"heatmapgl\"}], \"histogram\": [{\"marker\": {\"colorbar\": {\"outlinewidth\": 0, \"ticks\": \"\"}}, \"type\": \"histogram\"}], \"histogram2d\": [{\"colorbar\": {\"outlinewidth\": 0, \"ticks\": \"\"}, \"colorscale\": [[0.0, \"#0d0887\"], [0.1111111111111111, \"#46039f\"], [0.2222222222222222, \"#7201a8\"], [0.3333333333333333, \"#9c179e\"], [0.4444444444444444, \"#bd3786\"], [0.5555555555555556, \"#d8576b\"], [0.6666666666666666, \"#ed7953\"], [0.7777777777777778, \"#fb9f3a\"], [0.8888888888888888, \"#fdca26\"], [1.0, \"#f0f921\"]], \"type\": \"histogram2d\"}], \"histogram2dcontour\": [{\"colorbar\": {\"outlinewidth\": 0, \"ticks\": \"\"}, \"colorscale\": [[0.0, \"#0d0887\"], [0.1111111111111111, \"#46039f\"], [0.2222222222222222, \"#7201a8\"], [0.3333333333333333, \"#9c179e\"], [0.4444444444444444, \"#bd3786\"], [0.5555555555555556, \"#d8576b\"], [0.6666666666666666, \"#ed7953\"], [0.7777777777777778, \"#fb9f3a\"], [0.8888888888888888, \"#fdca26\"], [1.0, \"#f0f921\"]], \"type\": \"histogram2dcontour\"}], \"mesh3d\": [{\"colorbar\": {\"outlinewidth\": 0, \"ticks\": \"\"}, \"type\": \"mesh3d\"}], \"parcoords\": [{\"line\": {\"colorbar\": {\"outlinewidth\": 0, \"ticks\": \"\"}}, \"type\": \"parcoords\"}], \"pie\": [{\"automargin\": true, \"type\": \"pie\"}], \"scatter\": [{\"marker\": {\"colorbar\": {\"outlinewidth\": 0, \"ticks\": \"\"}}, \"type\": \"scatter\"}], \"scatter3d\": [{\"line\": {\"colorbar\": {\"outlinewidth\": 0, \"ticks\": \"\"}}, \"marker\": {\"colorbar\": {\"outlinewidth\": 0, \"ticks\": \"\"}}, \"type\": \"scatter3d\"}], \"scattercarpet\": [{\"marker\": {\"colorbar\": {\"outlinewidth\": 0, \"ticks\": \"\"}}, \"type\": \"scattercarpet\"}], \"scattergeo\": [{\"marker\": {\"colorbar\": {\"outlinewidth\": 0, \"ticks\": \"\"}}, \"type\": \"scattergeo\"}], \"scattergl\": [{\"marker\": {\"colorbar\": {\"outlinewidth\": 0, \"ticks\": \"\"}}, \"type\": \"scattergl\"}], \"scattermapbox\": [{\"marker\": {\"colorbar\": {\"outlinewidth\": 0, \"ticks\": \"\"}}, \"type\": \"scattermapbox\"}], \"scatterpolar\": [{\"marker\": {\"colorbar\": {\"outlinewidth\": 0, \"ticks\": \"\"}}, \"type\": \"scatterpolar\"}], \"scatterpolargl\": [{\"marker\": {\"colorbar\": {\"outlinewidth\": 0, \"ticks\": \"\"}}, \"type\": \"scatterpolargl\"}], \"scatterternary\": [{\"marker\": {\"colorbar\": {\"outlinewidth\": 0, \"ticks\": \"\"}}, \"type\": \"scatterternary\"}], \"surface\": [{\"colorbar\": {\"outlinewidth\": 0, \"ticks\": \"\"}, \"colorscale\": [[0.0, \"#0d0887\"], [0.1111111111111111, \"#46039f\"], [0.2222222222222222, \"#7201a8\"], [0.3333333333333333, \"#9c179e\"], [0.4444444444444444, \"#bd3786\"], [0.5555555555555556, \"#d8576b\"], [0.6666666666666666, \"#ed7953\"], [0.7777777777777778, \"#fb9f3a\"], [0.8888888888888888, \"#fdca26\"], [1.0, \"#f0f921\"]], \"type\": \"surface\"}], \"table\": [{\"cells\": {\"fill\": {\"color\": \"#EBF0F8\"}, \"line\": {\"color\": \"white\"}}, \"header\": {\"fill\": {\"color\": \"#C8D4E3\"}, \"line\": {\"color\": \"white\"}}, \"type\": \"table\"}]}, \"layout\": {\"annotationdefaults\": {\"arrowcolor\": \"#2a3f5f\", \"arrowhead\": 0, \"arrowwidth\": 1}, \"coloraxis\": {\"colorbar\": {\"outlinewidth\": 0, \"ticks\": \"\"}}, \"colorscale\": {\"diverging\": [[0, \"#8e0152\"], [0.1, \"#c51b7d\"], [0.2, \"#de77ae\"], [0.3, \"#f1b6da\"], [0.4, \"#fde0ef\"], [0.5, \"#f7f7f7\"], [0.6, \"#e6f5d0\"], [0.7, \"#b8e186\"], [0.8, \"#7fbc41\"], [0.9, \"#4d9221\"], [1, \"#276419\"]], \"sequential\": [[0.0, \"#0d0887\"], [0.1111111111111111, \"#46039f\"], [0.2222222222222222, \"#7201a8\"], [0.3333333333333333, \"#9c179e\"], [0.4444444444444444, \"#bd3786\"], [0.5555555555555556, \"#d8576b\"], [0.6666666666666666, \"#ed7953\"], [0.7777777777777778, \"#fb9f3a\"], [0.8888888888888888, \"#fdca26\"], [1.0, \"#f0f921\"]], \"sequentialminus\": [[0.0, \"#0d0887\"], [0.1111111111111111, \"#46039f\"], [0.2222222222222222, \"#7201a8\"], [0.3333333333333333, \"#9c179e\"], [0.4444444444444444, \"#bd3786\"], [0.5555555555555556, \"#d8576b\"], [0.6666666666666666, \"#ed7953\"], [0.7777777777777778, \"#fb9f3a\"], [0.8888888888888888, \"#fdca26\"], [1.0, \"#f0f921\"]]}, \"colorway\": [\"#636efa\", \"#EF553B\", \"#00cc96\", \"#ab63fa\", \"#FFA15A\", \"#19d3f3\", \"#FF6692\", \"#B6E880\", \"#FF97FF\", \"#FECB52\"], \"font\": {\"color\": \"#2a3f5f\"}, \"geo\": {\"bgcolor\": \"white\", \"lakecolor\": \"white\", \"landcolor\": \"#E5ECF6\", \"showlakes\": true, \"showland\": true, \"subunitcolor\": \"white\"}, \"hoverlabel\": {\"align\": \"left\"}, \"hovermode\": \"closest\", \"mapbox\": {\"style\": \"light\"}, \"paper_bgcolor\": \"white\", \"plot_bgcolor\": \"#E5ECF6\", \"polar\": {\"angularaxis\": {\"gridcolor\": \"white\", \"linecolor\": \"white\", \"ticks\": \"\"}, \"bgcolor\": \"#E5ECF6\", \"radialaxis\": {\"gridcolor\": \"white\", \"linecolor\": \"white\", \"ticks\": \"\"}}, \"scene\": {\"xaxis\": {\"backgroundcolor\": \"#E5ECF6\", \"gridcolor\": \"white\", \"gridwidth\": 2, \"linecolor\": \"white\", \"showbackground\": true, \"ticks\": \"\", \"zerolinecolor\": \"white\"}, \"yaxis\": {\"backgroundcolor\": \"#E5ECF6\", \"gridcolor\": \"white\", \"gridwidth\": 2, \"linecolor\": \"white\", \"showbackground\": true, \"ticks\": \"\", \"zerolinecolor\": \"white\"}, \"zaxis\": {\"backgroundcolor\": \"#E5ECF6\", \"gridcolor\": \"white\", \"gridwidth\": 2, \"linecolor\": \"white\", \"showbackground\": true, \"ticks\": \"\", \"zerolinecolor\": \"white\"}}, \"shapedefaults\": {\"line\": {\"color\": \"#2a3f5f\"}}, \"ternary\": {\"aaxis\": {\"gridcolor\": \"white\", \"linecolor\": \"white\", \"ticks\": \"\"}, \"baxis\": {\"gridcolor\": \"white\", \"linecolor\": \"white\", \"ticks\": \"\"}, \"bgcolor\": \"#E5ECF6\", \"caxis\": {\"gridcolor\": \"white\", \"linecolor\": \"white\", \"ticks\": \"\"}}, \"title\": {\"x\": 0.05}, \"xaxis\": {\"automargin\": true, \"gridcolor\": \"white\", \"linecolor\": \"white\", \"ticks\": \"\", \"title\": {\"standoff\": 15}, \"zerolinecolor\": \"white\", \"zerolinewidth\": 2}, \"yaxis\": {\"automargin\": true, \"gridcolor\": \"white\", \"linecolor\": \"white\", \"ticks\": \"\", \"title\": {\"standoff\": 15}, \"zerolinecolor\": \"white\", \"zerolinewidth\": 2}}}, \"title\": {\"text\": \"R\\u00e9partition des differents embranchements\"}, \"xaxis\": {\"anchor\": \"y\", \"domain\": [0.0, 1.0], \"title\": {\"text\": \"x\"}}, \"yaxis\": {\"anchor\": \"x\", \"domain\": [0.0, 1.0], \"title\": {\"text\": \"value\"}}},                        {\"responsive\": true}                    ).then(function(){\n",
       "                            \n",
       "var gd = document.getElementById('595514e3-8e33-4cf6-8411-57bdad3fc481');\n",
       "var x = new MutationObserver(function (mutations, observer) {{\n",
       "        var display = window.getComputedStyle(gd).display;\n",
       "        if (!display || display === 'none') {{\n",
       "            console.log([gd, 'removed!']);\n",
       "            Plotly.purge(gd);\n",
       "            observer.disconnect();\n",
       "        }}\n",
       "}});\n",
       "\n",
       "// Listen for the removal of the full notebook cells\n",
       "var notebookContainer = gd.closest('#notebook-container');\n",
       "if (notebookContainer) {{\n",
       "    x.observe(notebookContainer, {childList: true});\n",
       "}}\n",
       "\n",
       "// Listen for the clearing of the current output cell\n",
       "var outputEl = gd.closest('.output');\n",
       "if (outputEl) {{\n",
       "    x.observe(outputEl, {childList: true});\n",
       "}}\n",
       "\n",
       "                        })                };                });            </script>        </div>"
      ]
     },
     "metadata": {},
     "output_type": "display_data"
    }
   ],
   "source": [
    "#Objectif : Visualisation de la repartition des differentes souches au sein des differents echantillons a l'aide d'un barplot\n",
    "\n",
    "matrice=df.groupby(by=\"embranchement\").sum()\n",
    "\n",
    "\n",
    "indexNamesArr = matrice.index.values\n",
    "\n",
    "embranchement = list(indexNamesArr)\n",
    "samples = list(matrice.columns.values)\n",
    "\n",
    "\n",
    "fig = px.bar(matrice, \n",
    "            x=embranchement,\n",
    "            y=samples, \n",
    "             \n",
    "             color_discrete_sequence=px.colors.sequential.Viridis, \n",
    "             title=\"Répartition des differents embranchements\")\n",
    "fig.show()"
   ]
  },
  {
   "cell_type": "code",
   "execution_count": 5,
   "metadata": {},
   "outputs": [
    {
     "data": {
      "application/vnd.plotly.v1+json": {
       "config": {
        "plotlyServerURL": "https://plot.ly"
       },
       "data": [
        {
         "alignmentgroup": "True",
         "hovertemplate": "color=Acidobacteria<br>x=%{x}<br>value=%{y}<extra></extra>",
         "legendgroup": "Acidobacteria",
         "marker": {
          "color": "#636efa"
         },
         "name": "Acidobacteria",
         "notched": false,
         "offsetgroup": "Acidobacteria",
         "orientation": "v",
         "showlegend": true,
         "type": "box",
         "x": [
          "Acidobacteria",
          "Acidobacteria",
          "Acidobacteria",
          "Acidobacteria",
          "Acidobacteria",
          "Acidobacteria",
          "Acidobacteria",
          "Acidobacteria",
          "Acidobacteria",
          "Acidobacteria",
          "Acidobacteria",
          "Acidobacteria",
          "Acidobacteria",
          "Acidobacteria"
         ],
         "x0": " ",
         "xaxis": "x",
         "y": [
          6,
          0,
          3,
          0,
          17,
          13,
          0,
          11,
          19,
          16,
          65,
          23,
          7,
          1
         ],
         "y0": " ",
         "yaxis": "y"
        },
        {
         "alignmentgroup": "True",
         "hovertemplate": "color=Actinobacteria<br>x=%{x}<br>value=%{y}<extra></extra>",
         "legendgroup": "Actinobacteria",
         "marker": {
          "color": "#EF553B"
         },
         "name": "Actinobacteria",
         "notched": false,
         "offsetgroup": "Actinobacteria",
         "orientation": "v",
         "showlegend": true,
         "type": "box",
         "x": [
          "Actinobacteria",
          "Actinobacteria",
          "Actinobacteria",
          "Actinobacteria",
          "Actinobacteria",
          "Actinobacteria",
          "Actinobacteria",
          "Actinobacteria",
          "Actinobacteria",
          "Actinobacteria",
          "Actinobacteria",
          "Actinobacteria",
          "Actinobacteria",
          "Actinobacteria"
         ],
         "x0": " ",
         "xaxis": "x",
         "y": [
          1669,
          1483,
          434,
          2224,
          1382,
          978,
          1665,
          1077,
          1133,
          1013,
          1006,
          1400,
          685,
          1968
         ],
         "y0": " ",
         "yaxis": "y"
        },
        {
         "alignmentgroup": "True",
         "hovertemplate": "color=Armatimonadetes<br>x=%{x}<br>value=%{y}<extra></extra>",
         "legendgroup": "Armatimonadetes",
         "marker": {
          "color": "#00cc96"
         },
         "name": "Armatimonadetes",
         "notched": false,
         "offsetgroup": "Armatimonadetes",
         "orientation": "v",
         "showlegend": true,
         "type": "box",
         "x": [
          "Armatimonadetes",
          "Armatimonadetes",
          "Armatimonadetes",
          "Armatimonadetes",
          "Armatimonadetes",
          "Armatimonadetes",
          "Armatimonadetes",
          "Armatimonadetes",
          "Armatimonadetes",
          "Armatimonadetes",
          "Armatimonadetes",
          "Armatimonadetes",
          "Armatimonadetes",
          "Armatimonadetes"
         ],
         "x0": " ",
         "xaxis": "x",
         "y": [
          0,
          0,
          0,
          0,
          0,
          0,
          5,
          0,
          1,
          0,
          3,
          0,
          2,
          0
         ],
         "y0": " ",
         "yaxis": "y"
        },
        {
         "alignmentgroup": "True",
         "hovertemplate": "color=Bacteroidetes<br>x=%{x}<br>value=%{y}<extra></extra>",
         "legendgroup": "Bacteroidetes",
         "marker": {
          "color": "#ab63fa"
         },
         "name": "Bacteroidetes",
         "notched": false,
         "offsetgroup": "Bacteroidetes",
         "orientation": "v",
         "showlegend": true,
         "type": "box",
         "x": [
          "Bacteroidetes",
          "Bacteroidetes",
          "Bacteroidetes",
          "Bacteroidetes",
          "Bacteroidetes",
          "Bacteroidetes",
          "Bacteroidetes",
          "Bacteroidetes",
          "Bacteroidetes",
          "Bacteroidetes",
          "Bacteroidetes",
          "Bacteroidetes",
          "Bacteroidetes",
          "Bacteroidetes"
         ],
         "x0": " ",
         "xaxis": "x",
         "y": [
          100,
          170,
          54,
          84,
          201,
          333,
          127,
          235,
          267,
          228,
          276,
          120,
          117,
          80
         ],
         "y0": " ",
         "yaxis": "y"
        },
        {
         "alignmentgroup": "True",
         "hovertemplate": "color=Candidatus_Saccharibacteria<br>x=%{x}<br>value=%{y}<extra></extra>",
         "legendgroup": "Candidatus_Saccharibacteria",
         "marker": {
          "color": "#FFA15A"
         },
         "name": "Candidatus_Saccharibacteria",
         "notched": false,
         "offsetgroup": "Candidatus_Saccharibacteria",
         "orientation": "v",
         "showlegend": true,
         "type": "box",
         "x": [
          "Candidatus_Saccharibacteria",
          "Candidatus_Saccharibacteria",
          "Candidatus_Saccharibacteria",
          "Candidatus_Saccharibacteria",
          "Candidatus_Saccharibacteria",
          "Candidatus_Saccharibacteria",
          "Candidatus_Saccharibacteria",
          "Candidatus_Saccharibacteria",
          "Candidatus_Saccharibacteria",
          "Candidatus_Saccharibacteria",
          "Candidatus_Saccharibacteria",
          "Candidatus_Saccharibacteria",
          "Candidatus_Saccharibacteria",
          "Candidatus_Saccharibacteria"
         ],
         "x0": " ",
         "xaxis": "x",
         "y": [
          10,
          0,
          0,
          1,
          12,
          6,
          0,
          0,
          6,
          3,
          40,
          1,
          1,
          0
         ],
         "y0": " ",
         "yaxis": "y"
        },
        {
         "alignmentgroup": "True",
         "hovertemplate": "color=Chloroflexi<br>x=%{x}<br>value=%{y}<extra></extra>",
         "legendgroup": "Chloroflexi",
         "marker": {
          "color": "#19d3f3"
         },
         "name": "Chloroflexi",
         "notched": false,
         "offsetgroup": "Chloroflexi",
         "orientation": "v",
         "showlegend": true,
         "type": "box",
         "x": [
          "Chloroflexi",
          "Chloroflexi",
          "Chloroflexi",
          "Chloroflexi",
          "Chloroflexi",
          "Chloroflexi",
          "Chloroflexi",
          "Chloroflexi",
          "Chloroflexi",
          "Chloroflexi",
          "Chloroflexi",
          "Chloroflexi",
          "Chloroflexi",
          "Chloroflexi"
         ],
         "x0": " ",
         "xaxis": "x",
         "y": [
          0,
          0,
          0,
          0,
          0,
          0,
          0,
          0,
          3,
          0,
          23,
          1,
          0,
          0
         ],
         "y0": " ",
         "yaxis": "y"
        },
        {
         "alignmentgroup": "True",
         "hovertemplate": "color=Deinococcus-Thermus<br>x=%{x}<br>value=%{y}<extra></extra>",
         "legendgroup": "Deinococcus-Thermus",
         "marker": {
          "color": "#FF6692"
         },
         "name": "Deinococcus-Thermus",
         "notched": false,
         "offsetgroup": "Deinococcus-Thermus",
         "orientation": "v",
         "showlegend": true,
         "type": "box",
         "x": [
          "Deinococcus-Thermus",
          "Deinococcus-Thermus",
          "Deinococcus-Thermus",
          "Deinococcus-Thermus",
          "Deinococcus-Thermus",
          "Deinococcus-Thermus",
          "Deinococcus-Thermus",
          "Deinococcus-Thermus",
          "Deinococcus-Thermus",
          "Deinococcus-Thermus",
          "Deinococcus-Thermus",
          "Deinococcus-Thermus",
          "Deinococcus-Thermus",
          "Deinococcus-Thermus"
         ],
         "x0": " ",
         "xaxis": "x",
         "y": [
          10,
          20,
          0,
          12,
          59,
          50,
          0,
          0,
          23,
          28,
          5,
          10,
          2,
          1
         ],
         "y0": " ",
         "yaxis": "y"
        },
        {
         "alignmentgroup": "True",
         "hovertemplate": "color=Firmicutes<br>x=%{x}<br>value=%{y}<extra></extra>",
         "legendgroup": "Firmicutes",
         "marker": {
          "color": "#B6E880"
         },
         "name": "Firmicutes",
         "notched": false,
         "offsetgroup": "Firmicutes",
         "orientation": "v",
         "showlegend": true,
         "type": "box",
         "x": [
          "Firmicutes",
          "Firmicutes",
          "Firmicutes",
          "Firmicutes",
          "Firmicutes",
          "Firmicutes",
          "Firmicutes",
          "Firmicutes",
          "Firmicutes",
          "Firmicutes",
          "Firmicutes",
          "Firmicutes",
          "Firmicutes",
          "Firmicutes"
         ],
         "x0": " ",
         "xaxis": "x",
         "y": [
          686,
          457,
          155,
          440,
          123,
          94,
          378,
          446,
          130,
          131,
          51,
          433,
          363,
          946
         ],
         "y0": " ",
         "yaxis": "y"
        },
        {
         "alignmentgroup": "True",
         "hovertemplate": "color=Fusobacteria<br>x=%{x}<br>value=%{y}<extra></extra>",
         "legendgroup": "Fusobacteria",
         "marker": {
          "color": "#FF97FF"
         },
         "name": "Fusobacteria",
         "notched": false,
         "offsetgroup": "Fusobacteria",
         "orientation": "v",
         "showlegend": true,
         "type": "box",
         "x": [
          "Fusobacteria",
          "Fusobacteria",
          "Fusobacteria",
          "Fusobacteria",
          "Fusobacteria",
          "Fusobacteria",
          "Fusobacteria",
          "Fusobacteria",
          "Fusobacteria",
          "Fusobacteria",
          "Fusobacteria",
          "Fusobacteria",
          "Fusobacteria",
          "Fusobacteria"
         ],
         "x0": " ",
         "xaxis": "x",
         "y": [
          15,
          7,
          8,
          12,
          1,
          2,
          14,
          0,
          3,
          2,
          1,
          9,
          2,
          4
         ],
         "y0": " ",
         "yaxis": "y"
        },
        {
         "alignmentgroup": "True",
         "hovertemplate": "color=Gemmatimonadetes<br>x=%{x}<br>value=%{y}<extra></extra>",
         "legendgroup": "Gemmatimonadetes",
         "marker": {
          "color": "#FECB52"
         },
         "name": "Gemmatimonadetes",
         "notched": false,
         "offsetgroup": "Gemmatimonadetes",
         "orientation": "v",
         "showlegend": true,
         "type": "box",
         "x": [
          "Gemmatimonadetes",
          "Gemmatimonadetes",
          "Gemmatimonadetes",
          "Gemmatimonadetes",
          "Gemmatimonadetes",
          "Gemmatimonadetes",
          "Gemmatimonadetes",
          "Gemmatimonadetes",
          "Gemmatimonadetes",
          "Gemmatimonadetes",
          "Gemmatimonadetes",
          "Gemmatimonadetes",
          "Gemmatimonadetes",
          "Gemmatimonadetes"
         ],
         "x0": " ",
         "xaxis": "x",
         "y": [
          0,
          0,
          1,
          0,
          3,
          1,
          0,
          0,
          0,
          1,
          2,
          0,
          0,
          0
         ],
         "y0": " ",
         "yaxis": "y"
        },
        {
         "alignmentgroup": "True",
         "hovertemplate": "color=Microgenomates<br>x=%{x}<br>value=%{y}<extra></extra>",
         "legendgroup": "Microgenomates",
         "marker": {
          "color": "#636efa"
         },
         "name": "Microgenomates",
         "notched": false,
         "offsetgroup": "Microgenomates",
         "orientation": "v",
         "showlegend": true,
         "type": "box",
         "x": [
          "Microgenomates",
          "Microgenomates",
          "Microgenomates",
          "Microgenomates",
          "Microgenomates",
          "Microgenomates",
          "Microgenomates",
          "Microgenomates",
          "Microgenomates",
          "Microgenomates",
          "Microgenomates",
          "Microgenomates",
          "Microgenomates",
          "Microgenomates"
         ],
         "x0": " ",
         "xaxis": "x",
         "y": [
          0,
          0,
          0,
          0,
          2,
          0,
          0,
          0,
          0,
          0,
          0,
          0,
          0,
          0
         ],
         "y0": " ",
         "yaxis": "y"
        },
        {
         "alignmentgroup": "True",
         "hovertemplate": "color=Parcubacteria<br>x=%{x}<br>value=%{y}<extra></extra>",
         "legendgroup": "Parcubacteria",
         "marker": {
          "color": "#EF553B"
         },
         "name": "Parcubacteria",
         "notched": false,
         "offsetgroup": "Parcubacteria",
         "orientation": "v",
         "showlegend": true,
         "type": "box",
         "x": [
          "Parcubacteria",
          "Parcubacteria",
          "Parcubacteria",
          "Parcubacteria",
          "Parcubacteria",
          "Parcubacteria",
          "Parcubacteria",
          "Parcubacteria",
          "Parcubacteria",
          "Parcubacteria",
          "Parcubacteria",
          "Parcubacteria",
          "Parcubacteria",
          "Parcubacteria"
         ],
         "x0": " ",
         "xaxis": "x",
         "y": [
          0,
          0,
          0,
          0,
          0,
          0,
          0,
          0,
          0,
          1,
          12,
          0,
          0,
          0
         ],
         "y0": " ",
         "yaxis": "y"
        },
        {
         "alignmentgroup": "True",
         "hovertemplate": "color=Planctomycetes<br>x=%{x}<br>value=%{y}<extra></extra>",
         "legendgroup": "Planctomycetes",
         "marker": {
          "color": "#00cc96"
         },
         "name": "Planctomycetes",
         "notched": false,
         "offsetgroup": "Planctomycetes",
         "orientation": "v",
         "showlegend": true,
         "type": "box",
         "x": [
          "Planctomycetes",
          "Planctomycetes",
          "Planctomycetes",
          "Planctomycetes",
          "Planctomycetes",
          "Planctomycetes",
          "Planctomycetes",
          "Planctomycetes",
          "Planctomycetes",
          "Planctomycetes",
          "Planctomycetes",
          "Planctomycetes",
          "Planctomycetes",
          "Planctomycetes"
         ],
         "x0": " ",
         "xaxis": "x",
         "y": [
          0,
          0,
          0,
          0,
          1,
          1,
          3,
          0,
          2,
          1,
          0,
          0,
          0,
          0
         ],
         "y0": " ",
         "yaxis": "y"
        },
        {
         "alignmentgroup": "True",
         "hovertemplate": "color=Proteobacteria<br>x=%{x}<br>value=%{y}<extra></extra>",
         "legendgroup": "Proteobacteria",
         "marker": {
          "color": "#ab63fa"
         },
         "name": "Proteobacteria",
         "notched": false,
         "offsetgroup": "Proteobacteria",
         "orientation": "v",
         "showlegend": true,
         "type": "box",
         "x": [
          "Proteobacteria",
          "Proteobacteria",
          "Proteobacteria",
          "Proteobacteria",
          "Proteobacteria",
          "Proteobacteria",
          "Proteobacteria",
          "Proteobacteria",
          "Proteobacteria",
          "Proteobacteria",
          "Proteobacteria",
          "Proteobacteria",
          "Proteobacteria",
          "Proteobacteria"
         ],
         "x0": " ",
         "xaxis": "x",
         "y": [
          593,
          960,
          2445,
          340,
          1229,
          1555,
          897,
          1272,
          1419,
          1634,
          1133,
          1096,
          1906,
          100
         ],
         "y0": " ",
         "yaxis": "y"
        },
        {
         "alignmentgroup": "True",
         "hovertemplate": "color=Spirochaetes<br>x=%{x}<br>value=%{y}<extra></extra>",
         "legendgroup": "Spirochaetes",
         "marker": {
          "color": "#FFA15A"
         },
         "name": "Spirochaetes",
         "notched": false,
         "offsetgroup": "Spirochaetes",
         "orientation": "v",
         "showlegend": true,
         "type": "box",
         "x": [
          "Spirochaetes",
          "Spirochaetes",
          "Spirochaetes",
          "Spirochaetes",
          "Spirochaetes",
          "Spirochaetes",
          "Spirochaetes",
          "Spirochaetes",
          "Spirochaetes",
          "Spirochaetes",
          "Spirochaetes",
          "Spirochaetes",
          "Spirochaetes",
          "Spirochaetes"
         ],
         "x0": " ",
         "xaxis": "x",
         "y": [
          0,
          0,
          0,
          0,
          0,
          0,
          0,
          0,
          6,
          0,
          0,
          0,
          0,
          0
         ],
         "y0": " ",
         "yaxis": "y"
        },
        {
         "alignmentgroup": "True",
         "hovertemplate": "color=Synergistetes<br>x=%{x}<br>value=%{y}<extra></extra>",
         "legendgroup": "Synergistetes",
         "marker": {
          "color": "#19d3f3"
         },
         "name": "Synergistetes",
         "notched": false,
         "offsetgroup": "Synergistetes",
         "orientation": "v",
         "showlegend": true,
         "type": "box",
         "x": [
          "Synergistetes",
          "Synergistetes",
          "Synergistetes",
          "Synergistetes",
          "Synergistetes",
          "Synergistetes",
          "Synergistetes",
          "Synergistetes",
          "Synergistetes",
          "Synergistetes",
          "Synergistetes",
          "Synergistetes",
          "Synergistetes",
          "Synergistetes"
         ],
         "x0": " ",
         "xaxis": "x",
         "y": [
          0,
          0,
          0,
          0,
          0,
          0,
          0,
          0,
          0,
          0,
          0,
          0,
          2,
          0
         ],
         "y0": " ",
         "yaxis": "y"
        },
        {
         "alignmentgroup": "True",
         "hovertemplate": "color=Verrucomicrobia<br>x=%{x}<br>value=%{y}<extra></extra>",
         "legendgroup": "Verrucomicrobia",
         "marker": {
          "color": "#FF6692"
         },
         "name": "Verrucomicrobia",
         "notched": false,
         "offsetgroup": "Verrucomicrobia",
         "orientation": "v",
         "showlegend": true,
         "type": "box",
         "x": [
          "Verrucomicrobia",
          "Verrucomicrobia",
          "Verrucomicrobia",
          "Verrucomicrobia",
          "Verrucomicrobia",
          "Verrucomicrobia",
          "Verrucomicrobia",
          "Verrucomicrobia",
          "Verrucomicrobia",
          "Verrucomicrobia",
          "Verrucomicrobia",
          "Verrucomicrobia",
          "Verrucomicrobia",
          "Verrucomicrobia"
         ],
         "x0": " ",
         "xaxis": "x",
         "y": [
          0,
          0,
          0,
          0,
          0,
          1,
          0,
          0,
          1,
          1,
          16,
          0,
          0,
          0
         ],
         "y0": " ",
         "yaxis": "y"
        },
        {
         "alignmentgroup": "True",
         "hovertemplate": "color=unclassified<br>x=%{x}<br>value=%{y}<extra></extra>",
         "legendgroup": "unclassified",
         "marker": {
          "color": "#B6E880"
         },
         "name": "unclassified",
         "notched": false,
         "offsetgroup": "unclassified",
         "orientation": "v",
         "showlegend": true,
         "type": "box",
         "x": [
          "unclassified",
          "unclassified",
          "unclassified",
          "unclassified",
          "unclassified",
          "unclassified",
          "unclassified",
          "unclassified",
          "unclassified",
          "unclassified",
          "unclassified",
          "unclassified",
          "unclassified",
          "unclassified"
         ],
         "x0": " ",
         "xaxis": "x",
         "y": [
          30,
          22,
          19,
          6,
          89,
          85,
          30,
          78,
          106,
          60,
          486,
          26,
          32,
          19
         ],
         "y0": " ",
         "yaxis": "y"
        }
       ],
       "layout": {
        "boxmode": "group",
        "legend": {
         "title": {
          "text": "color"
         },
         "tracegroupgap": 0
        },
        "showlegend": false,
        "template": {
         "data": {
          "bar": [
           {
            "error_x": {
             "color": "#2a3f5f"
            },
            "error_y": {
             "color": "#2a3f5f"
            },
            "marker": {
             "line": {
              "color": "#E5ECF6",
              "width": 0.5
             }
            },
            "type": "bar"
           }
          ],
          "barpolar": [
           {
            "marker": {
             "line": {
              "color": "#E5ECF6",
              "width": 0.5
             }
            },
            "type": "barpolar"
           }
          ],
          "carpet": [
           {
            "aaxis": {
             "endlinecolor": "#2a3f5f",
             "gridcolor": "white",
             "linecolor": "white",
             "minorgridcolor": "white",
             "startlinecolor": "#2a3f5f"
            },
            "baxis": {
             "endlinecolor": "#2a3f5f",
             "gridcolor": "white",
             "linecolor": "white",
             "minorgridcolor": "white",
             "startlinecolor": "#2a3f5f"
            },
            "type": "carpet"
           }
          ],
          "choropleth": [
           {
            "colorbar": {
             "outlinewidth": 0,
             "ticks": ""
            },
            "type": "choropleth"
           }
          ],
          "contour": [
           {
            "colorbar": {
             "outlinewidth": 0,
             "ticks": ""
            },
            "colorscale": [
             [
              0,
              "#0d0887"
             ],
             [
              0.1111111111111111,
              "#46039f"
             ],
             [
              0.2222222222222222,
              "#7201a8"
             ],
             [
              0.3333333333333333,
              "#9c179e"
             ],
             [
              0.4444444444444444,
              "#bd3786"
             ],
             [
              0.5555555555555556,
              "#d8576b"
             ],
             [
              0.6666666666666666,
              "#ed7953"
             ],
             [
              0.7777777777777778,
              "#fb9f3a"
             ],
             [
              0.8888888888888888,
              "#fdca26"
             ],
             [
              1,
              "#f0f921"
             ]
            ],
            "type": "contour"
           }
          ],
          "contourcarpet": [
           {
            "colorbar": {
             "outlinewidth": 0,
             "ticks": ""
            },
            "type": "contourcarpet"
           }
          ],
          "heatmap": [
           {
            "colorbar": {
             "outlinewidth": 0,
             "ticks": ""
            },
            "colorscale": [
             [
              0,
              "#0d0887"
             ],
             [
              0.1111111111111111,
              "#46039f"
             ],
             [
              0.2222222222222222,
              "#7201a8"
             ],
             [
              0.3333333333333333,
              "#9c179e"
             ],
             [
              0.4444444444444444,
              "#bd3786"
             ],
             [
              0.5555555555555556,
              "#d8576b"
             ],
             [
              0.6666666666666666,
              "#ed7953"
             ],
             [
              0.7777777777777778,
              "#fb9f3a"
             ],
             [
              0.8888888888888888,
              "#fdca26"
             ],
             [
              1,
              "#f0f921"
             ]
            ],
            "type": "heatmap"
           }
          ],
          "heatmapgl": [
           {
            "colorbar": {
             "outlinewidth": 0,
             "ticks": ""
            },
            "colorscale": [
             [
              0,
              "#0d0887"
             ],
             [
              0.1111111111111111,
              "#46039f"
             ],
             [
              0.2222222222222222,
              "#7201a8"
             ],
             [
              0.3333333333333333,
              "#9c179e"
             ],
             [
              0.4444444444444444,
              "#bd3786"
             ],
             [
              0.5555555555555556,
              "#d8576b"
             ],
             [
              0.6666666666666666,
              "#ed7953"
             ],
             [
              0.7777777777777778,
              "#fb9f3a"
             ],
             [
              0.8888888888888888,
              "#fdca26"
             ],
             [
              1,
              "#f0f921"
             ]
            ],
            "type": "heatmapgl"
           }
          ],
          "histogram": [
           {
            "marker": {
             "colorbar": {
              "outlinewidth": 0,
              "ticks": ""
             }
            },
            "type": "histogram"
           }
          ],
          "histogram2d": [
           {
            "colorbar": {
             "outlinewidth": 0,
             "ticks": ""
            },
            "colorscale": [
             [
              0,
              "#0d0887"
             ],
             [
              0.1111111111111111,
              "#46039f"
             ],
             [
              0.2222222222222222,
              "#7201a8"
             ],
             [
              0.3333333333333333,
              "#9c179e"
             ],
             [
              0.4444444444444444,
              "#bd3786"
             ],
             [
              0.5555555555555556,
              "#d8576b"
             ],
             [
              0.6666666666666666,
              "#ed7953"
             ],
             [
              0.7777777777777778,
              "#fb9f3a"
             ],
             [
              0.8888888888888888,
              "#fdca26"
             ],
             [
              1,
              "#f0f921"
             ]
            ],
            "type": "histogram2d"
           }
          ],
          "histogram2dcontour": [
           {
            "colorbar": {
             "outlinewidth": 0,
             "ticks": ""
            },
            "colorscale": [
             [
              0,
              "#0d0887"
             ],
             [
              0.1111111111111111,
              "#46039f"
             ],
             [
              0.2222222222222222,
              "#7201a8"
             ],
             [
              0.3333333333333333,
              "#9c179e"
             ],
             [
              0.4444444444444444,
              "#bd3786"
             ],
             [
              0.5555555555555556,
              "#d8576b"
             ],
             [
              0.6666666666666666,
              "#ed7953"
             ],
             [
              0.7777777777777778,
              "#fb9f3a"
             ],
             [
              0.8888888888888888,
              "#fdca26"
             ],
             [
              1,
              "#f0f921"
             ]
            ],
            "type": "histogram2dcontour"
           }
          ],
          "mesh3d": [
           {
            "colorbar": {
             "outlinewidth": 0,
             "ticks": ""
            },
            "type": "mesh3d"
           }
          ],
          "parcoords": [
           {
            "line": {
             "colorbar": {
              "outlinewidth": 0,
              "ticks": ""
             }
            },
            "type": "parcoords"
           }
          ],
          "pie": [
           {
            "automargin": true,
            "type": "pie"
           }
          ],
          "scatter": [
           {
            "marker": {
             "colorbar": {
              "outlinewidth": 0,
              "ticks": ""
             }
            },
            "type": "scatter"
           }
          ],
          "scatter3d": [
           {
            "line": {
             "colorbar": {
              "outlinewidth": 0,
              "ticks": ""
             }
            },
            "marker": {
             "colorbar": {
              "outlinewidth": 0,
              "ticks": ""
             }
            },
            "type": "scatter3d"
           }
          ],
          "scattercarpet": [
           {
            "marker": {
             "colorbar": {
              "outlinewidth": 0,
              "ticks": ""
             }
            },
            "type": "scattercarpet"
           }
          ],
          "scattergeo": [
           {
            "marker": {
             "colorbar": {
              "outlinewidth": 0,
              "ticks": ""
             }
            },
            "type": "scattergeo"
           }
          ],
          "scattergl": [
           {
            "marker": {
             "colorbar": {
              "outlinewidth": 0,
              "ticks": ""
             }
            },
            "type": "scattergl"
           }
          ],
          "scattermapbox": [
           {
            "marker": {
             "colorbar": {
              "outlinewidth": 0,
              "ticks": ""
             }
            },
            "type": "scattermapbox"
           }
          ],
          "scatterpolar": [
           {
            "marker": {
             "colorbar": {
              "outlinewidth": 0,
              "ticks": ""
             }
            },
            "type": "scatterpolar"
           }
          ],
          "scatterpolargl": [
           {
            "marker": {
             "colorbar": {
              "outlinewidth": 0,
              "ticks": ""
             }
            },
            "type": "scatterpolargl"
           }
          ],
          "scatterternary": [
           {
            "marker": {
             "colorbar": {
              "outlinewidth": 0,
              "ticks": ""
             }
            },
            "type": "scatterternary"
           }
          ],
          "surface": [
           {
            "colorbar": {
             "outlinewidth": 0,
             "ticks": ""
            },
            "colorscale": [
             [
              0,
              "#0d0887"
             ],
             [
              0.1111111111111111,
              "#46039f"
             ],
             [
              0.2222222222222222,
              "#7201a8"
             ],
             [
              0.3333333333333333,
              "#9c179e"
             ],
             [
              0.4444444444444444,
              "#bd3786"
             ],
             [
              0.5555555555555556,
              "#d8576b"
             ],
             [
              0.6666666666666666,
              "#ed7953"
             ],
             [
              0.7777777777777778,
              "#fb9f3a"
             ],
             [
              0.8888888888888888,
              "#fdca26"
             ],
             [
              1,
              "#f0f921"
             ]
            ],
            "type": "surface"
           }
          ],
          "table": [
           {
            "cells": {
             "fill": {
              "color": "#EBF0F8"
             },
             "line": {
              "color": "white"
             }
            },
            "header": {
             "fill": {
              "color": "#C8D4E3"
             },
             "line": {
              "color": "white"
             }
            },
            "type": "table"
           }
          ]
         },
         "layout": {
          "annotationdefaults": {
           "arrowcolor": "#2a3f5f",
           "arrowhead": 0,
           "arrowwidth": 1
          },
          "coloraxis": {
           "colorbar": {
            "outlinewidth": 0,
            "ticks": ""
           }
          },
          "colorscale": {
           "diverging": [
            [
             0,
             "#8e0152"
            ],
            [
             0.1,
             "#c51b7d"
            ],
            [
             0.2,
             "#de77ae"
            ],
            [
             0.3,
             "#f1b6da"
            ],
            [
             0.4,
             "#fde0ef"
            ],
            [
             0.5,
             "#f7f7f7"
            ],
            [
             0.6,
             "#e6f5d0"
            ],
            [
             0.7,
             "#b8e186"
            ],
            [
             0.8,
             "#7fbc41"
            ],
            [
             0.9,
             "#4d9221"
            ],
            [
             1,
             "#276419"
            ]
           ],
           "sequential": [
            [
             0,
             "#0d0887"
            ],
            [
             0.1111111111111111,
             "#46039f"
            ],
            [
             0.2222222222222222,
             "#7201a8"
            ],
            [
             0.3333333333333333,
             "#9c179e"
            ],
            [
             0.4444444444444444,
             "#bd3786"
            ],
            [
             0.5555555555555556,
             "#d8576b"
            ],
            [
             0.6666666666666666,
             "#ed7953"
            ],
            [
             0.7777777777777778,
             "#fb9f3a"
            ],
            [
             0.8888888888888888,
             "#fdca26"
            ],
            [
             1,
             "#f0f921"
            ]
           ],
           "sequentialminus": [
            [
             0,
             "#0d0887"
            ],
            [
             0.1111111111111111,
             "#46039f"
            ],
            [
             0.2222222222222222,
             "#7201a8"
            ],
            [
             0.3333333333333333,
             "#9c179e"
            ],
            [
             0.4444444444444444,
             "#bd3786"
            ],
            [
             0.5555555555555556,
             "#d8576b"
            ],
            [
             0.6666666666666666,
             "#ed7953"
            ],
            [
             0.7777777777777778,
             "#fb9f3a"
            ],
            [
             0.8888888888888888,
             "#fdca26"
            ],
            [
             1,
             "#f0f921"
            ]
           ]
          },
          "colorway": [
           "#636efa",
           "#EF553B",
           "#00cc96",
           "#ab63fa",
           "#FFA15A",
           "#19d3f3",
           "#FF6692",
           "#B6E880",
           "#FF97FF",
           "#FECB52"
          ],
          "font": {
           "color": "#2a3f5f"
          },
          "geo": {
           "bgcolor": "white",
           "lakecolor": "white",
           "landcolor": "#E5ECF6",
           "showlakes": true,
           "showland": true,
           "subunitcolor": "white"
          },
          "hoverlabel": {
           "align": "left"
          },
          "hovermode": "closest",
          "mapbox": {
           "style": "light"
          },
          "paper_bgcolor": "white",
          "plot_bgcolor": "#E5ECF6",
          "polar": {
           "angularaxis": {
            "gridcolor": "white",
            "linecolor": "white",
            "ticks": ""
           },
           "bgcolor": "#E5ECF6",
           "radialaxis": {
            "gridcolor": "white",
            "linecolor": "white",
            "ticks": ""
           }
          },
          "scene": {
           "xaxis": {
            "backgroundcolor": "#E5ECF6",
            "gridcolor": "white",
            "gridwidth": 2,
            "linecolor": "white",
            "showbackground": true,
            "ticks": "",
            "zerolinecolor": "white"
           },
           "yaxis": {
            "backgroundcolor": "#E5ECF6",
            "gridcolor": "white",
            "gridwidth": 2,
            "linecolor": "white",
            "showbackground": true,
            "ticks": "",
            "zerolinecolor": "white"
           },
           "zaxis": {
            "backgroundcolor": "#E5ECF6",
            "gridcolor": "white",
            "gridwidth": 2,
            "linecolor": "white",
            "showbackground": true,
            "ticks": "",
            "zerolinecolor": "white"
           }
          },
          "shapedefaults": {
           "line": {
            "color": "#2a3f5f"
           }
          },
          "ternary": {
           "aaxis": {
            "gridcolor": "white",
            "linecolor": "white",
            "ticks": ""
           },
           "baxis": {
            "gridcolor": "white",
            "linecolor": "white",
            "ticks": ""
           },
           "bgcolor": "#E5ECF6",
           "caxis": {
            "gridcolor": "white",
            "linecolor": "white",
            "ticks": ""
           }
          },
          "title": {
           "x": 0.05
          },
          "xaxis": {
           "automargin": true,
           "gridcolor": "white",
           "linecolor": "white",
           "ticks": "",
           "title": {
            "standoff": 15
           },
           "zerolinecolor": "white",
           "zerolinewidth": 2
          },
          "yaxis": {
           "automargin": true,
           "gridcolor": "white",
           "linecolor": "white",
           "ticks": "",
           "title": {
            "standoff": 15
           },
           "zerolinecolor": "white",
           "zerolinewidth": 2
          }
         }
        },
        "title": {
         "text": "Variance des differents regnes"
        },
        "xaxis": {
         "anchor": "y",
         "domain": [
          0,
          1
         ],
         "title": {
          "text": "x"
         }
        },
        "yaxis": {
         "anchor": "x",
         "domain": [
          0,
          1
         ],
         "title": {
          "text": "value"
         }
        }
       }
      },
      "text/html": [
       "<div>                            <div id=\"69fff43e-d2b9-4c7d-a776-9536a227bb24\" class=\"plotly-graph-div\" style=\"height:525px; width:100%;\"></div>            <script type=\"text/javascript\">                require([\"plotly\"], function(Plotly) {                    window.PLOTLYENV=window.PLOTLYENV || {};                                    if (document.getElementById(\"69fff43e-d2b9-4c7d-a776-9536a227bb24\")) {                    Plotly.newPlot(                        \"69fff43e-d2b9-4c7d-a776-9536a227bb24\",                        [{\"alignmentgroup\": \"True\", \"hovertemplate\": \"color=Acidobacteria<br>x=%{x}<br>value=%{y}<extra></extra>\", \"legendgroup\": \"Acidobacteria\", \"marker\": {\"color\": \"#636efa\"}, \"name\": \"Acidobacteria\", \"notched\": false, \"offsetgroup\": \"Acidobacteria\", \"orientation\": \"v\", \"showlegend\": true, \"type\": \"box\", \"x\": [\"Acidobacteria\", \"Acidobacteria\", \"Acidobacteria\", \"Acidobacteria\", \"Acidobacteria\", \"Acidobacteria\", \"Acidobacteria\", \"Acidobacteria\", \"Acidobacteria\", \"Acidobacteria\", \"Acidobacteria\", \"Acidobacteria\", \"Acidobacteria\", \"Acidobacteria\"], \"x0\": \" \", \"xaxis\": \"x\", \"y\": [6, 0, 3, 0, 17, 13, 0, 11, 19, 16, 65, 23, 7, 1], \"y0\": \" \", \"yaxis\": \"y\"}, {\"alignmentgroup\": \"True\", \"hovertemplate\": \"color=Actinobacteria<br>x=%{x}<br>value=%{y}<extra></extra>\", \"legendgroup\": \"Actinobacteria\", \"marker\": {\"color\": \"#EF553B\"}, \"name\": \"Actinobacteria\", \"notched\": false, \"offsetgroup\": \"Actinobacteria\", \"orientation\": \"v\", \"showlegend\": true, \"type\": \"box\", \"x\": [\"Actinobacteria\", \"Actinobacteria\", \"Actinobacteria\", \"Actinobacteria\", \"Actinobacteria\", \"Actinobacteria\", \"Actinobacteria\", \"Actinobacteria\", \"Actinobacteria\", \"Actinobacteria\", \"Actinobacteria\", \"Actinobacteria\", \"Actinobacteria\", \"Actinobacteria\"], \"x0\": \" \", \"xaxis\": \"x\", \"y\": [1669, 1483, 434, 2224, 1382, 978, 1665, 1077, 1133, 1013, 1006, 1400, 685, 1968], \"y0\": \" \", \"yaxis\": \"y\"}, {\"alignmentgroup\": \"True\", \"hovertemplate\": \"color=Armatimonadetes<br>x=%{x}<br>value=%{y}<extra></extra>\", \"legendgroup\": \"Armatimonadetes\", \"marker\": {\"color\": \"#00cc96\"}, \"name\": \"Armatimonadetes\", \"notched\": false, \"offsetgroup\": \"Armatimonadetes\", \"orientation\": \"v\", \"showlegend\": true, \"type\": \"box\", \"x\": [\"Armatimonadetes\", \"Armatimonadetes\", \"Armatimonadetes\", \"Armatimonadetes\", \"Armatimonadetes\", \"Armatimonadetes\", \"Armatimonadetes\", \"Armatimonadetes\", \"Armatimonadetes\", \"Armatimonadetes\", \"Armatimonadetes\", \"Armatimonadetes\", \"Armatimonadetes\", \"Armatimonadetes\"], \"x0\": \" \", \"xaxis\": \"x\", \"y\": [0, 0, 0, 0, 0, 0, 5, 0, 1, 0, 3, 0, 2, 0], \"y0\": \" \", \"yaxis\": \"y\"}, {\"alignmentgroup\": \"True\", \"hovertemplate\": \"color=Bacteroidetes<br>x=%{x}<br>value=%{y}<extra></extra>\", \"legendgroup\": \"Bacteroidetes\", \"marker\": {\"color\": \"#ab63fa\"}, \"name\": \"Bacteroidetes\", \"notched\": false, \"offsetgroup\": \"Bacteroidetes\", \"orientation\": \"v\", \"showlegend\": true, \"type\": \"box\", \"x\": [\"Bacteroidetes\", \"Bacteroidetes\", \"Bacteroidetes\", \"Bacteroidetes\", \"Bacteroidetes\", \"Bacteroidetes\", \"Bacteroidetes\", \"Bacteroidetes\", \"Bacteroidetes\", \"Bacteroidetes\", \"Bacteroidetes\", \"Bacteroidetes\", \"Bacteroidetes\", \"Bacteroidetes\"], \"x0\": \" \", \"xaxis\": \"x\", \"y\": [100, 170, 54, 84, 201, 333, 127, 235, 267, 228, 276, 120, 117, 80], \"y0\": \" \", \"yaxis\": \"y\"}, {\"alignmentgroup\": \"True\", \"hovertemplate\": \"color=Candidatus_Saccharibacteria<br>x=%{x}<br>value=%{y}<extra></extra>\", \"legendgroup\": \"Candidatus_Saccharibacteria\", \"marker\": {\"color\": \"#FFA15A\"}, \"name\": \"Candidatus_Saccharibacteria\", \"notched\": false, \"offsetgroup\": \"Candidatus_Saccharibacteria\", \"orientation\": \"v\", \"showlegend\": true, \"type\": \"box\", \"x\": [\"Candidatus_Saccharibacteria\", \"Candidatus_Saccharibacteria\", \"Candidatus_Saccharibacteria\", \"Candidatus_Saccharibacteria\", \"Candidatus_Saccharibacteria\", \"Candidatus_Saccharibacteria\", \"Candidatus_Saccharibacteria\", \"Candidatus_Saccharibacteria\", \"Candidatus_Saccharibacteria\", \"Candidatus_Saccharibacteria\", \"Candidatus_Saccharibacteria\", \"Candidatus_Saccharibacteria\", \"Candidatus_Saccharibacteria\", \"Candidatus_Saccharibacteria\"], \"x0\": \" \", \"xaxis\": \"x\", \"y\": [10, 0, 0, 1, 12, 6, 0, 0, 6, 3, 40, 1, 1, 0], \"y0\": \" \", \"yaxis\": \"y\"}, {\"alignmentgroup\": \"True\", \"hovertemplate\": \"color=Chloroflexi<br>x=%{x}<br>value=%{y}<extra></extra>\", \"legendgroup\": \"Chloroflexi\", \"marker\": {\"color\": \"#19d3f3\"}, \"name\": \"Chloroflexi\", \"notched\": false, \"offsetgroup\": \"Chloroflexi\", \"orientation\": \"v\", \"showlegend\": true, \"type\": \"box\", \"x\": [\"Chloroflexi\", \"Chloroflexi\", \"Chloroflexi\", \"Chloroflexi\", \"Chloroflexi\", \"Chloroflexi\", \"Chloroflexi\", \"Chloroflexi\", \"Chloroflexi\", \"Chloroflexi\", \"Chloroflexi\", \"Chloroflexi\", \"Chloroflexi\", \"Chloroflexi\"], \"x0\": \" \", \"xaxis\": \"x\", \"y\": [0, 0, 0, 0, 0, 0, 0, 0, 3, 0, 23, 1, 0, 0], \"y0\": \" \", \"yaxis\": \"y\"}, {\"alignmentgroup\": \"True\", \"hovertemplate\": \"color=Deinococcus-Thermus<br>x=%{x}<br>value=%{y}<extra></extra>\", \"legendgroup\": \"Deinococcus-Thermus\", \"marker\": {\"color\": \"#FF6692\"}, \"name\": \"Deinococcus-Thermus\", \"notched\": false, \"offsetgroup\": \"Deinococcus-Thermus\", \"orientation\": \"v\", \"showlegend\": true, \"type\": \"box\", \"x\": [\"Deinococcus-Thermus\", \"Deinococcus-Thermus\", \"Deinococcus-Thermus\", \"Deinococcus-Thermus\", \"Deinococcus-Thermus\", \"Deinococcus-Thermus\", \"Deinococcus-Thermus\", \"Deinococcus-Thermus\", \"Deinococcus-Thermus\", \"Deinococcus-Thermus\", \"Deinococcus-Thermus\", \"Deinococcus-Thermus\", \"Deinococcus-Thermus\", \"Deinococcus-Thermus\"], \"x0\": \" \", \"xaxis\": \"x\", \"y\": [10, 20, 0, 12, 59, 50, 0, 0, 23, 28, 5, 10, 2, 1], \"y0\": \" \", \"yaxis\": \"y\"}, {\"alignmentgroup\": \"True\", \"hovertemplate\": \"color=Firmicutes<br>x=%{x}<br>value=%{y}<extra></extra>\", \"legendgroup\": \"Firmicutes\", \"marker\": {\"color\": \"#B6E880\"}, \"name\": \"Firmicutes\", \"notched\": false, \"offsetgroup\": \"Firmicutes\", \"orientation\": \"v\", \"showlegend\": true, \"type\": \"box\", \"x\": [\"Firmicutes\", \"Firmicutes\", \"Firmicutes\", \"Firmicutes\", \"Firmicutes\", \"Firmicutes\", \"Firmicutes\", \"Firmicutes\", \"Firmicutes\", \"Firmicutes\", \"Firmicutes\", \"Firmicutes\", \"Firmicutes\", \"Firmicutes\"], \"x0\": \" \", \"xaxis\": \"x\", \"y\": [686, 457, 155, 440, 123, 94, 378, 446, 130, 131, 51, 433, 363, 946], \"y0\": \" \", \"yaxis\": \"y\"}, {\"alignmentgroup\": \"True\", \"hovertemplate\": \"color=Fusobacteria<br>x=%{x}<br>value=%{y}<extra></extra>\", \"legendgroup\": \"Fusobacteria\", \"marker\": {\"color\": \"#FF97FF\"}, \"name\": \"Fusobacteria\", \"notched\": false, \"offsetgroup\": \"Fusobacteria\", \"orientation\": \"v\", \"showlegend\": true, \"type\": \"box\", \"x\": [\"Fusobacteria\", \"Fusobacteria\", \"Fusobacteria\", \"Fusobacteria\", \"Fusobacteria\", \"Fusobacteria\", \"Fusobacteria\", \"Fusobacteria\", \"Fusobacteria\", \"Fusobacteria\", \"Fusobacteria\", \"Fusobacteria\", \"Fusobacteria\", \"Fusobacteria\"], \"x0\": \" \", \"xaxis\": \"x\", \"y\": [15, 7, 8, 12, 1, 2, 14, 0, 3, 2, 1, 9, 2, 4], \"y0\": \" \", \"yaxis\": \"y\"}, {\"alignmentgroup\": \"True\", \"hovertemplate\": \"color=Gemmatimonadetes<br>x=%{x}<br>value=%{y}<extra></extra>\", \"legendgroup\": \"Gemmatimonadetes\", \"marker\": {\"color\": \"#FECB52\"}, \"name\": \"Gemmatimonadetes\", \"notched\": false, \"offsetgroup\": \"Gemmatimonadetes\", \"orientation\": \"v\", \"showlegend\": true, \"type\": \"box\", \"x\": [\"Gemmatimonadetes\", \"Gemmatimonadetes\", \"Gemmatimonadetes\", \"Gemmatimonadetes\", \"Gemmatimonadetes\", \"Gemmatimonadetes\", \"Gemmatimonadetes\", \"Gemmatimonadetes\", \"Gemmatimonadetes\", \"Gemmatimonadetes\", \"Gemmatimonadetes\", \"Gemmatimonadetes\", \"Gemmatimonadetes\", \"Gemmatimonadetes\"], \"x0\": \" \", \"xaxis\": \"x\", \"y\": [0, 0, 1, 0, 3, 1, 0, 0, 0, 1, 2, 0, 0, 0], \"y0\": \" \", \"yaxis\": \"y\"}, {\"alignmentgroup\": \"True\", \"hovertemplate\": \"color=Microgenomates<br>x=%{x}<br>value=%{y}<extra></extra>\", \"legendgroup\": \"Microgenomates\", \"marker\": {\"color\": \"#636efa\"}, \"name\": \"Microgenomates\", \"notched\": false, \"offsetgroup\": \"Microgenomates\", \"orientation\": \"v\", \"showlegend\": true, \"type\": \"box\", \"x\": [\"Microgenomates\", \"Microgenomates\", \"Microgenomates\", \"Microgenomates\", \"Microgenomates\", \"Microgenomates\", \"Microgenomates\", \"Microgenomates\", \"Microgenomates\", \"Microgenomates\", \"Microgenomates\", \"Microgenomates\", \"Microgenomates\", \"Microgenomates\"], \"x0\": \" \", \"xaxis\": \"x\", \"y\": [0, 0, 0, 0, 2, 0, 0, 0, 0, 0, 0, 0, 0, 0], \"y0\": \" \", \"yaxis\": \"y\"}, {\"alignmentgroup\": \"True\", \"hovertemplate\": \"color=Parcubacteria<br>x=%{x}<br>value=%{y}<extra></extra>\", \"legendgroup\": \"Parcubacteria\", \"marker\": {\"color\": \"#EF553B\"}, \"name\": \"Parcubacteria\", \"notched\": false, \"offsetgroup\": \"Parcubacteria\", \"orientation\": \"v\", \"showlegend\": true, \"type\": \"box\", \"x\": [\"Parcubacteria\", \"Parcubacteria\", \"Parcubacteria\", \"Parcubacteria\", \"Parcubacteria\", \"Parcubacteria\", \"Parcubacteria\", \"Parcubacteria\", \"Parcubacteria\", \"Parcubacteria\", \"Parcubacteria\", \"Parcubacteria\", \"Parcubacteria\", \"Parcubacteria\"], \"x0\": \" \", \"xaxis\": \"x\", \"y\": [0, 0, 0, 0, 0, 0, 0, 0, 0, 1, 12, 0, 0, 0], \"y0\": \" \", \"yaxis\": \"y\"}, {\"alignmentgroup\": \"True\", \"hovertemplate\": \"color=Planctomycetes<br>x=%{x}<br>value=%{y}<extra></extra>\", \"legendgroup\": \"Planctomycetes\", \"marker\": {\"color\": \"#00cc96\"}, \"name\": \"Planctomycetes\", \"notched\": false, \"offsetgroup\": \"Planctomycetes\", \"orientation\": \"v\", \"showlegend\": true, \"type\": \"box\", \"x\": [\"Planctomycetes\", \"Planctomycetes\", \"Planctomycetes\", \"Planctomycetes\", \"Planctomycetes\", \"Planctomycetes\", \"Planctomycetes\", \"Planctomycetes\", \"Planctomycetes\", \"Planctomycetes\", \"Planctomycetes\", \"Planctomycetes\", \"Planctomycetes\", \"Planctomycetes\"], \"x0\": \" \", \"xaxis\": \"x\", \"y\": [0, 0, 0, 0, 1, 1, 3, 0, 2, 1, 0, 0, 0, 0], \"y0\": \" \", \"yaxis\": \"y\"}, {\"alignmentgroup\": \"True\", \"hovertemplate\": \"color=Proteobacteria<br>x=%{x}<br>value=%{y}<extra></extra>\", \"legendgroup\": \"Proteobacteria\", \"marker\": {\"color\": \"#ab63fa\"}, \"name\": \"Proteobacteria\", \"notched\": false, \"offsetgroup\": \"Proteobacteria\", \"orientation\": \"v\", \"showlegend\": true, \"type\": \"box\", \"x\": [\"Proteobacteria\", \"Proteobacteria\", \"Proteobacteria\", \"Proteobacteria\", \"Proteobacteria\", \"Proteobacteria\", \"Proteobacteria\", \"Proteobacteria\", \"Proteobacteria\", \"Proteobacteria\", \"Proteobacteria\", \"Proteobacteria\", \"Proteobacteria\", \"Proteobacteria\"], \"x0\": \" \", \"xaxis\": \"x\", \"y\": [593, 960, 2445, 340, 1229, 1555, 897, 1272, 1419, 1634, 1133, 1096, 1906, 100], \"y0\": \" \", \"yaxis\": \"y\"}, {\"alignmentgroup\": \"True\", \"hovertemplate\": \"color=Spirochaetes<br>x=%{x}<br>value=%{y}<extra></extra>\", \"legendgroup\": \"Spirochaetes\", \"marker\": {\"color\": \"#FFA15A\"}, \"name\": \"Spirochaetes\", \"notched\": false, \"offsetgroup\": \"Spirochaetes\", \"orientation\": \"v\", \"showlegend\": true, \"type\": \"box\", \"x\": [\"Spirochaetes\", \"Spirochaetes\", \"Spirochaetes\", \"Spirochaetes\", \"Spirochaetes\", \"Spirochaetes\", \"Spirochaetes\", \"Spirochaetes\", \"Spirochaetes\", \"Spirochaetes\", \"Spirochaetes\", \"Spirochaetes\", \"Spirochaetes\", \"Spirochaetes\"], \"x0\": \" \", \"xaxis\": \"x\", \"y\": [0, 0, 0, 0, 0, 0, 0, 0, 6, 0, 0, 0, 0, 0], \"y0\": \" \", \"yaxis\": \"y\"}, {\"alignmentgroup\": \"True\", \"hovertemplate\": \"color=Synergistetes<br>x=%{x}<br>value=%{y}<extra></extra>\", \"legendgroup\": \"Synergistetes\", \"marker\": {\"color\": \"#19d3f3\"}, \"name\": \"Synergistetes\", \"notched\": false, \"offsetgroup\": \"Synergistetes\", \"orientation\": \"v\", \"showlegend\": true, \"type\": \"box\", \"x\": [\"Synergistetes\", \"Synergistetes\", \"Synergistetes\", \"Synergistetes\", \"Synergistetes\", \"Synergistetes\", \"Synergistetes\", \"Synergistetes\", \"Synergistetes\", \"Synergistetes\", \"Synergistetes\", \"Synergistetes\", \"Synergistetes\", \"Synergistetes\"], \"x0\": \" \", \"xaxis\": \"x\", \"y\": [0, 0, 0, 0, 0, 0, 0, 0, 0, 0, 0, 0, 2, 0], \"y0\": \" \", \"yaxis\": \"y\"}, {\"alignmentgroup\": \"True\", \"hovertemplate\": \"color=Verrucomicrobia<br>x=%{x}<br>value=%{y}<extra></extra>\", \"legendgroup\": \"Verrucomicrobia\", \"marker\": {\"color\": \"#FF6692\"}, \"name\": \"Verrucomicrobia\", \"notched\": false, \"offsetgroup\": \"Verrucomicrobia\", \"orientation\": \"v\", \"showlegend\": true, \"type\": \"box\", \"x\": [\"Verrucomicrobia\", \"Verrucomicrobia\", \"Verrucomicrobia\", \"Verrucomicrobia\", \"Verrucomicrobia\", \"Verrucomicrobia\", \"Verrucomicrobia\", \"Verrucomicrobia\", \"Verrucomicrobia\", \"Verrucomicrobia\", \"Verrucomicrobia\", \"Verrucomicrobia\", \"Verrucomicrobia\", \"Verrucomicrobia\"], \"x0\": \" \", \"xaxis\": \"x\", \"y\": [0, 0, 0, 0, 0, 1, 0, 0, 1, 1, 16, 0, 0, 0], \"y0\": \" \", \"yaxis\": \"y\"}, {\"alignmentgroup\": \"True\", \"hovertemplate\": \"color=unclassified<br>x=%{x}<br>value=%{y}<extra></extra>\", \"legendgroup\": \"unclassified\", \"marker\": {\"color\": \"#B6E880\"}, \"name\": \"unclassified\", \"notched\": false, \"offsetgroup\": \"unclassified\", \"orientation\": \"v\", \"showlegend\": true, \"type\": \"box\", \"x\": [\"unclassified\", \"unclassified\", \"unclassified\", \"unclassified\", \"unclassified\", \"unclassified\", \"unclassified\", \"unclassified\", \"unclassified\", \"unclassified\", \"unclassified\", \"unclassified\", \"unclassified\", \"unclassified\"], \"x0\": \" \", \"xaxis\": \"x\", \"y\": [30, 22, 19, 6, 89, 85, 30, 78, 106, 60, 486, 26, 32, 19], \"y0\": \" \", \"yaxis\": \"y\"}],                        {\"boxmode\": \"group\", \"legend\": {\"title\": {\"text\": \"color\"}, \"tracegroupgap\": 0}, \"showlegend\": false, \"template\": {\"data\": {\"bar\": [{\"error_x\": {\"color\": \"#2a3f5f\"}, \"error_y\": {\"color\": \"#2a3f5f\"}, \"marker\": {\"line\": {\"color\": \"#E5ECF6\", \"width\": 0.5}}, \"type\": \"bar\"}], \"barpolar\": [{\"marker\": {\"line\": {\"color\": \"#E5ECF6\", \"width\": 0.5}}, \"type\": \"barpolar\"}], \"carpet\": [{\"aaxis\": {\"endlinecolor\": \"#2a3f5f\", \"gridcolor\": \"white\", \"linecolor\": \"white\", \"minorgridcolor\": \"white\", \"startlinecolor\": \"#2a3f5f\"}, \"baxis\": {\"endlinecolor\": \"#2a3f5f\", \"gridcolor\": \"white\", \"linecolor\": \"white\", \"minorgridcolor\": \"white\", \"startlinecolor\": \"#2a3f5f\"}, \"type\": \"carpet\"}], \"choropleth\": [{\"colorbar\": {\"outlinewidth\": 0, \"ticks\": \"\"}, \"type\": \"choropleth\"}], \"contour\": [{\"colorbar\": {\"outlinewidth\": 0, \"ticks\": \"\"}, \"colorscale\": [[0.0, \"#0d0887\"], [0.1111111111111111, \"#46039f\"], [0.2222222222222222, \"#7201a8\"], [0.3333333333333333, \"#9c179e\"], [0.4444444444444444, \"#bd3786\"], [0.5555555555555556, \"#d8576b\"], [0.6666666666666666, \"#ed7953\"], [0.7777777777777778, \"#fb9f3a\"], [0.8888888888888888, \"#fdca26\"], [1.0, \"#f0f921\"]], \"type\": \"contour\"}], \"contourcarpet\": [{\"colorbar\": {\"outlinewidth\": 0, \"ticks\": \"\"}, \"type\": \"contourcarpet\"}], \"heatmap\": [{\"colorbar\": {\"outlinewidth\": 0, \"ticks\": \"\"}, \"colorscale\": [[0.0, \"#0d0887\"], [0.1111111111111111, \"#46039f\"], [0.2222222222222222, \"#7201a8\"], [0.3333333333333333, \"#9c179e\"], [0.4444444444444444, \"#bd3786\"], [0.5555555555555556, \"#d8576b\"], [0.6666666666666666, \"#ed7953\"], [0.7777777777777778, \"#fb9f3a\"], [0.8888888888888888, \"#fdca26\"], [1.0, \"#f0f921\"]], \"type\": \"heatmap\"}], \"heatmapgl\": [{\"colorbar\": {\"outlinewidth\": 0, \"ticks\": \"\"}, \"colorscale\": [[0.0, \"#0d0887\"], [0.1111111111111111, \"#46039f\"], [0.2222222222222222, \"#7201a8\"], [0.3333333333333333, \"#9c179e\"], [0.4444444444444444, \"#bd3786\"], [0.5555555555555556, \"#d8576b\"], [0.6666666666666666, \"#ed7953\"], [0.7777777777777778, \"#fb9f3a\"], [0.8888888888888888, \"#fdca26\"], [1.0, \"#f0f921\"]], \"type\": \"heatmapgl\"}], \"histogram\": [{\"marker\": {\"colorbar\": {\"outlinewidth\": 0, \"ticks\": \"\"}}, \"type\": \"histogram\"}], \"histogram2d\": [{\"colorbar\": {\"outlinewidth\": 0, \"ticks\": \"\"}, \"colorscale\": [[0.0, \"#0d0887\"], [0.1111111111111111, \"#46039f\"], [0.2222222222222222, \"#7201a8\"], [0.3333333333333333, \"#9c179e\"], [0.4444444444444444, \"#bd3786\"], [0.5555555555555556, \"#d8576b\"], [0.6666666666666666, \"#ed7953\"], [0.7777777777777778, \"#fb9f3a\"], [0.8888888888888888, \"#fdca26\"], [1.0, \"#f0f921\"]], \"type\": \"histogram2d\"}], \"histogram2dcontour\": [{\"colorbar\": {\"outlinewidth\": 0, \"ticks\": \"\"}, \"colorscale\": [[0.0, \"#0d0887\"], [0.1111111111111111, \"#46039f\"], [0.2222222222222222, \"#7201a8\"], [0.3333333333333333, \"#9c179e\"], [0.4444444444444444, \"#bd3786\"], [0.5555555555555556, \"#d8576b\"], [0.6666666666666666, \"#ed7953\"], [0.7777777777777778, \"#fb9f3a\"], [0.8888888888888888, \"#fdca26\"], [1.0, \"#f0f921\"]], \"type\": \"histogram2dcontour\"}], \"mesh3d\": [{\"colorbar\": {\"outlinewidth\": 0, \"ticks\": \"\"}, \"type\": \"mesh3d\"}], \"parcoords\": [{\"line\": {\"colorbar\": {\"outlinewidth\": 0, \"ticks\": \"\"}}, \"type\": \"parcoords\"}], \"pie\": [{\"automargin\": true, \"type\": \"pie\"}], \"scatter\": [{\"marker\": {\"colorbar\": {\"outlinewidth\": 0, \"ticks\": \"\"}}, \"type\": \"scatter\"}], \"scatter3d\": [{\"line\": {\"colorbar\": {\"outlinewidth\": 0, \"ticks\": \"\"}}, \"marker\": {\"colorbar\": {\"outlinewidth\": 0, \"ticks\": \"\"}}, \"type\": \"scatter3d\"}], \"scattercarpet\": [{\"marker\": {\"colorbar\": {\"outlinewidth\": 0, \"ticks\": \"\"}}, \"type\": \"scattercarpet\"}], \"scattergeo\": [{\"marker\": {\"colorbar\": {\"outlinewidth\": 0, \"ticks\": \"\"}}, \"type\": \"scattergeo\"}], \"scattergl\": [{\"marker\": {\"colorbar\": {\"outlinewidth\": 0, \"ticks\": \"\"}}, \"type\": \"scattergl\"}], \"scattermapbox\": [{\"marker\": {\"colorbar\": {\"outlinewidth\": 0, \"ticks\": \"\"}}, \"type\": \"scattermapbox\"}], \"scatterpolar\": [{\"marker\": {\"colorbar\": {\"outlinewidth\": 0, \"ticks\": \"\"}}, \"type\": \"scatterpolar\"}], \"scatterpolargl\": [{\"marker\": {\"colorbar\": {\"outlinewidth\": 0, \"ticks\": \"\"}}, \"type\": \"scatterpolargl\"}], \"scatterternary\": [{\"marker\": {\"colorbar\": {\"outlinewidth\": 0, \"ticks\": \"\"}}, \"type\": \"scatterternary\"}], \"surface\": [{\"colorbar\": {\"outlinewidth\": 0, \"ticks\": \"\"}, \"colorscale\": [[0.0, \"#0d0887\"], [0.1111111111111111, \"#46039f\"], [0.2222222222222222, \"#7201a8\"], [0.3333333333333333, \"#9c179e\"], [0.4444444444444444, \"#bd3786\"], [0.5555555555555556, \"#d8576b\"], [0.6666666666666666, \"#ed7953\"], [0.7777777777777778, \"#fb9f3a\"], [0.8888888888888888, \"#fdca26\"], [1.0, \"#f0f921\"]], \"type\": \"surface\"}], \"table\": [{\"cells\": {\"fill\": {\"color\": \"#EBF0F8\"}, \"line\": {\"color\": \"white\"}}, \"header\": {\"fill\": {\"color\": \"#C8D4E3\"}, \"line\": {\"color\": \"white\"}}, \"type\": \"table\"}]}, \"layout\": {\"annotationdefaults\": {\"arrowcolor\": \"#2a3f5f\", \"arrowhead\": 0, \"arrowwidth\": 1}, \"coloraxis\": {\"colorbar\": {\"outlinewidth\": 0, \"ticks\": \"\"}}, \"colorscale\": {\"diverging\": [[0, \"#8e0152\"], [0.1, \"#c51b7d\"], [0.2, \"#de77ae\"], [0.3, \"#f1b6da\"], [0.4, \"#fde0ef\"], [0.5, \"#f7f7f7\"], [0.6, \"#e6f5d0\"], [0.7, \"#b8e186\"], [0.8, \"#7fbc41\"], [0.9, \"#4d9221\"], [1, \"#276419\"]], \"sequential\": [[0.0, \"#0d0887\"], [0.1111111111111111, \"#46039f\"], [0.2222222222222222, \"#7201a8\"], [0.3333333333333333, \"#9c179e\"], [0.4444444444444444, \"#bd3786\"], [0.5555555555555556, \"#d8576b\"], [0.6666666666666666, \"#ed7953\"], [0.7777777777777778, \"#fb9f3a\"], [0.8888888888888888, \"#fdca26\"], [1.0, \"#f0f921\"]], \"sequentialminus\": [[0.0, \"#0d0887\"], [0.1111111111111111, \"#46039f\"], [0.2222222222222222, \"#7201a8\"], [0.3333333333333333, \"#9c179e\"], [0.4444444444444444, \"#bd3786\"], [0.5555555555555556, \"#d8576b\"], [0.6666666666666666, \"#ed7953\"], [0.7777777777777778, \"#fb9f3a\"], [0.8888888888888888, \"#fdca26\"], [1.0, \"#f0f921\"]]}, \"colorway\": [\"#636efa\", \"#EF553B\", \"#00cc96\", \"#ab63fa\", \"#FFA15A\", \"#19d3f3\", \"#FF6692\", \"#B6E880\", \"#FF97FF\", \"#FECB52\"], \"font\": {\"color\": \"#2a3f5f\"}, \"geo\": {\"bgcolor\": \"white\", \"lakecolor\": \"white\", \"landcolor\": \"#E5ECF6\", \"showlakes\": true, \"showland\": true, \"subunitcolor\": \"white\"}, \"hoverlabel\": {\"align\": \"left\"}, \"hovermode\": \"closest\", \"mapbox\": {\"style\": \"light\"}, \"paper_bgcolor\": \"white\", \"plot_bgcolor\": \"#E5ECF6\", \"polar\": {\"angularaxis\": {\"gridcolor\": \"white\", \"linecolor\": \"white\", \"ticks\": \"\"}, \"bgcolor\": \"#E5ECF6\", \"radialaxis\": {\"gridcolor\": \"white\", \"linecolor\": \"white\", \"ticks\": \"\"}}, \"scene\": {\"xaxis\": {\"backgroundcolor\": \"#E5ECF6\", \"gridcolor\": \"white\", \"gridwidth\": 2, \"linecolor\": \"white\", \"showbackground\": true, \"ticks\": \"\", \"zerolinecolor\": \"white\"}, \"yaxis\": {\"backgroundcolor\": \"#E5ECF6\", \"gridcolor\": \"white\", \"gridwidth\": 2, \"linecolor\": \"white\", \"showbackground\": true, \"ticks\": \"\", \"zerolinecolor\": \"white\"}, \"zaxis\": {\"backgroundcolor\": \"#E5ECF6\", \"gridcolor\": \"white\", \"gridwidth\": 2, \"linecolor\": \"white\", \"showbackground\": true, \"ticks\": \"\", \"zerolinecolor\": \"white\"}}, \"shapedefaults\": {\"line\": {\"color\": \"#2a3f5f\"}}, \"ternary\": {\"aaxis\": {\"gridcolor\": \"white\", \"linecolor\": \"white\", \"ticks\": \"\"}, \"baxis\": {\"gridcolor\": \"white\", \"linecolor\": \"white\", \"ticks\": \"\"}, \"bgcolor\": \"#E5ECF6\", \"caxis\": {\"gridcolor\": \"white\", \"linecolor\": \"white\", \"ticks\": \"\"}}, \"title\": {\"x\": 0.05}, \"xaxis\": {\"automargin\": true, \"gridcolor\": \"white\", \"linecolor\": \"white\", \"ticks\": \"\", \"title\": {\"standoff\": 15}, \"zerolinecolor\": \"white\", \"zerolinewidth\": 2}, \"yaxis\": {\"automargin\": true, \"gridcolor\": \"white\", \"linecolor\": \"white\", \"ticks\": \"\", \"title\": {\"standoff\": 15}, \"zerolinecolor\": \"white\", \"zerolinewidth\": 2}}}, \"title\": {\"text\": \"Variance des differents regnes\"}, \"xaxis\": {\"anchor\": \"y\", \"domain\": [0.0, 1.0], \"title\": {\"text\": \"x\"}}, \"yaxis\": {\"anchor\": \"x\", \"domain\": [0.0, 1.0], \"title\": {\"text\": \"value\"}}},                        {\"responsive\": true}                    ).then(function(){\n",
       "                            \n",
       "var gd = document.getElementById('69fff43e-d2b9-4c7d-a776-9536a227bb24');\n",
       "var x = new MutationObserver(function (mutations, observer) {{\n",
       "        var display = window.getComputedStyle(gd).display;\n",
       "        if (!display || display === 'none') {{\n",
       "            console.log([gd, 'removed!']);\n",
       "            Plotly.purge(gd);\n",
       "            observer.disconnect();\n",
       "        }}\n",
       "}});\n",
       "\n",
       "// Listen for the removal of the full notebook cells\n",
       "var notebookContainer = gd.closest('#notebook-container');\n",
       "if (notebookContainer) {{\n",
       "    x.observe(notebookContainer, {childList: true});\n",
       "}}\n",
       "\n",
       "// Listen for the clearing of the current output cell\n",
       "var outputEl = gd.closest('.output');\n",
       "if (outputEl) {{\n",
       "    x.observe(outputEl, {childList: true});\n",
       "}}\n",
       "\n",
       "                        })                };                });            </script>        </div>"
      ]
     },
     "metadata": {},
     "output_type": "display_data"
    }
   ],
   "source": [
    "#Objectif : Visualisation de la variance des differents embranchements\n",
    "\n",
    "matrice=df.groupby(by=\"embranchement\").sum()\n",
    "fig = px.box(matrice, \n",
    "             x=embranchement,\n",
    "             y=sample,\n",
    "             color=embranchement,\n",
    "             title=\"Variance des differents regnes\")\n",
    "fig.update_layout(showlegend=False)\n",
    "fig.show()"
   ]
  },
  {
   "cell_type": "code",
   "execution_count": 7,
   "metadata": {},
   "outputs": [
    {
     "data": {
      "application/vnd.plotly.v1+json": {
       "config": {
        "plotlyServerURL": "https://plot.ly"
       },
       "data": [
        {
         "branchvalues": "total",
         "domain": {
          "x": [
           0,
           1
          ],
          "y": [
           0,
           1
          ]
         },
         "hovertemplate": "labels=%{label}<br>door_in_1=%{value}<br>parent=%{parent}<br>id=%{id}<extra></extra>",
         "ids": [
          "Proteobacteria/Acetobacteraceae Acetobacter",
          "Proteobacteria/Acetobacteraceae Belnapia",
          "Proteobacteria/Acetobacteraceae Endobacter",
          "Proteobacteria/Acetobacteraceae Roseomonas",
          "Proteobacteria/Acetobacteraceae Stella",
          "Proteobacteria/Acetobacteraceae unclassified",
          "Actinobacteria/Acidimicrobiaceae Ilumatobacter",
          "Actinobacteria/Actinomycetaceae Actinobaculum",
          "Actinobacteria/Actinomycetaceae Actinomyces",
          "Actinobacteria/Actinomycetaceae Mobiluncus",
          "Actinobacteria/Actinomycetaceae Trueperella",
          "Actinobacteria/Actinomycetaceae Varibaculum",
          "Actinobacteria/Actinomycetaceae unclassified",
          "Firmicutes/Aerococcaceae Abiotrophia",
          "Firmicutes/Aerococcaceae Aerococcus",
          "Firmicutes/Aerococcaceae Eremococcus",
          "Firmicutes/Aerococcaceae Facklamia",
          "Firmicutes/Aerococcaceae unclassified",
          "Proteobacteria/Aeromonadaceae Aeromonas",
          "Proteobacteria/Aeromonadaceae Tolumonas",
          "Proteobacteria/Alcaligenaceae Achromobacter",
          "Proteobacteria/Alcaligenaceae Azohydromonas",
          "Proteobacteria/Alcaligenaceae unclassified",
          "Chloroflexi/Anaerolineaceae unclassified",
          "Proteobacteria/Aurantimonadaceae Aurantimonas",
          "Firmicutes/Bacillaceae_1 Anoxybacillus",
          "Firmicutes/Bacillaceae_1 Bacillus",
          "Firmicutes/Bacillales_Incertae_Sedis_XI Gemella",
          "Firmicutes/Bacillales_Incertae_Sedis_XII Exiguobacterium",
          "Proteobacteria/Bacteriovoracaceae Peredibacter",
          "Proteobacteria/Bacteriovoracaceae unclassified",
          "Bacteroidetes/Bacteroidaceae Bacteroides",
          "Proteobacteria/Bdellovibrionaceae Bdellovibrio",
          "Proteobacteria/Beijerinckiaceae Chelatococcus",
          "Proteobacteria/Beijerinckiaceae unclassified",
          "Actinobacteria/Beutenbergiaceae unclassified",
          "Actinobacteria/Bifidobacteriaceae Bifidobacterium",
          "Actinobacteria/Bifidobacteriaceae Gardnerella",
          "Actinobacteria/Bogoriellaceae Georgenia",
          "Proteobacteria/Bradyrhizobiaceae Afipia",
          "Proteobacteria/Bradyrhizobiaceae Bosea",
          "Proteobacteria/Bradyrhizobiaceae unclassified",
          "Actinobacteria/Brevibacteriaceae Brevibacterium",
          "Proteobacteria/Brucellaceae Ochrobactrum",
          "Proteobacteria/Brucellaceae Pseudochrobactrum",
          "Proteobacteria/Burkholderiaceae Burkholderia",
          "Proteobacteria/Burkholderiaceae Cupriavidus",
          "Proteobacteria/Burkholderiaceae Limnobacter",
          "Proteobacteria/Burkholderiaceae Polynucleobacter",
          "Proteobacteria/Burkholderiaceae Ralstonia",
          "Proteobacteria/Burkholderiales_incertae_sedis Aquabacterium",
          "Proteobacteria/Burkholderiales_incertae_sedis Aquincola",
          "Proteobacteria/Burkholderiales_incertae_sedis unclassified",
          "Chloroflexi/Caldilineaceae unclassified",
          "Proteobacteria/Campylobacteraceae Arcobacter",
          "Proteobacteria/Campylobacteraceae Campylobacter",
          "Proteobacteria/Cardiobacteriaceae Cardiobacterium",
          "Firmicutes/Carnobacteriaceae Atopostipes",
          "Firmicutes/Carnobacteriaceae Carnobacterium",
          "Firmicutes/Carnobacteriaceae Desemzia",
          "Firmicutes/Carnobacteriaceae Dolosigranulum",
          "Firmicutes/Carnobacteriaceae Granulicatella",
          "Firmicutes/Carnobacteriaceae Trichococcus",
          "Proteobacteria/Caulobacteraceae Asticcacaulis",
          "Proteobacteria/Caulobacteraceae Brevundimonas",
          "Proteobacteria/Caulobacteraceae Caulobacter",
          "Proteobacteria/Caulobacteraceae Phenylobacterium",
          "Proteobacteria/Caulobacteraceae unclassified",
          "Actinobacteria/Cellulomonadaceae Cellulomonas",
          "Actinobacteria/Cellulomonadaceae Oerskovia",
          "Actinobacteria/Cellulomonadaceae unclassified",
          "Bacteroidetes/Chitinophagaceae Chitinophaga",
          "Bacteroidetes/Chitinophagaceae Ferruginibacter",
          "Bacteroidetes/Chitinophagaceae Flavisolibacter",
          "Bacteroidetes/Chitinophagaceae Flavitalea",
          "Bacteroidetes/Chitinophagaceae Lacibacter",
          "Bacteroidetes/Chitinophagaceae Niabella",
          "Bacteroidetes/Chitinophagaceae Parasegetibacter",
          "Bacteroidetes/Chitinophagaceae Sediminibacterium",
          "Bacteroidetes/Chitinophagaceae Segetibacter",
          "Bacteroidetes/Chitinophagaceae Terrimonas",
          "Bacteroidetes/Chitinophagaceae unclassified",
          "Chloroflexi/Chloroflexaceae unclassified",
          "Proteobacteria/Chromatiaceae Rheinheimera",
          "Firmicutes/Clostridiaceae_1 Clostridium_sensu_stricto",
          "Firmicutes/Clostridiaceae_1 Sarcina",
          "Firmicutes/Clostridiaceae_1 unclassified",
          "Firmicutes/Clostridiales_Incertae_Sedis_XI Anaerococcus",
          "Firmicutes/Clostridiales_Incertae_Sedis_XI Finegoldia",
          "Firmicutes/Clostridiales_Incertae_Sedis_XI Parvimonas",
          "Firmicutes/Clostridiales_Incertae_Sedis_XI Peptoniphilus",
          "Firmicutes/Clostridiales_Incertae_Sedis_XI unclassified",
          "Firmicutes/Clostridiales_Incertae_Sedis_XIII Anaerovorax",
          "Firmicutes/Clostridiales_Incertae_Sedis_XIII Mogibacterium",
          "Firmicutes/Clostridiales_Incertae_Sedis_XIII unclassified",
          "Proteobacteria/Comamonadaceae Acidovorax",
          "Proteobacteria/Comamonadaceae Albidiferax",
          "Proteobacteria/Comamonadaceae Comamonas",
          "Proteobacteria/Comamonadaceae Delftia",
          "Proteobacteria/Comamonadaceae Diaphorobacter",
          "Proteobacteria/Comamonadaceae Hydrogenophaga",
          "Proteobacteria/Comamonadaceae Limnohabitans",
          "Proteobacteria/Comamonadaceae Pelomonas",
          "Proteobacteria/Comamonadaceae Polaromonas",
          "Proteobacteria/Comamonadaceae Pseudorhodoferax",
          "Proteobacteria/Comamonadaceae Roseateles",
          "Proteobacteria/Comamonadaceae Schlegelella",
          "Proteobacteria/Comamonadaceae Simplicispira",
          "Proteobacteria/Comamonadaceae Variovorax",
          "Proteobacteria/Comamonadaceae unclassified",
          "Actinobacteria/Coriobacteriaceae Asaccharobacter",
          "Actinobacteria/Coriobacteriaceae Atopobium",
          "Actinobacteria/Coriobacteriaceae Collinsella",
          "Actinobacteria/Coriobacteriaceae Eggerthella",
          "Actinobacteria/Coriobacteriaceae Gordonibacter",
          "Actinobacteria/Coriobacteriaceae unclassified",
          "Actinobacteria/Corynebacteriaceae Corynebacterium",
          "Actinobacteria/Corynebacteriaceae Turicella",
          "Actinobacteria/Corynebacteriaceae unclassified",
          "Proteobacteria/Coxiellaceae Aquicella",
          "Bacteroidetes/Cryomorphaceae Fluviicola",
          "Bacteroidetes/Cytophagaceae Adhaeribacter",
          "Bacteroidetes/Cytophagaceae Cytophaga",
          "Bacteroidetes/Cytophagaceae Dyadobacter",
          "Bacteroidetes/Cytophagaceae Emticicia",
          "Bacteroidetes/Cytophagaceae Flectobacillus",
          "Bacteroidetes/Cytophagaceae Hymenobacter",
          "Bacteroidetes/Cytophagaceae Larkinella",
          "Bacteroidetes/Cytophagaceae Persicitalea",
          "Bacteroidetes/Cytophagaceae Pontibacter",
          "Bacteroidetes/Cytophagaceae Rhodocytophaga",
          "Bacteroidetes/Cytophagaceae Rudanella",
          "Bacteroidetes/Cytophagaceae Runella",
          "Bacteroidetes/Cytophagaceae Spirosoma",
          "Bacteroidetes/Cytophagaceae unclassified",
          "Deinococcus-Thermus/Deinococcaceae Deinococcus",
          "Deinococcus-Thermus/Deinococcaceae unclassified",
          "Actinobacteria/Demequinaceae Demequina",
          "Actinobacteria/Dermabacteraceae Brachybacterium",
          "Actinobacteria/Dermabacteraceae Dermabacter",
          "Actinobacteria/Dermabacteraceae unclassified",
          "Actinobacteria/Dermacoccaceae Dermacoccus",
          "Actinobacteria/Dermacoccaceae Kytococcus",
          "Actinobacteria/Dermatophilaceae Piscicoccus",
          "Proteobacteria/Desulfobulbaceae Desulfobulbus",
          "Actinobacteria/Dietziaceae Dietzia",
          "Proteobacteria/Enterobacteriaceae Buchnera",
          "Proteobacteria/Enterobacteriaceae Citrobacter",
          "Proteobacteria/Enterobacteriaceae Enterobacter",
          "Proteobacteria/Enterobacteriaceae Pantoea",
          "Proteobacteria/Enterobacteriaceae Providencia",
          "Proteobacteria/Enterobacteriaceae unclassified",
          "Firmicutes/Enterococcaceae Enterococcus",
          "Firmicutes/Enterococcaceae Vagococcus",
          "Firmicutes/Erysipelotrichaceae Allobaculum",
          "Firmicutes/Erysipelotrichaceae Solobacterium",
          "Firmicutes/Erysipelotrichaceae Turicibacter",
          "Firmicutes/Erysipelotrichaceae unclassified",
          "Proteobacteria/Erythrobacteraceae Altererythrobacter",
          "Proteobacteria/Erythrobacteraceae Croceicoccus",
          "Proteobacteria/Erythrobacteraceae Porphyrobacter",
          "Proteobacteria/Erythrobacteraceae unclassified",
          "Firmicutes/Eubacteriaceae Acetobacterium",
          "Firmicutes/Eubacteriaceae Eubacterium",
          "Actinobacteria/Euzebyaceae Euzebya",
          "Bacteroidetes/Flammeovirgaceae Cesiribacter",
          "Bacteroidetes/Flavobacteriaceae Capnocytophaga",
          "Bacteroidetes/Flavobacteriaceae Chryseobacterium",
          "Bacteroidetes/Flavobacteriaceae Cloacibacterium",
          "Bacteroidetes/Flavobacteriaceae Cruoricaptor",
          "Bacteroidetes/Flavobacteriaceae Epilithonimonas",
          "Bacteroidetes/Flavobacteriaceae Flavobacterium",
          "Bacteroidetes/Flavobacteriaceae Gillisia",
          "Bacteroidetes/Flavobacteriaceae Planobacterium",
          "Bacteroidetes/Flavobacteriaceae Salinimicrobium",
          "Bacteroidetes/Flavobacteriaceae Wautersiella",
          "Bacteroidetes/Flavobacteriaceae unclassified",
          "Fusobacteria/Fusobacteriaceae Fusobacterium",
          "Actinobacteria/Gaiellaceae Gaiella",
          "Proteobacteria/Geminicoccus unclassified",
          "Gemmatimonadetes/Gemmatimonadaceae Gemmatimonas",
          "Actinobacteria/Geodermatophilaceae Blastococcus",
          "Actinobacteria/Geodermatophilaceae Geodermatophilus",
          "Actinobacteria/Geodermatophilaceae Modestobacter",
          "Actinobacteria/Geodermatophilaceae unclassified",
          "Proteobacteria/Halomonadaceae Halomonas",
          "Proteobacteria/Helicobacteraceae Helicobacter",
          "Chloroflexi/Herpetosiphonaceae Herpetosiphon",
          "Proteobacteria/Hydrogenophilaceae Hydrogenophilus",
          "Proteobacteria/Hydrogenophilaceae unclassified",
          "Proteobacteria/Hyphomicrobiaceae Blastochloris",
          "Proteobacteria/Hyphomicrobiaceae Devosia",
          "Proteobacteria/Hyphomicrobiaceae Hyphomicrobium",
          "Proteobacteria/Hyphomicrobiaceae Pedomicrobium",
          "Actinobacteria/Iamiaceae Iamia",
          "Firmicutes/Incertae_Sedis_XI Murdochiella",
          "Actinobacteria/Intrasporangiaceae Arsenicicoccus",
          "Actinobacteria/Intrasporangiaceae Janibacter",
          "Actinobacteria/Intrasporangiaceae Knoellia",
          "Actinobacteria/Intrasporangiaceae Ornithinibacter",
          "Actinobacteria/Intrasporangiaceae Ornithinicoccus",
          "Actinobacteria/Intrasporangiaceae Ornithinimicrobium",
          "Actinobacteria/Intrasporangiaceae Phycicoccus",
          "Actinobacteria/Intrasporangiaceae Terracoccus",
          "Actinobacteria/Intrasporangiaceae Tetrasphaera",
          "Actinobacteria/Intrasporangiaceae unclassified",
          "Actinobacteria/Kineosporiaceae Kineococcus",
          "Actinobacteria/Kineosporiaceae Kineosporia",
          "Actinobacteria/Kineosporiaceae unclassified",
          "Firmicutes/Lachnospiraceae Blautia",
          "Firmicutes/Lachnospiraceae Catonella",
          "Firmicutes/Lachnospiraceae Clostridium_XlVa",
          "Firmicutes/Lachnospiraceae Dorea",
          "Firmicutes/Lachnospiraceae Lachnoanaerobaculum",
          "Firmicutes/Lachnospiraceae Oribacterium",
          "Firmicutes/Lachnospiraceae Roseburia",
          "Firmicutes/Lachnospiraceae Ruminococcus2",
          "Firmicutes/Lachnospiraceae unclassified",
          "Firmicutes/Lactobacillaceae Lactobacillus",
          "Firmicutes/Lactobacillaceae Pediococcus",
          "Proteobacteria/Legionellaceae Legionella",
          "Fusobacteria/Leptotrichiaceae Leptotrichia",
          "Fusobacteria/Leptotrichiaceae Sneathia",
          "Fusobacteria/Leptotrichiaceae unclassified",
          "Firmicutes/Leuconostocaceae Leuconostoc",
          "Proteobacteria/Methylobacteriaceae Methylobacterium",
          "Proteobacteria/Methylobacteriaceae Microvirga",
          "Proteobacteria/Methylococcaceae Methylocaldum",
          "Proteobacteria/Methylocystaceae Methylocystis",
          "Proteobacteria/Methylocystaceae unclassified",
          "Proteobacteria/Methylophilaceae Methylobacillus",
          "Proteobacteria/Methylophilaceae Methylophilus",
          "Proteobacteria/Methylophilaceae Methylotenera",
          "Proteobacteria/Methylophilaceae Methylovorus",
          "Actinobacteria/Microbacteriaceae Agreia",
          "Actinobacteria/Microbacteriaceae Agrococcus",
          "Actinobacteria/Microbacteriaceae Agromyces",
          "Actinobacteria/Microbacteriaceae Amnibacterium",
          "Actinobacteria/Microbacteriaceae Clavibacter",
          "Actinobacteria/Microbacteriaceae Curtobacterium",
          "Actinobacteria/Microbacteriaceae Frigoribacterium",
          "Actinobacteria/Microbacteriaceae Herbiconiux",
          "Actinobacteria/Microbacteriaceae Leifsonia",
          "Actinobacteria/Microbacteriaceae Leucobacter",
          "Actinobacteria/Microbacteriaceae Microbacterium",
          "Actinobacteria/Microbacteriaceae Plantibacter",
          "Actinobacteria/Microbacteriaceae Pseudoclavibacter",
          "Actinobacteria/Microbacteriaceae Rathayibacter",
          "Actinobacteria/Microbacteriaceae Zimmermannella",
          "Actinobacteria/Microbacteriaceae unclassified",
          "Actinobacteria/Micrococcaceae Arthrobacter",
          "Actinobacteria/Micrococcaceae Kocuria",
          "Actinobacteria/Micrococcaceae Micrococcus",
          "Actinobacteria/Micrococcaceae Nesterenkonia",
          "Actinobacteria/Micrococcaceae Rothia",
          "Actinobacteria/Micrococcaceae Zhihengliuella",
          "Actinobacteria/Micrococcaceae unclassified",
          "Actinobacteria/Micromonosporaceae Actinoplanes",
          "Actinobacteria/Micromonosporaceae Asanoa",
          "Actinobacteria/Micromonosporaceae Catellatospora",
          "Actinobacteria/Micromonosporaceae Luedemannella",
          "Actinobacteria/Micromonosporaceae Micromonospora",
          "Actinobacteria/Micromonosporaceae unclassified",
          "Proteobacteria/Moraxellaceae Acinetobacter",
          "Proteobacteria/Moraxellaceae Alkanindiges",
          "Proteobacteria/Moraxellaceae Enhydrobacter",
          "Proteobacteria/Moraxellaceae Moraxella",
          "Proteobacteria/Moraxellaceae Psychrobacter",
          "Proteobacteria/Moraxellaceae unclassified",
          "Actinobacteria/Mycobacteriaceae Mycobacterium",
          "Actinobacteria/Nakamurellaceae Nakamurella",
          "Proteobacteria/Neisseriaceae Eikenella",
          "Proteobacteria/Neisseriaceae Kingella",
          "Proteobacteria/Neisseriaceae Neisseria",
          "Proteobacteria/Neisseriaceae unclassified",
          "Actinobacteria/Nocardiaceae Gordonia",
          "Actinobacteria/Nocardiaceae Rhodococcus",
          "Actinobacteria/Nocardiaceae Williamsia",
          "Actinobacteria/Nocardiaceae unclassified",
          "Actinobacteria/Nocardioidaceae Aeromicrobium",
          "Actinobacteria/Nocardioidaceae Kribbella",
          "Actinobacteria/Nocardioidaceae Marmoricola",
          "Actinobacteria/Nocardioidaceae Nocardioides",
          "Actinobacteria/Nocardioidaceae unclassified",
          "Verrucomicrobia/Opitutaceae unclassified",
          "Proteobacteria/Oxalobacteraceae Duganella",
          "Proteobacteria/Oxalobacteraceae Massilia",
          "Proteobacteria/Oxalobacteraceae Naxibacter",
          "Proteobacteria/Oxalobacteraceae Noviherbaspirillum",
          "Proteobacteria/Oxalobacteraceae unclassified",
          "Firmicutes/Paenibacillaceae_1 Paenibacillus",
          "Firmicutes/Paenibacillaceae_1 Thermobacillus",
          "Proteobacteria/Pasteurellaceae Aggregatibacter",
          "Proteobacteria/Pasteurellaceae unclassified",
          "Firmicutes/Peptostreptococcaceae Clostridium_XI",
          "Firmicutes/Peptostreptococcaceae Peptostreptococcus",
          "Firmicutes/Peptostreptococcaceae Sporacetigenium",
          "Proteobacteria/Phyllobacteriaceae Chelativorans",
          "Proteobacteria/Phyllobacteriaceae Mesorhizobium",
          "Proteobacteria/Phyllobacteriaceae Phyllobacterium",
          "Proteobacteria/Phyllobacteriaceae unclassified",
          "Planctomycetes/Planctomycetaceae unclassified",
          "Firmicutes/Planococcaceae Chryseomicrobium",
          "Firmicutes/Planococcaceae Paenisporosarcina",
          "Firmicutes/Planococcaceae Planococcus",
          "Firmicutes/Planococcaceae Planomicrobium",
          "Firmicutes/Planococcaceae Sporosarcina",
          "Firmicutes/Planococcaceae unclassified",
          "Bacteroidetes/Porphyromonadaceae Barnesiella",
          "Bacteroidetes/Porphyromonadaceae Butyricimonas",
          "Bacteroidetes/Porphyromonadaceae Paludibacter",
          "Bacteroidetes/Porphyromonadaceae Parabacteroides",
          "Bacteroidetes/Porphyromonadaceae Porphyromonas",
          "Bacteroidetes/Porphyromonadaceae unclassified",
          "Bacteroidetes/Prevotellaceae Alloprevotella",
          "Bacteroidetes/Prevotellaceae Prevotella",
          "Bacteroidetes/Prevotellaceae unclassified",
          "Actinobacteria/Propionibacteriaceae Auraticoccus",
          "Actinobacteria/Propionibacteriaceae Friedmanniella",
          "Actinobacteria/Propionibacteriaceae Luteococcus",
          "Actinobacteria/Propionibacteriaceae Microlunatus",
          "Actinobacteria/Propionibacteriaceae Micropruina",
          "Actinobacteria/Propionibacteriaceae Propionibacterium",
          "Actinobacteria/Propionibacteriaceae Propionicimonas",
          "Actinobacteria/Propionibacteriaceae Tessaracoccus",
          "Actinobacteria/Propionibacteriaceae unclassified",
          "Proteobacteria/Pseudoalteromonadaceae Pseudoalteromonas",
          "Proteobacteria/Pseudomonadaceae Cellvibrio",
          "Proteobacteria/Pseudomonadaceae Pseudomonas",
          "Proteobacteria/Pseudomonadaceae Rhizobacter",
          "Proteobacteria/Pseudomonadaceae unclassified",
          "Actinobacteria/Pseudonocardiaceae Actinomycetospora",
          "Actinobacteria/Pseudonocardiaceae Pseudonocardia",
          "Actinobacteria/Pseudonocardiaceae Saccharopolyspora",
          "Actinobacteria/Pseudonocardiaceae Saccharothrix",
          "Actinobacteria/Pseudonocardiaceae unclassified",
          "Proteobacteria/Rhizobiaceae Ensifer",
          "Proteobacteria/Rhizobiaceae Kaistia",
          "Proteobacteria/Rhizobiaceae Rhizobium",
          "Proteobacteria/Rhodobacteraceae Agaricicola",
          "Proteobacteria/Rhodobacteraceae Amaricoccus",
          "Proteobacteria/Rhodobacteraceae Gemmobacter",
          "Proteobacteria/Rhodobacteraceae Palleronia",
          "Proteobacteria/Rhodobacteraceae Paracoccus",
          "Proteobacteria/Rhodobacteraceae Rhodobacter",
          "Proteobacteria/Rhodobacteraceae Rubellimicrobium",
          "Proteobacteria/Rhodobacteraceae unclassified",
          "Proteobacteria/Rhodocyclaceae Azospira",
          "Proteobacteria/Rhodocyclaceae Dechloromonas",
          "Proteobacteria/Rhodocyclaceae Methyloversatilis",
          "Proteobacteria/Rhodocyclaceae Propionivibrio",
          "Proteobacteria/Rhodocyclaceae Shinella",
          "Proteobacteria/Rhodocyclaceae unclassified",
          "Proteobacteria/Rhodospirillaceae Azospirillum",
          "Proteobacteria/Rhodospirillaceae Defluviicoccus",
          "Proteobacteria/Rhodospirillaceae Dongia",
          "Proteobacteria/Rhodospirillaceae Novispirillum",
          "Proteobacteria/Rhodospirillaceae Skermanella",
          "Proteobacteria/Rhodospirillaceae unclassified",
          "Proteobacteria/Rickettsiaceae Rickettsia",
          "Bacteroidetes/Rikenellaceae Alistipes",
          "Actinobacteria/Rubrobacteraceae Rubrobacter",
          "Firmicutes/Ruminococcaceae Butyricicoccus",
          "Firmicutes/Ruminococcaceae Faecalibacterium",
          "Firmicutes/Ruminococcaceae Oscillibacter",
          "Firmicutes/Ruminococcaceae Pseudoflavonifractor",
          "Firmicutes/Ruminococcaceae Ruminococcus",
          "Firmicutes/Ruminococcaceae Subdoligranulum",
          "Firmicutes/Ruminococcaceae unclassified",
          "Actinobacteria/Sanguibacteraceae Sanguibacter",
          "Bacteroidetes/Saprospiraceae Haliscomenobacter",
          "Bacteroidetes/Saprospiraceae unclassified",
          "Proteobacteria/Shewanellaceae Shewanella",
          "Proteobacteria/Sinobacteraceae Hydrocarboniphaga",
          "Proteobacteria/Sinobacteraceae Steroidobacter",
          "Actinobacteria/Solirubrobacteraceae Solirubrobacter",
          "Bacteroidetes/Sphingobacteriaceae Arcticibacter",
          "Bacteroidetes/Sphingobacteriaceae Mucilaginibacter",
          "Bacteroidetes/Sphingobacteriaceae Nubsella",
          "Bacteroidetes/Sphingobacteriaceae Pedobacter",
          "Bacteroidetes/Sphingobacteriaceae Sphingobacterium",
          "Bacteroidetes/Sphingobacteriaceae unclassified",
          "Proteobacteria/Sphingomonadaceae Novosphingobium",
          "Proteobacteria/Sphingomonadaceae Sphingobium",
          "Proteobacteria/Sphingomonadaceae Sphingomonas",
          "Proteobacteria/Sphingomonadaceae Sphingopyxis",
          "Proteobacteria/Sphingomonadaceae Sphingorhabdus",
          "Proteobacteria/Sphingomonadaceae Sphingosinicella",
          "Proteobacteria/Sphingomonadaceae unclassified",
          "Spirochaetes/Spirochaetaceae Treponema",
          "Firmicutes/Staphylococcaceae Jeotgalicoccus",
          "Firmicutes/Staphylococcaceae Macrococcus",
          "Firmicutes/Staphylococcaceae Staphylococcus",
          "Firmicutes/Staphylococcaceae unclassified",
          "Firmicutes/Streptococcaceae Lactococcus",
          "Firmicutes/Streptococcaceae Streptococcus",
          "Actinobacteria/Streptomycetaceae Streptomyces",
          "Actinobacteria/Streptomycetaceae unclassified",
          "Actinobacteria/Streptosporangiaceae unclassified",
          "Proteobacteria/Sutterellaceae Parasutterella",
          "Synergistetes/Synergistaceae Jonquetella",
          "Deinococcus-Thermus/Thermaceae Thermus",
          "Deinococcus-Thermus/Trueperaceae Truepera",
          "Firmicutes/Veillonellaceae Dialister",
          "Firmicutes/Veillonellaceae Megasphaera",
          "Firmicutes/Veillonellaceae Negativicoccus",
          "Firmicutes/Veillonellaceae Veillonella",
          "Firmicutes/Veillonellaceae unclassified",
          "Verrucomicrobia/Verrucomicrobiaceae Haloferula",
          "Verrucomicrobia/Verrucomicrobiaceae Luteolibacter",
          "Verrucomicrobia/Verrucomicrobiaceae Prosthecobacter",
          "Verrucomicrobia/Verrucomicrobiaceae Roseimicrobium",
          "Proteobacteria/Vibrionaceae Photobacterium",
          "Proteobacteria/Vibrionaceae Vibrio",
          "Proteobacteria/Xanthomonadaceae Dokdonella",
          "Proteobacteria/Xanthomonadaceae Dyella",
          "Proteobacteria/Xanthomonadaceae Lysobacter",
          "Proteobacteria/Xanthomonadaceae Pseudoxanthomonas",
          "Proteobacteria/Xanthomonadaceae Stenotrophomonas",
          "Proteobacteria/Xanthomonadaceae Thermomonas",
          "Proteobacteria/Xanthomonadaceae Xanthomonas",
          "Proteobacteria/Xanthomonadaceae unclassified",
          "Acidobacteria/unclassified unclassified",
          "Actinobacteria/unclassified unclassified",
          "Armatimonadetes/unclassified unclassified",
          "Bacteroidetes/unclassified unclassified",
          "Candidatus_Saccharibacteria/unclassified unclassified",
          "Chloroflexi/unclassified unclassified",
          "Deinococcus-Thermus/unclassified unclassified",
          "Firmicutes/unclassified unclassified",
          "Fusobacteria/unclassified unclassified",
          "Microgenomates/unclassified unclassified",
          "Parcubacteria/unclassified unclassified",
          "Proteobacteria/unclassified unclassified",
          "Verrucomicrobia/unclassified unclassified",
          "unclassified/unclassified unclassified",
          "Acidobacteria",
          "Actinobacteria",
          "Armatimonadetes",
          "Bacteroidetes",
          "Candidatus_Saccharibacteria",
          "Chloroflexi",
          "Deinococcus-Thermus",
          "Firmicutes",
          "Fusobacteria",
          "Gemmatimonadetes",
          "Microgenomates",
          "Parcubacteria",
          "Planctomycetes",
          "Proteobacteria",
          "Spirochaetes",
          "Synergistetes",
          "Verrucomicrobia",
          "unclassified"
         ],
         "labels": [
          "Acetobacteraceae Acetobacter",
          "Acetobacteraceae Belnapia",
          "Acetobacteraceae Endobacter",
          "Acetobacteraceae Roseomonas",
          "Acetobacteraceae Stella",
          "Acetobacteraceae unclassified",
          "Acidimicrobiaceae Ilumatobacter",
          "Actinomycetaceae Actinobaculum",
          "Actinomycetaceae Actinomyces",
          "Actinomycetaceae Mobiluncus",
          "Actinomycetaceae Trueperella",
          "Actinomycetaceae Varibaculum",
          "Actinomycetaceae unclassified",
          "Aerococcaceae Abiotrophia",
          "Aerococcaceae Aerococcus",
          "Aerococcaceae Eremococcus",
          "Aerococcaceae Facklamia",
          "Aerococcaceae unclassified",
          "Aeromonadaceae Aeromonas",
          "Aeromonadaceae Tolumonas",
          "Alcaligenaceae Achromobacter",
          "Alcaligenaceae Azohydromonas",
          "Alcaligenaceae unclassified",
          "Anaerolineaceae unclassified",
          "Aurantimonadaceae Aurantimonas",
          "Bacillaceae_1 Anoxybacillus",
          "Bacillaceae_1 Bacillus",
          "Bacillales_Incertae_Sedis_XI Gemella",
          "Bacillales_Incertae_Sedis_XII Exiguobacterium",
          "Bacteriovoracaceae Peredibacter",
          "Bacteriovoracaceae unclassified",
          "Bacteroidaceae Bacteroides",
          "Bdellovibrionaceae Bdellovibrio",
          "Beijerinckiaceae Chelatococcus",
          "Beijerinckiaceae unclassified",
          "Beutenbergiaceae unclassified",
          "Bifidobacteriaceae Bifidobacterium",
          "Bifidobacteriaceae Gardnerella",
          "Bogoriellaceae Georgenia",
          "Bradyrhizobiaceae Afipia",
          "Bradyrhizobiaceae Bosea",
          "Bradyrhizobiaceae unclassified",
          "Brevibacteriaceae Brevibacterium",
          "Brucellaceae Ochrobactrum",
          "Brucellaceae Pseudochrobactrum",
          "Burkholderiaceae Burkholderia",
          "Burkholderiaceae Cupriavidus",
          "Burkholderiaceae Limnobacter",
          "Burkholderiaceae Polynucleobacter",
          "Burkholderiaceae Ralstonia",
          "Burkholderiales_incertae_sedis Aquabacterium",
          "Burkholderiales_incertae_sedis Aquincola",
          "Burkholderiales_incertae_sedis unclassified",
          "Caldilineaceae unclassified",
          "Campylobacteraceae Arcobacter",
          "Campylobacteraceae Campylobacter",
          "Cardiobacteriaceae Cardiobacterium",
          "Carnobacteriaceae Atopostipes",
          "Carnobacteriaceae Carnobacterium",
          "Carnobacteriaceae Desemzia",
          "Carnobacteriaceae Dolosigranulum",
          "Carnobacteriaceae Granulicatella",
          "Carnobacteriaceae Trichococcus",
          "Caulobacteraceae Asticcacaulis",
          "Caulobacteraceae Brevundimonas",
          "Caulobacteraceae Caulobacter",
          "Caulobacteraceae Phenylobacterium",
          "Caulobacteraceae unclassified",
          "Cellulomonadaceae Cellulomonas",
          "Cellulomonadaceae Oerskovia",
          "Cellulomonadaceae unclassified",
          "Chitinophagaceae Chitinophaga",
          "Chitinophagaceae Ferruginibacter",
          "Chitinophagaceae Flavisolibacter",
          "Chitinophagaceae Flavitalea",
          "Chitinophagaceae Lacibacter",
          "Chitinophagaceae Niabella",
          "Chitinophagaceae Parasegetibacter",
          "Chitinophagaceae Sediminibacterium",
          "Chitinophagaceae Segetibacter",
          "Chitinophagaceae Terrimonas",
          "Chitinophagaceae unclassified",
          "Chloroflexaceae unclassified",
          "Chromatiaceae Rheinheimera",
          "Clostridiaceae_1 Clostridium_sensu_stricto",
          "Clostridiaceae_1 Sarcina",
          "Clostridiaceae_1 unclassified",
          "Clostridiales_Incertae_Sedis_XI Anaerococcus",
          "Clostridiales_Incertae_Sedis_XI Finegoldia",
          "Clostridiales_Incertae_Sedis_XI Parvimonas",
          "Clostridiales_Incertae_Sedis_XI Peptoniphilus",
          "Clostridiales_Incertae_Sedis_XI unclassified",
          "Clostridiales_Incertae_Sedis_XIII Anaerovorax",
          "Clostridiales_Incertae_Sedis_XIII Mogibacterium",
          "Clostridiales_Incertae_Sedis_XIII unclassified",
          "Comamonadaceae Acidovorax",
          "Comamonadaceae Albidiferax",
          "Comamonadaceae Comamonas",
          "Comamonadaceae Delftia",
          "Comamonadaceae Diaphorobacter",
          "Comamonadaceae Hydrogenophaga",
          "Comamonadaceae Limnohabitans",
          "Comamonadaceae Pelomonas",
          "Comamonadaceae Polaromonas",
          "Comamonadaceae Pseudorhodoferax",
          "Comamonadaceae Roseateles",
          "Comamonadaceae Schlegelella",
          "Comamonadaceae Simplicispira",
          "Comamonadaceae Variovorax",
          "Comamonadaceae unclassified",
          "Coriobacteriaceae Asaccharobacter",
          "Coriobacteriaceae Atopobium",
          "Coriobacteriaceae Collinsella",
          "Coriobacteriaceae Eggerthella",
          "Coriobacteriaceae Gordonibacter",
          "Coriobacteriaceae unclassified",
          "Corynebacteriaceae Corynebacterium",
          "Corynebacteriaceae Turicella",
          "Corynebacteriaceae unclassified",
          "Coxiellaceae Aquicella",
          "Cryomorphaceae Fluviicola",
          "Cytophagaceae Adhaeribacter",
          "Cytophagaceae Cytophaga",
          "Cytophagaceae Dyadobacter",
          "Cytophagaceae Emticicia",
          "Cytophagaceae Flectobacillus",
          "Cytophagaceae Hymenobacter",
          "Cytophagaceae Larkinella",
          "Cytophagaceae Persicitalea",
          "Cytophagaceae Pontibacter",
          "Cytophagaceae Rhodocytophaga",
          "Cytophagaceae Rudanella",
          "Cytophagaceae Runella",
          "Cytophagaceae Spirosoma",
          "Cytophagaceae unclassified",
          "Deinococcaceae Deinococcus",
          "Deinococcaceae unclassified",
          "Demequinaceae Demequina",
          "Dermabacteraceae Brachybacterium",
          "Dermabacteraceae Dermabacter",
          "Dermabacteraceae unclassified",
          "Dermacoccaceae Dermacoccus",
          "Dermacoccaceae Kytococcus",
          "Dermatophilaceae Piscicoccus",
          "Desulfobulbaceae Desulfobulbus",
          "Dietziaceae Dietzia",
          "Enterobacteriaceae Buchnera",
          "Enterobacteriaceae Citrobacter",
          "Enterobacteriaceae Enterobacter",
          "Enterobacteriaceae Pantoea",
          "Enterobacteriaceae Providencia",
          "Enterobacteriaceae unclassified",
          "Enterococcaceae Enterococcus",
          "Enterococcaceae Vagococcus",
          "Erysipelotrichaceae Allobaculum",
          "Erysipelotrichaceae Solobacterium",
          "Erysipelotrichaceae Turicibacter",
          "Erysipelotrichaceae unclassified",
          "Erythrobacteraceae Altererythrobacter",
          "Erythrobacteraceae Croceicoccus",
          "Erythrobacteraceae Porphyrobacter",
          "Erythrobacteraceae unclassified",
          "Eubacteriaceae Acetobacterium",
          "Eubacteriaceae Eubacterium",
          "Euzebyaceae Euzebya",
          "Flammeovirgaceae Cesiribacter",
          "Flavobacteriaceae Capnocytophaga",
          "Flavobacteriaceae Chryseobacterium",
          "Flavobacteriaceae Cloacibacterium",
          "Flavobacteriaceae Cruoricaptor",
          "Flavobacteriaceae Epilithonimonas",
          "Flavobacteriaceae Flavobacterium",
          "Flavobacteriaceae Gillisia",
          "Flavobacteriaceae Planobacterium",
          "Flavobacteriaceae Salinimicrobium",
          "Flavobacteriaceae Wautersiella",
          "Flavobacteriaceae unclassified",
          "Fusobacteriaceae Fusobacterium",
          "Gaiellaceae Gaiella",
          "Geminicoccus unclassified",
          "Gemmatimonadaceae Gemmatimonas",
          "Geodermatophilaceae Blastococcus",
          "Geodermatophilaceae Geodermatophilus",
          "Geodermatophilaceae Modestobacter",
          "Geodermatophilaceae unclassified",
          "Halomonadaceae Halomonas",
          "Helicobacteraceae Helicobacter",
          "Herpetosiphonaceae Herpetosiphon",
          "Hydrogenophilaceae Hydrogenophilus",
          "Hydrogenophilaceae unclassified",
          "Hyphomicrobiaceae Blastochloris",
          "Hyphomicrobiaceae Devosia",
          "Hyphomicrobiaceae Hyphomicrobium",
          "Hyphomicrobiaceae Pedomicrobium",
          "Iamiaceae Iamia",
          "Incertae_Sedis_XI Murdochiella",
          "Intrasporangiaceae Arsenicicoccus",
          "Intrasporangiaceae Janibacter",
          "Intrasporangiaceae Knoellia",
          "Intrasporangiaceae Ornithinibacter",
          "Intrasporangiaceae Ornithinicoccus",
          "Intrasporangiaceae Ornithinimicrobium",
          "Intrasporangiaceae Phycicoccus",
          "Intrasporangiaceae Terracoccus",
          "Intrasporangiaceae Tetrasphaera",
          "Intrasporangiaceae unclassified",
          "Kineosporiaceae Kineococcus",
          "Kineosporiaceae Kineosporia",
          "Kineosporiaceae unclassified",
          "Lachnospiraceae Blautia",
          "Lachnospiraceae Catonella",
          "Lachnospiraceae Clostridium_XlVa",
          "Lachnospiraceae Dorea",
          "Lachnospiraceae Lachnoanaerobaculum",
          "Lachnospiraceae Oribacterium",
          "Lachnospiraceae Roseburia",
          "Lachnospiraceae Ruminococcus2",
          "Lachnospiraceae unclassified",
          "Lactobacillaceae Lactobacillus",
          "Lactobacillaceae Pediococcus",
          "Legionellaceae Legionella",
          "Leptotrichiaceae Leptotrichia",
          "Leptotrichiaceae Sneathia",
          "Leptotrichiaceae unclassified",
          "Leuconostocaceae Leuconostoc",
          "Methylobacteriaceae Methylobacterium",
          "Methylobacteriaceae Microvirga",
          "Methylococcaceae Methylocaldum",
          "Methylocystaceae Methylocystis",
          "Methylocystaceae unclassified",
          "Methylophilaceae Methylobacillus",
          "Methylophilaceae Methylophilus",
          "Methylophilaceae Methylotenera",
          "Methylophilaceae Methylovorus",
          "Microbacteriaceae Agreia",
          "Microbacteriaceae Agrococcus",
          "Microbacteriaceae Agromyces",
          "Microbacteriaceae Amnibacterium",
          "Microbacteriaceae Clavibacter",
          "Microbacteriaceae Curtobacterium",
          "Microbacteriaceae Frigoribacterium",
          "Microbacteriaceae Herbiconiux",
          "Microbacteriaceae Leifsonia",
          "Microbacteriaceae Leucobacter",
          "Microbacteriaceae Microbacterium",
          "Microbacteriaceae Plantibacter",
          "Microbacteriaceae Pseudoclavibacter",
          "Microbacteriaceae Rathayibacter",
          "Microbacteriaceae Zimmermannella",
          "Microbacteriaceae unclassified",
          "Micrococcaceae Arthrobacter",
          "Micrococcaceae Kocuria",
          "Micrococcaceae Micrococcus",
          "Micrococcaceae Nesterenkonia",
          "Micrococcaceae Rothia",
          "Micrococcaceae Zhihengliuella",
          "Micrococcaceae unclassified",
          "Micromonosporaceae Actinoplanes",
          "Micromonosporaceae Asanoa",
          "Micromonosporaceae Catellatospora",
          "Micromonosporaceae Luedemannella",
          "Micromonosporaceae Micromonospora",
          "Micromonosporaceae unclassified",
          "Moraxellaceae Acinetobacter",
          "Moraxellaceae Alkanindiges",
          "Moraxellaceae Enhydrobacter",
          "Moraxellaceae Moraxella",
          "Moraxellaceae Psychrobacter",
          "Moraxellaceae unclassified",
          "Mycobacteriaceae Mycobacterium",
          "Nakamurellaceae Nakamurella",
          "Neisseriaceae Eikenella",
          "Neisseriaceae Kingella",
          "Neisseriaceae Neisseria",
          "Neisseriaceae unclassified",
          "Nocardiaceae Gordonia",
          "Nocardiaceae Rhodococcus",
          "Nocardiaceae Williamsia",
          "Nocardiaceae unclassified",
          "Nocardioidaceae Aeromicrobium",
          "Nocardioidaceae Kribbella",
          "Nocardioidaceae Marmoricola",
          "Nocardioidaceae Nocardioides",
          "Nocardioidaceae unclassified",
          "Opitutaceae unclassified",
          "Oxalobacteraceae Duganella",
          "Oxalobacteraceae Massilia",
          "Oxalobacteraceae Naxibacter",
          "Oxalobacteraceae Noviherbaspirillum",
          "Oxalobacteraceae unclassified",
          "Paenibacillaceae_1 Paenibacillus",
          "Paenibacillaceae_1 Thermobacillus",
          "Pasteurellaceae Aggregatibacter",
          "Pasteurellaceae unclassified",
          "Peptostreptococcaceae Clostridium_XI",
          "Peptostreptococcaceae Peptostreptococcus",
          "Peptostreptococcaceae Sporacetigenium",
          "Phyllobacteriaceae Chelativorans",
          "Phyllobacteriaceae Mesorhizobium",
          "Phyllobacteriaceae Phyllobacterium",
          "Phyllobacteriaceae unclassified",
          "Planctomycetaceae unclassified",
          "Planococcaceae Chryseomicrobium",
          "Planococcaceae Paenisporosarcina",
          "Planococcaceae Planococcus",
          "Planococcaceae Planomicrobium",
          "Planococcaceae Sporosarcina",
          "Planococcaceae unclassified",
          "Porphyromonadaceae Barnesiella",
          "Porphyromonadaceae Butyricimonas",
          "Porphyromonadaceae Paludibacter",
          "Porphyromonadaceae Parabacteroides",
          "Porphyromonadaceae Porphyromonas",
          "Porphyromonadaceae unclassified",
          "Prevotellaceae Alloprevotella",
          "Prevotellaceae Prevotella",
          "Prevotellaceae unclassified",
          "Propionibacteriaceae Auraticoccus",
          "Propionibacteriaceae Friedmanniella",
          "Propionibacteriaceae Luteococcus",
          "Propionibacteriaceae Microlunatus",
          "Propionibacteriaceae Micropruina",
          "Propionibacteriaceae Propionibacterium",
          "Propionibacteriaceae Propionicimonas",
          "Propionibacteriaceae Tessaracoccus",
          "Propionibacteriaceae unclassified",
          "Pseudoalteromonadaceae Pseudoalteromonas",
          "Pseudomonadaceae Cellvibrio",
          "Pseudomonadaceae Pseudomonas",
          "Pseudomonadaceae Rhizobacter",
          "Pseudomonadaceae unclassified",
          "Pseudonocardiaceae Actinomycetospora",
          "Pseudonocardiaceae Pseudonocardia",
          "Pseudonocardiaceae Saccharopolyspora",
          "Pseudonocardiaceae Saccharothrix",
          "Pseudonocardiaceae unclassified",
          "Rhizobiaceae Ensifer",
          "Rhizobiaceae Kaistia",
          "Rhizobiaceae Rhizobium",
          "Rhodobacteraceae Agaricicola",
          "Rhodobacteraceae Amaricoccus",
          "Rhodobacteraceae Gemmobacter",
          "Rhodobacteraceae Palleronia",
          "Rhodobacteraceae Paracoccus",
          "Rhodobacteraceae Rhodobacter",
          "Rhodobacteraceae Rubellimicrobium",
          "Rhodobacteraceae unclassified",
          "Rhodocyclaceae Azospira",
          "Rhodocyclaceae Dechloromonas",
          "Rhodocyclaceae Methyloversatilis",
          "Rhodocyclaceae Propionivibrio",
          "Rhodocyclaceae Shinella",
          "Rhodocyclaceae unclassified",
          "Rhodospirillaceae Azospirillum",
          "Rhodospirillaceae Defluviicoccus",
          "Rhodospirillaceae Dongia",
          "Rhodospirillaceae Novispirillum",
          "Rhodospirillaceae Skermanella",
          "Rhodospirillaceae unclassified",
          "Rickettsiaceae Rickettsia",
          "Rikenellaceae Alistipes",
          "Rubrobacteraceae Rubrobacter",
          "Ruminococcaceae Butyricicoccus",
          "Ruminococcaceae Faecalibacterium",
          "Ruminococcaceae Oscillibacter",
          "Ruminococcaceae Pseudoflavonifractor",
          "Ruminococcaceae Ruminococcus",
          "Ruminococcaceae Subdoligranulum",
          "Ruminococcaceae unclassified",
          "Sanguibacteraceae Sanguibacter",
          "Saprospiraceae Haliscomenobacter",
          "Saprospiraceae unclassified",
          "Shewanellaceae Shewanella",
          "Sinobacteraceae Hydrocarboniphaga",
          "Sinobacteraceae Steroidobacter",
          "Solirubrobacteraceae Solirubrobacter",
          "Sphingobacteriaceae Arcticibacter",
          "Sphingobacteriaceae Mucilaginibacter",
          "Sphingobacteriaceae Nubsella",
          "Sphingobacteriaceae Pedobacter",
          "Sphingobacteriaceae Sphingobacterium",
          "Sphingobacteriaceae unclassified",
          "Sphingomonadaceae Novosphingobium",
          "Sphingomonadaceae Sphingobium",
          "Sphingomonadaceae Sphingomonas",
          "Sphingomonadaceae Sphingopyxis",
          "Sphingomonadaceae Sphingorhabdus",
          "Sphingomonadaceae Sphingosinicella",
          "Sphingomonadaceae unclassified",
          "Spirochaetaceae Treponema",
          "Staphylococcaceae Jeotgalicoccus",
          "Staphylococcaceae Macrococcus",
          "Staphylococcaceae Staphylococcus",
          "Staphylococcaceae unclassified",
          "Streptococcaceae Lactococcus",
          "Streptococcaceae Streptococcus",
          "Streptomycetaceae Streptomyces",
          "Streptomycetaceae unclassified",
          "Streptosporangiaceae unclassified",
          "Sutterellaceae Parasutterella",
          "Synergistaceae Jonquetella",
          "Thermaceae Thermus",
          "Trueperaceae Truepera",
          "Veillonellaceae Dialister",
          "Veillonellaceae Megasphaera",
          "Veillonellaceae Negativicoccus",
          "Veillonellaceae Veillonella",
          "Veillonellaceae unclassified",
          "Verrucomicrobiaceae Haloferula",
          "Verrucomicrobiaceae Luteolibacter",
          "Verrucomicrobiaceae Prosthecobacter",
          "Verrucomicrobiaceae Roseimicrobium",
          "Vibrionaceae Photobacterium",
          "Vibrionaceae Vibrio",
          "Xanthomonadaceae Dokdonella",
          "Xanthomonadaceae Dyella",
          "Xanthomonadaceae Lysobacter",
          "Xanthomonadaceae Pseudoxanthomonas",
          "Xanthomonadaceae Stenotrophomonas",
          "Xanthomonadaceae Thermomonas",
          "Xanthomonadaceae Xanthomonas",
          "Xanthomonadaceae unclassified",
          "unclassified unclassified",
          "unclassified unclassified",
          "unclassified unclassified",
          "unclassified unclassified",
          "unclassified unclassified",
          "unclassified unclassified",
          "unclassified unclassified",
          "unclassified unclassified",
          "unclassified unclassified",
          "unclassified unclassified",
          "unclassified unclassified",
          "unclassified unclassified",
          "unclassified unclassified",
          "unclassified unclassified",
          "Acidobacteria",
          "Actinobacteria",
          "Armatimonadetes",
          "Bacteroidetes",
          "Candidatus_Saccharibacteria",
          "Chloroflexi",
          "Deinococcus-Thermus",
          "Firmicutes",
          "Fusobacteria",
          "Gemmatimonadetes",
          "Microgenomates",
          "Parcubacteria",
          "Planctomycetes",
          "Proteobacteria",
          "Spirochaetes",
          "Synergistetes",
          "Verrucomicrobia",
          "unclassified"
         ],
         "name": "",
         "parents": [
          "Proteobacteria",
          "Proteobacteria",
          "Proteobacteria",
          "Proteobacteria",
          "Proteobacteria",
          "Proteobacteria",
          "Actinobacteria",
          "Actinobacteria",
          "Actinobacteria",
          "Actinobacteria",
          "Actinobacteria",
          "Actinobacteria",
          "Actinobacteria",
          "Firmicutes",
          "Firmicutes",
          "Firmicutes",
          "Firmicutes",
          "Firmicutes",
          "Proteobacteria",
          "Proteobacteria",
          "Proteobacteria",
          "Proteobacteria",
          "Proteobacteria",
          "Chloroflexi",
          "Proteobacteria",
          "Firmicutes",
          "Firmicutes",
          "Firmicutes",
          "Firmicutes",
          "Proteobacteria",
          "Proteobacteria",
          "Bacteroidetes",
          "Proteobacteria",
          "Proteobacteria",
          "Proteobacteria",
          "Actinobacteria",
          "Actinobacteria",
          "Actinobacteria",
          "Actinobacteria",
          "Proteobacteria",
          "Proteobacteria",
          "Proteobacteria",
          "Actinobacteria",
          "Proteobacteria",
          "Proteobacteria",
          "Proteobacteria",
          "Proteobacteria",
          "Proteobacteria",
          "Proteobacteria",
          "Proteobacteria",
          "Proteobacteria",
          "Proteobacteria",
          "Proteobacteria",
          "Chloroflexi",
          "Proteobacteria",
          "Proteobacteria",
          "Proteobacteria",
          "Firmicutes",
          "Firmicutes",
          "Firmicutes",
          "Firmicutes",
          "Firmicutes",
          "Firmicutes",
          "Proteobacteria",
          "Proteobacteria",
          "Proteobacteria",
          "Proteobacteria",
          "Proteobacteria",
          "Actinobacteria",
          "Actinobacteria",
          "Actinobacteria",
          "Bacteroidetes",
          "Bacteroidetes",
          "Bacteroidetes",
          "Bacteroidetes",
          "Bacteroidetes",
          "Bacteroidetes",
          "Bacteroidetes",
          "Bacteroidetes",
          "Bacteroidetes",
          "Bacteroidetes",
          "Bacteroidetes",
          "Chloroflexi",
          "Proteobacteria",
          "Firmicutes",
          "Firmicutes",
          "Firmicutes",
          "Firmicutes",
          "Firmicutes",
          "Firmicutes",
          "Firmicutes",
          "Firmicutes",
          "Firmicutes",
          "Firmicutes",
          "Firmicutes",
          "Proteobacteria",
          "Proteobacteria",
          "Proteobacteria",
          "Proteobacteria",
          "Proteobacteria",
          "Proteobacteria",
          "Proteobacteria",
          "Proteobacteria",
          "Proteobacteria",
          "Proteobacteria",
          "Proteobacteria",
          "Proteobacteria",
          "Proteobacteria",
          "Proteobacteria",
          "Proteobacteria",
          "Actinobacteria",
          "Actinobacteria",
          "Actinobacteria",
          "Actinobacteria",
          "Actinobacteria",
          "Actinobacteria",
          "Actinobacteria",
          "Actinobacteria",
          "Actinobacteria",
          "Proteobacteria",
          "Bacteroidetes",
          "Bacteroidetes",
          "Bacteroidetes",
          "Bacteroidetes",
          "Bacteroidetes",
          "Bacteroidetes",
          "Bacteroidetes",
          "Bacteroidetes",
          "Bacteroidetes",
          "Bacteroidetes",
          "Bacteroidetes",
          "Bacteroidetes",
          "Bacteroidetes",
          "Bacteroidetes",
          "Bacteroidetes",
          "Deinococcus-Thermus",
          "Deinococcus-Thermus",
          "Actinobacteria",
          "Actinobacteria",
          "Actinobacteria",
          "Actinobacteria",
          "Actinobacteria",
          "Actinobacteria",
          "Actinobacteria",
          "Proteobacteria",
          "Actinobacteria",
          "Proteobacteria",
          "Proteobacteria",
          "Proteobacteria",
          "Proteobacteria",
          "Proteobacteria",
          "Proteobacteria",
          "Firmicutes",
          "Firmicutes",
          "Firmicutes",
          "Firmicutes",
          "Firmicutes",
          "Firmicutes",
          "Proteobacteria",
          "Proteobacteria",
          "Proteobacteria",
          "Proteobacteria",
          "Firmicutes",
          "Firmicutes",
          "Actinobacteria",
          "Bacteroidetes",
          "Bacteroidetes",
          "Bacteroidetes",
          "Bacteroidetes",
          "Bacteroidetes",
          "Bacteroidetes",
          "Bacteroidetes",
          "Bacteroidetes",
          "Bacteroidetes",
          "Bacteroidetes",
          "Bacteroidetes",
          "Bacteroidetes",
          "Fusobacteria",
          "Actinobacteria",
          "Proteobacteria",
          "Gemmatimonadetes",
          "Actinobacteria",
          "Actinobacteria",
          "Actinobacteria",
          "Actinobacteria",
          "Proteobacteria",
          "Proteobacteria",
          "Chloroflexi",
          "Proteobacteria",
          "Proteobacteria",
          "Proteobacteria",
          "Proteobacteria",
          "Proteobacteria",
          "Proteobacteria",
          "Actinobacteria",
          "Firmicutes",
          "Actinobacteria",
          "Actinobacteria",
          "Actinobacteria",
          "Actinobacteria",
          "Actinobacteria",
          "Actinobacteria",
          "Actinobacteria",
          "Actinobacteria",
          "Actinobacteria",
          "Actinobacteria",
          "Actinobacteria",
          "Actinobacteria",
          "Actinobacteria",
          "Firmicutes",
          "Firmicutes",
          "Firmicutes",
          "Firmicutes",
          "Firmicutes",
          "Firmicutes",
          "Firmicutes",
          "Firmicutes",
          "Firmicutes",
          "Firmicutes",
          "Firmicutes",
          "Proteobacteria",
          "Fusobacteria",
          "Fusobacteria",
          "Fusobacteria",
          "Firmicutes",
          "Proteobacteria",
          "Proteobacteria",
          "Proteobacteria",
          "Proteobacteria",
          "Proteobacteria",
          "Proteobacteria",
          "Proteobacteria",
          "Proteobacteria",
          "Proteobacteria",
          "Actinobacteria",
          "Actinobacteria",
          "Actinobacteria",
          "Actinobacteria",
          "Actinobacteria",
          "Actinobacteria",
          "Actinobacteria",
          "Actinobacteria",
          "Actinobacteria",
          "Actinobacteria",
          "Actinobacteria",
          "Actinobacteria",
          "Actinobacteria",
          "Actinobacteria",
          "Actinobacteria",
          "Actinobacteria",
          "Actinobacteria",
          "Actinobacteria",
          "Actinobacteria",
          "Actinobacteria",
          "Actinobacteria",
          "Actinobacteria",
          "Actinobacteria",
          "Actinobacteria",
          "Actinobacteria",
          "Actinobacteria",
          "Actinobacteria",
          "Actinobacteria",
          "Actinobacteria",
          "Proteobacteria",
          "Proteobacteria",
          "Proteobacteria",
          "Proteobacteria",
          "Proteobacteria",
          "Proteobacteria",
          "Actinobacteria",
          "Actinobacteria",
          "Proteobacteria",
          "Proteobacteria",
          "Proteobacteria",
          "Proteobacteria",
          "Actinobacteria",
          "Actinobacteria",
          "Actinobacteria",
          "Actinobacteria",
          "Actinobacteria",
          "Actinobacteria",
          "Actinobacteria",
          "Actinobacteria",
          "Actinobacteria",
          "Verrucomicrobia",
          "Proteobacteria",
          "Proteobacteria",
          "Proteobacteria",
          "Proteobacteria",
          "Proteobacteria",
          "Firmicutes",
          "Firmicutes",
          "Proteobacteria",
          "Proteobacteria",
          "Firmicutes",
          "Firmicutes",
          "Firmicutes",
          "Proteobacteria",
          "Proteobacteria",
          "Proteobacteria",
          "Proteobacteria",
          "Planctomycetes",
          "Firmicutes",
          "Firmicutes",
          "Firmicutes",
          "Firmicutes",
          "Firmicutes",
          "Firmicutes",
          "Bacteroidetes",
          "Bacteroidetes",
          "Bacteroidetes",
          "Bacteroidetes",
          "Bacteroidetes",
          "Bacteroidetes",
          "Bacteroidetes",
          "Bacteroidetes",
          "Bacteroidetes",
          "Actinobacteria",
          "Actinobacteria",
          "Actinobacteria",
          "Actinobacteria",
          "Actinobacteria",
          "Actinobacteria",
          "Actinobacteria",
          "Actinobacteria",
          "Actinobacteria",
          "Proteobacteria",
          "Proteobacteria",
          "Proteobacteria",
          "Proteobacteria",
          "Proteobacteria",
          "Actinobacteria",
          "Actinobacteria",
          "Actinobacteria",
          "Actinobacteria",
          "Actinobacteria",
          "Proteobacteria",
          "Proteobacteria",
          "Proteobacteria",
          "Proteobacteria",
          "Proteobacteria",
          "Proteobacteria",
          "Proteobacteria",
          "Proteobacteria",
          "Proteobacteria",
          "Proteobacteria",
          "Proteobacteria",
          "Proteobacteria",
          "Proteobacteria",
          "Proteobacteria",
          "Proteobacteria",
          "Proteobacteria",
          "Proteobacteria",
          "Proteobacteria",
          "Proteobacteria",
          "Proteobacteria",
          "Proteobacteria",
          "Proteobacteria",
          "Proteobacteria",
          "Proteobacteria",
          "Bacteroidetes",
          "Actinobacteria",
          "Firmicutes",
          "Firmicutes",
          "Firmicutes",
          "Firmicutes",
          "Firmicutes",
          "Firmicutes",
          "Firmicutes",
          "Actinobacteria",
          "Bacteroidetes",
          "Bacteroidetes",
          "Proteobacteria",
          "Proteobacteria",
          "Proteobacteria",
          "Actinobacteria",
          "Bacteroidetes",
          "Bacteroidetes",
          "Bacteroidetes",
          "Bacteroidetes",
          "Bacteroidetes",
          "Bacteroidetes",
          "Proteobacteria",
          "Proteobacteria",
          "Proteobacteria",
          "Proteobacteria",
          "Proteobacteria",
          "Proteobacteria",
          "Proteobacteria",
          "Spirochaetes",
          "Firmicutes",
          "Firmicutes",
          "Firmicutes",
          "Firmicutes",
          "Firmicutes",
          "Firmicutes",
          "Actinobacteria",
          "Actinobacteria",
          "Actinobacteria",
          "Proteobacteria",
          "Synergistetes",
          "Deinococcus-Thermus",
          "Deinococcus-Thermus",
          "Firmicutes",
          "Firmicutes",
          "Firmicutes",
          "Firmicutes",
          "Firmicutes",
          "Verrucomicrobia",
          "Verrucomicrobia",
          "Verrucomicrobia",
          "Verrucomicrobia",
          "Proteobacteria",
          "Proteobacteria",
          "Proteobacteria",
          "Proteobacteria",
          "Proteobacteria",
          "Proteobacteria",
          "Proteobacteria",
          "Proteobacteria",
          "Proteobacteria",
          "Proteobacteria",
          "Acidobacteria",
          "Actinobacteria",
          "Armatimonadetes",
          "Bacteroidetes",
          "Candidatus_Saccharibacteria",
          "Chloroflexi",
          "Deinococcus-Thermus",
          "Firmicutes",
          "Fusobacteria",
          "Microgenomates",
          "Parcubacteria",
          "Proteobacteria",
          "Verrucomicrobia",
          "unclassified",
          "",
          "",
          "",
          "",
          "",
          "",
          "",
          "",
          "",
          "",
          "",
          "",
          "",
          "",
          "",
          "",
          "",
          ""
         ],
         "type": "sunburst",
         "values": [
          1,
          0,
          0,
          0,
          0,
          3,
          0,
          0,
          20,
          0,
          0,
          0,
          1,
          0,
          2,
          0,
          0,
          0,
          3,
          0,
          0,
          0,
          17,
          0,
          0,
          3,
          0,
          19,
          6,
          0,
          0,
          12,
          0,
          4,
          8,
          0,
          0,
          1,
          0,
          27,
          0,
          4,
          0,
          0,
          0,
          5,
          10,
          0,
          0,
          0,
          41,
          0,
          0,
          0,
          0,
          0,
          0,
          1,
          1,
          0,
          0,
          8,
          0,
          0,
          7,
          5,
          0,
          0,
          0,
          0,
          0,
          0,
          0,
          0,
          0,
          0,
          0,
          0,
          0,
          0,
          0,
          7,
          0,
          1,
          0,
          0,
          0,
          20,
          1,
          0,
          1,
          0,
          0,
          4,
          0,
          0,
          0,
          1,
          0,
          0,
          0,
          0,
          2,
          0,
          0,
          6,
          23,
          0,
          4,
          15,
          0,
          2,
          0,
          0,
          0,
          0,
          86,
          0,
          0,
          0,
          0,
          0,
          0,
          0,
          0,
          0,
          0,
          0,
          0,
          0,
          0,
          0,
          0,
          0,
          2,
          10,
          0,
          0,
          3,
          0,
          0,
          9,
          0,
          0,
          0,
          1,
          0,
          0,
          2,
          0,
          0,
          3,
          0,
          0,
          0,
          2,
          6,
          0,
          0,
          0,
          0,
          0,
          0,
          7,
          0,
          0,
          6,
          6,
          7,
          0,
          0,
          11,
          0,
          0,
          0,
          0,
          0,
          14,
          0,
          0,
          0,
          0,
          0,
          0,
          0,
          0,
          0,
          0,
          29,
          11,
          0,
          0,
          3,
          0,
          0,
          0,
          0,
          0,
          0,
          0,
          0,
          0,
          0,
          0,
          0,
          0,
          0,
          0,
          0,
          3,
          0,
          0,
          0,
          3,
          9,
          0,
          0,
          5,
          34,
          0,
          0,
          1,
          0,
          0,
          0,
          9,
          0,
          0,
          0,
          0,
          0,
          0,
          0,
          0,
          0,
          0,
          0,
          0,
          7,
          0,
          0,
          0,
          0,
          0,
          0,
          0,
          0,
          0,
          0,
          12,
          7,
          6,
          12,
          0,
          30,
          0,
          0,
          0,
          0,
          0,
          0,
          0,
          0,
          35,
          0,
          20,
          1,
          0,
          0,
          12,
          0,
          0,
          1,
          13,
          6,
          2,
          2,
          0,
          0,
          0,
          0,
          0,
          0,
          1,
          0,
          5,
          0,
          0,
          0,
          0,
          0,
          0,
          1,
          30,
          0,
          0,
          0,
          0,
          0,
          0,
          35,
          0,
          0,
          0,
          0,
          0,
          3,
          0,
          0,
          0,
          0,
          0,
          1,
          0,
          5,
          37,
          0,
          0,
          6,
          0,
          0,
          0,
          1392,
          0,
          0,
          0,
          8,
          0,
          67,
          0,
          2,
          0,
          0,
          0,
          0,
          0,
          0,
          0,
          0,
          0,
          0,
          0,
          0,
          5,
          0,
          0,
          0,
          3,
          0,
          1,
          0,
          0,
          0,
          0,
          0,
          0,
          0,
          0,
          0,
          0,
          0,
          8,
          0,
          0,
          0,
          0,
          0,
          0,
          0,
          8,
          0,
          0,
          0,
          0,
          0,
          0,
          0,
          0,
          0,
          1,
          0,
          0,
          7,
          4,
          31,
          0,
          0,
          0,
          6,
          0,
          0,
          0,
          259,
          0,
          0,
          253,
          0,
          0,
          0,
          0,
          0,
          0,
          0,
          6,
          5,
          0,
          0,
          1,
          0,
          0,
          0,
          0,
          0,
          0,
          0,
          0,
          0,
          0,
          0,
          6,
          1,
          9,
          6,
          41,
          0,
          5,
          10,
          0,
          0,
          24,
          0,
          0,
          0,
          52,
          0,
          30,
          6,
          1669,
          0,
          100,
          10,
          0,
          10,
          686,
          15,
          0,
          0,
          0,
          0,
          593,
          0,
          0,
          0,
          30
         ]
        }
       ],
       "layout": {
        "legend": {
         "tracegroupgap": 0
        },
        "sunburstcolorway": [
         "#440154",
         "#482878",
         "#3e4989",
         "#31688e",
         "#26828e",
         "#1f9e89",
         "#35b779",
         "#6ece58",
         "#b5de2b",
         "#fde725"
        ],
        "template": {
         "data": {
          "bar": [
           {
            "error_x": {
             "color": "#2a3f5f"
            },
            "error_y": {
             "color": "#2a3f5f"
            },
            "marker": {
             "line": {
              "color": "#E5ECF6",
              "width": 0.5
             }
            },
            "type": "bar"
           }
          ],
          "barpolar": [
           {
            "marker": {
             "line": {
              "color": "#E5ECF6",
              "width": 0.5
             }
            },
            "type": "barpolar"
           }
          ],
          "carpet": [
           {
            "aaxis": {
             "endlinecolor": "#2a3f5f",
             "gridcolor": "white",
             "linecolor": "white",
             "minorgridcolor": "white",
             "startlinecolor": "#2a3f5f"
            },
            "baxis": {
             "endlinecolor": "#2a3f5f",
             "gridcolor": "white",
             "linecolor": "white",
             "minorgridcolor": "white",
             "startlinecolor": "#2a3f5f"
            },
            "type": "carpet"
           }
          ],
          "choropleth": [
           {
            "colorbar": {
             "outlinewidth": 0,
             "ticks": ""
            },
            "type": "choropleth"
           }
          ],
          "contour": [
           {
            "colorbar": {
             "outlinewidth": 0,
             "ticks": ""
            },
            "colorscale": [
             [
              0,
              "#0d0887"
             ],
             [
              0.1111111111111111,
              "#46039f"
             ],
             [
              0.2222222222222222,
              "#7201a8"
             ],
             [
              0.3333333333333333,
              "#9c179e"
             ],
             [
              0.4444444444444444,
              "#bd3786"
             ],
             [
              0.5555555555555556,
              "#d8576b"
             ],
             [
              0.6666666666666666,
              "#ed7953"
             ],
             [
              0.7777777777777778,
              "#fb9f3a"
             ],
             [
              0.8888888888888888,
              "#fdca26"
             ],
             [
              1,
              "#f0f921"
             ]
            ],
            "type": "contour"
           }
          ],
          "contourcarpet": [
           {
            "colorbar": {
             "outlinewidth": 0,
             "ticks": ""
            },
            "type": "contourcarpet"
           }
          ],
          "heatmap": [
           {
            "colorbar": {
             "outlinewidth": 0,
             "ticks": ""
            },
            "colorscale": [
             [
              0,
              "#0d0887"
             ],
             [
              0.1111111111111111,
              "#46039f"
             ],
             [
              0.2222222222222222,
              "#7201a8"
             ],
             [
              0.3333333333333333,
              "#9c179e"
             ],
             [
              0.4444444444444444,
              "#bd3786"
             ],
             [
              0.5555555555555556,
              "#d8576b"
             ],
             [
              0.6666666666666666,
              "#ed7953"
             ],
             [
              0.7777777777777778,
              "#fb9f3a"
             ],
             [
              0.8888888888888888,
              "#fdca26"
             ],
             [
              1,
              "#f0f921"
             ]
            ],
            "type": "heatmap"
           }
          ],
          "heatmapgl": [
           {
            "colorbar": {
             "outlinewidth": 0,
             "ticks": ""
            },
            "colorscale": [
             [
              0,
              "#0d0887"
             ],
             [
              0.1111111111111111,
              "#46039f"
             ],
             [
              0.2222222222222222,
              "#7201a8"
             ],
             [
              0.3333333333333333,
              "#9c179e"
             ],
             [
              0.4444444444444444,
              "#bd3786"
             ],
             [
              0.5555555555555556,
              "#d8576b"
             ],
             [
              0.6666666666666666,
              "#ed7953"
             ],
             [
              0.7777777777777778,
              "#fb9f3a"
             ],
             [
              0.8888888888888888,
              "#fdca26"
             ],
             [
              1,
              "#f0f921"
             ]
            ],
            "type": "heatmapgl"
           }
          ],
          "histogram": [
           {
            "marker": {
             "colorbar": {
              "outlinewidth": 0,
              "ticks": ""
             }
            },
            "type": "histogram"
           }
          ],
          "histogram2d": [
           {
            "colorbar": {
             "outlinewidth": 0,
             "ticks": ""
            },
            "colorscale": [
             [
              0,
              "#0d0887"
             ],
             [
              0.1111111111111111,
              "#46039f"
             ],
             [
              0.2222222222222222,
              "#7201a8"
             ],
             [
              0.3333333333333333,
              "#9c179e"
             ],
             [
              0.4444444444444444,
              "#bd3786"
             ],
             [
              0.5555555555555556,
              "#d8576b"
             ],
             [
              0.6666666666666666,
              "#ed7953"
             ],
             [
              0.7777777777777778,
              "#fb9f3a"
             ],
             [
              0.8888888888888888,
              "#fdca26"
             ],
             [
              1,
              "#f0f921"
             ]
            ],
            "type": "histogram2d"
           }
          ],
          "histogram2dcontour": [
           {
            "colorbar": {
             "outlinewidth": 0,
             "ticks": ""
            },
            "colorscale": [
             [
              0,
              "#0d0887"
             ],
             [
              0.1111111111111111,
              "#46039f"
             ],
             [
              0.2222222222222222,
              "#7201a8"
             ],
             [
              0.3333333333333333,
              "#9c179e"
             ],
             [
              0.4444444444444444,
              "#bd3786"
             ],
             [
              0.5555555555555556,
              "#d8576b"
             ],
             [
              0.6666666666666666,
              "#ed7953"
             ],
             [
              0.7777777777777778,
              "#fb9f3a"
             ],
             [
              0.8888888888888888,
              "#fdca26"
             ],
             [
              1,
              "#f0f921"
             ]
            ],
            "type": "histogram2dcontour"
           }
          ],
          "mesh3d": [
           {
            "colorbar": {
             "outlinewidth": 0,
             "ticks": ""
            },
            "type": "mesh3d"
           }
          ],
          "parcoords": [
           {
            "line": {
             "colorbar": {
              "outlinewidth": 0,
              "ticks": ""
             }
            },
            "type": "parcoords"
           }
          ],
          "pie": [
           {
            "automargin": true,
            "type": "pie"
           }
          ],
          "scatter": [
           {
            "marker": {
             "colorbar": {
              "outlinewidth": 0,
              "ticks": ""
             }
            },
            "type": "scatter"
           }
          ],
          "scatter3d": [
           {
            "line": {
             "colorbar": {
              "outlinewidth": 0,
              "ticks": ""
             }
            },
            "marker": {
             "colorbar": {
              "outlinewidth": 0,
              "ticks": ""
             }
            },
            "type": "scatter3d"
           }
          ],
          "scattercarpet": [
           {
            "marker": {
             "colorbar": {
              "outlinewidth": 0,
              "ticks": ""
             }
            },
            "type": "scattercarpet"
           }
          ],
          "scattergeo": [
           {
            "marker": {
             "colorbar": {
              "outlinewidth": 0,
              "ticks": ""
             }
            },
            "type": "scattergeo"
           }
          ],
          "scattergl": [
           {
            "marker": {
             "colorbar": {
              "outlinewidth": 0,
              "ticks": ""
             }
            },
            "type": "scattergl"
           }
          ],
          "scattermapbox": [
           {
            "marker": {
             "colorbar": {
              "outlinewidth": 0,
              "ticks": ""
             }
            },
            "type": "scattermapbox"
           }
          ],
          "scatterpolar": [
           {
            "marker": {
             "colorbar": {
              "outlinewidth": 0,
              "ticks": ""
             }
            },
            "type": "scatterpolar"
           }
          ],
          "scatterpolargl": [
           {
            "marker": {
             "colorbar": {
              "outlinewidth": 0,
              "ticks": ""
             }
            },
            "type": "scatterpolargl"
           }
          ],
          "scatterternary": [
           {
            "marker": {
             "colorbar": {
              "outlinewidth": 0,
              "ticks": ""
             }
            },
            "type": "scatterternary"
           }
          ],
          "surface": [
           {
            "colorbar": {
             "outlinewidth": 0,
             "ticks": ""
            },
            "colorscale": [
             [
              0,
              "#0d0887"
             ],
             [
              0.1111111111111111,
              "#46039f"
             ],
             [
              0.2222222222222222,
              "#7201a8"
             ],
             [
              0.3333333333333333,
              "#9c179e"
             ],
             [
              0.4444444444444444,
              "#bd3786"
             ],
             [
              0.5555555555555556,
              "#d8576b"
             ],
             [
              0.6666666666666666,
              "#ed7953"
             ],
             [
              0.7777777777777778,
              "#fb9f3a"
             ],
             [
              0.8888888888888888,
              "#fdca26"
             ],
             [
              1,
              "#f0f921"
             ]
            ],
            "type": "surface"
           }
          ],
          "table": [
           {
            "cells": {
             "fill": {
              "color": "#EBF0F8"
             },
             "line": {
              "color": "white"
             }
            },
            "header": {
             "fill": {
              "color": "#C8D4E3"
             },
             "line": {
              "color": "white"
             }
            },
            "type": "table"
           }
          ]
         },
         "layout": {
          "annotationdefaults": {
           "arrowcolor": "#2a3f5f",
           "arrowhead": 0,
           "arrowwidth": 1
          },
          "coloraxis": {
           "colorbar": {
            "outlinewidth": 0,
            "ticks": ""
           }
          },
          "colorscale": {
           "diverging": [
            [
             0,
             "#8e0152"
            ],
            [
             0.1,
             "#c51b7d"
            ],
            [
             0.2,
             "#de77ae"
            ],
            [
             0.3,
             "#f1b6da"
            ],
            [
             0.4,
             "#fde0ef"
            ],
            [
             0.5,
             "#f7f7f7"
            ],
            [
             0.6,
             "#e6f5d0"
            ],
            [
             0.7,
             "#b8e186"
            ],
            [
             0.8,
             "#7fbc41"
            ],
            [
             0.9,
             "#4d9221"
            ],
            [
             1,
             "#276419"
            ]
           ],
           "sequential": [
            [
             0,
             "#0d0887"
            ],
            [
             0.1111111111111111,
             "#46039f"
            ],
            [
             0.2222222222222222,
             "#7201a8"
            ],
            [
             0.3333333333333333,
             "#9c179e"
            ],
            [
             0.4444444444444444,
             "#bd3786"
            ],
            [
             0.5555555555555556,
             "#d8576b"
            ],
            [
             0.6666666666666666,
             "#ed7953"
            ],
            [
             0.7777777777777778,
             "#fb9f3a"
            ],
            [
             0.8888888888888888,
             "#fdca26"
            ],
            [
             1,
             "#f0f921"
            ]
           ],
           "sequentialminus": [
            [
             0,
             "#0d0887"
            ],
            [
             0.1111111111111111,
             "#46039f"
            ],
            [
             0.2222222222222222,
             "#7201a8"
            ],
            [
             0.3333333333333333,
             "#9c179e"
            ],
            [
             0.4444444444444444,
             "#bd3786"
            ],
            [
             0.5555555555555556,
             "#d8576b"
            ],
            [
             0.6666666666666666,
             "#ed7953"
            ],
            [
             0.7777777777777778,
             "#fb9f3a"
            ],
            [
             0.8888888888888888,
             "#fdca26"
            ],
            [
             1,
             "#f0f921"
            ]
           ]
          },
          "colorway": [
           "#636efa",
           "#EF553B",
           "#00cc96",
           "#ab63fa",
           "#FFA15A",
           "#19d3f3",
           "#FF6692",
           "#B6E880",
           "#FF97FF",
           "#FECB52"
          ],
          "font": {
           "color": "#2a3f5f"
          },
          "geo": {
           "bgcolor": "white",
           "lakecolor": "white",
           "landcolor": "#E5ECF6",
           "showlakes": true,
           "showland": true,
           "subunitcolor": "white"
          },
          "hoverlabel": {
           "align": "left"
          },
          "hovermode": "closest",
          "mapbox": {
           "style": "light"
          },
          "paper_bgcolor": "white",
          "plot_bgcolor": "#E5ECF6",
          "polar": {
           "angularaxis": {
            "gridcolor": "white",
            "linecolor": "white",
            "ticks": ""
           },
           "bgcolor": "#E5ECF6",
           "radialaxis": {
            "gridcolor": "white",
            "linecolor": "white",
            "ticks": ""
           }
          },
          "scene": {
           "xaxis": {
            "backgroundcolor": "#E5ECF6",
            "gridcolor": "white",
            "gridwidth": 2,
            "linecolor": "white",
            "showbackground": true,
            "ticks": "",
            "zerolinecolor": "white"
           },
           "yaxis": {
            "backgroundcolor": "#E5ECF6",
            "gridcolor": "white",
            "gridwidth": 2,
            "linecolor": "white",
            "showbackground": true,
            "ticks": "",
            "zerolinecolor": "white"
           },
           "zaxis": {
            "backgroundcolor": "#E5ECF6",
            "gridcolor": "white",
            "gridwidth": 2,
            "linecolor": "white",
            "showbackground": true,
            "ticks": "",
            "zerolinecolor": "white"
           }
          },
          "shapedefaults": {
           "line": {
            "color": "#2a3f5f"
           }
          },
          "ternary": {
           "aaxis": {
            "gridcolor": "white",
            "linecolor": "white",
            "ticks": ""
           },
           "baxis": {
            "gridcolor": "white",
            "linecolor": "white",
            "ticks": ""
           },
           "bgcolor": "#E5ECF6",
           "caxis": {
            "gridcolor": "white",
            "linecolor": "white",
            "ticks": ""
           }
          },
          "title": {
           "x": 0.05
          },
          "xaxis": {
           "automargin": true,
           "gridcolor": "white",
           "linecolor": "white",
           "ticks": "",
           "title": {
            "standoff": 15
           },
           "zerolinecolor": "white",
           "zerolinewidth": 2
          },
          "yaxis": {
           "automargin": true,
           "gridcolor": "white",
           "linecolor": "white",
           "ticks": "",
           "title": {
            "standoff": 15
           },
           "zerolinecolor": "white",
           "zerolinewidth": 2
          }
         }
        },
        "title": {
         "text": "Repartition des bacteries dans l'echantillon door_in_1"
        }
       }
      },
      "text/html": [
       "<div>                            <div id=\"b258be5c-1d4f-4fa1-a326-022f71e1cefe\" class=\"plotly-graph-div\" style=\"height:525px; width:100%;\"></div>            <script type=\"text/javascript\">                require([\"plotly\"], function(Plotly) {                    window.PLOTLYENV=window.PLOTLYENV || {};                                    if (document.getElementById(\"b258be5c-1d4f-4fa1-a326-022f71e1cefe\")) {                    Plotly.newPlot(                        \"b258be5c-1d4f-4fa1-a326-022f71e1cefe\",                        [{\"branchvalues\": \"total\", \"domain\": {\"x\": [0.0, 1.0], \"y\": [0.0, 1.0]}, \"hovertemplate\": \"labels=%{label}<br>door_in_1=%{value}<br>parent=%{parent}<br>id=%{id}<extra></extra>\", \"ids\": [\"Proteobacteria/Acetobacteraceae Acetobacter\", \"Proteobacteria/Acetobacteraceae Belnapia\", \"Proteobacteria/Acetobacteraceae Endobacter\", \"Proteobacteria/Acetobacteraceae Roseomonas\", \"Proteobacteria/Acetobacteraceae Stella\", \"Proteobacteria/Acetobacteraceae unclassified\", \"Actinobacteria/Acidimicrobiaceae Ilumatobacter\", \"Actinobacteria/Actinomycetaceae Actinobaculum\", \"Actinobacteria/Actinomycetaceae Actinomyces\", \"Actinobacteria/Actinomycetaceae Mobiluncus\", \"Actinobacteria/Actinomycetaceae Trueperella\", \"Actinobacteria/Actinomycetaceae Varibaculum\", \"Actinobacteria/Actinomycetaceae unclassified\", \"Firmicutes/Aerococcaceae Abiotrophia\", \"Firmicutes/Aerococcaceae Aerococcus\", \"Firmicutes/Aerococcaceae Eremococcus\", \"Firmicutes/Aerococcaceae Facklamia\", \"Firmicutes/Aerococcaceae unclassified\", \"Proteobacteria/Aeromonadaceae Aeromonas\", \"Proteobacteria/Aeromonadaceae Tolumonas\", \"Proteobacteria/Alcaligenaceae Achromobacter\", \"Proteobacteria/Alcaligenaceae Azohydromonas\", \"Proteobacteria/Alcaligenaceae unclassified\", \"Chloroflexi/Anaerolineaceae unclassified\", \"Proteobacteria/Aurantimonadaceae Aurantimonas\", \"Firmicutes/Bacillaceae_1 Anoxybacillus\", \"Firmicutes/Bacillaceae_1 Bacillus\", \"Firmicutes/Bacillales_Incertae_Sedis_XI Gemella\", \"Firmicutes/Bacillales_Incertae_Sedis_XII Exiguobacterium\", \"Proteobacteria/Bacteriovoracaceae Peredibacter\", \"Proteobacteria/Bacteriovoracaceae unclassified\", \"Bacteroidetes/Bacteroidaceae Bacteroides\", \"Proteobacteria/Bdellovibrionaceae Bdellovibrio\", \"Proteobacteria/Beijerinckiaceae Chelatococcus\", \"Proteobacteria/Beijerinckiaceae unclassified\", \"Actinobacteria/Beutenbergiaceae unclassified\", \"Actinobacteria/Bifidobacteriaceae Bifidobacterium\", \"Actinobacteria/Bifidobacteriaceae Gardnerella\", \"Actinobacteria/Bogoriellaceae Georgenia\", \"Proteobacteria/Bradyrhizobiaceae Afipia\", \"Proteobacteria/Bradyrhizobiaceae Bosea\", \"Proteobacteria/Bradyrhizobiaceae unclassified\", \"Actinobacteria/Brevibacteriaceae Brevibacterium\", \"Proteobacteria/Brucellaceae Ochrobactrum\", \"Proteobacteria/Brucellaceae Pseudochrobactrum\", \"Proteobacteria/Burkholderiaceae Burkholderia\", \"Proteobacteria/Burkholderiaceae Cupriavidus\", \"Proteobacteria/Burkholderiaceae Limnobacter\", \"Proteobacteria/Burkholderiaceae Polynucleobacter\", \"Proteobacteria/Burkholderiaceae Ralstonia\", \"Proteobacteria/Burkholderiales_incertae_sedis Aquabacterium\", \"Proteobacteria/Burkholderiales_incertae_sedis Aquincola\", \"Proteobacteria/Burkholderiales_incertae_sedis unclassified\", \"Chloroflexi/Caldilineaceae unclassified\", \"Proteobacteria/Campylobacteraceae Arcobacter\", \"Proteobacteria/Campylobacteraceae Campylobacter\", \"Proteobacteria/Cardiobacteriaceae Cardiobacterium\", \"Firmicutes/Carnobacteriaceae Atopostipes\", \"Firmicutes/Carnobacteriaceae Carnobacterium\", \"Firmicutes/Carnobacteriaceae Desemzia\", \"Firmicutes/Carnobacteriaceae Dolosigranulum\", \"Firmicutes/Carnobacteriaceae Granulicatella\", \"Firmicutes/Carnobacteriaceae Trichococcus\", \"Proteobacteria/Caulobacteraceae Asticcacaulis\", \"Proteobacteria/Caulobacteraceae Brevundimonas\", \"Proteobacteria/Caulobacteraceae Caulobacter\", \"Proteobacteria/Caulobacteraceae Phenylobacterium\", \"Proteobacteria/Caulobacteraceae unclassified\", \"Actinobacteria/Cellulomonadaceae Cellulomonas\", \"Actinobacteria/Cellulomonadaceae Oerskovia\", \"Actinobacteria/Cellulomonadaceae unclassified\", \"Bacteroidetes/Chitinophagaceae Chitinophaga\", \"Bacteroidetes/Chitinophagaceae Ferruginibacter\", \"Bacteroidetes/Chitinophagaceae Flavisolibacter\", \"Bacteroidetes/Chitinophagaceae Flavitalea\", \"Bacteroidetes/Chitinophagaceae Lacibacter\", \"Bacteroidetes/Chitinophagaceae Niabella\", \"Bacteroidetes/Chitinophagaceae Parasegetibacter\", \"Bacteroidetes/Chitinophagaceae Sediminibacterium\", \"Bacteroidetes/Chitinophagaceae Segetibacter\", \"Bacteroidetes/Chitinophagaceae Terrimonas\", \"Bacteroidetes/Chitinophagaceae unclassified\", \"Chloroflexi/Chloroflexaceae unclassified\", \"Proteobacteria/Chromatiaceae Rheinheimera\", \"Firmicutes/Clostridiaceae_1 Clostridium_sensu_stricto\", \"Firmicutes/Clostridiaceae_1 Sarcina\", \"Firmicutes/Clostridiaceae_1 unclassified\", \"Firmicutes/Clostridiales_Incertae_Sedis_XI Anaerococcus\", \"Firmicutes/Clostridiales_Incertae_Sedis_XI Finegoldia\", \"Firmicutes/Clostridiales_Incertae_Sedis_XI Parvimonas\", \"Firmicutes/Clostridiales_Incertae_Sedis_XI Peptoniphilus\", \"Firmicutes/Clostridiales_Incertae_Sedis_XI unclassified\", \"Firmicutes/Clostridiales_Incertae_Sedis_XIII Anaerovorax\", \"Firmicutes/Clostridiales_Incertae_Sedis_XIII Mogibacterium\", \"Firmicutes/Clostridiales_Incertae_Sedis_XIII unclassified\", \"Proteobacteria/Comamonadaceae Acidovorax\", \"Proteobacteria/Comamonadaceae Albidiferax\", \"Proteobacteria/Comamonadaceae Comamonas\", \"Proteobacteria/Comamonadaceae Delftia\", \"Proteobacteria/Comamonadaceae Diaphorobacter\", \"Proteobacteria/Comamonadaceae Hydrogenophaga\", \"Proteobacteria/Comamonadaceae Limnohabitans\", \"Proteobacteria/Comamonadaceae Pelomonas\", \"Proteobacteria/Comamonadaceae Polaromonas\", \"Proteobacteria/Comamonadaceae Pseudorhodoferax\", \"Proteobacteria/Comamonadaceae Roseateles\", \"Proteobacteria/Comamonadaceae Schlegelella\", \"Proteobacteria/Comamonadaceae Simplicispira\", \"Proteobacteria/Comamonadaceae Variovorax\", \"Proteobacteria/Comamonadaceae unclassified\", \"Actinobacteria/Coriobacteriaceae Asaccharobacter\", \"Actinobacteria/Coriobacteriaceae Atopobium\", \"Actinobacteria/Coriobacteriaceae Collinsella\", \"Actinobacteria/Coriobacteriaceae Eggerthella\", \"Actinobacteria/Coriobacteriaceae Gordonibacter\", \"Actinobacteria/Coriobacteriaceae unclassified\", \"Actinobacteria/Corynebacteriaceae Corynebacterium\", \"Actinobacteria/Corynebacteriaceae Turicella\", \"Actinobacteria/Corynebacteriaceae unclassified\", \"Proteobacteria/Coxiellaceae Aquicella\", \"Bacteroidetes/Cryomorphaceae Fluviicola\", \"Bacteroidetes/Cytophagaceae Adhaeribacter\", \"Bacteroidetes/Cytophagaceae Cytophaga\", \"Bacteroidetes/Cytophagaceae Dyadobacter\", \"Bacteroidetes/Cytophagaceae Emticicia\", \"Bacteroidetes/Cytophagaceae Flectobacillus\", \"Bacteroidetes/Cytophagaceae Hymenobacter\", \"Bacteroidetes/Cytophagaceae Larkinella\", \"Bacteroidetes/Cytophagaceae Persicitalea\", \"Bacteroidetes/Cytophagaceae Pontibacter\", \"Bacteroidetes/Cytophagaceae Rhodocytophaga\", \"Bacteroidetes/Cytophagaceae Rudanella\", \"Bacteroidetes/Cytophagaceae Runella\", \"Bacteroidetes/Cytophagaceae Spirosoma\", \"Bacteroidetes/Cytophagaceae unclassified\", \"Deinococcus-Thermus/Deinococcaceae Deinococcus\", \"Deinococcus-Thermus/Deinococcaceae unclassified\", \"Actinobacteria/Demequinaceae Demequina\", \"Actinobacteria/Dermabacteraceae Brachybacterium\", \"Actinobacteria/Dermabacteraceae Dermabacter\", \"Actinobacteria/Dermabacteraceae unclassified\", \"Actinobacteria/Dermacoccaceae Dermacoccus\", \"Actinobacteria/Dermacoccaceae Kytococcus\", \"Actinobacteria/Dermatophilaceae Piscicoccus\", \"Proteobacteria/Desulfobulbaceae Desulfobulbus\", \"Actinobacteria/Dietziaceae Dietzia\", \"Proteobacteria/Enterobacteriaceae Buchnera\", \"Proteobacteria/Enterobacteriaceae Citrobacter\", \"Proteobacteria/Enterobacteriaceae Enterobacter\", \"Proteobacteria/Enterobacteriaceae Pantoea\", \"Proteobacteria/Enterobacteriaceae Providencia\", \"Proteobacteria/Enterobacteriaceae unclassified\", \"Firmicutes/Enterococcaceae Enterococcus\", \"Firmicutes/Enterococcaceae Vagococcus\", \"Firmicutes/Erysipelotrichaceae Allobaculum\", \"Firmicutes/Erysipelotrichaceae Solobacterium\", \"Firmicutes/Erysipelotrichaceae Turicibacter\", \"Firmicutes/Erysipelotrichaceae unclassified\", \"Proteobacteria/Erythrobacteraceae Altererythrobacter\", \"Proteobacteria/Erythrobacteraceae Croceicoccus\", \"Proteobacteria/Erythrobacteraceae Porphyrobacter\", \"Proteobacteria/Erythrobacteraceae unclassified\", \"Firmicutes/Eubacteriaceae Acetobacterium\", \"Firmicutes/Eubacteriaceae Eubacterium\", \"Actinobacteria/Euzebyaceae Euzebya\", \"Bacteroidetes/Flammeovirgaceae Cesiribacter\", \"Bacteroidetes/Flavobacteriaceae Capnocytophaga\", \"Bacteroidetes/Flavobacteriaceae Chryseobacterium\", \"Bacteroidetes/Flavobacteriaceae Cloacibacterium\", \"Bacteroidetes/Flavobacteriaceae Cruoricaptor\", \"Bacteroidetes/Flavobacteriaceae Epilithonimonas\", \"Bacteroidetes/Flavobacteriaceae Flavobacterium\", \"Bacteroidetes/Flavobacteriaceae Gillisia\", \"Bacteroidetes/Flavobacteriaceae Planobacterium\", \"Bacteroidetes/Flavobacteriaceae Salinimicrobium\", \"Bacteroidetes/Flavobacteriaceae Wautersiella\", \"Bacteroidetes/Flavobacteriaceae unclassified\", \"Fusobacteria/Fusobacteriaceae Fusobacterium\", \"Actinobacteria/Gaiellaceae Gaiella\", \"Proteobacteria/Geminicoccus unclassified\", \"Gemmatimonadetes/Gemmatimonadaceae Gemmatimonas\", \"Actinobacteria/Geodermatophilaceae Blastococcus\", \"Actinobacteria/Geodermatophilaceae Geodermatophilus\", \"Actinobacteria/Geodermatophilaceae Modestobacter\", \"Actinobacteria/Geodermatophilaceae unclassified\", \"Proteobacteria/Halomonadaceae Halomonas\", \"Proteobacteria/Helicobacteraceae Helicobacter\", \"Chloroflexi/Herpetosiphonaceae Herpetosiphon\", \"Proteobacteria/Hydrogenophilaceae Hydrogenophilus\", \"Proteobacteria/Hydrogenophilaceae unclassified\", \"Proteobacteria/Hyphomicrobiaceae Blastochloris\", \"Proteobacteria/Hyphomicrobiaceae Devosia\", \"Proteobacteria/Hyphomicrobiaceae Hyphomicrobium\", \"Proteobacteria/Hyphomicrobiaceae Pedomicrobium\", \"Actinobacteria/Iamiaceae Iamia\", \"Firmicutes/Incertae_Sedis_XI Murdochiella\", \"Actinobacteria/Intrasporangiaceae Arsenicicoccus\", \"Actinobacteria/Intrasporangiaceae Janibacter\", \"Actinobacteria/Intrasporangiaceae Knoellia\", \"Actinobacteria/Intrasporangiaceae Ornithinibacter\", \"Actinobacteria/Intrasporangiaceae Ornithinicoccus\", \"Actinobacteria/Intrasporangiaceae Ornithinimicrobium\", \"Actinobacteria/Intrasporangiaceae Phycicoccus\", \"Actinobacteria/Intrasporangiaceae Terracoccus\", \"Actinobacteria/Intrasporangiaceae Tetrasphaera\", \"Actinobacteria/Intrasporangiaceae unclassified\", \"Actinobacteria/Kineosporiaceae Kineococcus\", \"Actinobacteria/Kineosporiaceae Kineosporia\", \"Actinobacteria/Kineosporiaceae unclassified\", \"Firmicutes/Lachnospiraceae Blautia\", \"Firmicutes/Lachnospiraceae Catonella\", \"Firmicutes/Lachnospiraceae Clostridium_XlVa\", \"Firmicutes/Lachnospiraceae Dorea\", \"Firmicutes/Lachnospiraceae Lachnoanaerobaculum\", \"Firmicutes/Lachnospiraceae Oribacterium\", \"Firmicutes/Lachnospiraceae Roseburia\", \"Firmicutes/Lachnospiraceae Ruminococcus2\", \"Firmicutes/Lachnospiraceae unclassified\", \"Firmicutes/Lactobacillaceae Lactobacillus\", \"Firmicutes/Lactobacillaceae Pediococcus\", \"Proteobacteria/Legionellaceae Legionella\", \"Fusobacteria/Leptotrichiaceae Leptotrichia\", \"Fusobacteria/Leptotrichiaceae Sneathia\", \"Fusobacteria/Leptotrichiaceae unclassified\", \"Firmicutes/Leuconostocaceae Leuconostoc\", \"Proteobacteria/Methylobacteriaceae Methylobacterium\", \"Proteobacteria/Methylobacteriaceae Microvirga\", \"Proteobacteria/Methylococcaceae Methylocaldum\", \"Proteobacteria/Methylocystaceae Methylocystis\", \"Proteobacteria/Methylocystaceae unclassified\", \"Proteobacteria/Methylophilaceae Methylobacillus\", \"Proteobacteria/Methylophilaceae Methylophilus\", \"Proteobacteria/Methylophilaceae Methylotenera\", \"Proteobacteria/Methylophilaceae Methylovorus\", \"Actinobacteria/Microbacteriaceae Agreia\", \"Actinobacteria/Microbacteriaceae Agrococcus\", \"Actinobacteria/Microbacteriaceae Agromyces\", \"Actinobacteria/Microbacteriaceae Amnibacterium\", \"Actinobacteria/Microbacteriaceae Clavibacter\", \"Actinobacteria/Microbacteriaceae Curtobacterium\", \"Actinobacteria/Microbacteriaceae Frigoribacterium\", \"Actinobacteria/Microbacteriaceae Herbiconiux\", \"Actinobacteria/Microbacteriaceae Leifsonia\", \"Actinobacteria/Microbacteriaceae Leucobacter\", \"Actinobacteria/Microbacteriaceae Microbacterium\", \"Actinobacteria/Microbacteriaceae Plantibacter\", \"Actinobacteria/Microbacteriaceae Pseudoclavibacter\", \"Actinobacteria/Microbacteriaceae Rathayibacter\", \"Actinobacteria/Microbacteriaceae Zimmermannella\", \"Actinobacteria/Microbacteriaceae unclassified\", \"Actinobacteria/Micrococcaceae Arthrobacter\", \"Actinobacteria/Micrococcaceae Kocuria\", \"Actinobacteria/Micrococcaceae Micrococcus\", \"Actinobacteria/Micrococcaceae Nesterenkonia\", \"Actinobacteria/Micrococcaceae Rothia\", \"Actinobacteria/Micrococcaceae Zhihengliuella\", \"Actinobacteria/Micrococcaceae unclassified\", \"Actinobacteria/Micromonosporaceae Actinoplanes\", \"Actinobacteria/Micromonosporaceae Asanoa\", \"Actinobacteria/Micromonosporaceae Catellatospora\", \"Actinobacteria/Micromonosporaceae Luedemannella\", \"Actinobacteria/Micromonosporaceae Micromonospora\", \"Actinobacteria/Micromonosporaceae unclassified\", \"Proteobacteria/Moraxellaceae Acinetobacter\", \"Proteobacteria/Moraxellaceae Alkanindiges\", \"Proteobacteria/Moraxellaceae Enhydrobacter\", \"Proteobacteria/Moraxellaceae Moraxella\", \"Proteobacteria/Moraxellaceae Psychrobacter\", \"Proteobacteria/Moraxellaceae unclassified\", \"Actinobacteria/Mycobacteriaceae Mycobacterium\", \"Actinobacteria/Nakamurellaceae Nakamurella\", \"Proteobacteria/Neisseriaceae Eikenella\", \"Proteobacteria/Neisseriaceae Kingella\", \"Proteobacteria/Neisseriaceae Neisseria\", \"Proteobacteria/Neisseriaceae unclassified\", \"Actinobacteria/Nocardiaceae Gordonia\", \"Actinobacteria/Nocardiaceae Rhodococcus\", \"Actinobacteria/Nocardiaceae Williamsia\", \"Actinobacteria/Nocardiaceae unclassified\", \"Actinobacteria/Nocardioidaceae Aeromicrobium\", \"Actinobacteria/Nocardioidaceae Kribbella\", \"Actinobacteria/Nocardioidaceae Marmoricola\", \"Actinobacteria/Nocardioidaceae Nocardioides\", \"Actinobacteria/Nocardioidaceae unclassified\", \"Verrucomicrobia/Opitutaceae unclassified\", \"Proteobacteria/Oxalobacteraceae Duganella\", \"Proteobacteria/Oxalobacteraceae Massilia\", \"Proteobacteria/Oxalobacteraceae Naxibacter\", \"Proteobacteria/Oxalobacteraceae Noviherbaspirillum\", \"Proteobacteria/Oxalobacteraceae unclassified\", \"Firmicutes/Paenibacillaceae_1 Paenibacillus\", \"Firmicutes/Paenibacillaceae_1 Thermobacillus\", \"Proteobacteria/Pasteurellaceae Aggregatibacter\", \"Proteobacteria/Pasteurellaceae unclassified\", \"Firmicutes/Peptostreptococcaceae Clostridium_XI\", \"Firmicutes/Peptostreptococcaceae Peptostreptococcus\", \"Firmicutes/Peptostreptococcaceae Sporacetigenium\", \"Proteobacteria/Phyllobacteriaceae Chelativorans\", \"Proteobacteria/Phyllobacteriaceae Mesorhizobium\", \"Proteobacteria/Phyllobacteriaceae Phyllobacterium\", \"Proteobacteria/Phyllobacteriaceae unclassified\", \"Planctomycetes/Planctomycetaceae unclassified\", \"Firmicutes/Planococcaceae Chryseomicrobium\", \"Firmicutes/Planococcaceae Paenisporosarcina\", \"Firmicutes/Planococcaceae Planococcus\", \"Firmicutes/Planococcaceae Planomicrobium\", \"Firmicutes/Planococcaceae Sporosarcina\", \"Firmicutes/Planococcaceae unclassified\", \"Bacteroidetes/Porphyromonadaceae Barnesiella\", \"Bacteroidetes/Porphyromonadaceae Butyricimonas\", \"Bacteroidetes/Porphyromonadaceae Paludibacter\", \"Bacteroidetes/Porphyromonadaceae Parabacteroides\", \"Bacteroidetes/Porphyromonadaceae Porphyromonas\", \"Bacteroidetes/Porphyromonadaceae unclassified\", \"Bacteroidetes/Prevotellaceae Alloprevotella\", \"Bacteroidetes/Prevotellaceae Prevotella\", \"Bacteroidetes/Prevotellaceae unclassified\", \"Actinobacteria/Propionibacteriaceae Auraticoccus\", \"Actinobacteria/Propionibacteriaceae Friedmanniella\", \"Actinobacteria/Propionibacteriaceae Luteococcus\", \"Actinobacteria/Propionibacteriaceae Microlunatus\", \"Actinobacteria/Propionibacteriaceae Micropruina\", \"Actinobacteria/Propionibacteriaceae Propionibacterium\", \"Actinobacteria/Propionibacteriaceae Propionicimonas\", \"Actinobacteria/Propionibacteriaceae Tessaracoccus\", \"Actinobacteria/Propionibacteriaceae unclassified\", \"Proteobacteria/Pseudoalteromonadaceae Pseudoalteromonas\", \"Proteobacteria/Pseudomonadaceae Cellvibrio\", \"Proteobacteria/Pseudomonadaceae Pseudomonas\", \"Proteobacteria/Pseudomonadaceae Rhizobacter\", \"Proteobacteria/Pseudomonadaceae unclassified\", \"Actinobacteria/Pseudonocardiaceae Actinomycetospora\", \"Actinobacteria/Pseudonocardiaceae Pseudonocardia\", \"Actinobacteria/Pseudonocardiaceae Saccharopolyspora\", \"Actinobacteria/Pseudonocardiaceae Saccharothrix\", \"Actinobacteria/Pseudonocardiaceae unclassified\", \"Proteobacteria/Rhizobiaceae Ensifer\", \"Proteobacteria/Rhizobiaceae Kaistia\", \"Proteobacteria/Rhizobiaceae Rhizobium\", \"Proteobacteria/Rhodobacteraceae Agaricicola\", \"Proteobacteria/Rhodobacteraceae Amaricoccus\", \"Proteobacteria/Rhodobacteraceae Gemmobacter\", \"Proteobacteria/Rhodobacteraceae Palleronia\", \"Proteobacteria/Rhodobacteraceae Paracoccus\", \"Proteobacteria/Rhodobacteraceae Rhodobacter\", \"Proteobacteria/Rhodobacteraceae Rubellimicrobium\", \"Proteobacteria/Rhodobacteraceae unclassified\", \"Proteobacteria/Rhodocyclaceae Azospira\", \"Proteobacteria/Rhodocyclaceae Dechloromonas\", \"Proteobacteria/Rhodocyclaceae Methyloversatilis\", \"Proteobacteria/Rhodocyclaceae Propionivibrio\", \"Proteobacteria/Rhodocyclaceae Shinella\", \"Proteobacteria/Rhodocyclaceae unclassified\", \"Proteobacteria/Rhodospirillaceae Azospirillum\", \"Proteobacteria/Rhodospirillaceae Defluviicoccus\", \"Proteobacteria/Rhodospirillaceae Dongia\", \"Proteobacteria/Rhodospirillaceae Novispirillum\", \"Proteobacteria/Rhodospirillaceae Skermanella\", \"Proteobacteria/Rhodospirillaceae unclassified\", \"Proteobacteria/Rickettsiaceae Rickettsia\", \"Bacteroidetes/Rikenellaceae Alistipes\", \"Actinobacteria/Rubrobacteraceae Rubrobacter\", \"Firmicutes/Ruminococcaceae Butyricicoccus\", \"Firmicutes/Ruminococcaceae Faecalibacterium\", \"Firmicutes/Ruminococcaceae Oscillibacter\", \"Firmicutes/Ruminococcaceae Pseudoflavonifractor\", \"Firmicutes/Ruminococcaceae Ruminococcus\", \"Firmicutes/Ruminococcaceae Subdoligranulum\", \"Firmicutes/Ruminococcaceae unclassified\", \"Actinobacteria/Sanguibacteraceae Sanguibacter\", \"Bacteroidetes/Saprospiraceae Haliscomenobacter\", \"Bacteroidetes/Saprospiraceae unclassified\", \"Proteobacteria/Shewanellaceae Shewanella\", \"Proteobacteria/Sinobacteraceae Hydrocarboniphaga\", \"Proteobacteria/Sinobacteraceae Steroidobacter\", \"Actinobacteria/Solirubrobacteraceae Solirubrobacter\", \"Bacteroidetes/Sphingobacteriaceae Arcticibacter\", \"Bacteroidetes/Sphingobacteriaceae Mucilaginibacter\", \"Bacteroidetes/Sphingobacteriaceae Nubsella\", \"Bacteroidetes/Sphingobacteriaceae Pedobacter\", \"Bacteroidetes/Sphingobacteriaceae Sphingobacterium\", \"Bacteroidetes/Sphingobacteriaceae unclassified\", \"Proteobacteria/Sphingomonadaceae Novosphingobium\", \"Proteobacteria/Sphingomonadaceae Sphingobium\", \"Proteobacteria/Sphingomonadaceae Sphingomonas\", \"Proteobacteria/Sphingomonadaceae Sphingopyxis\", \"Proteobacteria/Sphingomonadaceae Sphingorhabdus\", \"Proteobacteria/Sphingomonadaceae Sphingosinicella\", \"Proteobacteria/Sphingomonadaceae unclassified\", \"Spirochaetes/Spirochaetaceae Treponema\", \"Firmicutes/Staphylococcaceae Jeotgalicoccus\", \"Firmicutes/Staphylococcaceae Macrococcus\", \"Firmicutes/Staphylococcaceae Staphylococcus\", \"Firmicutes/Staphylococcaceae unclassified\", \"Firmicutes/Streptococcaceae Lactococcus\", \"Firmicutes/Streptococcaceae Streptococcus\", \"Actinobacteria/Streptomycetaceae Streptomyces\", \"Actinobacteria/Streptomycetaceae unclassified\", \"Actinobacteria/Streptosporangiaceae unclassified\", \"Proteobacteria/Sutterellaceae Parasutterella\", \"Synergistetes/Synergistaceae Jonquetella\", \"Deinococcus-Thermus/Thermaceae Thermus\", \"Deinococcus-Thermus/Trueperaceae Truepera\", \"Firmicutes/Veillonellaceae Dialister\", \"Firmicutes/Veillonellaceae Megasphaera\", \"Firmicutes/Veillonellaceae Negativicoccus\", \"Firmicutes/Veillonellaceae Veillonella\", \"Firmicutes/Veillonellaceae unclassified\", \"Verrucomicrobia/Verrucomicrobiaceae Haloferula\", \"Verrucomicrobia/Verrucomicrobiaceae Luteolibacter\", \"Verrucomicrobia/Verrucomicrobiaceae Prosthecobacter\", \"Verrucomicrobia/Verrucomicrobiaceae Roseimicrobium\", \"Proteobacteria/Vibrionaceae Photobacterium\", \"Proteobacteria/Vibrionaceae Vibrio\", \"Proteobacteria/Xanthomonadaceae Dokdonella\", \"Proteobacteria/Xanthomonadaceae Dyella\", \"Proteobacteria/Xanthomonadaceae Lysobacter\", \"Proteobacteria/Xanthomonadaceae Pseudoxanthomonas\", \"Proteobacteria/Xanthomonadaceae Stenotrophomonas\", \"Proteobacteria/Xanthomonadaceae Thermomonas\", \"Proteobacteria/Xanthomonadaceae Xanthomonas\", \"Proteobacteria/Xanthomonadaceae unclassified\", \"Acidobacteria/unclassified unclassified\", \"Actinobacteria/unclassified unclassified\", \"Armatimonadetes/unclassified unclassified\", \"Bacteroidetes/unclassified unclassified\", \"Candidatus_Saccharibacteria/unclassified unclassified\", \"Chloroflexi/unclassified unclassified\", \"Deinococcus-Thermus/unclassified unclassified\", \"Firmicutes/unclassified unclassified\", \"Fusobacteria/unclassified unclassified\", \"Microgenomates/unclassified unclassified\", \"Parcubacteria/unclassified unclassified\", \"Proteobacteria/unclassified unclassified\", \"Verrucomicrobia/unclassified unclassified\", \"unclassified/unclassified unclassified\", \"Acidobacteria\", \"Actinobacteria\", \"Armatimonadetes\", \"Bacteroidetes\", \"Candidatus_Saccharibacteria\", \"Chloroflexi\", \"Deinococcus-Thermus\", \"Firmicutes\", \"Fusobacteria\", \"Gemmatimonadetes\", \"Microgenomates\", \"Parcubacteria\", \"Planctomycetes\", \"Proteobacteria\", \"Spirochaetes\", \"Synergistetes\", \"Verrucomicrobia\", \"unclassified\"], \"labels\": [\"Acetobacteraceae Acetobacter\", \"Acetobacteraceae Belnapia\", \"Acetobacteraceae Endobacter\", \"Acetobacteraceae Roseomonas\", \"Acetobacteraceae Stella\", \"Acetobacteraceae unclassified\", \"Acidimicrobiaceae Ilumatobacter\", \"Actinomycetaceae Actinobaculum\", \"Actinomycetaceae Actinomyces\", \"Actinomycetaceae Mobiluncus\", \"Actinomycetaceae Trueperella\", \"Actinomycetaceae Varibaculum\", \"Actinomycetaceae unclassified\", \"Aerococcaceae Abiotrophia\", \"Aerococcaceae Aerococcus\", \"Aerococcaceae Eremococcus\", \"Aerococcaceae Facklamia\", \"Aerococcaceae unclassified\", \"Aeromonadaceae Aeromonas\", \"Aeromonadaceae Tolumonas\", \"Alcaligenaceae Achromobacter\", \"Alcaligenaceae Azohydromonas\", \"Alcaligenaceae unclassified\", \"Anaerolineaceae unclassified\", \"Aurantimonadaceae Aurantimonas\", \"Bacillaceae_1 Anoxybacillus\", \"Bacillaceae_1 Bacillus\", \"Bacillales_Incertae_Sedis_XI Gemella\", \"Bacillales_Incertae_Sedis_XII Exiguobacterium\", \"Bacteriovoracaceae Peredibacter\", \"Bacteriovoracaceae unclassified\", \"Bacteroidaceae Bacteroides\", \"Bdellovibrionaceae Bdellovibrio\", \"Beijerinckiaceae Chelatococcus\", \"Beijerinckiaceae unclassified\", \"Beutenbergiaceae unclassified\", \"Bifidobacteriaceae Bifidobacterium\", \"Bifidobacteriaceae Gardnerella\", \"Bogoriellaceae Georgenia\", \"Bradyrhizobiaceae Afipia\", \"Bradyrhizobiaceae Bosea\", \"Bradyrhizobiaceae unclassified\", \"Brevibacteriaceae Brevibacterium\", \"Brucellaceae Ochrobactrum\", \"Brucellaceae Pseudochrobactrum\", \"Burkholderiaceae Burkholderia\", \"Burkholderiaceae Cupriavidus\", \"Burkholderiaceae Limnobacter\", \"Burkholderiaceae Polynucleobacter\", \"Burkholderiaceae Ralstonia\", \"Burkholderiales_incertae_sedis Aquabacterium\", \"Burkholderiales_incertae_sedis Aquincola\", \"Burkholderiales_incertae_sedis unclassified\", \"Caldilineaceae unclassified\", \"Campylobacteraceae Arcobacter\", \"Campylobacteraceae Campylobacter\", \"Cardiobacteriaceae Cardiobacterium\", \"Carnobacteriaceae Atopostipes\", \"Carnobacteriaceae Carnobacterium\", \"Carnobacteriaceae Desemzia\", \"Carnobacteriaceae Dolosigranulum\", \"Carnobacteriaceae Granulicatella\", \"Carnobacteriaceae Trichococcus\", \"Caulobacteraceae Asticcacaulis\", \"Caulobacteraceae Brevundimonas\", \"Caulobacteraceae Caulobacter\", \"Caulobacteraceae Phenylobacterium\", \"Caulobacteraceae unclassified\", \"Cellulomonadaceae Cellulomonas\", \"Cellulomonadaceae Oerskovia\", \"Cellulomonadaceae unclassified\", \"Chitinophagaceae Chitinophaga\", \"Chitinophagaceae Ferruginibacter\", \"Chitinophagaceae Flavisolibacter\", \"Chitinophagaceae Flavitalea\", \"Chitinophagaceae Lacibacter\", \"Chitinophagaceae Niabella\", \"Chitinophagaceae Parasegetibacter\", \"Chitinophagaceae Sediminibacterium\", \"Chitinophagaceae Segetibacter\", \"Chitinophagaceae Terrimonas\", \"Chitinophagaceae unclassified\", \"Chloroflexaceae unclassified\", \"Chromatiaceae Rheinheimera\", \"Clostridiaceae_1 Clostridium_sensu_stricto\", \"Clostridiaceae_1 Sarcina\", \"Clostridiaceae_1 unclassified\", \"Clostridiales_Incertae_Sedis_XI Anaerococcus\", \"Clostridiales_Incertae_Sedis_XI Finegoldia\", \"Clostridiales_Incertae_Sedis_XI Parvimonas\", \"Clostridiales_Incertae_Sedis_XI Peptoniphilus\", \"Clostridiales_Incertae_Sedis_XI unclassified\", \"Clostridiales_Incertae_Sedis_XIII Anaerovorax\", \"Clostridiales_Incertae_Sedis_XIII Mogibacterium\", \"Clostridiales_Incertae_Sedis_XIII unclassified\", \"Comamonadaceae Acidovorax\", \"Comamonadaceae Albidiferax\", \"Comamonadaceae Comamonas\", \"Comamonadaceae Delftia\", \"Comamonadaceae Diaphorobacter\", \"Comamonadaceae Hydrogenophaga\", \"Comamonadaceae Limnohabitans\", \"Comamonadaceae Pelomonas\", \"Comamonadaceae Polaromonas\", \"Comamonadaceae Pseudorhodoferax\", \"Comamonadaceae Roseateles\", \"Comamonadaceae Schlegelella\", \"Comamonadaceae Simplicispira\", \"Comamonadaceae Variovorax\", \"Comamonadaceae unclassified\", \"Coriobacteriaceae Asaccharobacter\", \"Coriobacteriaceae Atopobium\", \"Coriobacteriaceae Collinsella\", \"Coriobacteriaceae Eggerthella\", \"Coriobacteriaceae Gordonibacter\", \"Coriobacteriaceae unclassified\", \"Corynebacteriaceae Corynebacterium\", \"Corynebacteriaceae Turicella\", \"Corynebacteriaceae unclassified\", \"Coxiellaceae Aquicella\", \"Cryomorphaceae Fluviicola\", \"Cytophagaceae Adhaeribacter\", \"Cytophagaceae Cytophaga\", \"Cytophagaceae Dyadobacter\", \"Cytophagaceae Emticicia\", \"Cytophagaceae Flectobacillus\", \"Cytophagaceae Hymenobacter\", \"Cytophagaceae Larkinella\", \"Cytophagaceae Persicitalea\", \"Cytophagaceae Pontibacter\", \"Cytophagaceae Rhodocytophaga\", \"Cytophagaceae Rudanella\", \"Cytophagaceae Runella\", \"Cytophagaceae Spirosoma\", \"Cytophagaceae unclassified\", \"Deinococcaceae Deinococcus\", \"Deinococcaceae unclassified\", \"Demequinaceae Demequina\", \"Dermabacteraceae Brachybacterium\", \"Dermabacteraceae Dermabacter\", \"Dermabacteraceae unclassified\", \"Dermacoccaceae Dermacoccus\", \"Dermacoccaceae Kytococcus\", \"Dermatophilaceae Piscicoccus\", \"Desulfobulbaceae Desulfobulbus\", \"Dietziaceae Dietzia\", \"Enterobacteriaceae Buchnera\", \"Enterobacteriaceae Citrobacter\", \"Enterobacteriaceae Enterobacter\", \"Enterobacteriaceae Pantoea\", \"Enterobacteriaceae Providencia\", \"Enterobacteriaceae unclassified\", \"Enterococcaceae Enterococcus\", \"Enterococcaceae Vagococcus\", \"Erysipelotrichaceae Allobaculum\", \"Erysipelotrichaceae Solobacterium\", \"Erysipelotrichaceae Turicibacter\", \"Erysipelotrichaceae unclassified\", \"Erythrobacteraceae Altererythrobacter\", \"Erythrobacteraceae Croceicoccus\", \"Erythrobacteraceae Porphyrobacter\", \"Erythrobacteraceae unclassified\", \"Eubacteriaceae Acetobacterium\", \"Eubacteriaceae Eubacterium\", \"Euzebyaceae Euzebya\", \"Flammeovirgaceae Cesiribacter\", \"Flavobacteriaceae Capnocytophaga\", \"Flavobacteriaceae Chryseobacterium\", \"Flavobacteriaceae Cloacibacterium\", \"Flavobacteriaceae Cruoricaptor\", \"Flavobacteriaceae Epilithonimonas\", \"Flavobacteriaceae Flavobacterium\", \"Flavobacteriaceae Gillisia\", \"Flavobacteriaceae Planobacterium\", \"Flavobacteriaceae Salinimicrobium\", \"Flavobacteriaceae Wautersiella\", \"Flavobacteriaceae unclassified\", \"Fusobacteriaceae Fusobacterium\", \"Gaiellaceae Gaiella\", \"Geminicoccus unclassified\", \"Gemmatimonadaceae Gemmatimonas\", \"Geodermatophilaceae Blastococcus\", \"Geodermatophilaceae Geodermatophilus\", \"Geodermatophilaceae Modestobacter\", \"Geodermatophilaceae unclassified\", \"Halomonadaceae Halomonas\", \"Helicobacteraceae Helicobacter\", \"Herpetosiphonaceae Herpetosiphon\", \"Hydrogenophilaceae Hydrogenophilus\", \"Hydrogenophilaceae unclassified\", \"Hyphomicrobiaceae Blastochloris\", \"Hyphomicrobiaceae Devosia\", \"Hyphomicrobiaceae Hyphomicrobium\", \"Hyphomicrobiaceae Pedomicrobium\", \"Iamiaceae Iamia\", \"Incertae_Sedis_XI Murdochiella\", \"Intrasporangiaceae Arsenicicoccus\", \"Intrasporangiaceae Janibacter\", \"Intrasporangiaceae Knoellia\", \"Intrasporangiaceae Ornithinibacter\", \"Intrasporangiaceae Ornithinicoccus\", \"Intrasporangiaceae Ornithinimicrobium\", \"Intrasporangiaceae Phycicoccus\", \"Intrasporangiaceae Terracoccus\", \"Intrasporangiaceae Tetrasphaera\", \"Intrasporangiaceae unclassified\", \"Kineosporiaceae Kineococcus\", \"Kineosporiaceae Kineosporia\", \"Kineosporiaceae unclassified\", \"Lachnospiraceae Blautia\", \"Lachnospiraceae Catonella\", \"Lachnospiraceae Clostridium_XlVa\", \"Lachnospiraceae Dorea\", \"Lachnospiraceae Lachnoanaerobaculum\", \"Lachnospiraceae Oribacterium\", \"Lachnospiraceae Roseburia\", \"Lachnospiraceae Ruminococcus2\", \"Lachnospiraceae unclassified\", \"Lactobacillaceae Lactobacillus\", \"Lactobacillaceae Pediococcus\", \"Legionellaceae Legionella\", \"Leptotrichiaceae Leptotrichia\", \"Leptotrichiaceae Sneathia\", \"Leptotrichiaceae unclassified\", \"Leuconostocaceae Leuconostoc\", \"Methylobacteriaceae Methylobacterium\", \"Methylobacteriaceae Microvirga\", \"Methylococcaceae Methylocaldum\", \"Methylocystaceae Methylocystis\", \"Methylocystaceae unclassified\", \"Methylophilaceae Methylobacillus\", \"Methylophilaceae Methylophilus\", \"Methylophilaceae Methylotenera\", \"Methylophilaceae Methylovorus\", \"Microbacteriaceae Agreia\", \"Microbacteriaceae Agrococcus\", \"Microbacteriaceae Agromyces\", \"Microbacteriaceae Amnibacterium\", \"Microbacteriaceae Clavibacter\", \"Microbacteriaceae Curtobacterium\", \"Microbacteriaceae Frigoribacterium\", \"Microbacteriaceae Herbiconiux\", \"Microbacteriaceae Leifsonia\", \"Microbacteriaceae Leucobacter\", \"Microbacteriaceae Microbacterium\", \"Microbacteriaceae Plantibacter\", \"Microbacteriaceae Pseudoclavibacter\", \"Microbacteriaceae Rathayibacter\", \"Microbacteriaceae Zimmermannella\", \"Microbacteriaceae unclassified\", \"Micrococcaceae Arthrobacter\", \"Micrococcaceae Kocuria\", \"Micrococcaceae Micrococcus\", \"Micrococcaceae Nesterenkonia\", \"Micrococcaceae Rothia\", \"Micrococcaceae Zhihengliuella\", \"Micrococcaceae unclassified\", \"Micromonosporaceae Actinoplanes\", \"Micromonosporaceae Asanoa\", \"Micromonosporaceae Catellatospora\", \"Micromonosporaceae Luedemannella\", \"Micromonosporaceae Micromonospora\", \"Micromonosporaceae unclassified\", \"Moraxellaceae Acinetobacter\", \"Moraxellaceae Alkanindiges\", \"Moraxellaceae Enhydrobacter\", \"Moraxellaceae Moraxella\", \"Moraxellaceae Psychrobacter\", \"Moraxellaceae unclassified\", \"Mycobacteriaceae Mycobacterium\", \"Nakamurellaceae Nakamurella\", \"Neisseriaceae Eikenella\", \"Neisseriaceae Kingella\", \"Neisseriaceae Neisseria\", \"Neisseriaceae unclassified\", \"Nocardiaceae Gordonia\", \"Nocardiaceae Rhodococcus\", \"Nocardiaceae Williamsia\", \"Nocardiaceae unclassified\", \"Nocardioidaceae Aeromicrobium\", \"Nocardioidaceae Kribbella\", \"Nocardioidaceae Marmoricola\", \"Nocardioidaceae Nocardioides\", \"Nocardioidaceae unclassified\", \"Opitutaceae unclassified\", \"Oxalobacteraceae Duganella\", \"Oxalobacteraceae Massilia\", \"Oxalobacteraceae Naxibacter\", \"Oxalobacteraceae Noviherbaspirillum\", \"Oxalobacteraceae unclassified\", \"Paenibacillaceae_1 Paenibacillus\", \"Paenibacillaceae_1 Thermobacillus\", \"Pasteurellaceae Aggregatibacter\", \"Pasteurellaceae unclassified\", \"Peptostreptococcaceae Clostridium_XI\", \"Peptostreptococcaceae Peptostreptococcus\", \"Peptostreptococcaceae Sporacetigenium\", \"Phyllobacteriaceae Chelativorans\", \"Phyllobacteriaceae Mesorhizobium\", \"Phyllobacteriaceae Phyllobacterium\", \"Phyllobacteriaceae unclassified\", \"Planctomycetaceae unclassified\", \"Planococcaceae Chryseomicrobium\", \"Planococcaceae Paenisporosarcina\", \"Planococcaceae Planococcus\", \"Planococcaceae Planomicrobium\", \"Planococcaceae Sporosarcina\", \"Planococcaceae unclassified\", \"Porphyromonadaceae Barnesiella\", \"Porphyromonadaceae Butyricimonas\", \"Porphyromonadaceae Paludibacter\", \"Porphyromonadaceae Parabacteroides\", \"Porphyromonadaceae Porphyromonas\", \"Porphyromonadaceae unclassified\", \"Prevotellaceae Alloprevotella\", \"Prevotellaceae Prevotella\", \"Prevotellaceae unclassified\", \"Propionibacteriaceae Auraticoccus\", \"Propionibacteriaceae Friedmanniella\", \"Propionibacteriaceae Luteococcus\", \"Propionibacteriaceae Microlunatus\", \"Propionibacteriaceae Micropruina\", \"Propionibacteriaceae Propionibacterium\", \"Propionibacteriaceae Propionicimonas\", \"Propionibacteriaceae Tessaracoccus\", \"Propionibacteriaceae unclassified\", \"Pseudoalteromonadaceae Pseudoalteromonas\", \"Pseudomonadaceae Cellvibrio\", \"Pseudomonadaceae Pseudomonas\", \"Pseudomonadaceae Rhizobacter\", \"Pseudomonadaceae unclassified\", \"Pseudonocardiaceae Actinomycetospora\", \"Pseudonocardiaceae Pseudonocardia\", \"Pseudonocardiaceae Saccharopolyspora\", \"Pseudonocardiaceae Saccharothrix\", \"Pseudonocardiaceae unclassified\", \"Rhizobiaceae Ensifer\", \"Rhizobiaceae Kaistia\", \"Rhizobiaceae Rhizobium\", \"Rhodobacteraceae Agaricicola\", \"Rhodobacteraceae Amaricoccus\", \"Rhodobacteraceae Gemmobacter\", \"Rhodobacteraceae Palleronia\", \"Rhodobacteraceae Paracoccus\", \"Rhodobacteraceae Rhodobacter\", \"Rhodobacteraceae Rubellimicrobium\", \"Rhodobacteraceae unclassified\", \"Rhodocyclaceae Azospira\", \"Rhodocyclaceae Dechloromonas\", \"Rhodocyclaceae Methyloversatilis\", \"Rhodocyclaceae Propionivibrio\", \"Rhodocyclaceae Shinella\", \"Rhodocyclaceae unclassified\", \"Rhodospirillaceae Azospirillum\", \"Rhodospirillaceae Defluviicoccus\", \"Rhodospirillaceae Dongia\", \"Rhodospirillaceae Novispirillum\", \"Rhodospirillaceae Skermanella\", \"Rhodospirillaceae unclassified\", \"Rickettsiaceae Rickettsia\", \"Rikenellaceae Alistipes\", \"Rubrobacteraceae Rubrobacter\", \"Ruminococcaceae Butyricicoccus\", \"Ruminococcaceae Faecalibacterium\", \"Ruminococcaceae Oscillibacter\", \"Ruminococcaceae Pseudoflavonifractor\", \"Ruminococcaceae Ruminococcus\", \"Ruminococcaceae Subdoligranulum\", \"Ruminococcaceae unclassified\", \"Sanguibacteraceae Sanguibacter\", \"Saprospiraceae Haliscomenobacter\", \"Saprospiraceae unclassified\", \"Shewanellaceae Shewanella\", \"Sinobacteraceae Hydrocarboniphaga\", \"Sinobacteraceae Steroidobacter\", \"Solirubrobacteraceae Solirubrobacter\", \"Sphingobacteriaceae Arcticibacter\", \"Sphingobacteriaceae Mucilaginibacter\", \"Sphingobacteriaceae Nubsella\", \"Sphingobacteriaceae Pedobacter\", \"Sphingobacteriaceae Sphingobacterium\", \"Sphingobacteriaceae unclassified\", \"Sphingomonadaceae Novosphingobium\", \"Sphingomonadaceae Sphingobium\", \"Sphingomonadaceae Sphingomonas\", \"Sphingomonadaceae Sphingopyxis\", \"Sphingomonadaceae Sphingorhabdus\", \"Sphingomonadaceae Sphingosinicella\", \"Sphingomonadaceae unclassified\", \"Spirochaetaceae Treponema\", \"Staphylococcaceae Jeotgalicoccus\", \"Staphylococcaceae Macrococcus\", \"Staphylococcaceae Staphylococcus\", \"Staphylococcaceae unclassified\", \"Streptococcaceae Lactococcus\", \"Streptococcaceae Streptococcus\", \"Streptomycetaceae Streptomyces\", \"Streptomycetaceae unclassified\", \"Streptosporangiaceae unclassified\", \"Sutterellaceae Parasutterella\", \"Synergistaceae Jonquetella\", \"Thermaceae Thermus\", \"Trueperaceae Truepera\", \"Veillonellaceae Dialister\", \"Veillonellaceae Megasphaera\", \"Veillonellaceae Negativicoccus\", \"Veillonellaceae Veillonella\", \"Veillonellaceae unclassified\", \"Verrucomicrobiaceae Haloferula\", \"Verrucomicrobiaceae Luteolibacter\", \"Verrucomicrobiaceae Prosthecobacter\", \"Verrucomicrobiaceae Roseimicrobium\", \"Vibrionaceae Photobacterium\", \"Vibrionaceae Vibrio\", \"Xanthomonadaceae Dokdonella\", \"Xanthomonadaceae Dyella\", \"Xanthomonadaceae Lysobacter\", \"Xanthomonadaceae Pseudoxanthomonas\", \"Xanthomonadaceae Stenotrophomonas\", \"Xanthomonadaceae Thermomonas\", \"Xanthomonadaceae Xanthomonas\", \"Xanthomonadaceae unclassified\", \"unclassified unclassified\", \"unclassified unclassified\", \"unclassified unclassified\", \"unclassified unclassified\", \"unclassified unclassified\", \"unclassified unclassified\", \"unclassified unclassified\", \"unclassified unclassified\", \"unclassified unclassified\", \"unclassified unclassified\", \"unclassified unclassified\", \"unclassified unclassified\", \"unclassified unclassified\", \"unclassified unclassified\", \"Acidobacteria\", \"Actinobacteria\", \"Armatimonadetes\", \"Bacteroidetes\", \"Candidatus_Saccharibacteria\", \"Chloroflexi\", \"Deinococcus-Thermus\", \"Firmicutes\", \"Fusobacteria\", \"Gemmatimonadetes\", \"Microgenomates\", \"Parcubacteria\", \"Planctomycetes\", \"Proteobacteria\", \"Spirochaetes\", \"Synergistetes\", \"Verrucomicrobia\", \"unclassified\"], \"name\": \"\", \"parents\": [\"Proteobacteria\", \"Proteobacteria\", \"Proteobacteria\", \"Proteobacteria\", \"Proteobacteria\", \"Proteobacteria\", \"Actinobacteria\", \"Actinobacteria\", \"Actinobacteria\", \"Actinobacteria\", \"Actinobacteria\", \"Actinobacteria\", \"Actinobacteria\", \"Firmicutes\", \"Firmicutes\", \"Firmicutes\", \"Firmicutes\", \"Firmicutes\", \"Proteobacteria\", \"Proteobacteria\", \"Proteobacteria\", \"Proteobacteria\", \"Proteobacteria\", \"Chloroflexi\", \"Proteobacteria\", \"Firmicutes\", \"Firmicutes\", \"Firmicutes\", \"Firmicutes\", \"Proteobacteria\", \"Proteobacteria\", \"Bacteroidetes\", \"Proteobacteria\", \"Proteobacteria\", \"Proteobacteria\", \"Actinobacteria\", \"Actinobacteria\", \"Actinobacteria\", \"Actinobacteria\", \"Proteobacteria\", \"Proteobacteria\", \"Proteobacteria\", \"Actinobacteria\", \"Proteobacteria\", \"Proteobacteria\", \"Proteobacteria\", \"Proteobacteria\", \"Proteobacteria\", \"Proteobacteria\", \"Proteobacteria\", \"Proteobacteria\", \"Proteobacteria\", \"Proteobacteria\", \"Chloroflexi\", \"Proteobacteria\", \"Proteobacteria\", \"Proteobacteria\", \"Firmicutes\", \"Firmicutes\", \"Firmicutes\", \"Firmicutes\", \"Firmicutes\", \"Firmicutes\", \"Proteobacteria\", \"Proteobacteria\", \"Proteobacteria\", \"Proteobacteria\", \"Proteobacteria\", \"Actinobacteria\", \"Actinobacteria\", \"Actinobacteria\", \"Bacteroidetes\", \"Bacteroidetes\", \"Bacteroidetes\", \"Bacteroidetes\", \"Bacteroidetes\", \"Bacteroidetes\", \"Bacteroidetes\", \"Bacteroidetes\", \"Bacteroidetes\", \"Bacteroidetes\", \"Bacteroidetes\", \"Chloroflexi\", \"Proteobacteria\", \"Firmicutes\", \"Firmicutes\", \"Firmicutes\", \"Firmicutes\", \"Firmicutes\", \"Firmicutes\", \"Firmicutes\", \"Firmicutes\", \"Firmicutes\", \"Firmicutes\", \"Firmicutes\", \"Proteobacteria\", \"Proteobacteria\", \"Proteobacteria\", \"Proteobacteria\", \"Proteobacteria\", \"Proteobacteria\", \"Proteobacteria\", \"Proteobacteria\", \"Proteobacteria\", \"Proteobacteria\", \"Proteobacteria\", \"Proteobacteria\", \"Proteobacteria\", \"Proteobacteria\", \"Proteobacteria\", \"Actinobacteria\", \"Actinobacteria\", \"Actinobacteria\", \"Actinobacteria\", \"Actinobacteria\", \"Actinobacteria\", \"Actinobacteria\", \"Actinobacteria\", \"Actinobacteria\", \"Proteobacteria\", \"Bacteroidetes\", \"Bacteroidetes\", \"Bacteroidetes\", \"Bacteroidetes\", \"Bacteroidetes\", \"Bacteroidetes\", \"Bacteroidetes\", \"Bacteroidetes\", \"Bacteroidetes\", \"Bacteroidetes\", \"Bacteroidetes\", \"Bacteroidetes\", \"Bacteroidetes\", \"Bacteroidetes\", \"Bacteroidetes\", \"Deinococcus-Thermus\", \"Deinococcus-Thermus\", \"Actinobacteria\", \"Actinobacteria\", \"Actinobacteria\", \"Actinobacteria\", \"Actinobacteria\", \"Actinobacteria\", \"Actinobacteria\", \"Proteobacteria\", \"Actinobacteria\", \"Proteobacteria\", \"Proteobacteria\", \"Proteobacteria\", \"Proteobacteria\", \"Proteobacteria\", \"Proteobacteria\", \"Firmicutes\", \"Firmicutes\", \"Firmicutes\", \"Firmicutes\", \"Firmicutes\", \"Firmicutes\", \"Proteobacteria\", \"Proteobacteria\", \"Proteobacteria\", \"Proteobacteria\", \"Firmicutes\", \"Firmicutes\", \"Actinobacteria\", \"Bacteroidetes\", \"Bacteroidetes\", \"Bacteroidetes\", \"Bacteroidetes\", \"Bacteroidetes\", \"Bacteroidetes\", \"Bacteroidetes\", \"Bacteroidetes\", \"Bacteroidetes\", \"Bacteroidetes\", \"Bacteroidetes\", \"Bacteroidetes\", \"Fusobacteria\", \"Actinobacteria\", \"Proteobacteria\", \"Gemmatimonadetes\", \"Actinobacteria\", \"Actinobacteria\", \"Actinobacteria\", \"Actinobacteria\", \"Proteobacteria\", \"Proteobacteria\", \"Chloroflexi\", \"Proteobacteria\", \"Proteobacteria\", \"Proteobacteria\", \"Proteobacteria\", \"Proteobacteria\", \"Proteobacteria\", \"Actinobacteria\", \"Firmicutes\", \"Actinobacteria\", \"Actinobacteria\", \"Actinobacteria\", \"Actinobacteria\", \"Actinobacteria\", \"Actinobacteria\", \"Actinobacteria\", \"Actinobacteria\", \"Actinobacteria\", \"Actinobacteria\", \"Actinobacteria\", \"Actinobacteria\", \"Actinobacteria\", \"Firmicutes\", \"Firmicutes\", \"Firmicutes\", \"Firmicutes\", \"Firmicutes\", \"Firmicutes\", \"Firmicutes\", \"Firmicutes\", \"Firmicutes\", \"Firmicutes\", \"Firmicutes\", \"Proteobacteria\", \"Fusobacteria\", \"Fusobacteria\", \"Fusobacteria\", \"Firmicutes\", \"Proteobacteria\", \"Proteobacteria\", \"Proteobacteria\", \"Proteobacteria\", \"Proteobacteria\", \"Proteobacteria\", \"Proteobacteria\", \"Proteobacteria\", \"Proteobacteria\", \"Actinobacteria\", \"Actinobacteria\", \"Actinobacteria\", \"Actinobacteria\", \"Actinobacteria\", \"Actinobacteria\", \"Actinobacteria\", \"Actinobacteria\", \"Actinobacteria\", \"Actinobacteria\", \"Actinobacteria\", \"Actinobacteria\", \"Actinobacteria\", \"Actinobacteria\", \"Actinobacteria\", \"Actinobacteria\", \"Actinobacteria\", \"Actinobacteria\", \"Actinobacteria\", \"Actinobacteria\", \"Actinobacteria\", \"Actinobacteria\", \"Actinobacteria\", \"Actinobacteria\", \"Actinobacteria\", \"Actinobacteria\", \"Actinobacteria\", \"Actinobacteria\", \"Actinobacteria\", \"Proteobacteria\", \"Proteobacteria\", \"Proteobacteria\", \"Proteobacteria\", \"Proteobacteria\", \"Proteobacteria\", \"Actinobacteria\", \"Actinobacteria\", \"Proteobacteria\", \"Proteobacteria\", \"Proteobacteria\", \"Proteobacteria\", \"Actinobacteria\", \"Actinobacteria\", \"Actinobacteria\", \"Actinobacteria\", \"Actinobacteria\", \"Actinobacteria\", \"Actinobacteria\", \"Actinobacteria\", \"Actinobacteria\", \"Verrucomicrobia\", \"Proteobacteria\", \"Proteobacteria\", \"Proteobacteria\", \"Proteobacteria\", \"Proteobacteria\", \"Firmicutes\", \"Firmicutes\", \"Proteobacteria\", \"Proteobacteria\", \"Firmicutes\", \"Firmicutes\", \"Firmicutes\", \"Proteobacteria\", \"Proteobacteria\", \"Proteobacteria\", \"Proteobacteria\", \"Planctomycetes\", \"Firmicutes\", \"Firmicutes\", \"Firmicutes\", \"Firmicutes\", \"Firmicutes\", \"Firmicutes\", \"Bacteroidetes\", \"Bacteroidetes\", \"Bacteroidetes\", \"Bacteroidetes\", \"Bacteroidetes\", \"Bacteroidetes\", \"Bacteroidetes\", \"Bacteroidetes\", \"Bacteroidetes\", \"Actinobacteria\", \"Actinobacteria\", \"Actinobacteria\", \"Actinobacteria\", \"Actinobacteria\", \"Actinobacteria\", \"Actinobacteria\", \"Actinobacteria\", \"Actinobacteria\", \"Proteobacteria\", \"Proteobacteria\", \"Proteobacteria\", \"Proteobacteria\", \"Proteobacteria\", \"Actinobacteria\", \"Actinobacteria\", \"Actinobacteria\", \"Actinobacteria\", \"Actinobacteria\", \"Proteobacteria\", \"Proteobacteria\", \"Proteobacteria\", \"Proteobacteria\", \"Proteobacteria\", \"Proteobacteria\", \"Proteobacteria\", \"Proteobacteria\", \"Proteobacteria\", \"Proteobacteria\", \"Proteobacteria\", \"Proteobacteria\", \"Proteobacteria\", \"Proteobacteria\", \"Proteobacteria\", \"Proteobacteria\", \"Proteobacteria\", \"Proteobacteria\", \"Proteobacteria\", \"Proteobacteria\", \"Proteobacteria\", \"Proteobacteria\", \"Proteobacteria\", \"Proteobacteria\", \"Bacteroidetes\", \"Actinobacteria\", \"Firmicutes\", \"Firmicutes\", \"Firmicutes\", \"Firmicutes\", \"Firmicutes\", \"Firmicutes\", \"Firmicutes\", \"Actinobacteria\", \"Bacteroidetes\", \"Bacteroidetes\", \"Proteobacteria\", \"Proteobacteria\", \"Proteobacteria\", \"Actinobacteria\", \"Bacteroidetes\", \"Bacteroidetes\", \"Bacteroidetes\", \"Bacteroidetes\", \"Bacteroidetes\", \"Bacteroidetes\", \"Proteobacteria\", \"Proteobacteria\", \"Proteobacteria\", \"Proteobacteria\", \"Proteobacteria\", \"Proteobacteria\", \"Proteobacteria\", \"Spirochaetes\", \"Firmicutes\", \"Firmicutes\", \"Firmicutes\", \"Firmicutes\", \"Firmicutes\", \"Firmicutes\", \"Actinobacteria\", \"Actinobacteria\", \"Actinobacteria\", \"Proteobacteria\", \"Synergistetes\", \"Deinococcus-Thermus\", \"Deinococcus-Thermus\", \"Firmicutes\", \"Firmicutes\", \"Firmicutes\", \"Firmicutes\", \"Firmicutes\", \"Verrucomicrobia\", \"Verrucomicrobia\", \"Verrucomicrobia\", \"Verrucomicrobia\", \"Proteobacteria\", \"Proteobacteria\", \"Proteobacteria\", \"Proteobacteria\", \"Proteobacteria\", \"Proteobacteria\", \"Proteobacteria\", \"Proteobacteria\", \"Proteobacteria\", \"Proteobacteria\", \"Acidobacteria\", \"Actinobacteria\", \"Armatimonadetes\", \"Bacteroidetes\", \"Candidatus_Saccharibacteria\", \"Chloroflexi\", \"Deinococcus-Thermus\", \"Firmicutes\", \"Fusobacteria\", \"Microgenomates\", \"Parcubacteria\", \"Proteobacteria\", \"Verrucomicrobia\", \"unclassified\", \"\", \"\", \"\", \"\", \"\", \"\", \"\", \"\", \"\", \"\", \"\", \"\", \"\", \"\", \"\", \"\", \"\", \"\"], \"type\": \"sunburst\", \"values\": [1, 0, 0, 0, 0, 3, 0, 0, 20, 0, 0, 0, 1, 0, 2, 0, 0, 0, 3, 0, 0, 0, 17, 0, 0, 3, 0, 19, 6, 0, 0, 12, 0, 4, 8, 0, 0, 1, 0, 27, 0, 4, 0, 0, 0, 5, 10, 0, 0, 0, 41, 0, 0, 0, 0, 0, 0, 1, 1, 0, 0, 8, 0, 0, 7, 5, 0, 0, 0, 0, 0, 0, 0, 0, 0, 0, 0, 0, 0, 0, 0, 7, 0, 1, 0, 0, 0, 20, 1, 0, 1, 0, 0, 4, 0, 0, 0, 1, 0, 0, 0, 0, 2, 0, 0, 6, 23, 0, 4, 15, 0, 2, 0, 0, 0, 0, 86, 0, 0, 0, 0, 0, 0, 0, 0, 0, 0, 0, 0, 0, 0, 0, 0, 0, 2, 10, 0, 0, 3, 0, 0, 9, 0, 0, 0, 1, 0, 0, 2, 0, 0, 3, 0, 0, 0, 2, 6, 0, 0, 0, 0, 0, 0, 7, 0, 0, 6, 6, 7, 0, 0, 11, 0, 0, 0, 0, 0, 14, 0, 0, 0, 0, 0, 0, 0, 0, 0, 0, 29, 11, 0, 0, 3, 0, 0, 0, 0, 0, 0, 0, 0, 0, 0, 0, 0, 0, 0, 0, 0, 3, 0, 0, 0, 3, 9, 0, 0, 5, 34, 0, 0, 1, 0, 0, 0, 9, 0, 0, 0, 0, 0, 0, 0, 0, 0, 0, 0, 0, 7, 0, 0, 0, 0, 0, 0, 0, 0, 0, 0, 12, 7, 6, 12, 0, 30, 0, 0, 0, 0, 0, 0, 0, 0, 35, 0, 20, 1, 0, 0, 12, 0, 0, 1, 13, 6, 2, 2, 0, 0, 0, 0, 0, 0, 1, 0, 5, 0, 0, 0, 0, 0, 0, 1, 30, 0, 0, 0, 0, 0, 0, 35, 0, 0, 0, 0, 0, 3, 0, 0, 0, 0, 0, 1, 0, 5, 37, 0, 0, 6, 0, 0, 0, 1392, 0, 0, 0, 8, 0, 67, 0, 2, 0, 0, 0, 0, 0, 0, 0, 0, 0, 0, 0, 0, 5, 0, 0, 0, 3, 0, 1, 0, 0, 0, 0, 0, 0, 0, 0, 0, 0, 0, 8, 0, 0, 0, 0, 0, 0, 0, 8, 0, 0, 0, 0, 0, 0, 0, 0, 0, 1, 0, 0, 7, 4, 31, 0, 0, 0, 6, 0, 0, 0, 259, 0, 0, 253, 0, 0, 0, 0, 0, 0, 0, 6, 5, 0, 0, 1, 0, 0, 0, 0, 0, 0, 0, 0, 0, 0, 0, 6, 1, 9, 6, 41, 0, 5, 10, 0, 0, 24, 0, 0, 0, 52, 0, 30, 6, 1669, 0, 100, 10, 0, 10, 686, 15, 0, 0, 0, 0, 593, 0, 0, 0, 30]}],                        {\"legend\": {\"tracegroupgap\": 0}, \"sunburstcolorway\": [\"#440154\", \"#482878\", \"#3e4989\", \"#31688e\", \"#26828e\", \"#1f9e89\", \"#35b779\", \"#6ece58\", \"#b5de2b\", \"#fde725\"], \"template\": {\"data\": {\"bar\": [{\"error_x\": {\"color\": \"#2a3f5f\"}, \"error_y\": {\"color\": \"#2a3f5f\"}, \"marker\": {\"line\": {\"color\": \"#E5ECF6\", \"width\": 0.5}}, \"type\": \"bar\"}], \"barpolar\": [{\"marker\": {\"line\": {\"color\": \"#E5ECF6\", \"width\": 0.5}}, \"type\": \"barpolar\"}], \"carpet\": [{\"aaxis\": {\"endlinecolor\": \"#2a3f5f\", \"gridcolor\": \"white\", \"linecolor\": \"white\", \"minorgridcolor\": \"white\", \"startlinecolor\": \"#2a3f5f\"}, \"baxis\": {\"endlinecolor\": \"#2a3f5f\", \"gridcolor\": \"white\", \"linecolor\": \"white\", \"minorgridcolor\": \"white\", \"startlinecolor\": \"#2a3f5f\"}, \"type\": \"carpet\"}], \"choropleth\": [{\"colorbar\": {\"outlinewidth\": 0, \"ticks\": \"\"}, \"type\": \"choropleth\"}], \"contour\": [{\"colorbar\": {\"outlinewidth\": 0, \"ticks\": \"\"}, \"colorscale\": [[0.0, \"#0d0887\"], [0.1111111111111111, \"#46039f\"], [0.2222222222222222, \"#7201a8\"], [0.3333333333333333, \"#9c179e\"], [0.4444444444444444, \"#bd3786\"], [0.5555555555555556, \"#d8576b\"], [0.6666666666666666, \"#ed7953\"], [0.7777777777777778, \"#fb9f3a\"], [0.8888888888888888, \"#fdca26\"], [1.0, \"#f0f921\"]], \"type\": \"contour\"}], \"contourcarpet\": [{\"colorbar\": {\"outlinewidth\": 0, \"ticks\": \"\"}, \"type\": \"contourcarpet\"}], \"heatmap\": [{\"colorbar\": {\"outlinewidth\": 0, \"ticks\": \"\"}, \"colorscale\": [[0.0, \"#0d0887\"], [0.1111111111111111, \"#46039f\"], [0.2222222222222222, \"#7201a8\"], [0.3333333333333333, \"#9c179e\"], [0.4444444444444444, \"#bd3786\"], [0.5555555555555556, \"#d8576b\"], [0.6666666666666666, \"#ed7953\"], [0.7777777777777778, \"#fb9f3a\"], [0.8888888888888888, \"#fdca26\"], [1.0, \"#f0f921\"]], \"type\": \"heatmap\"}], \"heatmapgl\": [{\"colorbar\": {\"outlinewidth\": 0, \"ticks\": \"\"}, \"colorscale\": [[0.0, \"#0d0887\"], [0.1111111111111111, \"#46039f\"], [0.2222222222222222, \"#7201a8\"], [0.3333333333333333, \"#9c179e\"], [0.4444444444444444, \"#bd3786\"], [0.5555555555555556, \"#d8576b\"], [0.6666666666666666, \"#ed7953\"], [0.7777777777777778, \"#fb9f3a\"], [0.8888888888888888, \"#fdca26\"], [1.0, \"#f0f921\"]], \"type\": \"heatmapgl\"}], \"histogram\": [{\"marker\": {\"colorbar\": {\"outlinewidth\": 0, \"ticks\": \"\"}}, \"type\": \"histogram\"}], \"histogram2d\": [{\"colorbar\": {\"outlinewidth\": 0, \"ticks\": \"\"}, \"colorscale\": [[0.0, \"#0d0887\"], [0.1111111111111111, \"#46039f\"], [0.2222222222222222, \"#7201a8\"], [0.3333333333333333, \"#9c179e\"], [0.4444444444444444, \"#bd3786\"], [0.5555555555555556, \"#d8576b\"], [0.6666666666666666, \"#ed7953\"], [0.7777777777777778, \"#fb9f3a\"], [0.8888888888888888, \"#fdca26\"], [1.0, \"#f0f921\"]], \"type\": \"histogram2d\"}], \"histogram2dcontour\": [{\"colorbar\": {\"outlinewidth\": 0, \"ticks\": \"\"}, \"colorscale\": [[0.0, \"#0d0887\"], [0.1111111111111111, \"#46039f\"], [0.2222222222222222, \"#7201a8\"], [0.3333333333333333, \"#9c179e\"], [0.4444444444444444, \"#bd3786\"], [0.5555555555555556, \"#d8576b\"], [0.6666666666666666, \"#ed7953\"], [0.7777777777777778, \"#fb9f3a\"], [0.8888888888888888, \"#fdca26\"], [1.0, \"#f0f921\"]], \"type\": \"histogram2dcontour\"}], \"mesh3d\": [{\"colorbar\": {\"outlinewidth\": 0, \"ticks\": \"\"}, \"type\": \"mesh3d\"}], \"parcoords\": [{\"line\": {\"colorbar\": {\"outlinewidth\": 0, \"ticks\": \"\"}}, \"type\": \"parcoords\"}], \"pie\": [{\"automargin\": true, \"type\": \"pie\"}], \"scatter\": [{\"marker\": {\"colorbar\": {\"outlinewidth\": 0, \"ticks\": \"\"}}, \"type\": \"scatter\"}], \"scatter3d\": [{\"line\": {\"colorbar\": {\"outlinewidth\": 0, \"ticks\": \"\"}}, \"marker\": {\"colorbar\": {\"outlinewidth\": 0, \"ticks\": \"\"}}, \"type\": \"scatter3d\"}], \"scattercarpet\": [{\"marker\": {\"colorbar\": {\"outlinewidth\": 0, \"ticks\": \"\"}}, \"type\": \"scattercarpet\"}], \"scattergeo\": [{\"marker\": {\"colorbar\": {\"outlinewidth\": 0, \"ticks\": \"\"}}, \"type\": \"scattergeo\"}], \"scattergl\": [{\"marker\": {\"colorbar\": {\"outlinewidth\": 0, \"ticks\": \"\"}}, \"type\": \"scattergl\"}], \"scattermapbox\": [{\"marker\": {\"colorbar\": {\"outlinewidth\": 0, \"ticks\": \"\"}}, \"type\": \"scattermapbox\"}], \"scatterpolar\": [{\"marker\": {\"colorbar\": {\"outlinewidth\": 0, \"ticks\": \"\"}}, \"type\": \"scatterpolar\"}], \"scatterpolargl\": [{\"marker\": {\"colorbar\": {\"outlinewidth\": 0, \"ticks\": \"\"}}, \"type\": \"scatterpolargl\"}], \"scatterternary\": [{\"marker\": {\"colorbar\": {\"outlinewidth\": 0, \"ticks\": \"\"}}, \"type\": \"scatterternary\"}], \"surface\": [{\"colorbar\": {\"outlinewidth\": 0, \"ticks\": \"\"}, \"colorscale\": [[0.0, \"#0d0887\"], [0.1111111111111111, \"#46039f\"], [0.2222222222222222, \"#7201a8\"], [0.3333333333333333, \"#9c179e\"], [0.4444444444444444, \"#bd3786\"], [0.5555555555555556, \"#d8576b\"], [0.6666666666666666, \"#ed7953\"], [0.7777777777777778, \"#fb9f3a\"], [0.8888888888888888, \"#fdca26\"], [1.0, \"#f0f921\"]], \"type\": \"surface\"}], \"table\": [{\"cells\": {\"fill\": {\"color\": \"#EBF0F8\"}, \"line\": {\"color\": \"white\"}}, \"header\": {\"fill\": {\"color\": \"#C8D4E3\"}, \"line\": {\"color\": \"white\"}}, \"type\": \"table\"}]}, \"layout\": {\"annotationdefaults\": {\"arrowcolor\": \"#2a3f5f\", \"arrowhead\": 0, \"arrowwidth\": 1}, \"coloraxis\": {\"colorbar\": {\"outlinewidth\": 0, \"ticks\": \"\"}}, \"colorscale\": {\"diverging\": [[0, \"#8e0152\"], [0.1, \"#c51b7d\"], [0.2, \"#de77ae\"], [0.3, \"#f1b6da\"], [0.4, \"#fde0ef\"], [0.5, \"#f7f7f7\"], [0.6, \"#e6f5d0\"], [0.7, \"#b8e186\"], [0.8, \"#7fbc41\"], [0.9, \"#4d9221\"], [1, \"#276419\"]], \"sequential\": [[0.0, \"#0d0887\"], [0.1111111111111111, \"#46039f\"], [0.2222222222222222, \"#7201a8\"], [0.3333333333333333, \"#9c179e\"], [0.4444444444444444, \"#bd3786\"], [0.5555555555555556, \"#d8576b\"], [0.6666666666666666, \"#ed7953\"], [0.7777777777777778, \"#fb9f3a\"], [0.8888888888888888, \"#fdca26\"], [1.0, \"#f0f921\"]], \"sequentialminus\": [[0.0, \"#0d0887\"], [0.1111111111111111, \"#46039f\"], [0.2222222222222222, \"#7201a8\"], [0.3333333333333333, \"#9c179e\"], [0.4444444444444444, \"#bd3786\"], [0.5555555555555556, \"#d8576b\"], [0.6666666666666666, \"#ed7953\"], [0.7777777777777778, \"#fb9f3a\"], [0.8888888888888888, \"#fdca26\"], [1.0, \"#f0f921\"]]}, \"colorway\": [\"#636efa\", \"#EF553B\", \"#00cc96\", \"#ab63fa\", \"#FFA15A\", \"#19d3f3\", \"#FF6692\", \"#B6E880\", \"#FF97FF\", \"#FECB52\"], \"font\": {\"color\": \"#2a3f5f\"}, \"geo\": {\"bgcolor\": \"white\", \"lakecolor\": \"white\", \"landcolor\": \"#E5ECF6\", \"showlakes\": true, \"showland\": true, \"subunitcolor\": \"white\"}, \"hoverlabel\": {\"align\": \"left\"}, \"hovermode\": \"closest\", \"mapbox\": {\"style\": \"light\"}, \"paper_bgcolor\": \"white\", \"plot_bgcolor\": \"#E5ECF6\", \"polar\": {\"angularaxis\": {\"gridcolor\": \"white\", \"linecolor\": \"white\", \"ticks\": \"\"}, \"bgcolor\": \"#E5ECF6\", \"radialaxis\": {\"gridcolor\": \"white\", \"linecolor\": \"white\", \"ticks\": \"\"}}, \"scene\": {\"xaxis\": {\"backgroundcolor\": \"#E5ECF6\", \"gridcolor\": \"white\", \"gridwidth\": 2, \"linecolor\": \"white\", \"showbackground\": true, \"ticks\": \"\", \"zerolinecolor\": \"white\"}, \"yaxis\": {\"backgroundcolor\": \"#E5ECF6\", \"gridcolor\": \"white\", \"gridwidth\": 2, \"linecolor\": \"white\", \"showbackground\": true, \"ticks\": \"\", \"zerolinecolor\": \"white\"}, \"zaxis\": {\"backgroundcolor\": \"#E5ECF6\", \"gridcolor\": \"white\", \"gridwidth\": 2, \"linecolor\": \"white\", \"showbackground\": true, \"ticks\": \"\", \"zerolinecolor\": \"white\"}}, \"shapedefaults\": {\"line\": {\"color\": \"#2a3f5f\"}}, \"ternary\": {\"aaxis\": {\"gridcolor\": \"white\", \"linecolor\": \"white\", \"ticks\": \"\"}, \"baxis\": {\"gridcolor\": \"white\", \"linecolor\": \"white\", \"ticks\": \"\"}, \"bgcolor\": \"#E5ECF6\", \"caxis\": {\"gridcolor\": \"white\", \"linecolor\": \"white\", \"ticks\": \"\"}}, \"title\": {\"x\": 0.05}, \"xaxis\": {\"automargin\": true, \"gridcolor\": \"white\", \"linecolor\": \"white\", \"ticks\": \"\", \"title\": {\"standoff\": 15}, \"zerolinecolor\": \"white\", \"zerolinewidth\": 2}, \"yaxis\": {\"automargin\": true, \"gridcolor\": \"white\", \"linecolor\": \"white\", \"ticks\": \"\", \"title\": {\"standoff\": 15}, \"zerolinecolor\": \"white\", \"zerolinewidth\": 2}}}, \"title\": {\"text\": \"Repartition des bacteries dans l'echantillon door_in_1\"}},                        {\"responsive\": true}                    ).then(function(){\n",
       "                            \n",
       "var gd = document.getElementById('b258be5c-1d4f-4fa1-a326-022f71e1cefe');\n",
       "var x = new MutationObserver(function (mutations, observer) {{\n",
       "        var display = window.getComputedStyle(gd).display;\n",
       "        if (!display || display === 'none') {{\n",
       "            console.log([gd, 'removed!']);\n",
       "            Plotly.purge(gd);\n",
       "            observer.disconnect();\n",
       "        }}\n",
       "}});\n",
       "\n",
       "// Listen for the removal of the full notebook cells\n",
       "var notebookContainer = gd.closest('#notebook-container');\n",
       "if (notebookContainer) {{\n",
       "    x.observe(notebookContainer, {childList: true});\n",
       "}}\n",
       "\n",
       "// Listen for the clearing of the current output cell\n",
       "var outputEl = gd.closest('.output');\n",
       "if (outputEl) {{\n",
       "    x.observe(outputEl, {childList: true});\n",
       "}}\n",
       "\n",
       "                        })                };                });            </script>        </div>"
      ]
     },
     "metadata": {},
     "output_type": "display_data"
    }
   ],
   "source": [
    "#Pie chart avec des differentes embranchement et bacteries\n",
    "\n",
    "df['name']= df['famille']+' '+df['genre'] \n",
    "\n",
    "sample = 'door_in_1'\n",
    "\n",
    "fig = px.sunburst(df, \n",
    "                  path=['embranchement', 'name'], \n",
    "                  values=sample,\n",
    "                  color_discrete_sequence=px.colors.sequential.Viridis, \n",
    "                  title=\"Repartition des bacteries dans l'echantillon \"+sample,\n",
    "                  ) \n",
    "fig.show()"
   ]
  },
  {
   "cell_type": "code",
   "execution_count": 16,
   "metadata": {},
   "outputs": [
    {
     "ename": "ValueError",
     "evalue": "\n    Invalid element(s) received for the 'data' property of \n        Invalid elements include: [Figure({\n    'data': [{'branchvalues': 'total',\n              'domain': {'x': [0.0, 1.0], 'y': [0.0, 1.0]},\n              'hovertemplate': ('labels=%{label}<br>door_in_1=%' ... 'nt}<br>id=%{id}<extra></extra>'),\n              'ids': array(['Proteobacteria/Acetobacteraceae Acetobacter',\n                            'Proteobacteria/Acetobacteraceae Belnapia',\n                            'Proteobacteria/Acetobacteraceae Endobacter', ..., 'Synergistetes',\n                            'Verrucomicrobia', 'unclassified'], dtype=object),\n              'labels': array(['Acetobacteraceae Acetobacter', 'Acetobacteraceae Belnapia',\n                               'Acetobacteraceae Endobacter', ..., 'Synergistetes', 'Verrucomicrobia',\n                               'unclassified'], dtype=object),\n              'name': '',\n              'parents': array(['Proteobacteria', 'Proteobacteria', 'Proteobacteria', ..., '', '', ''],\n                               dtype=object),\n              'type': 'sunburst',\n              'values': array([ 1,  0,  0, ...,  0,  0, 30])}],\n    'layout': {'legend': {'tracegroupgap': 0},\n               'sunburstcolorway': [#440154, #482878, #3e4989, #31688e, #26828e,\n                                    #1f9e89, #35b779, #6ece58, #b5de2b, #fde725],\n               'template': '...',\n               'title': {'text': \"Repartition des bacteries dans l'echantillon door_in_1\"}}\n})]\n\n    The 'data' property is a tuple of trace instances\n    that may be specified as:\n      - A list or tuple of trace instances\n        (e.g. [Scatter(...), Bar(...)])\n      - A single trace instance\n        (e.g. Scatter(...), Bar(...), etc.)\n      - A list or tuple of dicts of string/value properties where:\n        - The 'type' property specifies the trace type\n            One of: ['area', 'bar', 'barpolar', 'box',\n                     'candlestick', 'carpet', 'choropleth',\n                     'choroplethmapbox', 'cone', 'contour',\n                     'contourcarpet', 'densitymapbox', 'funnel',\n                     'funnelarea', 'heatmap', 'heatmapgl',\n                     'histogram', 'histogram2d',\n                     'histogram2dcontour', 'image', 'indicator',\n                     'isosurface', 'mesh3d', 'ohlc', 'parcats',\n                     'parcoords', 'pie', 'pointcloud', 'sankey',\n                     'scatter', 'scatter3d', 'scattercarpet',\n                     'scattergeo', 'scattergl', 'scattermapbox',\n                     'scatterpolar', 'scatterpolargl',\n                     'scatterternary', 'splom', 'streamtube',\n                     'sunburst', 'surface', 'table', 'treemap',\n                     'violin', 'volume', 'waterfall']\n\n        - All remaining properties are passed to the constructor of\n          the specified trace type\n\n        (e.g. [{'type': 'scatter', ...}, {'type': 'bar, ...}])",
     "output_type": "error",
     "traceback": [
      "\u001b[0;31m---------------------------------------------------------------------------\u001b[0m",
      "\u001b[0;31mValueError\u001b[0m                                Traceback (most recent call last)",
      "\u001b[0;32m<ipython-input-16-2c63e73002ae>\u001b[0m in \u001b[0;36m<module>\u001b[0;34m\u001b[0m\n\u001b[1;32m     20\u001b[0m                       ),\n\u001b[1;32m     21\u001b[0m         \u001b[0mrow\u001b[0m\u001b[0;34m=\u001b[0m\u001b[0;36m1\u001b[0m\u001b[0;34m,\u001b[0m\u001b[0;34m\u001b[0m\u001b[0;34m\u001b[0m\u001b[0m\n\u001b[0;32m---> 22\u001b[0;31m         col=c)\n\u001b[0m\u001b[1;32m     23\u001b[0m     \u001b[0mprint\u001b[0m\u001b[0;34m(\u001b[0m\u001b[0mc\u001b[0m\u001b[0;34m)\u001b[0m\u001b[0;34m\u001b[0m\u001b[0;34m\u001b[0m\u001b[0m\n\u001b[1;32m     24\u001b[0m     \u001b[0mc\u001b[0m\u001b[0;34m+=\u001b[0m\u001b[0;36m1\u001b[0m\u001b[0;34m\u001b[0m\u001b[0;34m\u001b[0m\u001b[0m\n",
      "\u001b[0;32m~/anaconda3/lib/python3.7/site-packages/plotly/basedatatypes.py\u001b[0m in \u001b[0;36madd_trace\u001b[0;34m(self, trace, row, col, secondary_y, exclude_empty_subplots)\u001b[0m\n\u001b[1;32m   1866\u001b[0m             \u001b[0mcols\u001b[0m\u001b[0;34m=\u001b[0m\u001b[0;34m[\u001b[0m\u001b[0mcol\u001b[0m\u001b[0;34m]\u001b[0m \u001b[0;32mif\u001b[0m \u001b[0mcol\u001b[0m \u001b[0;32mis\u001b[0m \u001b[0;32mnot\u001b[0m \u001b[0;32mNone\u001b[0m \u001b[0;32melse\u001b[0m \u001b[0;32mNone\u001b[0m\u001b[0;34m,\u001b[0m\u001b[0;34m\u001b[0m\u001b[0;34m\u001b[0m\u001b[0m\n\u001b[1;32m   1867\u001b[0m             \u001b[0msecondary_ys\u001b[0m\u001b[0;34m=\u001b[0m\u001b[0;34m[\u001b[0m\u001b[0msecondary_y\u001b[0m\u001b[0;34m]\u001b[0m \u001b[0;32mif\u001b[0m \u001b[0msecondary_y\u001b[0m \u001b[0;32mis\u001b[0m \u001b[0;32mnot\u001b[0m \u001b[0;32mNone\u001b[0m \u001b[0;32melse\u001b[0m \u001b[0;32mNone\u001b[0m\u001b[0;34m,\u001b[0m\u001b[0;34m\u001b[0m\u001b[0;34m\u001b[0m\u001b[0m\n\u001b[0;32m-> 1868\u001b[0;31m             \u001b[0mexclude_empty_subplots\u001b[0m\u001b[0;34m=\u001b[0m\u001b[0mexclude_empty_subplots\u001b[0m\u001b[0;34m,\u001b[0m\u001b[0;34m\u001b[0m\u001b[0;34m\u001b[0m\u001b[0m\n\u001b[0m\u001b[1;32m   1869\u001b[0m         )\n\u001b[1;32m   1870\u001b[0m \u001b[0;34m\u001b[0m\u001b[0m\n",
      "\u001b[0;32m~/anaconda3/lib/python3.7/site-packages/plotly/basedatatypes.py\u001b[0m in \u001b[0;36madd_traces\u001b[0;34m(self, data, rows, cols, secondary_ys, exclude_empty_subplots)\u001b[0m\n\u001b[1;32m   1945\u001b[0m \u001b[0;34m\u001b[0m\u001b[0m\n\u001b[1;32m   1946\u001b[0m         \u001b[0;31m# Validate traces\u001b[0m\u001b[0;34m\u001b[0m\u001b[0;34m\u001b[0m\u001b[0;34m\u001b[0m\u001b[0m\n\u001b[0;32m-> 1947\u001b[0;31m         \u001b[0mdata\u001b[0m \u001b[0;34m=\u001b[0m \u001b[0mself\u001b[0m\u001b[0;34m.\u001b[0m\u001b[0m_data_validator\u001b[0m\u001b[0;34m.\u001b[0m\u001b[0mvalidate_coerce\u001b[0m\u001b[0;34m(\u001b[0m\u001b[0mdata\u001b[0m\u001b[0;34m)\u001b[0m\u001b[0;34m\u001b[0m\u001b[0;34m\u001b[0m\u001b[0m\n\u001b[0m\u001b[1;32m   1948\u001b[0m \u001b[0;34m\u001b[0m\u001b[0m\n\u001b[1;32m   1949\u001b[0m         \u001b[0;31m# Set trace indexes\u001b[0m\u001b[0;34m\u001b[0m\u001b[0;34m\u001b[0m\u001b[0;34m\u001b[0m\u001b[0m\n",
      "\u001b[0;32m~/anaconda3/lib/python3.7/site-packages/_plotly_utils/basevalidators.py\u001b[0m in \u001b[0;36mvalidate_coerce\u001b[0;34m(self, v, skip_invalid, _validate)\u001b[0m\n\u001b[1;32m   2673\u001b[0m \u001b[0;34m\u001b[0m\u001b[0m\n\u001b[1;32m   2674\u001b[0m             \u001b[0;32mif\u001b[0m \u001b[0minvalid_els\u001b[0m\u001b[0;34m:\u001b[0m\u001b[0;34m\u001b[0m\u001b[0;34m\u001b[0m\u001b[0m\n\u001b[0;32m-> 2675\u001b[0;31m                 \u001b[0mself\u001b[0m\u001b[0;34m.\u001b[0m\u001b[0mraise_invalid_elements\u001b[0m\u001b[0;34m(\u001b[0m\u001b[0minvalid_els\u001b[0m\u001b[0;34m)\u001b[0m\u001b[0;34m\u001b[0m\u001b[0;34m\u001b[0m\u001b[0m\n\u001b[0m\u001b[1;32m   2676\u001b[0m \u001b[0;34m\u001b[0m\u001b[0m\n\u001b[1;32m   2677\u001b[0m             \u001b[0mv\u001b[0m \u001b[0;34m=\u001b[0m \u001b[0mto_scalar_or_list\u001b[0m\u001b[0;34m(\u001b[0m\u001b[0mres\u001b[0m\u001b[0;34m)\u001b[0m\u001b[0;34m\u001b[0m\u001b[0;34m\u001b[0m\u001b[0m\n",
      "\u001b[0;32m~/anaconda3/lib/python3.7/site-packages/_plotly_utils/basevalidators.py\u001b[0m in \u001b[0;36mraise_invalid_elements\u001b[0;34m(self, invalid_els)\u001b[0m\n\u001b[1;32m    298\u001b[0m                     \u001b[0mpname\u001b[0m\u001b[0;34m=\u001b[0m\u001b[0mself\u001b[0m\u001b[0;34m.\u001b[0m\u001b[0mparent_name\u001b[0m\u001b[0;34m,\u001b[0m\u001b[0;34m\u001b[0m\u001b[0;34m\u001b[0m\u001b[0m\n\u001b[1;32m    299\u001b[0m                     \u001b[0minvalid\u001b[0m\u001b[0;34m=\u001b[0m\u001b[0minvalid_els\u001b[0m\u001b[0;34m[\u001b[0m\u001b[0;34m:\u001b[0m\u001b[0;36m10\u001b[0m\u001b[0;34m]\u001b[0m\u001b[0;34m,\u001b[0m\u001b[0;34m\u001b[0m\u001b[0;34m\u001b[0m\u001b[0m\n\u001b[0;32m--> 300\u001b[0;31m                     \u001b[0mvalid_clr_desc\u001b[0m\u001b[0;34m=\u001b[0m\u001b[0mself\u001b[0m\u001b[0;34m.\u001b[0m\u001b[0mdescription\u001b[0m\u001b[0;34m(\u001b[0m\u001b[0;34m)\u001b[0m\u001b[0;34m,\u001b[0m\u001b[0;34m\u001b[0m\u001b[0;34m\u001b[0m\u001b[0m\n\u001b[0m\u001b[1;32m    301\u001b[0m                 )\n\u001b[1;32m    302\u001b[0m             )\n",
      "\u001b[0;31mValueError\u001b[0m: \n    Invalid element(s) received for the 'data' property of \n        Invalid elements include: [Figure({\n    'data': [{'branchvalues': 'total',\n              'domain': {'x': [0.0, 1.0], 'y': [0.0, 1.0]},\n              'hovertemplate': ('labels=%{label}<br>door_in_1=%' ... 'nt}<br>id=%{id}<extra></extra>'),\n              'ids': array(['Proteobacteria/Acetobacteraceae Acetobacter',\n                            'Proteobacteria/Acetobacteraceae Belnapia',\n                            'Proteobacteria/Acetobacteraceae Endobacter', ..., 'Synergistetes',\n                            'Verrucomicrobia', 'unclassified'], dtype=object),\n              'labels': array(['Acetobacteraceae Acetobacter', 'Acetobacteraceae Belnapia',\n                               'Acetobacteraceae Endobacter', ..., 'Synergistetes', 'Verrucomicrobia',\n                               'unclassified'], dtype=object),\n              'name': '',\n              'parents': array(['Proteobacteria', 'Proteobacteria', 'Proteobacteria', ..., '', '', ''],\n                               dtype=object),\n              'type': 'sunburst',\n              'values': array([ 1,  0,  0, ...,  0,  0, 30])}],\n    'layout': {'legend': {'tracegroupgap': 0},\n               'sunburstcolorway': [#440154, #482878, #3e4989, #31688e, #26828e,\n                                    #1f9e89, #35b779, #6ece58, #b5de2b, #fde725],\n               'template': '...',\n               'title': {'text': \"Repartition des bacteries dans l'echantillon door_in_1\"}}\n})]\n\n    The 'data' property is a tuple of trace instances\n    that may be specified as:\n      - A list or tuple of trace instances\n        (e.g. [Scatter(...), Bar(...)])\n      - A single trace instance\n        (e.g. Scatter(...), Bar(...), etc.)\n      - A list or tuple of dicts of string/value properties where:\n        - The 'type' property specifies the trace type\n            One of: ['area', 'bar', 'barpolar', 'box',\n                     'candlestick', 'carpet', 'choropleth',\n                     'choroplethmapbox', 'cone', 'contour',\n                     'contourcarpet', 'densitymapbox', 'funnel',\n                     'funnelarea', 'heatmap', 'heatmapgl',\n                     'histogram', 'histogram2d',\n                     'histogram2dcontour', 'image', 'indicator',\n                     'isosurface', 'mesh3d', 'ohlc', 'parcats',\n                     'parcoords', 'pie', 'pointcloud', 'sankey',\n                     'scatter', 'scatter3d', 'scattercarpet',\n                     'scattergeo', 'scattergl', 'scattermapbox',\n                     'scatterpolar', 'scatterpolargl',\n                     'scatterternary', 'splom', 'streamtube',\n                     'sunburst', 'surface', 'table', 'treemap',\n                     'violin', 'volume', 'waterfall']\n\n        - All remaining properties are passed to the constructor of\n          the specified trace type\n\n        (e.g. [{'type': 'scatter', ...}, {'type': 'bar, ...}])"
     ]
    }
   ],
   "source": [
    "#test subplot avec un pie chart\n",
    "from plotly.subplots import make_subplots\n",
    "\n",
    "df['name']= df['famille']+' '+df['genre'] \n",
    "matrice=df.groupby(by=\"embranchement\").sum()\n",
    "\n",
    "embranchement = list(indexNamesArr)\n",
    "samples = list(matrice.columns.values)\n",
    "\n",
    "\n",
    "fig = make_subplots(rows=1, cols=len(samples))\n",
    "c = 1\n",
    "for sample in samples:\n",
    "    fig.add_trace(\n",
    "        px.sunburst(df, \n",
    "                      path=['embranchement', 'name'], \n",
    "                      values=sample,\n",
    "                      color_discrete_sequence=px.colors.sequential.Viridis, \n",
    "                      title=\"Repartition des bacteries dans l'echantillon \"+sample,\n",
    "                      ),\n",
    "        row=1, \n",
    "        col=c)\n",
    "    print(c)\n",
    "    c+=1\n",
    "\n",
    "fig.update_layout()\n",
    "fig.show()"
   ]
  },
  {
   "cell_type": "code",
   "execution_count": 17,
   "metadata": {},
   "outputs": [
    {
     "data": {
      "application/vnd.jupyter.widget-view+json": {
       "model_id": "de95441b59d64546b412807f2d41bb6f",
       "version_major": 2,
       "version_minor": 0
      },
      "text/plain": [
       "FigureWidget({\n",
       "    'data': [{'branchvalues': 'total',\n",
       "              'domain': {'x': [0.0, 1.0], 'y': [0.0, 1.0…"
      ]
     },
     "metadata": {},
     "output_type": "display_data"
    }
   ],
   "source": [
    "#Test de l'interactivité avec ipywidget\n",
    "\n",
    "#https://plotly.com/python/figurewidget-app/\n",
    "\n",
    "df['name']= df['famille']+' '+df['genre'] \n",
    "matrice=df.groupby(by=\"embranchement\").sum()\n",
    "\n",
    "embranchement = list(indexNamesArr)\n",
    "matrice.to_numpy\n",
    "columnsNamesArr = matrice.columns.values\n",
    "samples = list(columnsNamesArr)\n",
    "\n",
    "\n",
    "df['name']= df['famille']+' '+df['genre']\n",
    "\n",
    "choice = widgets.Dropdown(\n",
    "    options=list(samples),\n",
    "    value='door_in_1',\n",
    "    description='Echantillon : ',\n",
    ")\n",
    "\n",
    "\n",
    "# Assign an empty figure widget with two traces\n",
    "g = go.FigureWidget(px.sunburst(df, \n",
    "                  path=['embranchement', 'name'], \n",
    "                  values=choice.value,\n",
    "                  color_discrete_sequence=px.colors.sequential.Viridis, \n",
    "                  title=\"Repartition des bacteries dans l'echantillon \"+sample,\n",
    "                  ) \n",
    "                   )\n",
    "widgets.VBox([choice])\n",
    "\n",
    "g"
   ]
  }
 ],
 "metadata": {
  "kernelspec": {
   "display_name": "Python 3",
   "language": "python",
   "name": "python3"
  },
  "language_info": {
   "codemirror_mode": {
    "name": "ipython",
    "version": 3
   },
   "file_extension": ".py",
   "mimetype": "text/x-python",
   "name": "python",
   "nbconvert_exporter": "python",
   "pygments_lexer": "ipython3",
   "version": "3.7.5"
  }
 },
 "nbformat": 4,
 "nbformat_minor": 4
}
