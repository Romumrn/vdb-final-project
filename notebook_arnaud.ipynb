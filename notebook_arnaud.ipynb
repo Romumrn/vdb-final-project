{
 "cells": [
  {
   "cell_type": "code",
   "execution_count": 61,
   "metadata": {},
   "outputs": [],
   "source": [
    "#Importation des differentes packages\n",
    "import pandas as pd\n",
    "import plotly.graph_objects as go\n",
    "import plotly.express as px\n",
    "from ipywidgets import widgets\n",
    "from sklearn.decomposition import PCA\n",
    "from sklearn.preprocessing import StandardScaler\n",
    "import re\n",
    "df = pd.read_csv(\"1335.vdb.tab\", sep ='\\t')\n",
    "\n"
   ]
  },
  {
   "cell_type": "code",
   "execution_count": 62,
   "metadata": {},
   "outputs": [
    {
     "data": {
      "text/html": [
       "<div>\n",
       "<style scoped>\n",
       "    .dataframe tbody tr th:only-of-type {\n",
       "        vertical-align: middle;\n",
       "    }\n",
       "\n",
       "    .dataframe tbody tr th {\n",
       "        vertical-align: top;\n",
       "    }\n",
       "\n",
       "    .dataframe thead th {\n",
       "        text-align: right;\n",
       "    }\n",
       "</style>\n",
       "<table border=\"1\" class=\"dataframe\">\n",
       "  <thead>\n",
       "    <tr style=\"text-align: right;\">\n",
       "      <th></th>\n",
       "      <th>OTUNumber</th>\n",
       "      <th>OTUConTaxonomy</th>\n",
       "      <th>door_in_1</th>\n",
       "      <th>door_in_2</th>\n",
       "      <th>faucet_handle_1</th>\n",
       "      <th>faucet_handle_2</th>\n",
       "      <th>sink_floor_1</th>\n",
       "      <th>sink_floor_2</th>\n",
       "      <th>soap_dispenser_1</th>\n",
       "      <th>stall_in_1</th>\n",
       "      <th>...</th>\n",
       "      <th>toilet_flush_handle_1</th>\n",
       "      <th>toilet_flush_handle_2</th>\n",
       "      <th>toilet_seat_1</th>\n",
       "      <th>toilet_seat_2</th>\n",
       "      <th>regne</th>\n",
       "      <th>embranchement</th>\n",
       "      <th>classe</th>\n",
       "      <th>ordre</th>\n",
       "      <th>famille</th>\n",
       "      <th>genre</th>\n",
       "    </tr>\n",
       "  </thead>\n",
       "  <tbody>\n",
       "    <tr>\n",
       "      <th>0</th>\n",
       "      <td>Otu00001</td>\n",
       "      <td>Bacteria(100);Actinobacteria(100);Actinobacter...</td>\n",
       "      <td>1381</td>\n",
       "      <td>1032</td>\n",
       "      <td>335</td>\n",
       "      <td>577</td>\n",
       "      <td>38</td>\n",
       "      <td>36</td>\n",
       "      <td>1115</td>\n",
       "      <td>598</td>\n",
       "      <td>...</td>\n",
       "      <td>13</td>\n",
       "      <td>329</td>\n",
       "      <td>76</td>\n",
       "      <td>156</td>\n",
       "      <td>Bacteria</td>\n",
       "      <td>Actinobacteria</td>\n",
       "      <td>Actinobacteria</td>\n",
       "      <td>Actinomycetales</td>\n",
       "      <td>Propionibacteriaceae</td>\n",
       "      <td>Propionibacterium</td>\n",
       "    </tr>\n",
       "    <tr>\n",
       "      <th>1</th>\n",
       "      <td>Otu00002</td>\n",
       "      <td>Bacteria(100);Proteobacteria(100);Gammaproteob...</td>\n",
       "      <td>20</td>\n",
       "      <td>17</td>\n",
       "      <td>1686</td>\n",
       "      <td>3</td>\n",
       "      <td>411</td>\n",
       "      <td>564</td>\n",
       "      <td>128</td>\n",
       "      <td>9</td>\n",
       "      <td>...</td>\n",
       "      <td>0</td>\n",
       "      <td>25</td>\n",
       "      <td>258</td>\n",
       "      <td>0</td>\n",
       "      <td>Bacteria</td>\n",
       "      <td>Proteobacteria</td>\n",
       "      <td>Gammaproteobacteria</td>\n",
       "      <td>Pseudomonadales</td>\n",
       "      <td>Moraxellaceae</td>\n",
       "      <td>Enhydrobacter</td>\n",
       "    </tr>\n",
       "    <tr>\n",
       "      <th>2</th>\n",
       "      <td>Otu00003</td>\n",
       "      <td>Bacteria(100);Actinobacteria(100);Actinobacter...</td>\n",
       "      <td>8</td>\n",
       "      <td>47</td>\n",
       "      <td>6</td>\n",
       "      <td>418</td>\n",
       "      <td>15</td>\n",
       "      <td>8</td>\n",
       "      <td>84</td>\n",
       "      <td>45</td>\n",
       "      <td>...</td>\n",
       "      <td>3</td>\n",
       "      <td>283</td>\n",
       "      <td>41</td>\n",
       "      <td>1059</td>\n",
       "      <td>Bacteria</td>\n",
       "      <td>Actinobacteria</td>\n",
       "      <td>Actinobacteria</td>\n",
       "      <td>Actinomycetales</td>\n",
       "      <td>Corynebacteriaceae</td>\n",
       "      <td>Corynebacterium</td>\n",
       "    </tr>\n",
       "    <tr>\n",
       "      <th>3</th>\n",
       "      <td>Otu00004</td>\n",
       "      <td>Bacteria(100);Actinobacteria(100);Actinobacter...</td>\n",
       "      <td>6</td>\n",
       "      <td>27</td>\n",
       "      <td>5</td>\n",
       "      <td>6</td>\n",
       "      <td>452</td>\n",
       "      <td>275</td>\n",
       "      <td>63</td>\n",
       "      <td>0</td>\n",
       "      <td>...</td>\n",
       "      <td>9</td>\n",
       "      <td>51</td>\n",
       "      <td>5</td>\n",
       "      <td>3</td>\n",
       "      <td>Bacteria</td>\n",
       "      <td>Actinobacteria</td>\n",
       "      <td>Actinobacteria</td>\n",
       "      <td>Actinomycetales</td>\n",
       "      <td>Micrococcaceae</td>\n",
       "      <td>Arthrobacter</td>\n",
       "    </tr>\n",
       "    <tr>\n",
       "      <th>4</th>\n",
       "      <td>Otu00005</td>\n",
       "      <td>Bacteria(100);Actinobacteria(100);Actinobacter...</td>\n",
       "      <td>0</td>\n",
       "      <td>29</td>\n",
       "      <td>0</td>\n",
       "      <td>648</td>\n",
       "      <td>2</td>\n",
       "      <td>8</td>\n",
       "      <td>3</td>\n",
       "      <td>32</td>\n",
       "      <td>...</td>\n",
       "      <td>0</td>\n",
       "      <td>206</td>\n",
       "      <td>7</td>\n",
       "      <td>95</td>\n",
       "      <td>Bacteria</td>\n",
       "      <td>Actinobacteria</td>\n",
       "      <td>Actinobacteria</td>\n",
       "      <td>Actinomycetales</td>\n",
       "      <td>Corynebacteriaceae</td>\n",
       "      <td>Corynebacterium</td>\n",
       "    </tr>\n",
       "    <tr>\n",
       "      <th>...</th>\n",
       "      <td>...</td>\n",
       "      <td>...</td>\n",
       "      <td>...</td>\n",
       "      <td>...</td>\n",
       "      <td>...</td>\n",
       "      <td>...</td>\n",
       "      <td>...</td>\n",
       "      <td>...</td>\n",
       "      <td>...</td>\n",
       "      <td>...</td>\n",
       "      <td>...</td>\n",
       "      <td>...</td>\n",
       "      <td>...</td>\n",
       "      <td>...</td>\n",
       "      <td>...</td>\n",
       "      <td>...</td>\n",
       "      <td>...</td>\n",
       "      <td>...</td>\n",
       "      <td>...</td>\n",
       "      <td>...</td>\n",
       "      <td>...</td>\n",
       "    </tr>\n",
       "    <tr>\n",
       "      <th>4100</th>\n",
       "      <td>Otu04101</td>\n",
       "      <td>Bacteria(100);Bacteroidetes(100);Cytophagia(10...</td>\n",
       "      <td>0</td>\n",
       "      <td>0</td>\n",
       "      <td>0</td>\n",
       "      <td>0</td>\n",
       "      <td>0</td>\n",
       "      <td>1</td>\n",
       "      <td>0</td>\n",
       "      <td>0</td>\n",
       "      <td>...</td>\n",
       "      <td>0</td>\n",
       "      <td>0</td>\n",
       "      <td>0</td>\n",
       "      <td>0</td>\n",
       "      <td>Bacteria</td>\n",
       "      <td>Bacteroidetes</td>\n",
       "      <td>Cytophagia</td>\n",
       "      <td>Cytophagales</td>\n",
       "      <td>Cytophagaceae</td>\n",
       "      <td>Hymenobacter</td>\n",
       "    </tr>\n",
       "    <tr>\n",
       "      <th>4101</th>\n",
       "      <td>Otu04102</td>\n",
       "      <td>Bacteria(100);Proteobacteria(100);Alphaproteob...</td>\n",
       "      <td>0</td>\n",
       "      <td>0</td>\n",
       "      <td>0</td>\n",
       "      <td>0</td>\n",
       "      <td>0</td>\n",
       "      <td>0</td>\n",
       "      <td>0</td>\n",
       "      <td>0</td>\n",
       "      <td>...</td>\n",
       "      <td>1</td>\n",
       "      <td>0</td>\n",
       "      <td>0</td>\n",
       "      <td>0</td>\n",
       "      <td>Bacteria</td>\n",
       "      <td>Proteobacteria</td>\n",
       "      <td>Alphaproteobacteria</td>\n",
       "      <td>Rhizobiales</td>\n",
       "      <td>unclassified</td>\n",
       "      <td>unclassified</td>\n",
       "    </tr>\n",
       "    <tr>\n",
       "      <th>4102</th>\n",
       "      <td>Otu04103</td>\n",
       "      <td>Bacteria(100);Firmicutes(100);unclassified(100...</td>\n",
       "      <td>0</td>\n",
       "      <td>0</td>\n",
       "      <td>0</td>\n",
       "      <td>0</td>\n",
       "      <td>0</td>\n",
       "      <td>0</td>\n",
       "      <td>1</td>\n",
       "      <td>0</td>\n",
       "      <td>...</td>\n",
       "      <td>0</td>\n",
       "      <td>0</td>\n",
       "      <td>0</td>\n",
       "      <td>0</td>\n",
       "      <td>Bacteria</td>\n",
       "      <td>Firmicutes</td>\n",
       "      <td>unclassified</td>\n",
       "      <td>unclassified</td>\n",
       "      <td>unclassified</td>\n",
       "      <td>unclassified</td>\n",
       "    </tr>\n",
       "    <tr>\n",
       "      <th>4103</th>\n",
       "      <td>Otu04104</td>\n",
       "      <td>Bacteria(100);Acidobacteria(100);Acidobacteria...</td>\n",
       "      <td>0</td>\n",
       "      <td>0</td>\n",
       "      <td>0</td>\n",
       "      <td>0</td>\n",
       "      <td>0</td>\n",
       "      <td>1</td>\n",
       "      <td>0</td>\n",
       "      <td>0</td>\n",
       "      <td>...</td>\n",
       "      <td>0</td>\n",
       "      <td>0</td>\n",
       "      <td>0</td>\n",
       "      <td>0</td>\n",
       "      <td>Bacteria</td>\n",
       "      <td>Acidobacteria</td>\n",
       "      <td>Acidobacteria_Gp6</td>\n",
       "      <td>Gp6</td>\n",
       "      <td>unclassified</td>\n",
       "      <td>unclassified</td>\n",
       "    </tr>\n",
       "    <tr>\n",
       "      <th>4104</th>\n",
       "      <td>Otu04105</td>\n",
       "      <td>Bacteria(100);Bacteroidetes(100);Sphingobacter...</td>\n",
       "      <td>0</td>\n",
       "      <td>0</td>\n",
       "      <td>0</td>\n",
       "      <td>0</td>\n",
       "      <td>0</td>\n",
       "      <td>1</td>\n",
       "      <td>0</td>\n",
       "      <td>0</td>\n",
       "      <td>...</td>\n",
       "      <td>0</td>\n",
       "      <td>0</td>\n",
       "      <td>0</td>\n",
       "      <td>0</td>\n",
       "      <td>Bacteria</td>\n",
       "      <td>Bacteroidetes</td>\n",
       "      <td>Sphingobacteriia</td>\n",
       "      <td>Sphingobacteriales</td>\n",
       "      <td>Chitinophagaceae</td>\n",
       "      <td>unclassified</td>\n",
       "    </tr>\n",
       "  </tbody>\n",
       "</table>\n",
       "<p>4105 rows × 22 columns</p>\n",
       "</div>"
      ],
      "text/plain": [
       "     OTUNumber                                     OTUConTaxonomy  door_in_1  \\\n",
       "0     Otu00001  Bacteria(100);Actinobacteria(100);Actinobacter...       1381   \n",
       "1     Otu00002  Bacteria(100);Proteobacteria(100);Gammaproteob...         20   \n",
       "2     Otu00003  Bacteria(100);Actinobacteria(100);Actinobacter...          8   \n",
       "3     Otu00004  Bacteria(100);Actinobacteria(100);Actinobacter...          6   \n",
       "4     Otu00005  Bacteria(100);Actinobacteria(100);Actinobacter...          0   \n",
       "...        ...                                                ...        ...   \n",
       "4100  Otu04101  Bacteria(100);Bacteroidetes(100);Cytophagia(10...          0   \n",
       "4101  Otu04102  Bacteria(100);Proteobacteria(100);Alphaproteob...          0   \n",
       "4102  Otu04103  Bacteria(100);Firmicutes(100);unclassified(100...          0   \n",
       "4103  Otu04104  Bacteria(100);Acidobacteria(100);Acidobacteria...          0   \n",
       "4104  Otu04105  Bacteria(100);Bacteroidetes(100);Sphingobacter...          0   \n",
       "\n",
       "      door_in_2  faucet_handle_1  faucet_handle_2  sink_floor_1  sink_floor_2  \\\n",
       "0          1032              335              577            38            36   \n",
       "1            17             1686                3           411           564   \n",
       "2            47                6              418            15             8   \n",
       "3            27                5                6           452           275   \n",
       "4            29                0              648             2             8   \n",
       "...         ...              ...              ...           ...           ...   \n",
       "4100          0                0                0             0             1   \n",
       "4101          0                0                0             0             0   \n",
       "4102          0                0                0             0             0   \n",
       "4103          0                0                0             0             1   \n",
       "4104          0                0                0             0             1   \n",
       "\n",
       "      soap_dispenser_1  stall_in_1  ...  toilet_flush_handle_1  \\\n",
       "0                 1115         598  ...                     13   \n",
       "1                  128           9  ...                      0   \n",
       "2                   84          45  ...                      3   \n",
       "3                   63           0  ...                      9   \n",
       "4                    3          32  ...                      0   \n",
       "...                ...         ...  ...                    ...   \n",
       "4100                 0           0  ...                      0   \n",
       "4101                 0           0  ...                      1   \n",
       "4102                 1           0  ...                      0   \n",
       "4103                 0           0  ...                      0   \n",
       "4104                 0           0  ...                      0   \n",
       "\n",
       "      toilet_flush_handle_2  toilet_seat_1  toilet_seat_2     regne  \\\n",
       "0                       329             76            156  Bacteria   \n",
       "1                        25            258              0  Bacteria   \n",
       "2                       283             41           1059  Bacteria   \n",
       "3                        51              5              3  Bacteria   \n",
       "4                       206              7             95  Bacteria   \n",
       "...                     ...            ...            ...       ...   \n",
       "4100                      0              0              0  Bacteria   \n",
       "4101                      0              0              0  Bacteria   \n",
       "4102                      0              0              0  Bacteria   \n",
       "4103                      0              0              0  Bacteria   \n",
       "4104                      0              0              0  Bacteria   \n",
       "\n",
       "       embranchement               classe               ordre  \\\n",
       "0     Actinobacteria       Actinobacteria     Actinomycetales   \n",
       "1     Proteobacteria  Gammaproteobacteria     Pseudomonadales   \n",
       "2     Actinobacteria       Actinobacteria     Actinomycetales   \n",
       "3     Actinobacteria       Actinobacteria     Actinomycetales   \n",
       "4     Actinobacteria       Actinobacteria     Actinomycetales   \n",
       "...              ...                  ...                 ...   \n",
       "4100   Bacteroidetes           Cytophagia        Cytophagales   \n",
       "4101  Proteobacteria  Alphaproteobacteria         Rhizobiales   \n",
       "4102      Firmicutes         unclassified        unclassified   \n",
       "4103   Acidobacteria    Acidobacteria_Gp6                 Gp6   \n",
       "4104   Bacteroidetes     Sphingobacteriia  Sphingobacteriales   \n",
       "\n",
       "                   famille              genre  \n",
       "0     Propionibacteriaceae  Propionibacterium  \n",
       "1            Moraxellaceae      Enhydrobacter  \n",
       "2       Corynebacteriaceae    Corynebacterium  \n",
       "3           Micrococcaceae       Arthrobacter  \n",
       "4       Corynebacteriaceae    Corynebacterium  \n",
       "...                    ...                ...  \n",
       "4100         Cytophagaceae       Hymenobacter  \n",
       "4101          unclassified       unclassified  \n",
       "4102          unclassified       unclassified  \n",
       "4103          unclassified       unclassified  \n",
       "4104      Chitinophagaceae       unclassified  \n",
       "\n",
       "[4105 rows x 22 columns]"
      ]
     },
     "execution_count": 62,
     "metadata": {},
     "output_type": "execute_result"
    }
   ],
   "source": [
    "pattern='\\((\\d+)\\)' #regex to target numbers enclosed in parenthesis\n",
    "sub_dtf=df['OTUConTaxonomy'].map(lambda x: re.sub(pattern, '', x).rstrip(\";\")).str.split(\";\",expand= True)\n",
    "df[['regne','embranchement','classe','ordre', 'famille', 'genre']] = sub_dtf\n",
    "df"
   ]
  },
  {
   "cell_type": "code",
   "execution_count": 63,
   "metadata": {},
   "outputs": [
    {
     "data": {
      "application/vnd.plotly.v1+json": {
       "config": {
        "plotlyServerURL": "https://plot.ly"
       },
       "data": [
        {
         "hovertemplate": "sample=door_in_1<br>principal component 1=%{x}<br>principal component 2=%{y}<extra></extra>",
         "legendgroup": "door_in_1",
         "marker": {
          "color": "#636efa",
          "symbol": "circle"
         },
         "mode": "markers",
         "name": "door_in_1",
         "orientation": "v",
         "showlegend": true,
         "type": "scatter",
         "x": [
          -7.883388325164779
         ],
         "xaxis": "x",
         "y": [
          3.5327538540498704
         ],
         "yaxis": "y"
        },
        {
         "hovertemplate": "sample=door_in_2<br>principal component 1=%{x}<br>principal component 2=%{y}<extra></extra>",
         "legendgroup": "door_in_2",
         "marker": {
          "color": "#EF553B",
          "symbol": "circle"
         },
         "mode": "markers",
         "name": "door_in_2",
         "orientation": "v",
         "showlegend": true,
         "type": "scatter",
         "x": [
          -4.983793902901391
         ],
         "xaxis": "x",
         "y": [
          1.3713686014057838
         ],
         "yaxis": "y"
        },
        {
         "hovertemplate": "sample=faucet_handle_1<br>principal component 1=%{x}<br>principal component 2=%{y}<extra></extra>",
         "legendgroup": "faucet_handle_1",
         "marker": {
          "color": "#00cc96",
          "symbol": "circle"
         },
         "mode": "markers",
         "name": "faucet_handle_1",
         "orientation": "v",
         "showlegend": true,
         "type": "scatter",
         "x": [
          -5.895062407988565
         ],
         "xaxis": "x",
         "y": [
          1.5271558193258365
         ],
         "yaxis": "y"
        },
        {
         "hovertemplate": "sample=faucet_handle_2<br>principal component 1=%{x}<br>principal component 2=%{y}<extra></extra>",
         "legendgroup": "faucet_handle_2",
         "marker": {
          "color": "#ab63fa",
          "symbol": "circle"
         },
         "mode": "markers",
         "name": "faucet_handle_2",
         "orientation": "v",
         "showlegend": true,
         "type": "scatter",
         "x": [
          -6.693540306821764
         ],
         "xaxis": "x",
         "y": [
          1.9613837619668715
         ],
         "yaxis": "y"
        },
        {
         "hovertemplate": "sample=sink_floor_1<br>principal component 1=%{x}<br>principal component 2=%{y}<extra></extra>",
         "legendgroup": "sink_floor_1",
         "marker": {
          "color": "#FFA15A",
          "symbol": "circle"
         },
         "mode": "markers",
         "name": "sink_floor_1",
         "orientation": "v",
         "showlegend": true,
         "type": "scatter",
         "x": [
          8.74103970116422
         ],
         "xaxis": "x",
         "y": [
          -10.233376614412201
         ],
         "yaxis": "y"
        },
        {
         "hovertemplate": "sample=sink_floor_2<br>principal component 1=%{x}<br>principal component 2=%{y}<extra></extra>",
         "legendgroup": "sink_floor_2",
         "marker": {
          "color": "#19d3f3",
          "symbol": "circle"
         },
         "mode": "markers",
         "name": "sink_floor_2",
         "orientation": "v",
         "showlegend": true,
         "type": "scatter",
         "x": [
          7.95055957293246
         ],
         "xaxis": "x",
         "y": [
          -12.87516273282906
         ],
         "yaxis": "y"
        },
        {
         "hovertemplate": "sample=soap_dispenser_1<br>principal component 1=%{x}<br>principal component 2=%{y}<extra></extra>",
         "legendgroup": "soap_dispenser_1",
         "marker": {
          "color": "#FF6692",
          "symbol": "circle"
         },
         "mode": "markers",
         "name": "soap_dispenser_1",
         "orientation": "v",
         "showlegend": true,
         "type": "scatter",
         "x": [
          -6.272356166503886
         ],
         "xaxis": "x",
         "y": [
          2.2521708858614495
         ],
         "yaxis": "y"
        },
        {
         "hovertemplate": "sample=stall_in_1<br>principal component 1=%{x}<br>principal component 2=%{y}<extra></extra>",
         "legendgroup": "stall_in_1",
         "marker": {
          "color": "#B6E880",
          "symbol": "circle"
         },
         "mode": "markers",
         "name": "stall_in_1",
         "orientation": "v",
         "showlegend": true,
         "type": "scatter",
         "x": [
          -6.755991103073931
         ],
         "xaxis": "x",
         "y": [
          3.0616957228997905
         ],
         "yaxis": "y"
        },
        {
         "hovertemplate": "sample=toilet_floor_1<br>principal component 1=%{x}<br>principal component 2=%{y}<extra></extra>",
         "legendgroup": "toilet_floor_1",
         "marker": {
          "color": "#FF97FF",
          "symbol": "circle"
         },
         "mode": "markers",
         "name": "toilet_floor_1",
         "orientation": "v",
         "showlegend": true,
         "type": "scatter",
         "x": [
          9.958483929618446
         ],
         "xaxis": "x",
         "y": [
          -8.023422440110819
         ],
         "yaxis": "y"
        },
        {
         "hovertemplate": "sample=toilet_floor_2<br>principal component 1=%{x}<br>principal component 2=%{y}<extra></extra>",
         "legendgroup": "toilet_floor_2",
         "marker": {
          "color": "#FECB52",
          "symbol": "circle"
         },
         "mode": "markers",
         "name": "toilet_floor_2",
         "orientation": "v",
         "showlegend": true,
         "type": "scatter",
         "x": [
          6.0408116482025935
         ],
         "xaxis": "x",
         "y": [
          -8.799750697141086
         ],
         "yaxis": "y"
        },
        {
         "hovertemplate": "sample=toilet_flush_handle_1<br>principal component 1=%{x}<br>principal component 2=%{y}<extra></extra>",
         "legendgroup": "toilet_flush_handle_1",
         "marker": {
          "color": "#636efa",
          "symbol": "circle"
         },
         "mode": "markers",
         "name": "toilet_flush_handle_1",
         "orientation": "v",
         "showlegend": true,
         "type": "scatter",
         "x": [
          23.464276561463016
         ],
         "xaxis": "x",
         "y": [
          19.405071276776347
         ],
         "yaxis": "y"
        },
        {
         "hovertemplate": "sample=toilet_flush_handle_2<br>principal component 1=%{x}<br>principal component 2=%{y}<extra></extra>",
         "legendgroup": "toilet_flush_handle_2",
         "marker": {
          "color": "#EF553B",
          "symbol": "circle"
         },
         "mode": "markers",
         "name": "toilet_flush_handle_2",
         "orientation": "v",
         "showlegend": true,
         "type": "scatter",
         "x": [
          -4.639421935209335
         ],
         "xaxis": "x",
         "y": [
          3.2519531838488374
         ],
         "yaxis": "y"
        },
        {
         "hovertemplate": "sample=toilet_seat_1<br>principal component 1=%{x}<br>principal component 2=%{y}<extra></extra>",
         "legendgroup": "toilet_seat_1",
         "marker": {
          "color": "#00cc96",
          "symbol": "circle"
         },
         "mode": "markers",
         "name": "toilet_seat_1",
         "orientation": "v",
         "showlegend": true,
         "type": "scatter",
         "x": [
          -7.09530223475552
         ],
         "xaxis": "x",
         "y": [
          2.2053931354959673
         ],
         "yaxis": "y"
        },
        {
         "hovertemplate": "sample=toilet_seat_2<br>principal component 1=%{x}<br>principal component 2=%{y}<extra></extra>",
         "legendgroup": "toilet_seat_2",
         "marker": {
          "color": "#ab63fa",
          "symbol": "circle"
         },
         "mode": "markers",
         "name": "toilet_seat_2",
         "orientation": "v",
         "showlegend": true,
         "type": "scatter",
         "x": [
          -5.936315030961556
         ],
         "xaxis": "x",
         "y": [
          1.36276624286241
         ],
         "yaxis": "y"
        }
       ],
       "layout": {
        "legend": {
         "title": {
          "text": "sample"
         },
         "tracegroupgap": 0
        },
        "template": {
         "data": {
          "bar": [
           {
            "error_x": {
             "color": "#2a3f5f"
            },
            "error_y": {
             "color": "#2a3f5f"
            },
            "marker": {
             "line": {
              "color": "#E5ECF6",
              "width": 0.5
             }
            },
            "type": "bar"
           }
          ],
          "barpolar": [
           {
            "marker": {
             "line": {
              "color": "#E5ECF6",
              "width": 0.5
             }
            },
            "type": "barpolar"
           }
          ],
          "carpet": [
           {
            "aaxis": {
             "endlinecolor": "#2a3f5f",
             "gridcolor": "white",
             "linecolor": "white",
             "minorgridcolor": "white",
             "startlinecolor": "#2a3f5f"
            },
            "baxis": {
             "endlinecolor": "#2a3f5f",
             "gridcolor": "white",
             "linecolor": "white",
             "minorgridcolor": "white",
             "startlinecolor": "#2a3f5f"
            },
            "type": "carpet"
           }
          ],
          "choropleth": [
           {
            "colorbar": {
             "outlinewidth": 0,
             "ticks": ""
            },
            "type": "choropleth"
           }
          ],
          "contour": [
           {
            "colorbar": {
             "outlinewidth": 0,
             "ticks": ""
            },
            "colorscale": [
             [
              0,
              "#0d0887"
             ],
             [
              0.1111111111111111,
              "#46039f"
             ],
             [
              0.2222222222222222,
              "#7201a8"
             ],
             [
              0.3333333333333333,
              "#9c179e"
             ],
             [
              0.4444444444444444,
              "#bd3786"
             ],
             [
              0.5555555555555556,
              "#d8576b"
             ],
             [
              0.6666666666666666,
              "#ed7953"
             ],
             [
              0.7777777777777778,
              "#fb9f3a"
             ],
             [
              0.8888888888888888,
              "#fdca26"
             ],
             [
              1,
              "#f0f921"
             ]
            ],
            "type": "contour"
           }
          ],
          "contourcarpet": [
           {
            "colorbar": {
             "outlinewidth": 0,
             "ticks": ""
            },
            "type": "contourcarpet"
           }
          ],
          "heatmap": [
           {
            "colorbar": {
             "outlinewidth": 0,
             "ticks": ""
            },
            "colorscale": [
             [
              0,
              "#0d0887"
             ],
             [
              0.1111111111111111,
              "#46039f"
             ],
             [
              0.2222222222222222,
              "#7201a8"
             ],
             [
              0.3333333333333333,
              "#9c179e"
             ],
             [
              0.4444444444444444,
              "#bd3786"
             ],
             [
              0.5555555555555556,
              "#d8576b"
             ],
             [
              0.6666666666666666,
              "#ed7953"
             ],
             [
              0.7777777777777778,
              "#fb9f3a"
             ],
             [
              0.8888888888888888,
              "#fdca26"
             ],
             [
              1,
              "#f0f921"
             ]
            ],
            "type": "heatmap"
           }
          ],
          "heatmapgl": [
           {
            "colorbar": {
             "outlinewidth": 0,
             "ticks": ""
            },
            "colorscale": [
             [
              0,
              "#0d0887"
             ],
             [
              0.1111111111111111,
              "#46039f"
             ],
             [
              0.2222222222222222,
              "#7201a8"
             ],
             [
              0.3333333333333333,
              "#9c179e"
             ],
             [
              0.4444444444444444,
              "#bd3786"
             ],
             [
              0.5555555555555556,
              "#d8576b"
             ],
             [
              0.6666666666666666,
              "#ed7953"
             ],
             [
              0.7777777777777778,
              "#fb9f3a"
             ],
             [
              0.8888888888888888,
              "#fdca26"
             ],
             [
              1,
              "#f0f921"
             ]
            ],
            "type": "heatmapgl"
           }
          ],
          "histogram": [
           {
            "marker": {
             "colorbar": {
              "outlinewidth": 0,
              "ticks": ""
             }
            },
            "type": "histogram"
           }
          ],
          "histogram2d": [
           {
            "colorbar": {
             "outlinewidth": 0,
             "ticks": ""
            },
            "colorscale": [
             [
              0,
              "#0d0887"
             ],
             [
              0.1111111111111111,
              "#46039f"
             ],
             [
              0.2222222222222222,
              "#7201a8"
             ],
             [
              0.3333333333333333,
              "#9c179e"
             ],
             [
              0.4444444444444444,
              "#bd3786"
             ],
             [
              0.5555555555555556,
              "#d8576b"
             ],
             [
              0.6666666666666666,
              "#ed7953"
             ],
             [
              0.7777777777777778,
              "#fb9f3a"
             ],
             [
              0.8888888888888888,
              "#fdca26"
             ],
             [
              1,
              "#f0f921"
             ]
            ],
            "type": "histogram2d"
           }
          ],
          "histogram2dcontour": [
           {
            "colorbar": {
             "outlinewidth": 0,
             "ticks": ""
            },
            "colorscale": [
             [
              0,
              "#0d0887"
             ],
             [
              0.1111111111111111,
              "#46039f"
             ],
             [
              0.2222222222222222,
              "#7201a8"
             ],
             [
              0.3333333333333333,
              "#9c179e"
             ],
             [
              0.4444444444444444,
              "#bd3786"
             ],
             [
              0.5555555555555556,
              "#d8576b"
             ],
             [
              0.6666666666666666,
              "#ed7953"
             ],
             [
              0.7777777777777778,
              "#fb9f3a"
             ],
             [
              0.8888888888888888,
              "#fdca26"
             ],
             [
              1,
              "#f0f921"
             ]
            ],
            "type": "histogram2dcontour"
           }
          ],
          "mesh3d": [
           {
            "colorbar": {
             "outlinewidth": 0,
             "ticks": ""
            },
            "type": "mesh3d"
           }
          ],
          "parcoords": [
           {
            "line": {
             "colorbar": {
              "outlinewidth": 0,
              "ticks": ""
             }
            },
            "type": "parcoords"
           }
          ],
          "pie": [
           {
            "automargin": true,
            "type": "pie"
           }
          ],
          "scatter": [
           {
            "marker": {
             "colorbar": {
              "outlinewidth": 0,
              "ticks": ""
             }
            },
            "type": "scatter"
           }
          ],
          "scatter3d": [
           {
            "line": {
             "colorbar": {
              "outlinewidth": 0,
              "ticks": ""
             }
            },
            "marker": {
             "colorbar": {
              "outlinewidth": 0,
              "ticks": ""
             }
            },
            "type": "scatter3d"
           }
          ],
          "scattercarpet": [
           {
            "marker": {
             "colorbar": {
              "outlinewidth": 0,
              "ticks": ""
             }
            },
            "type": "scattercarpet"
           }
          ],
          "scattergeo": [
           {
            "marker": {
             "colorbar": {
              "outlinewidth": 0,
              "ticks": ""
             }
            },
            "type": "scattergeo"
           }
          ],
          "scattergl": [
           {
            "marker": {
             "colorbar": {
              "outlinewidth": 0,
              "ticks": ""
             }
            },
            "type": "scattergl"
           }
          ],
          "scattermapbox": [
           {
            "marker": {
             "colorbar": {
              "outlinewidth": 0,
              "ticks": ""
             }
            },
            "type": "scattermapbox"
           }
          ],
          "scatterpolar": [
           {
            "marker": {
             "colorbar": {
              "outlinewidth": 0,
              "ticks": ""
             }
            },
            "type": "scatterpolar"
           }
          ],
          "scatterpolargl": [
           {
            "marker": {
             "colorbar": {
              "outlinewidth": 0,
              "ticks": ""
             }
            },
            "type": "scatterpolargl"
           }
          ],
          "scatterternary": [
           {
            "marker": {
             "colorbar": {
              "outlinewidth": 0,
              "ticks": ""
             }
            },
            "type": "scatterternary"
           }
          ],
          "surface": [
           {
            "colorbar": {
             "outlinewidth": 0,
             "ticks": ""
            },
            "colorscale": [
             [
              0,
              "#0d0887"
             ],
             [
              0.1111111111111111,
              "#46039f"
             ],
             [
              0.2222222222222222,
              "#7201a8"
             ],
             [
              0.3333333333333333,
              "#9c179e"
             ],
             [
              0.4444444444444444,
              "#bd3786"
             ],
             [
              0.5555555555555556,
              "#d8576b"
             ],
             [
              0.6666666666666666,
              "#ed7953"
             ],
             [
              0.7777777777777778,
              "#fb9f3a"
             ],
             [
              0.8888888888888888,
              "#fdca26"
             ],
             [
              1,
              "#f0f921"
             ]
            ],
            "type": "surface"
           }
          ],
          "table": [
           {
            "cells": {
             "fill": {
              "color": "#EBF0F8"
             },
             "line": {
              "color": "white"
             }
            },
            "header": {
             "fill": {
              "color": "#C8D4E3"
             },
             "line": {
              "color": "white"
             }
            },
            "type": "table"
           }
          ]
         },
         "layout": {
          "annotationdefaults": {
           "arrowcolor": "#2a3f5f",
           "arrowhead": 0,
           "arrowwidth": 1
          },
          "coloraxis": {
           "colorbar": {
            "outlinewidth": 0,
            "ticks": ""
           }
          },
          "colorscale": {
           "diverging": [
            [
             0,
             "#8e0152"
            ],
            [
             0.1,
             "#c51b7d"
            ],
            [
             0.2,
             "#de77ae"
            ],
            [
             0.3,
             "#f1b6da"
            ],
            [
             0.4,
             "#fde0ef"
            ],
            [
             0.5,
             "#f7f7f7"
            ],
            [
             0.6,
             "#e6f5d0"
            ],
            [
             0.7,
             "#b8e186"
            ],
            [
             0.8,
             "#7fbc41"
            ],
            [
             0.9,
             "#4d9221"
            ],
            [
             1,
             "#276419"
            ]
           ],
           "sequential": [
            [
             0,
             "#0d0887"
            ],
            [
             0.1111111111111111,
             "#46039f"
            ],
            [
             0.2222222222222222,
             "#7201a8"
            ],
            [
             0.3333333333333333,
             "#9c179e"
            ],
            [
             0.4444444444444444,
             "#bd3786"
            ],
            [
             0.5555555555555556,
             "#d8576b"
            ],
            [
             0.6666666666666666,
             "#ed7953"
            ],
            [
             0.7777777777777778,
             "#fb9f3a"
            ],
            [
             0.8888888888888888,
             "#fdca26"
            ],
            [
             1,
             "#f0f921"
            ]
           ],
           "sequentialminus": [
            [
             0,
             "#0d0887"
            ],
            [
             0.1111111111111111,
             "#46039f"
            ],
            [
             0.2222222222222222,
             "#7201a8"
            ],
            [
             0.3333333333333333,
             "#9c179e"
            ],
            [
             0.4444444444444444,
             "#bd3786"
            ],
            [
             0.5555555555555556,
             "#d8576b"
            ],
            [
             0.6666666666666666,
             "#ed7953"
            ],
            [
             0.7777777777777778,
             "#fb9f3a"
            ],
            [
             0.8888888888888888,
             "#fdca26"
            ],
            [
             1,
             "#f0f921"
            ]
           ]
          },
          "colorway": [
           "#636efa",
           "#EF553B",
           "#00cc96",
           "#ab63fa",
           "#FFA15A",
           "#19d3f3",
           "#FF6692",
           "#B6E880",
           "#FF97FF",
           "#FECB52"
          ],
          "font": {
           "color": "#2a3f5f"
          },
          "geo": {
           "bgcolor": "white",
           "lakecolor": "white",
           "landcolor": "#E5ECF6",
           "showlakes": true,
           "showland": true,
           "subunitcolor": "white"
          },
          "hoverlabel": {
           "align": "left"
          },
          "hovermode": "closest",
          "mapbox": {
           "style": "light"
          },
          "paper_bgcolor": "white",
          "plot_bgcolor": "#E5ECF6",
          "polar": {
           "angularaxis": {
            "gridcolor": "white",
            "linecolor": "white",
            "ticks": ""
           },
           "bgcolor": "#E5ECF6",
           "radialaxis": {
            "gridcolor": "white",
            "linecolor": "white",
            "ticks": ""
           }
          },
          "scene": {
           "xaxis": {
            "backgroundcolor": "#E5ECF6",
            "gridcolor": "white",
            "gridwidth": 2,
            "linecolor": "white",
            "showbackground": true,
            "ticks": "",
            "zerolinecolor": "white"
           },
           "yaxis": {
            "backgroundcolor": "#E5ECF6",
            "gridcolor": "white",
            "gridwidth": 2,
            "linecolor": "white",
            "showbackground": true,
            "ticks": "",
            "zerolinecolor": "white"
           },
           "zaxis": {
            "backgroundcolor": "#E5ECF6",
            "gridcolor": "white",
            "gridwidth": 2,
            "linecolor": "white",
            "showbackground": true,
            "ticks": "",
            "zerolinecolor": "white"
           }
          },
          "shapedefaults": {
           "line": {
            "color": "#2a3f5f"
           }
          },
          "ternary": {
           "aaxis": {
            "gridcolor": "white",
            "linecolor": "white",
            "ticks": ""
           },
           "baxis": {
            "gridcolor": "white",
            "linecolor": "white",
            "ticks": ""
           },
           "bgcolor": "#E5ECF6",
           "caxis": {
            "gridcolor": "white",
            "linecolor": "white",
            "ticks": ""
           }
          },
          "title": {
           "x": 0.05
          },
          "xaxis": {
           "automargin": true,
           "gridcolor": "white",
           "linecolor": "white",
           "ticks": "",
           "title": {
            "standoff": 15
           },
           "zerolinecolor": "white",
           "zerolinewidth": 2
          },
          "yaxis": {
           "automargin": true,
           "gridcolor": "white",
           "linecolor": "white",
           "ticks": "",
           "title": {
            "standoff": 15
           },
           "zerolinecolor": "white",
           "zerolinewidth": 2
          }
         }
        },
        "title": {
         "text": "ACP sur les echantilons et les bacteries presentes"
        },
        "xaxis": {
         "anchor": "y",
         "domain": [
          0,
          1
         ],
         "title": {
          "text": "principal component 1"
         }
        },
        "yaxis": {
         "anchor": "x",
         "domain": [
          0,
          1
         ],
         "title": {
          "text": "principal component 2"
         }
        }
       }
      },
      "text/html": [
       "<div>                            <div id=\"e1571272-9bb1-4b0f-8eda-09de737c24d6\" class=\"plotly-graph-div\" style=\"height:525px; width:100%;\"></div>            <script type=\"text/javascript\">                require([\"plotly\"], function(Plotly) {                    window.PLOTLYENV=window.PLOTLYENV || {};                                    if (document.getElementById(\"e1571272-9bb1-4b0f-8eda-09de737c24d6\")) {                    Plotly.newPlot(                        \"e1571272-9bb1-4b0f-8eda-09de737c24d6\",                        [{\"hovertemplate\": \"sample=door_in_1<br>principal component 1=%{x}<br>principal component 2=%{y}<extra></extra>\", \"legendgroup\": \"door_in_1\", \"marker\": {\"color\": \"#636efa\", \"symbol\": \"circle\"}, \"mode\": \"markers\", \"name\": \"door_in_1\", \"orientation\": \"v\", \"showlegend\": true, \"type\": \"scatter\", \"x\": [-7.883388325164779], \"xaxis\": \"x\", \"y\": [3.5327538540498704], \"yaxis\": \"y\"}, {\"hovertemplate\": \"sample=door_in_2<br>principal component 1=%{x}<br>principal component 2=%{y}<extra></extra>\", \"legendgroup\": \"door_in_2\", \"marker\": {\"color\": \"#EF553B\", \"symbol\": \"circle\"}, \"mode\": \"markers\", \"name\": \"door_in_2\", \"orientation\": \"v\", \"showlegend\": true, \"type\": \"scatter\", \"x\": [-4.983793902901391], \"xaxis\": \"x\", \"y\": [1.3713686014057838], \"yaxis\": \"y\"}, {\"hovertemplate\": \"sample=faucet_handle_1<br>principal component 1=%{x}<br>principal component 2=%{y}<extra></extra>\", \"legendgroup\": \"faucet_handle_1\", \"marker\": {\"color\": \"#00cc96\", \"symbol\": \"circle\"}, \"mode\": \"markers\", \"name\": \"faucet_handle_1\", \"orientation\": \"v\", \"showlegend\": true, \"type\": \"scatter\", \"x\": [-5.895062407988565], \"xaxis\": \"x\", \"y\": [1.5271558193258365], \"yaxis\": \"y\"}, {\"hovertemplate\": \"sample=faucet_handle_2<br>principal component 1=%{x}<br>principal component 2=%{y}<extra></extra>\", \"legendgroup\": \"faucet_handle_2\", \"marker\": {\"color\": \"#ab63fa\", \"symbol\": \"circle\"}, \"mode\": \"markers\", \"name\": \"faucet_handle_2\", \"orientation\": \"v\", \"showlegend\": true, \"type\": \"scatter\", \"x\": [-6.693540306821764], \"xaxis\": \"x\", \"y\": [1.9613837619668715], \"yaxis\": \"y\"}, {\"hovertemplate\": \"sample=sink_floor_1<br>principal component 1=%{x}<br>principal component 2=%{y}<extra></extra>\", \"legendgroup\": \"sink_floor_1\", \"marker\": {\"color\": \"#FFA15A\", \"symbol\": \"circle\"}, \"mode\": \"markers\", \"name\": \"sink_floor_1\", \"orientation\": \"v\", \"showlegend\": true, \"type\": \"scatter\", \"x\": [8.74103970116422], \"xaxis\": \"x\", \"y\": [-10.233376614412201], \"yaxis\": \"y\"}, {\"hovertemplate\": \"sample=sink_floor_2<br>principal component 1=%{x}<br>principal component 2=%{y}<extra></extra>\", \"legendgroup\": \"sink_floor_2\", \"marker\": {\"color\": \"#19d3f3\", \"symbol\": \"circle\"}, \"mode\": \"markers\", \"name\": \"sink_floor_2\", \"orientation\": \"v\", \"showlegend\": true, \"type\": \"scatter\", \"x\": [7.95055957293246], \"xaxis\": \"x\", \"y\": [-12.87516273282906], \"yaxis\": \"y\"}, {\"hovertemplate\": \"sample=soap_dispenser_1<br>principal component 1=%{x}<br>principal component 2=%{y}<extra></extra>\", \"legendgroup\": \"soap_dispenser_1\", \"marker\": {\"color\": \"#FF6692\", \"symbol\": \"circle\"}, \"mode\": \"markers\", \"name\": \"soap_dispenser_1\", \"orientation\": \"v\", \"showlegend\": true, \"type\": \"scatter\", \"x\": [-6.272356166503886], \"xaxis\": \"x\", \"y\": [2.2521708858614495], \"yaxis\": \"y\"}, {\"hovertemplate\": \"sample=stall_in_1<br>principal component 1=%{x}<br>principal component 2=%{y}<extra></extra>\", \"legendgroup\": \"stall_in_1\", \"marker\": {\"color\": \"#B6E880\", \"symbol\": \"circle\"}, \"mode\": \"markers\", \"name\": \"stall_in_1\", \"orientation\": \"v\", \"showlegend\": true, \"type\": \"scatter\", \"x\": [-6.755991103073931], \"xaxis\": \"x\", \"y\": [3.0616957228997905], \"yaxis\": \"y\"}, {\"hovertemplate\": \"sample=toilet_floor_1<br>principal component 1=%{x}<br>principal component 2=%{y}<extra></extra>\", \"legendgroup\": \"toilet_floor_1\", \"marker\": {\"color\": \"#FF97FF\", \"symbol\": \"circle\"}, \"mode\": \"markers\", \"name\": \"toilet_floor_1\", \"orientation\": \"v\", \"showlegend\": true, \"type\": \"scatter\", \"x\": [9.958483929618446], \"xaxis\": \"x\", \"y\": [-8.023422440110819], \"yaxis\": \"y\"}, {\"hovertemplate\": \"sample=toilet_floor_2<br>principal component 1=%{x}<br>principal component 2=%{y}<extra></extra>\", \"legendgroup\": \"toilet_floor_2\", \"marker\": {\"color\": \"#FECB52\", \"symbol\": \"circle\"}, \"mode\": \"markers\", \"name\": \"toilet_floor_2\", \"orientation\": \"v\", \"showlegend\": true, \"type\": \"scatter\", \"x\": [6.0408116482025935], \"xaxis\": \"x\", \"y\": [-8.799750697141086], \"yaxis\": \"y\"}, {\"hovertemplate\": \"sample=toilet_flush_handle_1<br>principal component 1=%{x}<br>principal component 2=%{y}<extra></extra>\", \"legendgroup\": \"toilet_flush_handle_1\", \"marker\": {\"color\": \"#636efa\", \"symbol\": \"circle\"}, \"mode\": \"markers\", \"name\": \"toilet_flush_handle_1\", \"orientation\": \"v\", \"showlegend\": true, \"type\": \"scatter\", \"x\": [23.464276561463016], \"xaxis\": \"x\", \"y\": [19.405071276776347], \"yaxis\": \"y\"}, {\"hovertemplate\": \"sample=toilet_flush_handle_2<br>principal component 1=%{x}<br>principal component 2=%{y}<extra></extra>\", \"legendgroup\": \"toilet_flush_handle_2\", \"marker\": {\"color\": \"#EF553B\", \"symbol\": \"circle\"}, \"mode\": \"markers\", \"name\": \"toilet_flush_handle_2\", \"orientation\": \"v\", \"showlegend\": true, \"type\": \"scatter\", \"x\": [-4.639421935209335], \"xaxis\": \"x\", \"y\": [3.2519531838488374], \"yaxis\": \"y\"}, {\"hovertemplate\": \"sample=toilet_seat_1<br>principal component 1=%{x}<br>principal component 2=%{y}<extra></extra>\", \"legendgroup\": \"toilet_seat_1\", \"marker\": {\"color\": \"#00cc96\", \"symbol\": \"circle\"}, \"mode\": \"markers\", \"name\": \"toilet_seat_1\", \"orientation\": \"v\", \"showlegend\": true, \"type\": \"scatter\", \"x\": [-7.09530223475552], \"xaxis\": \"x\", \"y\": [2.2053931354959673], \"yaxis\": \"y\"}, {\"hovertemplate\": \"sample=toilet_seat_2<br>principal component 1=%{x}<br>principal component 2=%{y}<extra></extra>\", \"legendgroup\": \"toilet_seat_2\", \"marker\": {\"color\": \"#ab63fa\", \"symbol\": \"circle\"}, \"mode\": \"markers\", \"name\": \"toilet_seat_2\", \"orientation\": \"v\", \"showlegend\": true, \"type\": \"scatter\", \"x\": [-5.936315030961556], \"xaxis\": \"x\", \"y\": [1.36276624286241], \"yaxis\": \"y\"}],                        {\"legend\": {\"title\": {\"text\": \"sample\"}, \"tracegroupgap\": 0}, \"template\": {\"data\": {\"bar\": [{\"error_x\": {\"color\": \"#2a3f5f\"}, \"error_y\": {\"color\": \"#2a3f5f\"}, \"marker\": {\"line\": {\"color\": \"#E5ECF6\", \"width\": 0.5}}, \"type\": \"bar\"}], \"barpolar\": [{\"marker\": {\"line\": {\"color\": \"#E5ECF6\", \"width\": 0.5}}, \"type\": \"barpolar\"}], \"carpet\": [{\"aaxis\": {\"endlinecolor\": \"#2a3f5f\", \"gridcolor\": \"white\", \"linecolor\": \"white\", \"minorgridcolor\": \"white\", \"startlinecolor\": \"#2a3f5f\"}, \"baxis\": {\"endlinecolor\": \"#2a3f5f\", \"gridcolor\": \"white\", \"linecolor\": \"white\", \"minorgridcolor\": \"white\", \"startlinecolor\": \"#2a3f5f\"}, \"type\": \"carpet\"}], \"choropleth\": [{\"colorbar\": {\"outlinewidth\": 0, \"ticks\": \"\"}, \"type\": \"choropleth\"}], \"contour\": [{\"colorbar\": {\"outlinewidth\": 0, \"ticks\": \"\"}, \"colorscale\": [[0.0, \"#0d0887\"], [0.1111111111111111, \"#46039f\"], [0.2222222222222222, \"#7201a8\"], [0.3333333333333333, \"#9c179e\"], [0.4444444444444444, \"#bd3786\"], [0.5555555555555556, \"#d8576b\"], [0.6666666666666666, \"#ed7953\"], [0.7777777777777778, \"#fb9f3a\"], [0.8888888888888888, \"#fdca26\"], [1.0, \"#f0f921\"]], \"type\": \"contour\"}], \"contourcarpet\": [{\"colorbar\": {\"outlinewidth\": 0, \"ticks\": \"\"}, \"type\": \"contourcarpet\"}], \"heatmap\": [{\"colorbar\": {\"outlinewidth\": 0, \"ticks\": \"\"}, \"colorscale\": [[0.0, \"#0d0887\"], [0.1111111111111111, \"#46039f\"], [0.2222222222222222, \"#7201a8\"], [0.3333333333333333, \"#9c179e\"], [0.4444444444444444, \"#bd3786\"], [0.5555555555555556, \"#d8576b\"], [0.6666666666666666, \"#ed7953\"], [0.7777777777777778, \"#fb9f3a\"], [0.8888888888888888, \"#fdca26\"], [1.0, \"#f0f921\"]], \"type\": \"heatmap\"}], \"heatmapgl\": [{\"colorbar\": {\"outlinewidth\": 0, \"ticks\": \"\"}, \"colorscale\": [[0.0, \"#0d0887\"], [0.1111111111111111, \"#46039f\"], [0.2222222222222222, \"#7201a8\"], [0.3333333333333333, \"#9c179e\"], [0.4444444444444444, \"#bd3786\"], [0.5555555555555556, \"#d8576b\"], [0.6666666666666666, \"#ed7953\"], [0.7777777777777778, \"#fb9f3a\"], [0.8888888888888888, \"#fdca26\"], [1.0, \"#f0f921\"]], \"type\": \"heatmapgl\"}], \"histogram\": [{\"marker\": {\"colorbar\": {\"outlinewidth\": 0, \"ticks\": \"\"}}, \"type\": \"histogram\"}], \"histogram2d\": [{\"colorbar\": {\"outlinewidth\": 0, \"ticks\": \"\"}, \"colorscale\": [[0.0, \"#0d0887\"], [0.1111111111111111, \"#46039f\"], [0.2222222222222222, \"#7201a8\"], [0.3333333333333333, \"#9c179e\"], [0.4444444444444444, \"#bd3786\"], [0.5555555555555556, \"#d8576b\"], [0.6666666666666666, \"#ed7953\"], [0.7777777777777778, \"#fb9f3a\"], [0.8888888888888888, \"#fdca26\"], [1.0, \"#f0f921\"]], \"type\": \"histogram2d\"}], \"histogram2dcontour\": [{\"colorbar\": {\"outlinewidth\": 0, \"ticks\": \"\"}, \"colorscale\": [[0.0, \"#0d0887\"], [0.1111111111111111, \"#46039f\"], [0.2222222222222222, \"#7201a8\"], [0.3333333333333333, \"#9c179e\"], [0.4444444444444444, \"#bd3786\"], [0.5555555555555556, \"#d8576b\"], [0.6666666666666666, \"#ed7953\"], [0.7777777777777778, \"#fb9f3a\"], [0.8888888888888888, \"#fdca26\"], [1.0, \"#f0f921\"]], \"type\": \"histogram2dcontour\"}], \"mesh3d\": [{\"colorbar\": {\"outlinewidth\": 0, \"ticks\": \"\"}, \"type\": \"mesh3d\"}], \"parcoords\": [{\"line\": {\"colorbar\": {\"outlinewidth\": 0, \"ticks\": \"\"}}, \"type\": \"parcoords\"}], \"pie\": [{\"automargin\": true, \"type\": \"pie\"}], \"scatter\": [{\"marker\": {\"colorbar\": {\"outlinewidth\": 0, \"ticks\": \"\"}}, \"type\": \"scatter\"}], \"scatter3d\": [{\"line\": {\"colorbar\": {\"outlinewidth\": 0, \"ticks\": \"\"}}, \"marker\": {\"colorbar\": {\"outlinewidth\": 0, \"ticks\": \"\"}}, \"type\": \"scatter3d\"}], \"scattercarpet\": [{\"marker\": {\"colorbar\": {\"outlinewidth\": 0, \"ticks\": \"\"}}, \"type\": \"scattercarpet\"}], \"scattergeo\": [{\"marker\": {\"colorbar\": {\"outlinewidth\": 0, \"ticks\": \"\"}}, \"type\": \"scattergeo\"}], \"scattergl\": [{\"marker\": {\"colorbar\": {\"outlinewidth\": 0, \"ticks\": \"\"}}, \"type\": \"scattergl\"}], \"scattermapbox\": [{\"marker\": {\"colorbar\": {\"outlinewidth\": 0, \"ticks\": \"\"}}, \"type\": \"scattermapbox\"}], \"scatterpolar\": [{\"marker\": {\"colorbar\": {\"outlinewidth\": 0, \"ticks\": \"\"}}, \"type\": \"scatterpolar\"}], \"scatterpolargl\": [{\"marker\": {\"colorbar\": {\"outlinewidth\": 0, \"ticks\": \"\"}}, \"type\": \"scatterpolargl\"}], \"scatterternary\": [{\"marker\": {\"colorbar\": {\"outlinewidth\": 0, \"ticks\": \"\"}}, \"type\": \"scatterternary\"}], \"surface\": [{\"colorbar\": {\"outlinewidth\": 0, \"ticks\": \"\"}, \"colorscale\": [[0.0, \"#0d0887\"], [0.1111111111111111, \"#46039f\"], [0.2222222222222222, \"#7201a8\"], [0.3333333333333333, \"#9c179e\"], [0.4444444444444444, \"#bd3786\"], [0.5555555555555556, \"#d8576b\"], [0.6666666666666666, \"#ed7953\"], [0.7777777777777778, \"#fb9f3a\"], [0.8888888888888888, \"#fdca26\"], [1.0, \"#f0f921\"]], \"type\": \"surface\"}], \"table\": [{\"cells\": {\"fill\": {\"color\": \"#EBF0F8\"}, \"line\": {\"color\": \"white\"}}, \"header\": {\"fill\": {\"color\": \"#C8D4E3\"}, \"line\": {\"color\": \"white\"}}, \"type\": \"table\"}]}, \"layout\": {\"annotationdefaults\": {\"arrowcolor\": \"#2a3f5f\", \"arrowhead\": 0, \"arrowwidth\": 1}, \"coloraxis\": {\"colorbar\": {\"outlinewidth\": 0, \"ticks\": \"\"}}, \"colorscale\": {\"diverging\": [[0, \"#8e0152\"], [0.1, \"#c51b7d\"], [0.2, \"#de77ae\"], [0.3, \"#f1b6da\"], [0.4, \"#fde0ef\"], [0.5, \"#f7f7f7\"], [0.6, \"#e6f5d0\"], [0.7, \"#b8e186\"], [0.8, \"#7fbc41\"], [0.9, \"#4d9221\"], [1, \"#276419\"]], \"sequential\": [[0.0, \"#0d0887\"], [0.1111111111111111, \"#46039f\"], [0.2222222222222222, \"#7201a8\"], [0.3333333333333333, \"#9c179e\"], [0.4444444444444444, \"#bd3786\"], [0.5555555555555556, \"#d8576b\"], [0.6666666666666666, \"#ed7953\"], [0.7777777777777778, \"#fb9f3a\"], [0.8888888888888888, \"#fdca26\"], [1.0, \"#f0f921\"]], \"sequentialminus\": [[0.0, \"#0d0887\"], [0.1111111111111111, \"#46039f\"], [0.2222222222222222, \"#7201a8\"], [0.3333333333333333, \"#9c179e\"], [0.4444444444444444, \"#bd3786\"], [0.5555555555555556, \"#d8576b\"], [0.6666666666666666, \"#ed7953\"], [0.7777777777777778, \"#fb9f3a\"], [0.8888888888888888, \"#fdca26\"], [1.0, \"#f0f921\"]]}, \"colorway\": [\"#636efa\", \"#EF553B\", \"#00cc96\", \"#ab63fa\", \"#FFA15A\", \"#19d3f3\", \"#FF6692\", \"#B6E880\", \"#FF97FF\", \"#FECB52\"], \"font\": {\"color\": \"#2a3f5f\"}, \"geo\": {\"bgcolor\": \"white\", \"lakecolor\": \"white\", \"landcolor\": \"#E5ECF6\", \"showlakes\": true, \"showland\": true, \"subunitcolor\": \"white\"}, \"hoverlabel\": {\"align\": \"left\"}, \"hovermode\": \"closest\", \"mapbox\": {\"style\": \"light\"}, \"paper_bgcolor\": \"white\", \"plot_bgcolor\": \"#E5ECF6\", \"polar\": {\"angularaxis\": {\"gridcolor\": \"white\", \"linecolor\": \"white\", \"ticks\": \"\"}, \"bgcolor\": \"#E5ECF6\", \"radialaxis\": {\"gridcolor\": \"white\", \"linecolor\": \"white\", \"ticks\": \"\"}}, \"scene\": {\"xaxis\": {\"backgroundcolor\": \"#E5ECF6\", \"gridcolor\": \"white\", \"gridwidth\": 2, \"linecolor\": \"white\", \"showbackground\": true, \"ticks\": \"\", \"zerolinecolor\": \"white\"}, \"yaxis\": {\"backgroundcolor\": \"#E5ECF6\", \"gridcolor\": \"white\", \"gridwidth\": 2, \"linecolor\": \"white\", \"showbackground\": true, \"ticks\": \"\", \"zerolinecolor\": \"white\"}, \"zaxis\": {\"backgroundcolor\": \"#E5ECF6\", \"gridcolor\": \"white\", \"gridwidth\": 2, \"linecolor\": \"white\", \"showbackground\": true, \"ticks\": \"\", \"zerolinecolor\": \"white\"}}, \"shapedefaults\": {\"line\": {\"color\": \"#2a3f5f\"}}, \"ternary\": {\"aaxis\": {\"gridcolor\": \"white\", \"linecolor\": \"white\", \"ticks\": \"\"}, \"baxis\": {\"gridcolor\": \"white\", \"linecolor\": \"white\", \"ticks\": \"\"}, \"bgcolor\": \"#E5ECF6\", \"caxis\": {\"gridcolor\": \"white\", \"linecolor\": \"white\", \"ticks\": \"\"}}, \"title\": {\"x\": 0.05}, \"xaxis\": {\"automargin\": true, \"gridcolor\": \"white\", \"linecolor\": \"white\", \"ticks\": \"\", \"title\": {\"standoff\": 15}, \"zerolinecolor\": \"white\", \"zerolinewidth\": 2}, \"yaxis\": {\"automargin\": true, \"gridcolor\": \"white\", \"linecolor\": \"white\", \"ticks\": \"\", \"title\": {\"standoff\": 15}, \"zerolinecolor\": \"white\", \"zerolinewidth\": 2}}}, \"title\": {\"text\": \"ACP sur les echantilons et les bacteries presentes\"}, \"xaxis\": {\"anchor\": \"y\", \"domain\": [0.0, 1.0], \"title\": {\"text\": \"principal component 1\"}}, \"yaxis\": {\"anchor\": \"x\", \"domain\": [0.0, 1.0], \"title\": {\"text\": \"principal component 2\"}}},                        {\"responsive\": true}                    ).then(function(){\n",
       "                            \n",
       "var gd = document.getElementById('e1571272-9bb1-4b0f-8eda-09de737c24d6');\n",
       "var x = new MutationObserver(function (mutations, observer) {{\n",
       "        var display = window.getComputedStyle(gd).display;\n",
       "        if (!display || display === 'none') {{\n",
       "            console.log([gd, 'removed!']);\n",
       "            Plotly.purge(gd);\n",
       "            observer.disconnect();\n",
       "        }}\n",
       "}});\n",
       "\n",
       "// Listen for the removal of the full notebook cells\n",
       "var notebookContainer = gd.closest('#notebook-container');\n",
       "if (notebookContainer) {{\n",
       "    x.observe(notebookContainer, {childList: true});\n",
       "}}\n",
       "\n",
       "// Listen for the clearing of the current output cell\n",
       "var outputEl = gd.closest('.output');\n",
       "if (outputEl) {{\n",
       "    x.observe(outputEl, {childList: true});\n",
       "}}\n",
       "\n",
       "                        })                };                });            </script>        </div>"
      ]
     },
     "metadata": {},
     "output_type": "display_data"
    }
   ],
   "source": [
    "###ACP\n",
    "# ACP des differentes echantillons \n",
    "\n",
    "df['name']= df['famille']+' '+df['genre'] \n",
    "\n",
    "df = df[df[ 'name']  != 'unclassified unclassified']\n",
    "\n",
    "matrice=df.groupby(by=\"name\").sum()\n",
    "\n",
    "\n",
    "samples = list(matrice.columns.values)\n",
    "\n",
    "\n",
    "#normalisation de la matrice transposé regrouper par embranchement \n",
    "matriceT = matrice.transpose()\n",
    "matriceTN = StandardScaler().fit_transform(matriceT)\n",
    "\n",
    "#Calcul de l'ACP avec sklearn en conservant 2 var\n",
    "pca = PCA(n_components=2)\n",
    "principalComponents = pca.fit_transform(matriceTN)\n",
    "principalDf = pd.DataFrame(data = principalComponents\n",
    "             , columns = ['principal component 1', 'principal component 2'])\n",
    "\n",
    "principalDf['sample']=samples\n",
    "\n",
    "fig = px.scatter(principalDf, x='principal component 1', y='principal component 2', color='sample', \n",
    "                 title=\"ACP sur les echantilons et les bacteries presentes\")\n",
    "fig.show()"
   ]
  },
  {
   "cell_type": "code",
   "execution_count": 64,
   "metadata": {},
   "outputs": [
    {
     "name": "stdout",
     "output_type": "stream",
     "text": [
      "                                    group1     group2  group3\n",
      "name                                                         \n",
      "Acetobacteraceae Acetobacter          1.50   4.000000     0.0\n",
      "Acetobacteraceae Belnapia             0.50   0.000000     5.0\n",
      "Acetobacteraceae Endobacter           0.00   0.555556     0.0\n",
      "Acetobacteraceae Roseomonas          69.50  28.000000     6.0\n",
      "Acetobacteraceae Stella               0.25   0.000000     0.0\n",
      "...                                    ...        ...     ...\n",
      "Xanthomonadaceae Pseudoxanthomonas    3.50   1.333333     5.0\n",
      "Xanthomonadaceae Stenotrophomonas     3.50   6.666667     1.0\n",
      "Xanthomonadaceae Thermomonas          2.50   0.777778    81.0\n",
      "Xanthomonadaceae Xanthomonas          0.50   0.666667     0.0\n",
      "Xanthomonadaceae unclassified         5.25   5.333333    66.0\n",
      "\n",
      "[422 rows x 3 columns]\n"
     ]
    },
    {
     "data": {
      "text/plain": [
       "name\n",
       "Acetobacteraceae Acetobacter          0.192928\n",
       "Acetobacteraceae Belnapia             0.268904\n",
       "Acetobacteraceae Endobacter           0.019075\n",
       "Acetobacteraceae Roseomonas           3.837347\n",
       "Acetobacteraceae Stella               0.009264\n",
       "                                        ...   \n",
       "Xanthomonadaceae Pseudoxanthomonas    0.425858\n",
       "Xanthomonadaceae Stenotrophomonas     0.408680\n",
       "Xanthomonadaceae Thermomonas          4.175434\n",
       "Xanthomonadaceae Xanthomonas          0.041419\n",
       "Xanthomonadaceae unclassified         3.682632\n",
       "Length: 422, dtype: float64"
      ]
     },
     "execution_count": 64,
     "metadata": {},
     "output_type": "execute_result"
    }
   ],
   "source": [
    "###build group\n",
    "group1=[\"toilet_floor_1\",\"toilet_floor_2\",\"sink_floor_1\",\"sink_floor_2\"]\n",
    "group2=[\"door_in_1\",\"door_in_2\",\"toilet_seat_1\",\"toilet_seat_2\",\"stall_in_1\",\"soap_dispenser_1\",\n",
    "        \"faucet_handle_2\",\"faucet_handle_1\",\"toilet_flush_handle_2\"]\n",
    "group3=[\"toilet_flush_handle_1\"]\n",
    "\n",
    "df_grp=pd.DataFrame()\n",
    "df_grp[[\"regne\",\"embranchement\",\"classe\",\"ordre\",\"famille\",\"genre\",\"name\"]]=df[[\"regne\",\"embranchement\",\"classe\",\"ordre\",\"famille\",\"genre\",\"name\"]]\n",
    "df_grp['group1'] = df[group1].mean(axis=1)\n",
    "df_grp['group2'] = df[group2].mean(axis=1)\n",
    "df_grp['group3'] = df[group3].mean(axis=1)\n",
    "df_grp.sum() ###N.B : SOMME NON IDENTIQUE ON PASSE EN ABONDANCE RELATIVE !!\n",
    "matrice=df_grp.groupby(by=\"name\").sum()\n",
    "counts = matrice.div(matrice.sum(axis=0))*100 ### % d'abondance relative\n",
    "counts.sum(axis=1)\n",
    "print(matrice)\n",
    "counts.sum(axis=1)"
   ]
  },
  {
   "cell_type": "code",
   "execution_count": 65,
   "metadata": {},
   "outputs": [
    {
     "name": "stderr",
     "output_type": "stream",
     "text": [
      "/home/arnaud/miniconda3/lib/python3.7/site-packages/pandas-1.0.4-py3.7-linux-x86_64.egg/pandas/core/indexing.py:671: SettingWithCopyWarning:\n",
      "\n",
      "\n",
      "A value is trying to be set on a copy of a slice from a DataFrame\n",
      "\n",
      "See the caveats in the documentation: https://pandas.pydata.org/pandas-docs/stable/user_guide/indexing.html#returning-a-view-versus-a-copy\n",
      "\n"
     ]
    }
   ],
   "source": [
    "import numpy as np\n",
    "###convert faible abondance to other \n",
    "cut_off=2 #en %\n",
    "test_df= counts.loc[lambda df: (counts['group1'] > cut_off) | (counts['group2'] > cut_off) | (counts['group3'] > cut_off) ]\n",
    "#new_row = [100-test_df['group1'].sum(), 100-test_df['group2'].sum(), 100-test_df['group3'].sum()]\n",
    "#test_df.append(new_row, ignore_index=True)\n",
    "#new_row\n",
    "#test_df.loc[\"new\"]\n",
    "test_df.loc['others'] = [100-test_df['group1'].sum(), 100-test_df['group2'].sum(), 100-test_df['group3'].sum()]\n",
    "#test_df.summary"
   ]
  },
  {
   "cell_type": "code",
   "execution_count": 84,
   "metadata": {},
   "outputs": [
    {
     "data": {
      "text/plain": [
       "(25, 3)"
      ]
     },
     "execution_count": 84,
     "metadata": {},
     "output_type": "execute_result"
    }
   ],
   "source": [
    "test_df.shape"
   ]
  },
  {
   "cell_type": "code",
   "execution_count": 85,
   "metadata": {},
   "outputs": [
    {
     "data": {
      "application/vnd.plotly.v1+json": {
       "config": {
        "plotlyServerURL": "https://plot.ly"
       },
       "data": [
        {
         "hovertemplate": "sample=group1<br>principal component 1=%{x}<br>principal component 2=%{y}<extra></extra>",
         "legendgroup": "group1",
         "marker": {
          "color": "#636efa",
          "symbol": "circle"
         },
         "mode": "markers",
         "name": "group1",
         "orientation": "v",
         "showlegend": true,
         "type": "scatter",
         "x": [
          -1.8314757667372825
         ],
         "xaxis": "x",
         "y": [
          4.331465575751513
         ],
         "yaxis": "y"
        },
        {
         "hovertemplate": "sample=group2<br>principal component 1=%{x}<br>principal component 2=%{y}<extra></extra>",
         "legendgroup": "group2",
         "marker": {
          "color": "#EF553B",
          "symbol": "circle"
         },
         "mode": "markers",
         "name": "group2",
         "orientation": "v",
         "showlegend": true,
         "type": "scatter",
         "x": [
          -3.4495077906308196
         ],
         "xaxis": "x",
         "y": [
          -3.5287100683464487
         ],
         "yaxis": "y"
        },
        {
         "hovertemplate": "sample=group3<br>principal component 1=%{x}<br>principal component 2=%{y}<extra></extra>",
         "legendgroup": "group3",
         "marker": {
          "color": "#00cc96",
          "symbol": "circle"
         },
         "mode": "markers",
         "name": "group3",
         "orientation": "v",
         "showlegend": true,
         "type": "scatter",
         "x": [
          5.280983557368102
         ],
         "xaxis": "x",
         "y": [
          -0.802755507405065
         ],
         "yaxis": "y"
        }
       ],
       "layout": {
        "legend": {
         "title": {
          "text": "sample"
         },
         "tracegroupgap": 0
        },
        "template": {
         "data": {
          "bar": [
           {
            "error_x": {
             "color": "#2a3f5f"
            },
            "error_y": {
             "color": "#2a3f5f"
            },
            "marker": {
             "line": {
              "color": "#E5ECF6",
              "width": 0.5
             }
            },
            "type": "bar"
           }
          ],
          "barpolar": [
           {
            "marker": {
             "line": {
              "color": "#E5ECF6",
              "width": 0.5
             }
            },
            "type": "barpolar"
           }
          ],
          "carpet": [
           {
            "aaxis": {
             "endlinecolor": "#2a3f5f",
             "gridcolor": "white",
             "linecolor": "white",
             "minorgridcolor": "white",
             "startlinecolor": "#2a3f5f"
            },
            "baxis": {
             "endlinecolor": "#2a3f5f",
             "gridcolor": "white",
             "linecolor": "white",
             "minorgridcolor": "white",
             "startlinecolor": "#2a3f5f"
            },
            "type": "carpet"
           }
          ],
          "choropleth": [
           {
            "colorbar": {
             "outlinewidth": 0,
             "ticks": ""
            },
            "type": "choropleth"
           }
          ],
          "contour": [
           {
            "colorbar": {
             "outlinewidth": 0,
             "ticks": ""
            },
            "colorscale": [
             [
              0,
              "#0d0887"
             ],
             [
              0.1111111111111111,
              "#46039f"
             ],
             [
              0.2222222222222222,
              "#7201a8"
             ],
             [
              0.3333333333333333,
              "#9c179e"
             ],
             [
              0.4444444444444444,
              "#bd3786"
             ],
             [
              0.5555555555555556,
              "#d8576b"
             ],
             [
              0.6666666666666666,
              "#ed7953"
             ],
             [
              0.7777777777777778,
              "#fb9f3a"
             ],
             [
              0.8888888888888888,
              "#fdca26"
             ],
             [
              1,
              "#f0f921"
             ]
            ],
            "type": "contour"
           }
          ],
          "contourcarpet": [
           {
            "colorbar": {
             "outlinewidth": 0,
             "ticks": ""
            },
            "type": "contourcarpet"
           }
          ],
          "heatmap": [
           {
            "colorbar": {
             "outlinewidth": 0,
             "ticks": ""
            },
            "colorscale": [
             [
              0,
              "#0d0887"
             ],
             [
              0.1111111111111111,
              "#46039f"
             ],
             [
              0.2222222222222222,
              "#7201a8"
             ],
             [
              0.3333333333333333,
              "#9c179e"
             ],
             [
              0.4444444444444444,
              "#bd3786"
             ],
             [
              0.5555555555555556,
              "#d8576b"
             ],
             [
              0.6666666666666666,
              "#ed7953"
             ],
             [
              0.7777777777777778,
              "#fb9f3a"
             ],
             [
              0.8888888888888888,
              "#fdca26"
             ],
             [
              1,
              "#f0f921"
             ]
            ],
            "type": "heatmap"
           }
          ],
          "heatmapgl": [
           {
            "colorbar": {
             "outlinewidth": 0,
             "ticks": ""
            },
            "colorscale": [
             [
              0,
              "#0d0887"
             ],
             [
              0.1111111111111111,
              "#46039f"
             ],
             [
              0.2222222222222222,
              "#7201a8"
             ],
             [
              0.3333333333333333,
              "#9c179e"
             ],
             [
              0.4444444444444444,
              "#bd3786"
             ],
             [
              0.5555555555555556,
              "#d8576b"
             ],
             [
              0.6666666666666666,
              "#ed7953"
             ],
             [
              0.7777777777777778,
              "#fb9f3a"
             ],
             [
              0.8888888888888888,
              "#fdca26"
             ],
             [
              1,
              "#f0f921"
             ]
            ],
            "type": "heatmapgl"
           }
          ],
          "histogram": [
           {
            "marker": {
             "colorbar": {
              "outlinewidth": 0,
              "ticks": ""
             }
            },
            "type": "histogram"
           }
          ],
          "histogram2d": [
           {
            "colorbar": {
             "outlinewidth": 0,
             "ticks": ""
            },
            "colorscale": [
             [
              0,
              "#0d0887"
             ],
             [
              0.1111111111111111,
              "#46039f"
             ],
             [
              0.2222222222222222,
              "#7201a8"
             ],
             [
              0.3333333333333333,
              "#9c179e"
             ],
             [
              0.4444444444444444,
              "#bd3786"
             ],
             [
              0.5555555555555556,
              "#d8576b"
             ],
             [
              0.6666666666666666,
              "#ed7953"
             ],
             [
              0.7777777777777778,
              "#fb9f3a"
             ],
             [
              0.8888888888888888,
              "#fdca26"
             ],
             [
              1,
              "#f0f921"
             ]
            ],
            "type": "histogram2d"
           }
          ],
          "histogram2dcontour": [
           {
            "colorbar": {
             "outlinewidth": 0,
             "ticks": ""
            },
            "colorscale": [
             [
              0,
              "#0d0887"
             ],
             [
              0.1111111111111111,
              "#46039f"
             ],
             [
              0.2222222222222222,
              "#7201a8"
             ],
             [
              0.3333333333333333,
              "#9c179e"
             ],
             [
              0.4444444444444444,
              "#bd3786"
             ],
             [
              0.5555555555555556,
              "#d8576b"
             ],
             [
              0.6666666666666666,
              "#ed7953"
             ],
             [
              0.7777777777777778,
              "#fb9f3a"
             ],
             [
              0.8888888888888888,
              "#fdca26"
             ],
             [
              1,
              "#f0f921"
             ]
            ],
            "type": "histogram2dcontour"
           }
          ],
          "mesh3d": [
           {
            "colorbar": {
             "outlinewidth": 0,
             "ticks": ""
            },
            "type": "mesh3d"
           }
          ],
          "parcoords": [
           {
            "line": {
             "colorbar": {
              "outlinewidth": 0,
              "ticks": ""
             }
            },
            "type": "parcoords"
           }
          ],
          "pie": [
           {
            "automargin": true,
            "type": "pie"
           }
          ],
          "scatter": [
           {
            "marker": {
             "colorbar": {
              "outlinewidth": 0,
              "ticks": ""
             }
            },
            "type": "scatter"
           }
          ],
          "scatter3d": [
           {
            "line": {
             "colorbar": {
              "outlinewidth": 0,
              "ticks": ""
             }
            },
            "marker": {
             "colorbar": {
              "outlinewidth": 0,
              "ticks": ""
             }
            },
            "type": "scatter3d"
           }
          ],
          "scattercarpet": [
           {
            "marker": {
             "colorbar": {
              "outlinewidth": 0,
              "ticks": ""
             }
            },
            "type": "scattercarpet"
           }
          ],
          "scattergeo": [
           {
            "marker": {
             "colorbar": {
              "outlinewidth": 0,
              "ticks": ""
             }
            },
            "type": "scattergeo"
           }
          ],
          "scattergl": [
           {
            "marker": {
             "colorbar": {
              "outlinewidth": 0,
              "ticks": ""
             }
            },
            "type": "scattergl"
           }
          ],
          "scattermapbox": [
           {
            "marker": {
             "colorbar": {
              "outlinewidth": 0,
              "ticks": ""
             }
            },
            "type": "scattermapbox"
           }
          ],
          "scatterpolar": [
           {
            "marker": {
             "colorbar": {
              "outlinewidth": 0,
              "ticks": ""
             }
            },
            "type": "scatterpolar"
           }
          ],
          "scatterpolargl": [
           {
            "marker": {
             "colorbar": {
              "outlinewidth": 0,
              "ticks": ""
             }
            },
            "type": "scatterpolargl"
           }
          ],
          "scatterternary": [
           {
            "marker": {
             "colorbar": {
              "outlinewidth": 0,
              "ticks": ""
             }
            },
            "type": "scatterternary"
           }
          ],
          "surface": [
           {
            "colorbar": {
             "outlinewidth": 0,
             "ticks": ""
            },
            "colorscale": [
             [
              0,
              "#0d0887"
             ],
             [
              0.1111111111111111,
              "#46039f"
             ],
             [
              0.2222222222222222,
              "#7201a8"
             ],
             [
              0.3333333333333333,
              "#9c179e"
             ],
             [
              0.4444444444444444,
              "#bd3786"
             ],
             [
              0.5555555555555556,
              "#d8576b"
             ],
             [
              0.6666666666666666,
              "#ed7953"
             ],
             [
              0.7777777777777778,
              "#fb9f3a"
             ],
             [
              0.8888888888888888,
              "#fdca26"
             ],
             [
              1,
              "#f0f921"
             ]
            ],
            "type": "surface"
           }
          ],
          "table": [
           {
            "cells": {
             "fill": {
              "color": "#EBF0F8"
             },
             "line": {
              "color": "white"
             }
            },
            "header": {
             "fill": {
              "color": "#C8D4E3"
             },
             "line": {
              "color": "white"
             }
            },
            "type": "table"
           }
          ]
         },
         "layout": {
          "annotationdefaults": {
           "arrowcolor": "#2a3f5f",
           "arrowhead": 0,
           "arrowwidth": 1
          },
          "coloraxis": {
           "colorbar": {
            "outlinewidth": 0,
            "ticks": ""
           }
          },
          "colorscale": {
           "diverging": [
            [
             0,
             "#8e0152"
            ],
            [
             0.1,
             "#c51b7d"
            ],
            [
             0.2,
             "#de77ae"
            ],
            [
             0.3,
             "#f1b6da"
            ],
            [
             0.4,
             "#fde0ef"
            ],
            [
             0.5,
             "#f7f7f7"
            ],
            [
             0.6,
             "#e6f5d0"
            ],
            [
             0.7,
             "#b8e186"
            ],
            [
             0.8,
             "#7fbc41"
            ],
            [
             0.9,
             "#4d9221"
            ],
            [
             1,
             "#276419"
            ]
           ],
           "sequential": [
            [
             0,
             "#0d0887"
            ],
            [
             0.1111111111111111,
             "#46039f"
            ],
            [
             0.2222222222222222,
             "#7201a8"
            ],
            [
             0.3333333333333333,
             "#9c179e"
            ],
            [
             0.4444444444444444,
             "#bd3786"
            ],
            [
             0.5555555555555556,
             "#d8576b"
            ],
            [
             0.6666666666666666,
             "#ed7953"
            ],
            [
             0.7777777777777778,
             "#fb9f3a"
            ],
            [
             0.8888888888888888,
             "#fdca26"
            ],
            [
             1,
             "#f0f921"
            ]
           ],
           "sequentialminus": [
            [
             0,
             "#0d0887"
            ],
            [
             0.1111111111111111,
             "#46039f"
            ],
            [
             0.2222222222222222,
             "#7201a8"
            ],
            [
             0.3333333333333333,
             "#9c179e"
            ],
            [
             0.4444444444444444,
             "#bd3786"
            ],
            [
             0.5555555555555556,
             "#d8576b"
            ],
            [
             0.6666666666666666,
             "#ed7953"
            ],
            [
             0.7777777777777778,
             "#fb9f3a"
            ],
            [
             0.8888888888888888,
             "#fdca26"
            ],
            [
             1,
             "#f0f921"
            ]
           ]
          },
          "colorway": [
           "#636efa",
           "#EF553B",
           "#00cc96",
           "#ab63fa",
           "#FFA15A",
           "#19d3f3",
           "#FF6692",
           "#B6E880",
           "#FF97FF",
           "#FECB52"
          ],
          "font": {
           "color": "#2a3f5f"
          },
          "geo": {
           "bgcolor": "white",
           "lakecolor": "white",
           "landcolor": "#E5ECF6",
           "showlakes": true,
           "showland": true,
           "subunitcolor": "white"
          },
          "hoverlabel": {
           "align": "left"
          },
          "hovermode": "closest",
          "mapbox": {
           "style": "light"
          },
          "paper_bgcolor": "white",
          "plot_bgcolor": "#E5ECF6",
          "polar": {
           "angularaxis": {
            "gridcolor": "white",
            "linecolor": "white",
            "ticks": ""
           },
           "bgcolor": "#E5ECF6",
           "radialaxis": {
            "gridcolor": "white",
            "linecolor": "white",
            "ticks": ""
           }
          },
          "scene": {
           "xaxis": {
            "backgroundcolor": "#E5ECF6",
            "gridcolor": "white",
            "gridwidth": 2,
            "linecolor": "white",
            "showbackground": true,
            "ticks": "",
            "zerolinecolor": "white"
           },
           "yaxis": {
            "backgroundcolor": "#E5ECF6",
            "gridcolor": "white",
            "gridwidth": 2,
            "linecolor": "white",
            "showbackground": true,
            "ticks": "",
            "zerolinecolor": "white"
           },
           "zaxis": {
            "backgroundcolor": "#E5ECF6",
            "gridcolor": "white",
            "gridwidth": 2,
            "linecolor": "white",
            "showbackground": true,
            "ticks": "",
            "zerolinecolor": "white"
           }
          },
          "shapedefaults": {
           "line": {
            "color": "#2a3f5f"
           }
          },
          "ternary": {
           "aaxis": {
            "gridcolor": "white",
            "linecolor": "white",
            "ticks": ""
           },
           "baxis": {
            "gridcolor": "white",
            "linecolor": "white",
            "ticks": ""
           },
           "bgcolor": "#E5ECF6",
           "caxis": {
            "gridcolor": "white",
            "linecolor": "white",
            "ticks": ""
           }
          },
          "title": {
           "x": 0.05
          },
          "xaxis": {
           "automargin": true,
           "gridcolor": "white",
           "linecolor": "white",
           "ticks": "",
           "title": {
            "standoff": 15
           },
           "zerolinecolor": "white",
           "zerolinewidth": 2
          },
          "yaxis": {
           "automargin": true,
           "gridcolor": "white",
           "linecolor": "white",
           "ticks": "",
           "title": {
            "standoff": 15
           },
           "zerolinecolor": "white",
           "zerolinewidth": 2
          }
         }
        },
        "title": {
         "text": "ACP sur les echantilons et les bacteries presentes"
        },
        "xaxis": {
         "anchor": "y",
         "domain": [
          0,
          1
         ],
         "title": {
          "text": "principal component 1"
         }
        },
        "yaxis": {
         "anchor": "x",
         "domain": [
          0,
          1
         ],
         "title": {
          "text": "principal component 2"
         }
        }
       }
      },
      "text/html": [
       "<div>                            <div id=\"1fa9874c-b1c0-4b83-a10f-de9b790c9c24\" class=\"plotly-graph-div\" style=\"height:525px; width:100%;\"></div>            <script type=\"text/javascript\">                require([\"plotly\"], function(Plotly) {                    window.PLOTLYENV=window.PLOTLYENV || {};                                    if (document.getElementById(\"1fa9874c-b1c0-4b83-a10f-de9b790c9c24\")) {                    Plotly.newPlot(                        \"1fa9874c-b1c0-4b83-a10f-de9b790c9c24\",                        [{\"hovertemplate\": \"sample=group1<br>principal component 1=%{x}<br>principal component 2=%{y}<extra></extra>\", \"legendgroup\": \"group1\", \"marker\": {\"color\": \"#636efa\", \"symbol\": \"circle\"}, \"mode\": \"markers\", \"name\": \"group1\", \"orientation\": \"v\", \"showlegend\": true, \"type\": \"scatter\", \"x\": [-1.8314757667372825], \"xaxis\": \"x\", \"y\": [4.331465575751513], \"yaxis\": \"y\"}, {\"hovertemplate\": \"sample=group2<br>principal component 1=%{x}<br>principal component 2=%{y}<extra></extra>\", \"legendgroup\": \"group2\", \"marker\": {\"color\": \"#EF553B\", \"symbol\": \"circle\"}, \"mode\": \"markers\", \"name\": \"group2\", \"orientation\": \"v\", \"showlegend\": true, \"type\": \"scatter\", \"x\": [-3.4495077906308196], \"xaxis\": \"x\", \"y\": [-3.5287100683464487], \"yaxis\": \"y\"}, {\"hovertemplate\": \"sample=group3<br>principal component 1=%{x}<br>principal component 2=%{y}<extra></extra>\", \"legendgroup\": \"group3\", \"marker\": {\"color\": \"#00cc96\", \"symbol\": \"circle\"}, \"mode\": \"markers\", \"name\": \"group3\", \"orientation\": \"v\", \"showlegend\": true, \"type\": \"scatter\", \"x\": [5.280983557368102], \"xaxis\": \"x\", \"y\": [-0.802755507405065], \"yaxis\": \"y\"}],                        {\"legend\": {\"title\": {\"text\": \"sample\"}, \"tracegroupgap\": 0}, \"template\": {\"data\": {\"bar\": [{\"error_x\": {\"color\": \"#2a3f5f\"}, \"error_y\": {\"color\": \"#2a3f5f\"}, \"marker\": {\"line\": {\"color\": \"#E5ECF6\", \"width\": 0.5}}, \"type\": \"bar\"}], \"barpolar\": [{\"marker\": {\"line\": {\"color\": \"#E5ECF6\", \"width\": 0.5}}, \"type\": \"barpolar\"}], \"carpet\": [{\"aaxis\": {\"endlinecolor\": \"#2a3f5f\", \"gridcolor\": \"white\", \"linecolor\": \"white\", \"minorgridcolor\": \"white\", \"startlinecolor\": \"#2a3f5f\"}, \"baxis\": {\"endlinecolor\": \"#2a3f5f\", \"gridcolor\": \"white\", \"linecolor\": \"white\", \"minorgridcolor\": \"white\", \"startlinecolor\": \"#2a3f5f\"}, \"type\": \"carpet\"}], \"choropleth\": [{\"colorbar\": {\"outlinewidth\": 0, \"ticks\": \"\"}, \"type\": \"choropleth\"}], \"contour\": [{\"colorbar\": {\"outlinewidth\": 0, \"ticks\": \"\"}, \"colorscale\": [[0.0, \"#0d0887\"], [0.1111111111111111, \"#46039f\"], [0.2222222222222222, \"#7201a8\"], [0.3333333333333333, \"#9c179e\"], [0.4444444444444444, \"#bd3786\"], [0.5555555555555556, \"#d8576b\"], [0.6666666666666666, \"#ed7953\"], [0.7777777777777778, \"#fb9f3a\"], [0.8888888888888888, \"#fdca26\"], [1.0, \"#f0f921\"]], \"type\": \"contour\"}], \"contourcarpet\": [{\"colorbar\": {\"outlinewidth\": 0, \"ticks\": \"\"}, \"type\": \"contourcarpet\"}], \"heatmap\": [{\"colorbar\": {\"outlinewidth\": 0, \"ticks\": \"\"}, \"colorscale\": [[0.0, \"#0d0887\"], [0.1111111111111111, \"#46039f\"], [0.2222222222222222, \"#7201a8\"], [0.3333333333333333, \"#9c179e\"], [0.4444444444444444, \"#bd3786\"], [0.5555555555555556, \"#d8576b\"], [0.6666666666666666, \"#ed7953\"], [0.7777777777777778, \"#fb9f3a\"], [0.8888888888888888, \"#fdca26\"], [1.0, \"#f0f921\"]], \"type\": \"heatmap\"}], \"heatmapgl\": [{\"colorbar\": {\"outlinewidth\": 0, \"ticks\": \"\"}, \"colorscale\": [[0.0, \"#0d0887\"], [0.1111111111111111, \"#46039f\"], [0.2222222222222222, \"#7201a8\"], [0.3333333333333333, \"#9c179e\"], [0.4444444444444444, \"#bd3786\"], [0.5555555555555556, \"#d8576b\"], [0.6666666666666666, \"#ed7953\"], [0.7777777777777778, \"#fb9f3a\"], [0.8888888888888888, \"#fdca26\"], [1.0, \"#f0f921\"]], \"type\": \"heatmapgl\"}], \"histogram\": [{\"marker\": {\"colorbar\": {\"outlinewidth\": 0, \"ticks\": \"\"}}, \"type\": \"histogram\"}], \"histogram2d\": [{\"colorbar\": {\"outlinewidth\": 0, \"ticks\": \"\"}, \"colorscale\": [[0.0, \"#0d0887\"], [0.1111111111111111, \"#46039f\"], [0.2222222222222222, \"#7201a8\"], [0.3333333333333333, \"#9c179e\"], [0.4444444444444444, \"#bd3786\"], [0.5555555555555556, \"#d8576b\"], [0.6666666666666666, \"#ed7953\"], [0.7777777777777778, \"#fb9f3a\"], [0.8888888888888888, \"#fdca26\"], [1.0, \"#f0f921\"]], \"type\": \"histogram2d\"}], \"histogram2dcontour\": [{\"colorbar\": {\"outlinewidth\": 0, \"ticks\": \"\"}, \"colorscale\": [[0.0, \"#0d0887\"], [0.1111111111111111, \"#46039f\"], [0.2222222222222222, \"#7201a8\"], [0.3333333333333333, \"#9c179e\"], [0.4444444444444444, \"#bd3786\"], [0.5555555555555556, \"#d8576b\"], [0.6666666666666666, \"#ed7953\"], [0.7777777777777778, \"#fb9f3a\"], [0.8888888888888888, \"#fdca26\"], [1.0, \"#f0f921\"]], \"type\": \"histogram2dcontour\"}], \"mesh3d\": [{\"colorbar\": {\"outlinewidth\": 0, \"ticks\": \"\"}, \"type\": \"mesh3d\"}], \"parcoords\": [{\"line\": {\"colorbar\": {\"outlinewidth\": 0, \"ticks\": \"\"}}, \"type\": \"parcoords\"}], \"pie\": [{\"automargin\": true, \"type\": \"pie\"}], \"scatter\": [{\"marker\": {\"colorbar\": {\"outlinewidth\": 0, \"ticks\": \"\"}}, \"type\": \"scatter\"}], \"scatter3d\": [{\"line\": {\"colorbar\": {\"outlinewidth\": 0, \"ticks\": \"\"}}, \"marker\": {\"colorbar\": {\"outlinewidth\": 0, \"ticks\": \"\"}}, \"type\": \"scatter3d\"}], \"scattercarpet\": [{\"marker\": {\"colorbar\": {\"outlinewidth\": 0, \"ticks\": \"\"}}, \"type\": \"scattercarpet\"}], \"scattergeo\": [{\"marker\": {\"colorbar\": {\"outlinewidth\": 0, \"ticks\": \"\"}}, \"type\": \"scattergeo\"}], \"scattergl\": [{\"marker\": {\"colorbar\": {\"outlinewidth\": 0, \"ticks\": \"\"}}, \"type\": \"scattergl\"}], \"scattermapbox\": [{\"marker\": {\"colorbar\": {\"outlinewidth\": 0, \"ticks\": \"\"}}, \"type\": \"scattermapbox\"}], \"scatterpolar\": [{\"marker\": {\"colorbar\": {\"outlinewidth\": 0, \"ticks\": \"\"}}, \"type\": \"scatterpolar\"}], \"scatterpolargl\": [{\"marker\": {\"colorbar\": {\"outlinewidth\": 0, \"ticks\": \"\"}}, \"type\": \"scatterpolargl\"}], \"scatterternary\": [{\"marker\": {\"colorbar\": {\"outlinewidth\": 0, \"ticks\": \"\"}}, \"type\": \"scatterternary\"}], \"surface\": [{\"colorbar\": {\"outlinewidth\": 0, \"ticks\": \"\"}, \"colorscale\": [[0.0, \"#0d0887\"], [0.1111111111111111, \"#46039f\"], [0.2222222222222222, \"#7201a8\"], [0.3333333333333333, \"#9c179e\"], [0.4444444444444444, \"#bd3786\"], [0.5555555555555556, \"#d8576b\"], [0.6666666666666666, \"#ed7953\"], [0.7777777777777778, \"#fb9f3a\"], [0.8888888888888888, \"#fdca26\"], [1.0, \"#f0f921\"]], \"type\": \"surface\"}], \"table\": [{\"cells\": {\"fill\": {\"color\": \"#EBF0F8\"}, \"line\": {\"color\": \"white\"}}, \"header\": {\"fill\": {\"color\": \"#C8D4E3\"}, \"line\": {\"color\": \"white\"}}, \"type\": \"table\"}]}, \"layout\": {\"annotationdefaults\": {\"arrowcolor\": \"#2a3f5f\", \"arrowhead\": 0, \"arrowwidth\": 1}, \"coloraxis\": {\"colorbar\": {\"outlinewidth\": 0, \"ticks\": \"\"}}, \"colorscale\": {\"diverging\": [[0, \"#8e0152\"], [0.1, \"#c51b7d\"], [0.2, \"#de77ae\"], [0.3, \"#f1b6da\"], [0.4, \"#fde0ef\"], [0.5, \"#f7f7f7\"], [0.6, \"#e6f5d0\"], [0.7, \"#b8e186\"], [0.8, \"#7fbc41\"], [0.9, \"#4d9221\"], [1, \"#276419\"]], \"sequential\": [[0.0, \"#0d0887\"], [0.1111111111111111, \"#46039f\"], [0.2222222222222222, \"#7201a8\"], [0.3333333333333333, \"#9c179e\"], [0.4444444444444444, \"#bd3786\"], [0.5555555555555556, \"#d8576b\"], [0.6666666666666666, \"#ed7953\"], [0.7777777777777778, \"#fb9f3a\"], [0.8888888888888888, \"#fdca26\"], [1.0, \"#f0f921\"]], \"sequentialminus\": [[0.0, \"#0d0887\"], [0.1111111111111111, \"#46039f\"], [0.2222222222222222, \"#7201a8\"], [0.3333333333333333, \"#9c179e\"], [0.4444444444444444, \"#bd3786\"], [0.5555555555555556, \"#d8576b\"], [0.6666666666666666, \"#ed7953\"], [0.7777777777777778, \"#fb9f3a\"], [0.8888888888888888, \"#fdca26\"], [1.0, \"#f0f921\"]]}, \"colorway\": [\"#636efa\", \"#EF553B\", \"#00cc96\", \"#ab63fa\", \"#FFA15A\", \"#19d3f3\", \"#FF6692\", \"#B6E880\", \"#FF97FF\", \"#FECB52\"], \"font\": {\"color\": \"#2a3f5f\"}, \"geo\": {\"bgcolor\": \"white\", \"lakecolor\": \"white\", \"landcolor\": \"#E5ECF6\", \"showlakes\": true, \"showland\": true, \"subunitcolor\": \"white\"}, \"hoverlabel\": {\"align\": \"left\"}, \"hovermode\": \"closest\", \"mapbox\": {\"style\": \"light\"}, \"paper_bgcolor\": \"white\", \"plot_bgcolor\": \"#E5ECF6\", \"polar\": {\"angularaxis\": {\"gridcolor\": \"white\", \"linecolor\": \"white\", \"ticks\": \"\"}, \"bgcolor\": \"#E5ECF6\", \"radialaxis\": {\"gridcolor\": \"white\", \"linecolor\": \"white\", \"ticks\": \"\"}}, \"scene\": {\"xaxis\": {\"backgroundcolor\": \"#E5ECF6\", \"gridcolor\": \"white\", \"gridwidth\": 2, \"linecolor\": \"white\", \"showbackground\": true, \"ticks\": \"\", \"zerolinecolor\": \"white\"}, \"yaxis\": {\"backgroundcolor\": \"#E5ECF6\", \"gridcolor\": \"white\", \"gridwidth\": 2, \"linecolor\": \"white\", \"showbackground\": true, \"ticks\": \"\", \"zerolinecolor\": \"white\"}, \"zaxis\": {\"backgroundcolor\": \"#E5ECF6\", \"gridcolor\": \"white\", \"gridwidth\": 2, \"linecolor\": \"white\", \"showbackground\": true, \"ticks\": \"\", \"zerolinecolor\": \"white\"}}, \"shapedefaults\": {\"line\": {\"color\": \"#2a3f5f\"}}, \"ternary\": {\"aaxis\": {\"gridcolor\": \"white\", \"linecolor\": \"white\", \"ticks\": \"\"}, \"baxis\": {\"gridcolor\": \"white\", \"linecolor\": \"white\", \"ticks\": \"\"}, \"bgcolor\": \"#E5ECF6\", \"caxis\": {\"gridcolor\": \"white\", \"linecolor\": \"white\", \"ticks\": \"\"}}, \"title\": {\"x\": 0.05}, \"xaxis\": {\"automargin\": true, \"gridcolor\": \"white\", \"linecolor\": \"white\", \"ticks\": \"\", \"title\": {\"standoff\": 15}, \"zerolinecolor\": \"white\", \"zerolinewidth\": 2}, \"yaxis\": {\"automargin\": true, \"gridcolor\": \"white\", \"linecolor\": \"white\", \"ticks\": \"\", \"title\": {\"standoff\": 15}, \"zerolinecolor\": \"white\", \"zerolinewidth\": 2}}}, \"title\": {\"text\": \"ACP sur les echantilons et les bacteries presentes\"}, \"xaxis\": {\"anchor\": \"y\", \"domain\": [0.0, 1.0], \"title\": {\"text\": \"principal component 1\"}}, \"yaxis\": {\"anchor\": \"x\", \"domain\": [0.0, 1.0], \"title\": {\"text\": \"principal component 2\"}}},                        {\"responsive\": true}                    ).then(function(){\n",
       "                            \n",
       "var gd = document.getElementById('1fa9874c-b1c0-4b83-a10f-de9b790c9c24');\n",
       "var x = new MutationObserver(function (mutations, observer) {{\n",
       "        var display = window.getComputedStyle(gd).display;\n",
       "        if (!display || display === 'none') {{\n",
       "            console.log([gd, 'removed!']);\n",
       "            Plotly.purge(gd);\n",
       "            observer.disconnect();\n",
       "        }}\n",
       "}});\n",
       "\n",
       "// Listen for the removal of the full notebook cells\n",
       "var notebookContainer = gd.closest('#notebook-container');\n",
       "if (notebookContainer) {{\n",
       "    x.observe(notebookContainer, {childList: true});\n",
       "}}\n",
       "\n",
       "// Listen for the clearing of the current output cell\n",
       "var outputEl = gd.closest('.output');\n",
       "if (outputEl) {{\n",
       "    x.observe(outputEl, {childList: true});\n",
       "}}\n",
       "\n",
       "                        })                };                });            </script>        </div>"
      ]
     },
     "metadata": {},
     "output_type": "display_data"
    }
   ],
   "source": [
    "# ACP des different GROUP -> check if group bien distinct\n",
    "matrice=test_df\n",
    "\n",
    "\n",
    "samples = list(matrice.columns.values)\n",
    "\n",
    "\n",
    "#normalisation de la matrice transposé regrouper par embranchement \n",
    "matriceT = matrice.transpose()\n",
    "matriceTN = StandardScaler().fit_transform(matriceT)\n",
    "\n",
    "#Calcul de l'ACP avec sklearn en conservant 2 var\n",
    "pca = PCA(n_components=2)\n",
    "principalComponents = pca.fit_transform(matriceTN)\n",
    "principalDf = pd.DataFrame(data = principalComponents\n",
    "             , columns = ['principal component 1', 'principal component 2'])\n",
    "\n",
    "principalDf['sample']=samples\n",
    "\n",
    "fig = px.scatter(principalDf, x='principal component 1', y='principal component 2', color='sample', \n",
    "                 title=\"ACP sur les echantilons et les bacteries presentes\")\n",
    "fig.show()"
   ]
  },
  {
   "cell_type": "code",
   "execution_count": 87,
   "metadata": {},
   "outputs": [
    {
     "name": "stdout",
     "output_type": "stream",
     "text": [
      "(25, 3)\n",
      "group1    100.0\n",
      "group2    100.0\n",
      "group3    100.0\n",
      "dtype: float64\n"
     ]
    },
    {
     "data": {
      "application/vnd.plotly.v1+json": {
       "config": {
        "plotlyServerURL": "https://plot.ly"
       },
       "data": [
        {
         "alignmentgroup": "True",
         "hovertemplate": "variable=Acetobacteraceae Roseomonas<br>x=%{x}<br>value=%{y}<extra></extra>",
         "legendgroup": "Acetobacteraceae Roseomonas",
         "marker": {
          "color": "#440154"
         },
         "name": "Acetobacteraceae Roseomonas",
         "offsetgroup": "Acetobacteraceae Roseomonas",
         "orientation": "v",
         "showlegend": true,
         "textposition": "auto",
         "type": "bar",
         "x": [
          "group1",
          "group2",
          "group3"
         ],
         "xaxis": "x",
         "y": [
          2.57550491013526,
          0.9613917289790941,
          0.30045067601402103
         ],
         "yaxis": "y"
        },
        {
         "alignmentgroup": "True",
         "hovertemplate": "variable=Burkholderiales_incertae_sedis Aquabacterium<br>x=%{x}<br>value=%{y}<extra></extra>",
         "legendgroup": "Burkholderiales_incertae_sedis Aquabacterium",
         "marker": {
          "color": "#482878"
         },
         "name": "Burkholderiales_incertae_sedis Aquabacterium",
         "offsetgroup": "Burkholderiales_incertae_sedis Aquabacterium",
         "orientation": "v",
         "showlegend": true,
         "textposition": "auto",
         "type": "bar",
         "x": [
          "group1",
          "group2",
          "group3"
         ],
         "xaxis": "x",
         "y": [
          0.12970168612191957,
          2.891805280024418,
          0.7511266900350526
         ],
         "yaxis": "y"
        },
        {
         "alignmentgroup": "True",
         "hovertemplate": "variable=Clostridiales_Incertae_Sedis_XI Anaerococcus<br>x=%{x}<br>value=%{y}<extra></extra>",
         "legendgroup": "Clostridiales_Incertae_Sedis_XI Anaerococcus",
         "marker": {
          "color": "#3e4989"
         },
         "name": "Clostridiales_Incertae_Sedis_XI Anaerococcus",
         "offsetgroup": "Clostridiales_Incertae_Sedis_XI Anaerococcus",
         "orientation": "v",
         "showlegend": true,
         "textposition": "auto",
         "type": "bar",
         "x": [
          "group1",
          "group2",
          "group3"
         ],
         "xaxis": "x",
         "y": [
          0.13896609227348528,
          2.5026705325805,
          0.15022533800701052
         ],
         "yaxis": "y"
        },
        {
         "alignmentgroup": "True",
         "hovertemplate": "variable=Corynebacteriaceae Corynebacterium<br>x=%{x}<br>value=%{y}<extra></extra>",
         "legendgroup": "Corynebacteriaceae Corynebacterium",
         "marker": {
          "color": "#31688e"
         },
         "name": "Corynebacteriaceae Corynebacterium",
         "offsetgroup": "Corynebacteriaceae Corynebacterium",
         "orientation": "v",
         "showlegend": true,
         "textposition": "auto",
         "type": "bar",
         "x": [
          "group1",
          "group2",
          "group3"
         ],
         "xaxis": "x",
         "y": [
          1.6861219195849546,
          18.140546314664988,
          0.20030045067601399
         ],
         "yaxis": "y"
        },
        {
         "alignmentgroup": "True",
         "hovertemplate": "variable=Cytophagaceae Hymenobacter<br>x=%{x}<br>value=%{y}<extra></extra>",
         "legendgroup": "Cytophagaceae Hymenobacter",
         "marker": {
          "color": "#26828e"
         },
         "name": "Cytophagaceae Hymenobacter",
         "offsetgroup": "Cytophagaceae Hymenobacter",
         "orientation": "v",
         "showlegend": true,
         "textposition": "auto",
         "type": "bar",
         "x": [
          "group1",
          "group2",
          "group3"
         ],
         "xaxis": "x",
         "y": [
          2.612562534741523,
          0.23271783915763783,
          0.10015022533800699
         ],
         "yaxis": "y"
        },
        {
         "alignmentgroup": "True",
         "hovertemplate": "variable=Erythrobacteraceae unclassified<br>x=%{x}<br>value=%{y}<extra></extra>",
         "legendgroup": "Erythrobacteraceae unclassified",
         "marker": {
          "color": "#1f9e89"
         },
         "name": "Erythrobacteraceae unclassified",
         "offsetgroup": "Erythrobacteraceae unclassified",
         "orientation": "v",
         "showlegend": true,
         "textposition": "auto",
         "type": "bar",
         "x": [
          "group1",
          "group2",
          "group3"
         ],
         "xaxis": "x",
         "y": [
          0.16675931072818231,
          0.11826644285060284,
          2.1532298447671505
         ],
         "yaxis": "y"
        },
        {
         "alignmentgroup": "True",
         "hovertemplate": "variable=Flavobacteriaceae Chryseobacterium<br>x=%{x}<br>value=%{y}<extra></extra>",
         "legendgroup": "Flavobacteriaceae Chryseobacterium",
         "marker": {
          "color": "#35b779"
         },
         "name": "Flavobacteriaceae Chryseobacterium",
         "offsetgroup": "Flavobacteriaceae Chryseobacterium",
         "orientation": "v",
         "showlegend": true,
         "textposition": "auto",
         "type": "bar",
         "x": [
          "group1",
          "group2",
          "group3"
         ],
         "xaxis": "x",
         "y": [
          3.2610709653511214,
          0.07630093087135667,
          0.5007511266900351
         ],
         "yaxis": "y"
        },
        {
         "alignmentgroup": "True",
         "hovertemplate": "variable=Flavobacteriaceae Flavobacterium<br>x=%{x}<br>value=%{y}<extra></extra>",
         "legendgroup": "Flavobacteriaceae Flavobacterium",
         "marker": {
          "color": "#6ece58"
         },
         "name": "Flavobacteriaceae Flavobacterium",
         "offsetgroup": "Flavobacteriaceae Flavobacterium",
         "orientation": "v",
         "showlegend": true,
         "textposition": "auto",
         "type": "bar",
         "x": [
          "group1",
          "group2",
          "group3"
         ],
         "xaxis": "x",
         "y": [
          0.676301649064295,
          0.16023195482984898,
          3.505257886830245
         ],
         "yaxis": "y"
        },
        {
         "alignmentgroup": "True",
         "hovertemplate": "variable=Intrasporangiaceae unclassified<br>x=%{x}<br>value=%{y}<extra></extra>",
         "legendgroup": "Intrasporangiaceae unclassified",
         "marker": {
          "color": "#b5de2b"
         },
         "name": "Intrasporangiaceae unclassified",
         "offsetgroup": "Intrasporangiaceae unclassified",
         "orientation": "v",
         "showlegend": true,
         "textposition": "auto",
         "type": "bar",
         "x": [
          "group1",
          "group2",
          "group3"
         ],
         "xaxis": "x",
         "y": [
          1.0098202705206596,
          0.05341065160994968,
          11.016524787180773
         ],
         "yaxis": "y"
        },
        {
         "alignmentgroup": "True",
         "hovertemplate": "variable=Microbacteriaceae unclassified<br>x=%{x}<br>value=%{y}<extra></extra>",
         "legendgroup": "Microbacteriaceae unclassified",
         "marker": {
          "color": "#fde725"
         },
         "name": "Microbacteriaceae unclassified",
         "offsetgroup": "Microbacteriaceae unclassified",
         "orientation": "v",
         "showlegend": true,
         "textposition": "auto",
         "type": "bar",
         "x": [
          "group1",
          "group2",
          "group3"
         ],
         "xaxis": "x",
         "y": [
          1.880674448767834,
          0.20219746680909512,
          2.704056084126189
         ],
         "yaxis": "y"
        },
        {
         "alignmentgroup": "True",
         "hovertemplate": "variable=Micrococcaceae Arthrobacter<br>x=%{x}<br>value=%{y}<extra></extra>",
         "legendgroup": "Micrococcaceae Arthrobacter",
         "marker": {
          "color": "#440154"
         },
         "name": "Micrococcaceae Arthrobacter",
         "offsetgroup": "Micrococcaceae Arthrobacter",
         "orientation": "v",
         "showlegend": true,
         "textposition": "auto",
         "type": "bar",
         "x": [
          "group1",
          "group2",
          "group3"
         ],
         "xaxis": "x",
         "y": [
          11.756531406336853,
          0.6752632382115065,
          0.6009013520280421
         ],
         "yaxis": "y"
        },
        {
         "alignmentgroup": "True",
         "hovertemplate": "variable=Micrococcaceae Kocuria<br>x=%{x}<br>value=%{y}<extra></extra>",
         "legendgroup": "Micrococcaceae Kocuria",
         "marker": {
          "color": "#482878"
         },
         "name": "Micrococcaceae Kocuria",
         "offsetgroup": "Micrococcaceae Kocuria",
         "orientation": "v",
         "showlegend": true,
         "textposition": "auto",
         "type": "bar",
         "x": [
          "group1",
          "group2",
          "group3"
         ],
         "xaxis": "x",
         "y": [
          2.5662405039836944,
          0.37005951472607984,
          0
         ],
         "yaxis": "y"
        },
        {
         "alignmentgroup": "True",
         "hovertemplate": "variable=Moraxellaceae Acinetobacter<br>x=%{x}<br>value=%{y}<extra></extra>",
         "legendgroup": "Moraxellaceae Acinetobacter",
         "marker": {
          "color": "#3e4989"
         },
         "name": "Moraxellaceae Acinetobacter",
         "offsetgroup": "Moraxellaceae Acinetobacter",
         "orientation": "v",
         "showlegend": true,
         "textposition": "auto",
         "type": "bar",
         "x": [
          "group1",
          "group2",
          "group3"
         ],
         "xaxis": "x",
         "y": [
          7.587548638132295,
          1.2093697543110036,
          0.20030045067601399
         ],
         "yaxis": "y"
        },
        {
         "alignmentgroup": "True",
         "hovertemplate": "variable=Moraxellaceae Enhydrobacter<br>x=%{x}<br>value=%{y}<extra></extra>",
         "legendgroup": "Moraxellaceae Enhydrobacter",
         "marker": {
          "color": "#31688e"
         },
         "name": "Moraxellaceae Enhydrobacter",
         "offsetgroup": "Moraxellaceae Enhydrobacter",
         "orientation": "v",
         "showlegend": true,
         "textposition": "auto",
         "type": "bar",
         "x": [
          "group1",
          "group2",
          "group3"
         ],
         "xaxis": "x",
         "y": [
          19.909208819714657,
          8.263390813367929,
          0
         ],
         "yaxis": "y"
        },
        {
         "alignmentgroup": "True",
         "hovertemplate": "variable=Nocardioidaceae Nocardioides<br>x=%{x}<br>value=%{y}<extra></extra>",
         "legendgroup": "Nocardioidaceae Nocardioides",
         "marker": {
          "color": "#26828e"
         },
         "name": "Nocardioidaceae Nocardioides",
         "offsetgroup": "Nocardioidaceae Nocardioides",
         "orientation": "v",
         "showlegend": true,
         "textposition": "auto",
         "type": "bar",
         "x": [
          "group1",
          "group2",
          "group3"
         ],
         "xaxis": "x",
         "y": [
          1.000555864369094,
          0.05341065160994967,
          5.558337506259389
         ],
         "yaxis": "y"
        },
        {
         "alignmentgroup": "True",
         "hovertemplate": "variable=Phyllobacteriaceae unclassified<br>x=%{x}<br>value=%{y}<extra></extra>",
         "legendgroup": "Phyllobacteriaceae unclassified",
         "marker": {
          "color": "#1f9e89"
         },
         "name": "Phyllobacteriaceae unclassified",
         "offsetgroup": "Phyllobacteriaceae unclassified",
         "orientation": "v",
         "showlegend": true,
         "textposition": "auto",
         "type": "bar",
         "x": [
          "group1",
          "group2",
          "group3"
         ],
         "xaxis": "x",
         "y": [
          0.13896609227348528,
          0.22508774607050216,
          2.704056084126189
         ],
         "yaxis": "y"
        },
        {
         "alignmentgroup": "True",
         "hovertemplate": "variable=Propionibacteriaceae Friedmanniella<br>x=%{x}<br>value=%{y}<extra></extra>",
         "legendgroup": "Propionibacteriaceae Friedmanniella",
         "marker": {
          "color": "#35b779"
         },
         "name": "Propionibacteriaceae Friedmanniella",
         "offsetgroup": "Propionibacteriaceae Friedmanniella",
         "orientation": "v",
         "showlegend": true,
         "textposition": "auto",
         "type": "bar",
         "x": [
          "group1",
          "group2",
          "group3"
         ],
         "xaxis": "x",
         "y": [
          2.7885862516212714,
          0.12208148939417068,
          0.35052578868302453
         ],
         "yaxis": "y"
        },
        {
         "alignmentgroup": "True",
         "hovertemplate": "variable=Propionibacteriaceae Propionibacterium<br>x=%{x}<br>value=%{y}<extra></extra>",
         "legendgroup": "Propionibacteriaceae Propionibacterium",
         "marker": {
          "color": "#6ece58"
         },
         "name": "Propionibacteriaceae Propionibacterium",
         "offsetgroup": "Propionibacteriaceae Propionibacterium",
         "orientation": "v",
         "showlegend": true,
         "textposition": "auto",
         "type": "bar",
         "x": [
          "group1",
          "group2",
          "group3"
         ],
         "xaxis": "x",
         "y": [
          1.9733185102834907,
          22.03189378910422,
          0.7511266900350526
         ],
         "yaxis": "y"
        },
        {
         "alignmentgroup": "True",
         "hovertemplate": "variable=Pseudomonadaceae Pseudomonas<br>x=%{x}<br>value=%{y}<extra></extra>",
         "legendgroup": "Pseudomonadaceae Pseudomonas",
         "marker": {
          "color": "#b5de2b"
         },
         "name": "Pseudomonadaceae Pseudomonas",
         "offsetgroup": "Pseudomonadaceae Pseudomonas",
         "orientation": "v",
         "showlegend": true,
         "textposition": "auto",
         "type": "bar",
         "x": [
          "group1",
          "group2",
          "group3"
         ],
         "xaxis": "x",
         "y": [
          0.8986473967018713,
          2.685792766671755,
          0.20030045067601399
         ],
         "yaxis": "y"
        },
        {
         "alignmentgroup": "True",
         "hovertemplate": "variable=Sphingomonadaceae Sphingomonas<br>x=%{x}<br>value=%{y}<extra></extra>",
         "legendgroup": "Sphingomonadaceae Sphingomonas",
         "marker": {
          "color": "#fde725"
         },
         "name": "Sphingomonadaceae Sphingomonas",
         "offsetgroup": "Sphingomonadaceae Sphingomonas",
         "orientation": "v",
         "showlegend": true,
         "textposition": "auto",
         "type": "bar",
         "x": [
          "group1",
          "group2",
          "group3"
         ],
         "xaxis": "x",
         "y": [
          1.3618677042801557,
          4.059209522356176,
          1.5523284927391086
         ],
         "yaxis": "y"
        },
        {
         "alignmentgroup": "True",
         "hovertemplate": "variable=Sphingomonadaceae unclassified<br>x=%{x}<br>value=%{y}<extra></extra>",
         "legendgroup": "Sphingomonadaceae unclassified",
         "marker": {
          "color": "#440154"
         },
         "name": "Sphingomonadaceae unclassified",
         "offsetgroup": "Sphingomonadaceae unclassified",
         "orientation": "v",
         "showlegend": true,
         "textposition": "auto",
         "type": "bar",
         "x": [
          "group1",
          "group2",
          "group3"
         ],
         "xaxis": "x",
         "y": [
          1.704650731888086,
          0.3128338165725622,
          10.766149223835754
         ],
         "yaxis": "y"
        },
        {
         "alignmentgroup": "True",
         "hovertemplate": "variable=Staphylococcaceae Staphylococcus<br>x=%{x}<br>value=%{y}<extra></extra>",
         "legendgroup": "Staphylococcaceae Staphylococcus",
         "marker": {
          "color": "#482878"
         },
         "name": "Staphylococcaceae Staphylococcus",
         "offsetgroup": "Staphylococcaceae Staphylococcus",
         "orientation": "v",
         "showlegend": true,
         "textposition": "auto",
         "type": "bar",
         "x": [
          "group1",
          "group2",
          "group3"
         ],
         "xaxis": "x",
         "y": [
          0.8430609597924773,
          5.695864489546778,
          0.25037556334501754
         ],
         "yaxis": "y"
        },
        {
         "alignmentgroup": "True",
         "hovertemplate": "variable=Xanthomonadaceae Thermomonas<br>x=%{x}<br>value=%{y}<extra></extra>",
         "legendgroup": "Xanthomonadaceae Thermomonas",
         "marker": {
          "color": "#3e4989"
         },
         "name": "Xanthomonadaceae Thermomonas",
         "offsetgroup": "Xanthomonadaceae Thermomonas",
         "orientation": "v",
         "showlegend": true,
         "textposition": "auto",
         "type": "bar",
         "x": [
          "group1",
          "group2",
          "group3"
         ],
         "xaxis": "x",
         "y": [
          0.09264406151565684,
          0.026705325804974835,
          4.056084126189284
         ],
         "yaxis": "y"
        },
        {
         "alignmentgroup": "True",
         "hovertemplate": "variable=Xanthomonadaceae unclassified<br>x=%{x}<br>value=%{y}<extra></extra>",
         "legendgroup": "Xanthomonadaceae unclassified",
         "marker": {
          "color": "#31688e"
         },
         "name": "Xanthomonadaceae unclassified",
         "offsetgroup": "Xanthomonadaceae unclassified",
         "orientation": "v",
         "showlegend": true,
         "textposition": "auto",
         "type": "bar",
         "x": [
          "group1",
          "group2",
          "group3"
         ],
         "xaxis": "x",
         "y": [
          0.19455252918287938,
          0.183122234091256,
          3.3049574361542313
         ],
         "yaxis": "y"
        },
        {
         "alignmentgroup": "True",
         "hovertemplate": "variable=others<br>x=%{x}<br>value=%{y}<extra></extra>",
         "legendgroup": "others",
         "marker": {
          "color": "#26828e"
         },
         "name": "others",
         "offsetgroup": "others",
         "orientation": "v",
         "showlegend": true,
         "textposition": "auto",
         "type": "bar",
         "x": [
          "group1",
          "group2",
          "group3"
         ],
         "xaxis": "x",
         "y": [
          33.0461367426348,
          28.746375705783635,
          48.322483725588384
         ],
         "yaxis": "y"
        }
       ],
       "layout": {
        "barmode": "relative",
        "legend": {
         "title": {
          "text": "variable"
         },
         "tracegroupgap": 0
        },
        "template": {
         "data": {
          "bar": [
           {
            "error_x": {
             "color": "#2a3f5f"
            },
            "error_y": {
             "color": "#2a3f5f"
            },
            "marker": {
             "line": {
              "color": "#E5ECF6",
              "width": 0.5
             }
            },
            "type": "bar"
           }
          ],
          "barpolar": [
           {
            "marker": {
             "line": {
              "color": "#E5ECF6",
              "width": 0.5
             }
            },
            "type": "barpolar"
           }
          ],
          "carpet": [
           {
            "aaxis": {
             "endlinecolor": "#2a3f5f",
             "gridcolor": "white",
             "linecolor": "white",
             "minorgridcolor": "white",
             "startlinecolor": "#2a3f5f"
            },
            "baxis": {
             "endlinecolor": "#2a3f5f",
             "gridcolor": "white",
             "linecolor": "white",
             "minorgridcolor": "white",
             "startlinecolor": "#2a3f5f"
            },
            "type": "carpet"
           }
          ],
          "choropleth": [
           {
            "colorbar": {
             "outlinewidth": 0,
             "ticks": ""
            },
            "type": "choropleth"
           }
          ],
          "contour": [
           {
            "colorbar": {
             "outlinewidth": 0,
             "ticks": ""
            },
            "colorscale": [
             [
              0,
              "#0d0887"
             ],
             [
              0.1111111111111111,
              "#46039f"
             ],
             [
              0.2222222222222222,
              "#7201a8"
             ],
             [
              0.3333333333333333,
              "#9c179e"
             ],
             [
              0.4444444444444444,
              "#bd3786"
             ],
             [
              0.5555555555555556,
              "#d8576b"
             ],
             [
              0.6666666666666666,
              "#ed7953"
             ],
             [
              0.7777777777777778,
              "#fb9f3a"
             ],
             [
              0.8888888888888888,
              "#fdca26"
             ],
             [
              1,
              "#f0f921"
             ]
            ],
            "type": "contour"
           }
          ],
          "contourcarpet": [
           {
            "colorbar": {
             "outlinewidth": 0,
             "ticks": ""
            },
            "type": "contourcarpet"
           }
          ],
          "heatmap": [
           {
            "colorbar": {
             "outlinewidth": 0,
             "ticks": ""
            },
            "colorscale": [
             [
              0,
              "#0d0887"
             ],
             [
              0.1111111111111111,
              "#46039f"
             ],
             [
              0.2222222222222222,
              "#7201a8"
             ],
             [
              0.3333333333333333,
              "#9c179e"
             ],
             [
              0.4444444444444444,
              "#bd3786"
             ],
             [
              0.5555555555555556,
              "#d8576b"
             ],
             [
              0.6666666666666666,
              "#ed7953"
             ],
             [
              0.7777777777777778,
              "#fb9f3a"
             ],
             [
              0.8888888888888888,
              "#fdca26"
             ],
             [
              1,
              "#f0f921"
             ]
            ],
            "type": "heatmap"
           }
          ],
          "heatmapgl": [
           {
            "colorbar": {
             "outlinewidth": 0,
             "ticks": ""
            },
            "colorscale": [
             [
              0,
              "#0d0887"
             ],
             [
              0.1111111111111111,
              "#46039f"
             ],
             [
              0.2222222222222222,
              "#7201a8"
             ],
             [
              0.3333333333333333,
              "#9c179e"
             ],
             [
              0.4444444444444444,
              "#bd3786"
             ],
             [
              0.5555555555555556,
              "#d8576b"
             ],
             [
              0.6666666666666666,
              "#ed7953"
             ],
             [
              0.7777777777777778,
              "#fb9f3a"
             ],
             [
              0.8888888888888888,
              "#fdca26"
             ],
             [
              1,
              "#f0f921"
             ]
            ],
            "type": "heatmapgl"
           }
          ],
          "histogram": [
           {
            "marker": {
             "colorbar": {
              "outlinewidth": 0,
              "ticks": ""
             }
            },
            "type": "histogram"
           }
          ],
          "histogram2d": [
           {
            "colorbar": {
             "outlinewidth": 0,
             "ticks": ""
            },
            "colorscale": [
             [
              0,
              "#0d0887"
             ],
             [
              0.1111111111111111,
              "#46039f"
             ],
             [
              0.2222222222222222,
              "#7201a8"
             ],
             [
              0.3333333333333333,
              "#9c179e"
             ],
             [
              0.4444444444444444,
              "#bd3786"
             ],
             [
              0.5555555555555556,
              "#d8576b"
             ],
             [
              0.6666666666666666,
              "#ed7953"
             ],
             [
              0.7777777777777778,
              "#fb9f3a"
             ],
             [
              0.8888888888888888,
              "#fdca26"
             ],
             [
              1,
              "#f0f921"
             ]
            ],
            "type": "histogram2d"
           }
          ],
          "histogram2dcontour": [
           {
            "colorbar": {
             "outlinewidth": 0,
             "ticks": ""
            },
            "colorscale": [
             [
              0,
              "#0d0887"
             ],
             [
              0.1111111111111111,
              "#46039f"
             ],
             [
              0.2222222222222222,
              "#7201a8"
             ],
             [
              0.3333333333333333,
              "#9c179e"
             ],
             [
              0.4444444444444444,
              "#bd3786"
             ],
             [
              0.5555555555555556,
              "#d8576b"
             ],
             [
              0.6666666666666666,
              "#ed7953"
             ],
             [
              0.7777777777777778,
              "#fb9f3a"
             ],
             [
              0.8888888888888888,
              "#fdca26"
             ],
             [
              1,
              "#f0f921"
             ]
            ],
            "type": "histogram2dcontour"
           }
          ],
          "mesh3d": [
           {
            "colorbar": {
             "outlinewidth": 0,
             "ticks": ""
            },
            "type": "mesh3d"
           }
          ],
          "parcoords": [
           {
            "line": {
             "colorbar": {
              "outlinewidth": 0,
              "ticks": ""
             }
            },
            "type": "parcoords"
           }
          ],
          "pie": [
           {
            "automargin": true,
            "type": "pie"
           }
          ],
          "scatter": [
           {
            "marker": {
             "colorbar": {
              "outlinewidth": 0,
              "ticks": ""
             }
            },
            "type": "scatter"
           }
          ],
          "scatter3d": [
           {
            "line": {
             "colorbar": {
              "outlinewidth": 0,
              "ticks": ""
             }
            },
            "marker": {
             "colorbar": {
              "outlinewidth": 0,
              "ticks": ""
             }
            },
            "type": "scatter3d"
           }
          ],
          "scattercarpet": [
           {
            "marker": {
             "colorbar": {
              "outlinewidth": 0,
              "ticks": ""
             }
            },
            "type": "scattercarpet"
           }
          ],
          "scattergeo": [
           {
            "marker": {
             "colorbar": {
              "outlinewidth": 0,
              "ticks": ""
             }
            },
            "type": "scattergeo"
           }
          ],
          "scattergl": [
           {
            "marker": {
             "colorbar": {
              "outlinewidth": 0,
              "ticks": ""
             }
            },
            "type": "scattergl"
           }
          ],
          "scattermapbox": [
           {
            "marker": {
             "colorbar": {
              "outlinewidth": 0,
              "ticks": ""
             }
            },
            "type": "scattermapbox"
           }
          ],
          "scatterpolar": [
           {
            "marker": {
             "colorbar": {
              "outlinewidth": 0,
              "ticks": ""
             }
            },
            "type": "scatterpolar"
           }
          ],
          "scatterpolargl": [
           {
            "marker": {
             "colorbar": {
              "outlinewidth": 0,
              "ticks": ""
             }
            },
            "type": "scatterpolargl"
           }
          ],
          "scatterternary": [
           {
            "marker": {
             "colorbar": {
              "outlinewidth": 0,
              "ticks": ""
             }
            },
            "type": "scatterternary"
           }
          ],
          "surface": [
           {
            "colorbar": {
             "outlinewidth": 0,
             "ticks": ""
            },
            "colorscale": [
             [
              0,
              "#0d0887"
             ],
             [
              0.1111111111111111,
              "#46039f"
             ],
             [
              0.2222222222222222,
              "#7201a8"
             ],
             [
              0.3333333333333333,
              "#9c179e"
             ],
             [
              0.4444444444444444,
              "#bd3786"
             ],
             [
              0.5555555555555556,
              "#d8576b"
             ],
             [
              0.6666666666666666,
              "#ed7953"
             ],
             [
              0.7777777777777778,
              "#fb9f3a"
             ],
             [
              0.8888888888888888,
              "#fdca26"
             ],
             [
              1,
              "#f0f921"
             ]
            ],
            "type": "surface"
           }
          ],
          "table": [
           {
            "cells": {
             "fill": {
              "color": "#EBF0F8"
             },
             "line": {
              "color": "white"
             }
            },
            "header": {
             "fill": {
              "color": "#C8D4E3"
             },
             "line": {
              "color": "white"
             }
            },
            "type": "table"
           }
          ]
         },
         "layout": {
          "annotationdefaults": {
           "arrowcolor": "#2a3f5f",
           "arrowhead": 0,
           "arrowwidth": 1
          },
          "coloraxis": {
           "colorbar": {
            "outlinewidth": 0,
            "ticks": ""
           }
          },
          "colorscale": {
           "diverging": [
            [
             0,
             "#8e0152"
            ],
            [
             0.1,
             "#c51b7d"
            ],
            [
             0.2,
             "#de77ae"
            ],
            [
             0.3,
             "#f1b6da"
            ],
            [
             0.4,
             "#fde0ef"
            ],
            [
             0.5,
             "#f7f7f7"
            ],
            [
             0.6,
             "#e6f5d0"
            ],
            [
             0.7,
             "#b8e186"
            ],
            [
             0.8,
             "#7fbc41"
            ],
            [
             0.9,
             "#4d9221"
            ],
            [
             1,
             "#276419"
            ]
           ],
           "sequential": [
            [
             0,
             "#0d0887"
            ],
            [
             0.1111111111111111,
             "#46039f"
            ],
            [
             0.2222222222222222,
             "#7201a8"
            ],
            [
             0.3333333333333333,
             "#9c179e"
            ],
            [
             0.4444444444444444,
             "#bd3786"
            ],
            [
             0.5555555555555556,
             "#d8576b"
            ],
            [
             0.6666666666666666,
             "#ed7953"
            ],
            [
             0.7777777777777778,
             "#fb9f3a"
            ],
            [
             0.8888888888888888,
             "#fdca26"
            ],
            [
             1,
             "#f0f921"
            ]
           ],
           "sequentialminus": [
            [
             0,
             "#0d0887"
            ],
            [
             0.1111111111111111,
             "#46039f"
            ],
            [
             0.2222222222222222,
             "#7201a8"
            ],
            [
             0.3333333333333333,
             "#9c179e"
            ],
            [
             0.4444444444444444,
             "#bd3786"
            ],
            [
             0.5555555555555556,
             "#d8576b"
            ],
            [
             0.6666666666666666,
             "#ed7953"
            ],
            [
             0.7777777777777778,
             "#fb9f3a"
            ],
            [
             0.8888888888888888,
             "#fdca26"
            ],
            [
             1,
             "#f0f921"
            ]
           ]
          },
          "colorway": [
           "#636efa",
           "#EF553B",
           "#00cc96",
           "#ab63fa",
           "#FFA15A",
           "#19d3f3",
           "#FF6692",
           "#B6E880",
           "#FF97FF",
           "#FECB52"
          ],
          "font": {
           "color": "#2a3f5f"
          },
          "geo": {
           "bgcolor": "white",
           "lakecolor": "white",
           "landcolor": "#E5ECF6",
           "showlakes": true,
           "showland": true,
           "subunitcolor": "white"
          },
          "hoverlabel": {
           "align": "left"
          },
          "hovermode": "closest",
          "mapbox": {
           "style": "light"
          },
          "paper_bgcolor": "white",
          "plot_bgcolor": "#E5ECF6",
          "polar": {
           "angularaxis": {
            "gridcolor": "white",
            "linecolor": "white",
            "ticks": ""
           },
           "bgcolor": "#E5ECF6",
           "radialaxis": {
            "gridcolor": "white",
            "linecolor": "white",
            "ticks": ""
           }
          },
          "scene": {
           "xaxis": {
            "backgroundcolor": "#E5ECF6",
            "gridcolor": "white",
            "gridwidth": 2,
            "linecolor": "white",
            "showbackground": true,
            "ticks": "",
            "zerolinecolor": "white"
           },
           "yaxis": {
            "backgroundcolor": "#E5ECF6",
            "gridcolor": "white",
            "gridwidth": 2,
            "linecolor": "white",
            "showbackground": true,
            "ticks": "",
            "zerolinecolor": "white"
           },
           "zaxis": {
            "backgroundcolor": "#E5ECF6",
            "gridcolor": "white",
            "gridwidth": 2,
            "linecolor": "white",
            "showbackground": true,
            "ticks": "",
            "zerolinecolor": "white"
           }
          },
          "shapedefaults": {
           "line": {
            "color": "#2a3f5f"
           }
          },
          "ternary": {
           "aaxis": {
            "gridcolor": "white",
            "linecolor": "white",
            "ticks": ""
           },
           "baxis": {
            "gridcolor": "white",
            "linecolor": "white",
            "ticks": ""
           },
           "bgcolor": "#E5ECF6",
           "caxis": {
            "gridcolor": "white",
            "linecolor": "white",
            "ticks": ""
           }
          },
          "title": {
           "x": 0.05
          },
          "xaxis": {
           "automargin": true,
           "gridcolor": "white",
           "linecolor": "white",
           "ticks": "",
           "title": {
            "standoff": 15
           },
           "zerolinecolor": "white",
           "zerolinewidth": 2
          },
          "yaxis": {
           "automargin": true,
           "gridcolor": "white",
           "linecolor": "white",
           "ticks": "",
           "title": {
            "standoff": 15
           },
           "zerolinecolor": "white",
           "zerolinewidth": 2
          }
         }
        },
        "title": {
         "text": "Répartition des differents embranchements"
        },
        "xaxis": {
         "anchor": "y",
         "domain": [
          0,
          1
         ],
         "title": {
          "text": "x"
         }
        },
        "yaxis": {
         "anchor": "x",
         "domain": [
          0,
          1
         ],
         "title": {
          "text": "value"
         }
        }
       }
      },
      "text/html": [
       "<div>                            <div id=\"3175f0db-6240-4e42-ba4e-74082d26ac69\" class=\"plotly-graph-div\" style=\"height:525px; width:100%;\"></div>            <script type=\"text/javascript\">                require([\"plotly\"], function(Plotly) {                    window.PLOTLYENV=window.PLOTLYENV || {};                                    if (document.getElementById(\"3175f0db-6240-4e42-ba4e-74082d26ac69\")) {                    Plotly.newPlot(                        \"3175f0db-6240-4e42-ba4e-74082d26ac69\",                        [{\"alignmentgroup\": \"True\", \"hovertemplate\": \"variable=Acetobacteraceae Roseomonas<br>x=%{x}<br>value=%{y}<extra></extra>\", \"legendgroup\": \"Acetobacteraceae Roseomonas\", \"marker\": {\"color\": \"#440154\"}, \"name\": \"Acetobacteraceae Roseomonas\", \"offsetgroup\": \"Acetobacteraceae Roseomonas\", \"orientation\": \"v\", \"showlegend\": true, \"textposition\": \"auto\", \"type\": \"bar\", \"x\": [\"group1\", \"group2\", \"group3\"], \"xaxis\": \"x\", \"y\": [2.57550491013526, 0.9613917289790941, 0.30045067601402103], \"yaxis\": \"y\"}, {\"alignmentgroup\": \"True\", \"hovertemplate\": \"variable=Burkholderiales_incertae_sedis Aquabacterium<br>x=%{x}<br>value=%{y}<extra></extra>\", \"legendgroup\": \"Burkholderiales_incertae_sedis Aquabacterium\", \"marker\": {\"color\": \"#482878\"}, \"name\": \"Burkholderiales_incertae_sedis Aquabacterium\", \"offsetgroup\": \"Burkholderiales_incertae_sedis Aquabacterium\", \"orientation\": \"v\", \"showlegend\": true, \"textposition\": \"auto\", \"type\": \"bar\", \"x\": [\"group1\", \"group2\", \"group3\"], \"xaxis\": \"x\", \"y\": [0.12970168612191957, 2.891805280024418, 0.7511266900350526], \"yaxis\": \"y\"}, {\"alignmentgroup\": \"True\", \"hovertemplate\": \"variable=Clostridiales_Incertae_Sedis_XI Anaerococcus<br>x=%{x}<br>value=%{y}<extra></extra>\", \"legendgroup\": \"Clostridiales_Incertae_Sedis_XI Anaerococcus\", \"marker\": {\"color\": \"#3e4989\"}, \"name\": \"Clostridiales_Incertae_Sedis_XI Anaerococcus\", \"offsetgroup\": \"Clostridiales_Incertae_Sedis_XI Anaerococcus\", \"orientation\": \"v\", \"showlegend\": true, \"textposition\": \"auto\", \"type\": \"bar\", \"x\": [\"group1\", \"group2\", \"group3\"], \"xaxis\": \"x\", \"y\": [0.13896609227348528, 2.5026705325805, 0.15022533800701052], \"yaxis\": \"y\"}, {\"alignmentgroup\": \"True\", \"hovertemplate\": \"variable=Corynebacteriaceae Corynebacterium<br>x=%{x}<br>value=%{y}<extra></extra>\", \"legendgroup\": \"Corynebacteriaceae Corynebacterium\", \"marker\": {\"color\": \"#31688e\"}, \"name\": \"Corynebacteriaceae Corynebacterium\", \"offsetgroup\": \"Corynebacteriaceae Corynebacterium\", \"orientation\": \"v\", \"showlegend\": true, \"textposition\": \"auto\", \"type\": \"bar\", \"x\": [\"group1\", \"group2\", \"group3\"], \"xaxis\": \"x\", \"y\": [1.6861219195849546, 18.140546314664988, 0.20030045067601399], \"yaxis\": \"y\"}, {\"alignmentgroup\": \"True\", \"hovertemplate\": \"variable=Cytophagaceae Hymenobacter<br>x=%{x}<br>value=%{y}<extra></extra>\", \"legendgroup\": \"Cytophagaceae Hymenobacter\", \"marker\": {\"color\": \"#26828e\"}, \"name\": \"Cytophagaceae Hymenobacter\", \"offsetgroup\": \"Cytophagaceae Hymenobacter\", \"orientation\": \"v\", \"showlegend\": true, \"textposition\": \"auto\", \"type\": \"bar\", \"x\": [\"group1\", \"group2\", \"group3\"], \"xaxis\": \"x\", \"y\": [2.612562534741523, 0.23271783915763783, 0.10015022533800699], \"yaxis\": \"y\"}, {\"alignmentgroup\": \"True\", \"hovertemplate\": \"variable=Erythrobacteraceae unclassified<br>x=%{x}<br>value=%{y}<extra></extra>\", \"legendgroup\": \"Erythrobacteraceae unclassified\", \"marker\": {\"color\": \"#1f9e89\"}, \"name\": \"Erythrobacteraceae unclassified\", \"offsetgroup\": \"Erythrobacteraceae unclassified\", \"orientation\": \"v\", \"showlegend\": true, \"textposition\": \"auto\", \"type\": \"bar\", \"x\": [\"group1\", \"group2\", \"group3\"], \"xaxis\": \"x\", \"y\": [0.16675931072818231, 0.11826644285060284, 2.1532298447671505], \"yaxis\": \"y\"}, {\"alignmentgroup\": \"True\", \"hovertemplate\": \"variable=Flavobacteriaceae Chryseobacterium<br>x=%{x}<br>value=%{y}<extra></extra>\", \"legendgroup\": \"Flavobacteriaceae Chryseobacterium\", \"marker\": {\"color\": \"#35b779\"}, \"name\": \"Flavobacteriaceae Chryseobacterium\", \"offsetgroup\": \"Flavobacteriaceae Chryseobacterium\", \"orientation\": \"v\", \"showlegend\": true, \"textposition\": \"auto\", \"type\": \"bar\", \"x\": [\"group1\", \"group2\", \"group3\"], \"xaxis\": \"x\", \"y\": [3.2610709653511214, 0.07630093087135667, 0.5007511266900351], \"yaxis\": \"y\"}, {\"alignmentgroup\": \"True\", \"hovertemplate\": \"variable=Flavobacteriaceae Flavobacterium<br>x=%{x}<br>value=%{y}<extra></extra>\", \"legendgroup\": \"Flavobacteriaceae Flavobacterium\", \"marker\": {\"color\": \"#6ece58\"}, \"name\": \"Flavobacteriaceae Flavobacterium\", \"offsetgroup\": \"Flavobacteriaceae Flavobacterium\", \"orientation\": \"v\", \"showlegend\": true, \"textposition\": \"auto\", \"type\": \"bar\", \"x\": [\"group1\", \"group2\", \"group3\"], \"xaxis\": \"x\", \"y\": [0.676301649064295, 0.16023195482984898, 3.505257886830245], \"yaxis\": \"y\"}, {\"alignmentgroup\": \"True\", \"hovertemplate\": \"variable=Intrasporangiaceae unclassified<br>x=%{x}<br>value=%{y}<extra></extra>\", \"legendgroup\": \"Intrasporangiaceae unclassified\", \"marker\": {\"color\": \"#b5de2b\"}, \"name\": \"Intrasporangiaceae unclassified\", \"offsetgroup\": \"Intrasporangiaceae unclassified\", \"orientation\": \"v\", \"showlegend\": true, \"textposition\": \"auto\", \"type\": \"bar\", \"x\": [\"group1\", \"group2\", \"group3\"], \"xaxis\": \"x\", \"y\": [1.0098202705206596, 0.05341065160994968, 11.016524787180773], \"yaxis\": \"y\"}, {\"alignmentgroup\": \"True\", \"hovertemplate\": \"variable=Microbacteriaceae unclassified<br>x=%{x}<br>value=%{y}<extra></extra>\", \"legendgroup\": \"Microbacteriaceae unclassified\", \"marker\": {\"color\": \"#fde725\"}, \"name\": \"Microbacteriaceae unclassified\", \"offsetgroup\": \"Microbacteriaceae unclassified\", \"orientation\": \"v\", \"showlegend\": true, \"textposition\": \"auto\", \"type\": \"bar\", \"x\": [\"group1\", \"group2\", \"group3\"], \"xaxis\": \"x\", \"y\": [1.880674448767834, 0.20219746680909512, 2.704056084126189], \"yaxis\": \"y\"}, {\"alignmentgroup\": \"True\", \"hovertemplate\": \"variable=Micrococcaceae Arthrobacter<br>x=%{x}<br>value=%{y}<extra></extra>\", \"legendgroup\": \"Micrococcaceae Arthrobacter\", \"marker\": {\"color\": \"#440154\"}, \"name\": \"Micrococcaceae Arthrobacter\", \"offsetgroup\": \"Micrococcaceae Arthrobacter\", \"orientation\": \"v\", \"showlegend\": true, \"textposition\": \"auto\", \"type\": \"bar\", \"x\": [\"group1\", \"group2\", \"group3\"], \"xaxis\": \"x\", \"y\": [11.756531406336853, 0.6752632382115065, 0.6009013520280421], \"yaxis\": \"y\"}, {\"alignmentgroup\": \"True\", \"hovertemplate\": \"variable=Micrococcaceae Kocuria<br>x=%{x}<br>value=%{y}<extra></extra>\", \"legendgroup\": \"Micrococcaceae Kocuria\", \"marker\": {\"color\": \"#482878\"}, \"name\": \"Micrococcaceae Kocuria\", \"offsetgroup\": \"Micrococcaceae Kocuria\", \"orientation\": \"v\", \"showlegend\": true, \"textposition\": \"auto\", \"type\": \"bar\", \"x\": [\"group1\", \"group2\", \"group3\"], \"xaxis\": \"x\", \"y\": [2.5662405039836944, 0.37005951472607984, 0.0], \"yaxis\": \"y\"}, {\"alignmentgroup\": \"True\", \"hovertemplate\": \"variable=Moraxellaceae Acinetobacter<br>x=%{x}<br>value=%{y}<extra></extra>\", \"legendgroup\": \"Moraxellaceae Acinetobacter\", \"marker\": {\"color\": \"#3e4989\"}, \"name\": \"Moraxellaceae Acinetobacter\", \"offsetgroup\": \"Moraxellaceae Acinetobacter\", \"orientation\": \"v\", \"showlegend\": true, \"textposition\": \"auto\", \"type\": \"bar\", \"x\": [\"group1\", \"group2\", \"group3\"], \"xaxis\": \"x\", \"y\": [7.587548638132295, 1.2093697543110036, 0.20030045067601399], \"yaxis\": \"y\"}, {\"alignmentgroup\": \"True\", \"hovertemplate\": \"variable=Moraxellaceae Enhydrobacter<br>x=%{x}<br>value=%{y}<extra></extra>\", \"legendgroup\": \"Moraxellaceae Enhydrobacter\", \"marker\": {\"color\": \"#31688e\"}, \"name\": \"Moraxellaceae Enhydrobacter\", \"offsetgroup\": \"Moraxellaceae Enhydrobacter\", \"orientation\": \"v\", \"showlegend\": true, \"textposition\": \"auto\", \"type\": \"bar\", \"x\": [\"group1\", \"group2\", \"group3\"], \"xaxis\": \"x\", \"y\": [19.909208819714657, 8.263390813367929, 0.0], \"yaxis\": \"y\"}, {\"alignmentgroup\": \"True\", \"hovertemplate\": \"variable=Nocardioidaceae Nocardioides<br>x=%{x}<br>value=%{y}<extra></extra>\", \"legendgroup\": \"Nocardioidaceae Nocardioides\", \"marker\": {\"color\": \"#26828e\"}, \"name\": \"Nocardioidaceae Nocardioides\", \"offsetgroup\": \"Nocardioidaceae Nocardioides\", \"orientation\": \"v\", \"showlegend\": true, \"textposition\": \"auto\", \"type\": \"bar\", \"x\": [\"group1\", \"group2\", \"group3\"], \"xaxis\": \"x\", \"y\": [1.000555864369094, 0.05341065160994967, 5.558337506259389], \"yaxis\": \"y\"}, {\"alignmentgroup\": \"True\", \"hovertemplate\": \"variable=Phyllobacteriaceae unclassified<br>x=%{x}<br>value=%{y}<extra></extra>\", \"legendgroup\": \"Phyllobacteriaceae unclassified\", \"marker\": {\"color\": \"#1f9e89\"}, \"name\": \"Phyllobacteriaceae unclassified\", \"offsetgroup\": \"Phyllobacteriaceae unclassified\", \"orientation\": \"v\", \"showlegend\": true, \"textposition\": \"auto\", \"type\": \"bar\", \"x\": [\"group1\", \"group2\", \"group3\"], \"xaxis\": \"x\", \"y\": [0.13896609227348528, 0.22508774607050216, 2.704056084126189], \"yaxis\": \"y\"}, {\"alignmentgroup\": \"True\", \"hovertemplate\": \"variable=Propionibacteriaceae Friedmanniella<br>x=%{x}<br>value=%{y}<extra></extra>\", \"legendgroup\": \"Propionibacteriaceae Friedmanniella\", \"marker\": {\"color\": \"#35b779\"}, \"name\": \"Propionibacteriaceae Friedmanniella\", \"offsetgroup\": \"Propionibacteriaceae Friedmanniella\", \"orientation\": \"v\", \"showlegend\": true, \"textposition\": \"auto\", \"type\": \"bar\", \"x\": [\"group1\", \"group2\", \"group3\"], \"xaxis\": \"x\", \"y\": [2.7885862516212714, 0.12208148939417068, 0.35052578868302453], \"yaxis\": \"y\"}, {\"alignmentgroup\": \"True\", \"hovertemplate\": \"variable=Propionibacteriaceae Propionibacterium<br>x=%{x}<br>value=%{y}<extra></extra>\", \"legendgroup\": \"Propionibacteriaceae Propionibacterium\", \"marker\": {\"color\": \"#6ece58\"}, \"name\": \"Propionibacteriaceae Propionibacterium\", \"offsetgroup\": \"Propionibacteriaceae Propionibacterium\", \"orientation\": \"v\", \"showlegend\": true, \"textposition\": \"auto\", \"type\": \"bar\", \"x\": [\"group1\", \"group2\", \"group3\"], \"xaxis\": \"x\", \"y\": [1.9733185102834907, 22.03189378910422, 0.7511266900350526], \"yaxis\": \"y\"}, {\"alignmentgroup\": \"True\", \"hovertemplate\": \"variable=Pseudomonadaceae Pseudomonas<br>x=%{x}<br>value=%{y}<extra></extra>\", \"legendgroup\": \"Pseudomonadaceae Pseudomonas\", \"marker\": {\"color\": \"#b5de2b\"}, \"name\": \"Pseudomonadaceae Pseudomonas\", \"offsetgroup\": \"Pseudomonadaceae Pseudomonas\", \"orientation\": \"v\", \"showlegend\": true, \"textposition\": \"auto\", \"type\": \"bar\", \"x\": [\"group1\", \"group2\", \"group3\"], \"xaxis\": \"x\", \"y\": [0.8986473967018713, 2.685792766671755, 0.20030045067601399], \"yaxis\": \"y\"}, {\"alignmentgroup\": \"True\", \"hovertemplate\": \"variable=Sphingomonadaceae Sphingomonas<br>x=%{x}<br>value=%{y}<extra></extra>\", \"legendgroup\": \"Sphingomonadaceae Sphingomonas\", \"marker\": {\"color\": \"#fde725\"}, \"name\": \"Sphingomonadaceae Sphingomonas\", \"offsetgroup\": \"Sphingomonadaceae Sphingomonas\", \"orientation\": \"v\", \"showlegend\": true, \"textposition\": \"auto\", \"type\": \"bar\", \"x\": [\"group1\", \"group2\", \"group3\"], \"xaxis\": \"x\", \"y\": [1.3618677042801557, 4.059209522356176, 1.5523284927391086], \"yaxis\": \"y\"}, {\"alignmentgroup\": \"True\", \"hovertemplate\": \"variable=Sphingomonadaceae unclassified<br>x=%{x}<br>value=%{y}<extra></extra>\", \"legendgroup\": \"Sphingomonadaceae unclassified\", \"marker\": {\"color\": \"#440154\"}, \"name\": \"Sphingomonadaceae unclassified\", \"offsetgroup\": \"Sphingomonadaceae unclassified\", \"orientation\": \"v\", \"showlegend\": true, \"textposition\": \"auto\", \"type\": \"bar\", \"x\": [\"group1\", \"group2\", \"group3\"], \"xaxis\": \"x\", \"y\": [1.704650731888086, 0.3128338165725622, 10.766149223835754], \"yaxis\": \"y\"}, {\"alignmentgroup\": \"True\", \"hovertemplate\": \"variable=Staphylococcaceae Staphylococcus<br>x=%{x}<br>value=%{y}<extra></extra>\", \"legendgroup\": \"Staphylococcaceae Staphylococcus\", \"marker\": {\"color\": \"#482878\"}, \"name\": \"Staphylococcaceae Staphylococcus\", \"offsetgroup\": \"Staphylococcaceae Staphylococcus\", \"orientation\": \"v\", \"showlegend\": true, \"textposition\": \"auto\", \"type\": \"bar\", \"x\": [\"group1\", \"group2\", \"group3\"], \"xaxis\": \"x\", \"y\": [0.8430609597924773, 5.695864489546778, 0.25037556334501754], \"yaxis\": \"y\"}, {\"alignmentgroup\": \"True\", \"hovertemplate\": \"variable=Xanthomonadaceae Thermomonas<br>x=%{x}<br>value=%{y}<extra></extra>\", \"legendgroup\": \"Xanthomonadaceae Thermomonas\", \"marker\": {\"color\": \"#3e4989\"}, \"name\": \"Xanthomonadaceae Thermomonas\", \"offsetgroup\": \"Xanthomonadaceae Thermomonas\", \"orientation\": \"v\", \"showlegend\": true, \"textposition\": \"auto\", \"type\": \"bar\", \"x\": [\"group1\", \"group2\", \"group3\"], \"xaxis\": \"x\", \"y\": [0.09264406151565684, 0.026705325804974835, 4.056084126189284], \"yaxis\": \"y\"}, {\"alignmentgroup\": \"True\", \"hovertemplate\": \"variable=Xanthomonadaceae unclassified<br>x=%{x}<br>value=%{y}<extra></extra>\", \"legendgroup\": \"Xanthomonadaceae unclassified\", \"marker\": {\"color\": \"#31688e\"}, \"name\": \"Xanthomonadaceae unclassified\", \"offsetgroup\": \"Xanthomonadaceae unclassified\", \"orientation\": \"v\", \"showlegend\": true, \"textposition\": \"auto\", \"type\": \"bar\", \"x\": [\"group1\", \"group2\", \"group3\"], \"xaxis\": \"x\", \"y\": [0.19455252918287938, 0.183122234091256, 3.3049574361542313], \"yaxis\": \"y\"}, {\"alignmentgroup\": \"True\", \"hovertemplate\": \"variable=others<br>x=%{x}<br>value=%{y}<extra></extra>\", \"legendgroup\": \"others\", \"marker\": {\"color\": \"#26828e\"}, \"name\": \"others\", \"offsetgroup\": \"others\", \"orientation\": \"v\", \"showlegend\": true, \"textposition\": \"auto\", \"type\": \"bar\", \"x\": [\"group1\", \"group2\", \"group3\"], \"xaxis\": \"x\", \"y\": [33.0461367426348, 28.746375705783635, 48.322483725588384], \"yaxis\": \"y\"}],                        {\"barmode\": \"relative\", \"legend\": {\"title\": {\"text\": \"variable\"}, \"tracegroupgap\": 0}, \"template\": {\"data\": {\"bar\": [{\"error_x\": {\"color\": \"#2a3f5f\"}, \"error_y\": {\"color\": \"#2a3f5f\"}, \"marker\": {\"line\": {\"color\": \"#E5ECF6\", \"width\": 0.5}}, \"type\": \"bar\"}], \"barpolar\": [{\"marker\": {\"line\": {\"color\": \"#E5ECF6\", \"width\": 0.5}}, \"type\": \"barpolar\"}], \"carpet\": [{\"aaxis\": {\"endlinecolor\": \"#2a3f5f\", \"gridcolor\": \"white\", \"linecolor\": \"white\", \"minorgridcolor\": \"white\", \"startlinecolor\": \"#2a3f5f\"}, \"baxis\": {\"endlinecolor\": \"#2a3f5f\", \"gridcolor\": \"white\", \"linecolor\": \"white\", \"minorgridcolor\": \"white\", \"startlinecolor\": \"#2a3f5f\"}, \"type\": \"carpet\"}], \"choropleth\": [{\"colorbar\": {\"outlinewidth\": 0, \"ticks\": \"\"}, \"type\": \"choropleth\"}], \"contour\": [{\"colorbar\": {\"outlinewidth\": 0, \"ticks\": \"\"}, \"colorscale\": [[0.0, \"#0d0887\"], [0.1111111111111111, \"#46039f\"], [0.2222222222222222, \"#7201a8\"], [0.3333333333333333, \"#9c179e\"], [0.4444444444444444, \"#bd3786\"], [0.5555555555555556, \"#d8576b\"], [0.6666666666666666, \"#ed7953\"], [0.7777777777777778, \"#fb9f3a\"], [0.8888888888888888, \"#fdca26\"], [1.0, \"#f0f921\"]], \"type\": \"contour\"}], \"contourcarpet\": [{\"colorbar\": {\"outlinewidth\": 0, \"ticks\": \"\"}, \"type\": \"contourcarpet\"}], \"heatmap\": [{\"colorbar\": {\"outlinewidth\": 0, \"ticks\": \"\"}, \"colorscale\": [[0.0, \"#0d0887\"], [0.1111111111111111, \"#46039f\"], [0.2222222222222222, \"#7201a8\"], [0.3333333333333333, \"#9c179e\"], [0.4444444444444444, \"#bd3786\"], [0.5555555555555556, \"#d8576b\"], [0.6666666666666666, \"#ed7953\"], [0.7777777777777778, \"#fb9f3a\"], [0.8888888888888888, \"#fdca26\"], [1.0, \"#f0f921\"]], \"type\": \"heatmap\"}], \"heatmapgl\": [{\"colorbar\": {\"outlinewidth\": 0, \"ticks\": \"\"}, \"colorscale\": [[0.0, \"#0d0887\"], [0.1111111111111111, \"#46039f\"], [0.2222222222222222, \"#7201a8\"], [0.3333333333333333, \"#9c179e\"], [0.4444444444444444, \"#bd3786\"], [0.5555555555555556, \"#d8576b\"], [0.6666666666666666, \"#ed7953\"], [0.7777777777777778, \"#fb9f3a\"], [0.8888888888888888, \"#fdca26\"], [1.0, \"#f0f921\"]], \"type\": \"heatmapgl\"}], \"histogram\": [{\"marker\": {\"colorbar\": {\"outlinewidth\": 0, \"ticks\": \"\"}}, \"type\": \"histogram\"}], \"histogram2d\": [{\"colorbar\": {\"outlinewidth\": 0, \"ticks\": \"\"}, \"colorscale\": [[0.0, \"#0d0887\"], [0.1111111111111111, \"#46039f\"], [0.2222222222222222, \"#7201a8\"], [0.3333333333333333, \"#9c179e\"], [0.4444444444444444, \"#bd3786\"], [0.5555555555555556, \"#d8576b\"], [0.6666666666666666, \"#ed7953\"], [0.7777777777777778, \"#fb9f3a\"], [0.8888888888888888, \"#fdca26\"], [1.0, \"#f0f921\"]], \"type\": \"histogram2d\"}], \"histogram2dcontour\": [{\"colorbar\": {\"outlinewidth\": 0, \"ticks\": \"\"}, \"colorscale\": [[0.0, \"#0d0887\"], [0.1111111111111111, \"#46039f\"], [0.2222222222222222, \"#7201a8\"], [0.3333333333333333, \"#9c179e\"], [0.4444444444444444, \"#bd3786\"], [0.5555555555555556, \"#d8576b\"], [0.6666666666666666, \"#ed7953\"], [0.7777777777777778, \"#fb9f3a\"], [0.8888888888888888, \"#fdca26\"], [1.0, \"#f0f921\"]], \"type\": \"histogram2dcontour\"}], \"mesh3d\": [{\"colorbar\": {\"outlinewidth\": 0, \"ticks\": \"\"}, \"type\": \"mesh3d\"}], \"parcoords\": [{\"line\": {\"colorbar\": {\"outlinewidth\": 0, \"ticks\": \"\"}}, \"type\": \"parcoords\"}], \"pie\": [{\"automargin\": true, \"type\": \"pie\"}], \"scatter\": [{\"marker\": {\"colorbar\": {\"outlinewidth\": 0, \"ticks\": \"\"}}, \"type\": \"scatter\"}], \"scatter3d\": [{\"line\": {\"colorbar\": {\"outlinewidth\": 0, \"ticks\": \"\"}}, \"marker\": {\"colorbar\": {\"outlinewidth\": 0, \"ticks\": \"\"}}, \"type\": \"scatter3d\"}], \"scattercarpet\": [{\"marker\": {\"colorbar\": {\"outlinewidth\": 0, \"ticks\": \"\"}}, \"type\": \"scattercarpet\"}], \"scattergeo\": [{\"marker\": {\"colorbar\": {\"outlinewidth\": 0, \"ticks\": \"\"}}, \"type\": \"scattergeo\"}], \"scattergl\": [{\"marker\": {\"colorbar\": {\"outlinewidth\": 0, \"ticks\": \"\"}}, \"type\": \"scattergl\"}], \"scattermapbox\": [{\"marker\": {\"colorbar\": {\"outlinewidth\": 0, \"ticks\": \"\"}}, \"type\": \"scattermapbox\"}], \"scatterpolar\": [{\"marker\": {\"colorbar\": {\"outlinewidth\": 0, \"ticks\": \"\"}}, \"type\": \"scatterpolar\"}], \"scatterpolargl\": [{\"marker\": {\"colorbar\": {\"outlinewidth\": 0, \"ticks\": \"\"}}, \"type\": \"scatterpolargl\"}], \"scatterternary\": [{\"marker\": {\"colorbar\": {\"outlinewidth\": 0, \"ticks\": \"\"}}, \"type\": \"scatterternary\"}], \"surface\": [{\"colorbar\": {\"outlinewidth\": 0, \"ticks\": \"\"}, \"colorscale\": [[0.0, \"#0d0887\"], [0.1111111111111111, \"#46039f\"], [0.2222222222222222, \"#7201a8\"], [0.3333333333333333, \"#9c179e\"], [0.4444444444444444, \"#bd3786\"], [0.5555555555555556, \"#d8576b\"], [0.6666666666666666, \"#ed7953\"], [0.7777777777777778, \"#fb9f3a\"], [0.8888888888888888, \"#fdca26\"], [1.0, \"#f0f921\"]], \"type\": \"surface\"}], \"table\": [{\"cells\": {\"fill\": {\"color\": \"#EBF0F8\"}, \"line\": {\"color\": \"white\"}}, \"header\": {\"fill\": {\"color\": \"#C8D4E3\"}, \"line\": {\"color\": \"white\"}}, \"type\": \"table\"}]}, \"layout\": {\"annotationdefaults\": {\"arrowcolor\": \"#2a3f5f\", \"arrowhead\": 0, \"arrowwidth\": 1}, \"coloraxis\": {\"colorbar\": {\"outlinewidth\": 0, \"ticks\": \"\"}}, \"colorscale\": {\"diverging\": [[0, \"#8e0152\"], [0.1, \"#c51b7d\"], [0.2, \"#de77ae\"], [0.3, \"#f1b6da\"], [0.4, \"#fde0ef\"], [0.5, \"#f7f7f7\"], [0.6, \"#e6f5d0\"], [0.7, \"#b8e186\"], [0.8, \"#7fbc41\"], [0.9, \"#4d9221\"], [1, \"#276419\"]], \"sequential\": [[0.0, \"#0d0887\"], [0.1111111111111111, \"#46039f\"], [0.2222222222222222, \"#7201a8\"], [0.3333333333333333, \"#9c179e\"], [0.4444444444444444, \"#bd3786\"], [0.5555555555555556, \"#d8576b\"], [0.6666666666666666, \"#ed7953\"], [0.7777777777777778, \"#fb9f3a\"], [0.8888888888888888, \"#fdca26\"], [1.0, \"#f0f921\"]], \"sequentialminus\": [[0.0, \"#0d0887\"], [0.1111111111111111, \"#46039f\"], [0.2222222222222222, \"#7201a8\"], [0.3333333333333333, \"#9c179e\"], [0.4444444444444444, \"#bd3786\"], [0.5555555555555556, \"#d8576b\"], [0.6666666666666666, \"#ed7953\"], [0.7777777777777778, \"#fb9f3a\"], [0.8888888888888888, \"#fdca26\"], [1.0, \"#f0f921\"]]}, \"colorway\": [\"#636efa\", \"#EF553B\", \"#00cc96\", \"#ab63fa\", \"#FFA15A\", \"#19d3f3\", \"#FF6692\", \"#B6E880\", \"#FF97FF\", \"#FECB52\"], \"font\": {\"color\": \"#2a3f5f\"}, \"geo\": {\"bgcolor\": \"white\", \"lakecolor\": \"white\", \"landcolor\": \"#E5ECF6\", \"showlakes\": true, \"showland\": true, \"subunitcolor\": \"white\"}, \"hoverlabel\": {\"align\": \"left\"}, \"hovermode\": \"closest\", \"mapbox\": {\"style\": \"light\"}, \"paper_bgcolor\": \"white\", \"plot_bgcolor\": \"#E5ECF6\", \"polar\": {\"angularaxis\": {\"gridcolor\": \"white\", \"linecolor\": \"white\", \"ticks\": \"\"}, \"bgcolor\": \"#E5ECF6\", \"radialaxis\": {\"gridcolor\": \"white\", \"linecolor\": \"white\", \"ticks\": \"\"}}, \"scene\": {\"xaxis\": {\"backgroundcolor\": \"#E5ECF6\", \"gridcolor\": \"white\", \"gridwidth\": 2, \"linecolor\": \"white\", \"showbackground\": true, \"ticks\": \"\", \"zerolinecolor\": \"white\"}, \"yaxis\": {\"backgroundcolor\": \"#E5ECF6\", \"gridcolor\": \"white\", \"gridwidth\": 2, \"linecolor\": \"white\", \"showbackground\": true, \"ticks\": \"\", \"zerolinecolor\": \"white\"}, \"zaxis\": {\"backgroundcolor\": \"#E5ECF6\", \"gridcolor\": \"white\", \"gridwidth\": 2, \"linecolor\": \"white\", \"showbackground\": true, \"ticks\": \"\", \"zerolinecolor\": \"white\"}}, \"shapedefaults\": {\"line\": {\"color\": \"#2a3f5f\"}}, \"ternary\": {\"aaxis\": {\"gridcolor\": \"white\", \"linecolor\": \"white\", \"ticks\": \"\"}, \"baxis\": {\"gridcolor\": \"white\", \"linecolor\": \"white\", \"ticks\": \"\"}, \"bgcolor\": \"#E5ECF6\", \"caxis\": {\"gridcolor\": \"white\", \"linecolor\": \"white\", \"ticks\": \"\"}}, \"title\": {\"x\": 0.05}, \"xaxis\": {\"automargin\": true, \"gridcolor\": \"white\", \"linecolor\": \"white\", \"ticks\": \"\", \"title\": {\"standoff\": 15}, \"zerolinecolor\": \"white\", \"zerolinewidth\": 2}, \"yaxis\": {\"automargin\": true, \"gridcolor\": \"white\", \"linecolor\": \"white\", \"ticks\": \"\", \"title\": {\"standoff\": 15}, \"zerolinecolor\": \"white\", \"zerolinewidth\": 2}}}, \"title\": {\"text\": \"R\\u00e9partition des differents embranchements\"}, \"xaxis\": {\"anchor\": \"y\", \"domain\": [0.0, 1.0], \"title\": {\"text\": \"x\"}}, \"yaxis\": {\"anchor\": \"x\", \"domain\": [0.0, 1.0], \"title\": {\"text\": \"value\"}}},                        {\"responsive\": true}                    ).then(function(){\n",
       "                            \n",
       "var gd = document.getElementById('3175f0db-6240-4e42-ba4e-74082d26ac69');\n",
       "var x = new MutationObserver(function (mutations, observer) {{\n",
       "        var display = window.getComputedStyle(gd).display;\n",
       "        if (!display || display === 'none') {{\n",
       "            console.log([gd, 'removed!']);\n",
       "            Plotly.purge(gd);\n",
       "            observer.disconnect();\n",
       "        }}\n",
       "}});\n",
       "\n",
       "// Listen for the removal of the full notebook cells\n",
       "var notebookContainer = gd.closest('#notebook-container');\n",
       "if (notebookContainer) {{\n",
       "    x.observe(notebookContainer, {childList: true});\n",
       "}}\n",
       "\n",
       "// Listen for the clearing of the current output cell\n",
       "var outputEl = gd.closest('.output');\n",
       "if (outputEl) {{\n",
       "    x.observe(outputEl, {childList: true});\n",
       "}}\n",
       "\n",
       "                        })                };                });            </script>        </div>"
      ]
     },
     "metadata": {},
     "output_type": "display_data"
    }
   ],
   "source": [
    "print(matrice.shape)\n",
    "embranchement = list(matrice.index.values)\n",
    "samples = list(matrice.columns.values)\n",
    "print(matrice.sum())\n",
    "\n",
    "fig = px.bar(matrice.transpose(), \n",
    "            x=samples,\n",
    "            y=embranchement, \n",
    "             color_discrete_sequence=px.colors.sequential.Viridis, \n",
    "             title=\"Répartition des differents embranchements\")\n",
    "fig.show()"
   ]
  },
  {
   "cell_type": "code",
   "execution_count": 88,
   "metadata": {},
   "outputs": [
    {
     "data": {
      "application/vnd.plotly.v1+json": {
       "config": {
        "plotlyServerURL": "https://plot.ly"
       },
       "data": [
        {
         "hoverongaps": false,
         "type": "heatmap",
         "x": [
          "group1",
          "group2",
          "group3"
         ],
         "y": [
          "Acetobacteraceae Roseomonas",
          "Burkholderiales_incertae_sedis Aquabacterium",
          "Clostridiales_Incertae_Sedis_XI Anaerococcus",
          "Corynebacteriaceae Corynebacterium",
          "Cytophagaceae Hymenobacter",
          "Erythrobacteraceae unclassified",
          "Flavobacteriaceae Chryseobacterium",
          "Flavobacteriaceae Flavobacterium",
          "Intrasporangiaceae unclassified",
          "Microbacteriaceae unclassified",
          "Micrococcaceae Arthrobacter",
          "Micrococcaceae Kocuria",
          "Moraxellaceae Acinetobacter",
          "Moraxellaceae Enhydrobacter",
          "Nocardioidaceae Nocardioides",
          "Phyllobacteriaceae unclassified",
          "Propionibacteriaceae Friedmanniella",
          "Propionibacteriaceae Propionibacterium",
          "Pseudomonadaceae Pseudomonas",
          "Sphingomonadaceae Sphingomonas",
          "Sphingomonadaceae unclassified",
          "Staphylococcaceae Staphylococcus",
          "Xanthomonadaceae Thermomonas",
          "Xanthomonadaceae unclassified",
          "others"
         ],
         "z": [
          [
           2.57550491013526,
           0.9613917289790941,
           0.30045067601402103
          ],
          [
           0.12970168612191957,
           2.891805280024418,
           0.7511266900350526
          ],
          [
           0.13896609227348528,
           2.5026705325805,
           0.15022533800701052
          ],
          [
           1.6861219195849546,
           18.140546314664988,
           0.20030045067601399
          ],
          [
           2.612562534741523,
           0.23271783915763783,
           0.10015022533800699
          ],
          [
           0.16675931072818231,
           0.11826644285060284,
           2.1532298447671505
          ],
          [
           3.2610709653511214,
           0.07630093087135667,
           0.5007511266900351
          ],
          [
           0.676301649064295,
           0.16023195482984898,
           3.505257886830245
          ],
          [
           1.0098202705206596,
           0.05341065160994968,
           11.016524787180773
          ],
          [
           1.880674448767834,
           0.20219746680909512,
           2.704056084126189
          ],
          [
           11.756531406336853,
           0.6752632382115065,
           0.6009013520280421
          ],
          [
           2.5662405039836944,
           0.37005951472607984,
           0
          ],
          [
           7.587548638132295,
           1.2093697543110036,
           0.20030045067601399
          ],
          [
           19.909208819714657,
           8.263390813367929,
           0
          ],
          [
           1.000555864369094,
           0.05341065160994967,
           5.558337506259389
          ],
          [
           0.13896609227348528,
           0.22508774607050216,
           2.704056084126189
          ],
          [
           2.7885862516212714,
           0.12208148939417068,
           0.35052578868302453
          ],
          [
           1.9733185102834907,
           22.03189378910422,
           0.7511266900350526
          ],
          [
           0.8986473967018713,
           2.685792766671755,
           0.20030045067601399
          ],
          [
           1.3618677042801557,
           4.059209522356176,
           1.5523284927391086
          ],
          [
           1.704650731888086,
           0.3128338165725622,
           10.766149223835754
          ],
          [
           0.8430609597924773,
           5.695864489546778,
           0.25037556334501754
          ],
          [
           0.09264406151565684,
           0.026705325804974835,
           4.056084126189284
          ],
          [
           0.19455252918287938,
           0.183122234091256,
           3.3049574361542313
          ],
          [
           33.0461367426348,
           28.746375705783635,
           48.322483725588384
          ]
         ]
        }
       ],
       "layout": {
        "template": {
         "data": {
          "bar": [
           {
            "error_x": {
             "color": "#2a3f5f"
            },
            "error_y": {
             "color": "#2a3f5f"
            },
            "marker": {
             "line": {
              "color": "#E5ECF6",
              "width": 0.5
             }
            },
            "type": "bar"
           }
          ],
          "barpolar": [
           {
            "marker": {
             "line": {
              "color": "#E5ECF6",
              "width": 0.5
             }
            },
            "type": "barpolar"
           }
          ],
          "carpet": [
           {
            "aaxis": {
             "endlinecolor": "#2a3f5f",
             "gridcolor": "white",
             "linecolor": "white",
             "minorgridcolor": "white",
             "startlinecolor": "#2a3f5f"
            },
            "baxis": {
             "endlinecolor": "#2a3f5f",
             "gridcolor": "white",
             "linecolor": "white",
             "minorgridcolor": "white",
             "startlinecolor": "#2a3f5f"
            },
            "type": "carpet"
           }
          ],
          "choropleth": [
           {
            "colorbar": {
             "outlinewidth": 0,
             "ticks": ""
            },
            "type": "choropleth"
           }
          ],
          "contour": [
           {
            "colorbar": {
             "outlinewidth": 0,
             "ticks": ""
            },
            "colorscale": [
             [
              0,
              "#0d0887"
             ],
             [
              0.1111111111111111,
              "#46039f"
             ],
             [
              0.2222222222222222,
              "#7201a8"
             ],
             [
              0.3333333333333333,
              "#9c179e"
             ],
             [
              0.4444444444444444,
              "#bd3786"
             ],
             [
              0.5555555555555556,
              "#d8576b"
             ],
             [
              0.6666666666666666,
              "#ed7953"
             ],
             [
              0.7777777777777778,
              "#fb9f3a"
             ],
             [
              0.8888888888888888,
              "#fdca26"
             ],
             [
              1,
              "#f0f921"
             ]
            ],
            "type": "contour"
           }
          ],
          "contourcarpet": [
           {
            "colorbar": {
             "outlinewidth": 0,
             "ticks": ""
            },
            "type": "contourcarpet"
           }
          ],
          "heatmap": [
           {
            "colorbar": {
             "outlinewidth": 0,
             "ticks": ""
            },
            "colorscale": [
             [
              0,
              "#0d0887"
             ],
             [
              0.1111111111111111,
              "#46039f"
             ],
             [
              0.2222222222222222,
              "#7201a8"
             ],
             [
              0.3333333333333333,
              "#9c179e"
             ],
             [
              0.4444444444444444,
              "#bd3786"
             ],
             [
              0.5555555555555556,
              "#d8576b"
             ],
             [
              0.6666666666666666,
              "#ed7953"
             ],
             [
              0.7777777777777778,
              "#fb9f3a"
             ],
             [
              0.8888888888888888,
              "#fdca26"
             ],
             [
              1,
              "#f0f921"
             ]
            ],
            "type": "heatmap"
           }
          ],
          "heatmapgl": [
           {
            "colorbar": {
             "outlinewidth": 0,
             "ticks": ""
            },
            "colorscale": [
             [
              0,
              "#0d0887"
             ],
             [
              0.1111111111111111,
              "#46039f"
             ],
             [
              0.2222222222222222,
              "#7201a8"
             ],
             [
              0.3333333333333333,
              "#9c179e"
             ],
             [
              0.4444444444444444,
              "#bd3786"
             ],
             [
              0.5555555555555556,
              "#d8576b"
             ],
             [
              0.6666666666666666,
              "#ed7953"
             ],
             [
              0.7777777777777778,
              "#fb9f3a"
             ],
             [
              0.8888888888888888,
              "#fdca26"
             ],
             [
              1,
              "#f0f921"
             ]
            ],
            "type": "heatmapgl"
           }
          ],
          "histogram": [
           {
            "marker": {
             "colorbar": {
              "outlinewidth": 0,
              "ticks": ""
             }
            },
            "type": "histogram"
           }
          ],
          "histogram2d": [
           {
            "colorbar": {
             "outlinewidth": 0,
             "ticks": ""
            },
            "colorscale": [
             [
              0,
              "#0d0887"
             ],
             [
              0.1111111111111111,
              "#46039f"
             ],
             [
              0.2222222222222222,
              "#7201a8"
             ],
             [
              0.3333333333333333,
              "#9c179e"
             ],
             [
              0.4444444444444444,
              "#bd3786"
             ],
             [
              0.5555555555555556,
              "#d8576b"
             ],
             [
              0.6666666666666666,
              "#ed7953"
             ],
             [
              0.7777777777777778,
              "#fb9f3a"
             ],
             [
              0.8888888888888888,
              "#fdca26"
             ],
             [
              1,
              "#f0f921"
             ]
            ],
            "type": "histogram2d"
           }
          ],
          "histogram2dcontour": [
           {
            "colorbar": {
             "outlinewidth": 0,
             "ticks": ""
            },
            "colorscale": [
             [
              0,
              "#0d0887"
             ],
             [
              0.1111111111111111,
              "#46039f"
             ],
             [
              0.2222222222222222,
              "#7201a8"
             ],
             [
              0.3333333333333333,
              "#9c179e"
             ],
             [
              0.4444444444444444,
              "#bd3786"
             ],
             [
              0.5555555555555556,
              "#d8576b"
             ],
             [
              0.6666666666666666,
              "#ed7953"
             ],
             [
              0.7777777777777778,
              "#fb9f3a"
             ],
             [
              0.8888888888888888,
              "#fdca26"
             ],
             [
              1,
              "#f0f921"
             ]
            ],
            "type": "histogram2dcontour"
           }
          ],
          "mesh3d": [
           {
            "colorbar": {
             "outlinewidth": 0,
             "ticks": ""
            },
            "type": "mesh3d"
           }
          ],
          "parcoords": [
           {
            "line": {
             "colorbar": {
              "outlinewidth": 0,
              "ticks": ""
             }
            },
            "type": "parcoords"
           }
          ],
          "pie": [
           {
            "automargin": true,
            "type": "pie"
           }
          ],
          "scatter": [
           {
            "marker": {
             "colorbar": {
              "outlinewidth": 0,
              "ticks": ""
             }
            },
            "type": "scatter"
           }
          ],
          "scatter3d": [
           {
            "line": {
             "colorbar": {
              "outlinewidth": 0,
              "ticks": ""
             }
            },
            "marker": {
             "colorbar": {
              "outlinewidth": 0,
              "ticks": ""
             }
            },
            "type": "scatter3d"
           }
          ],
          "scattercarpet": [
           {
            "marker": {
             "colorbar": {
              "outlinewidth": 0,
              "ticks": ""
             }
            },
            "type": "scattercarpet"
           }
          ],
          "scattergeo": [
           {
            "marker": {
             "colorbar": {
              "outlinewidth": 0,
              "ticks": ""
             }
            },
            "type": "scattergeo"
           }
          ],
          "scattergl": [
           {
            "marker": {
             "colorbar": {
              "outlinewidth": 0,
              "ticks": ""
             }
            },
            "type": "scattergl"
           }
          ],
          "scattermapbox": [
           {
            "marker": {
             "colorbar": {
              "outlinewidth": 0,
              "ticks": ""
             }
            },
            "type": "scattermapbox"
           }
          ],
          "scatterpolar": [
           {
            "marker": {
             "colorbar": {
              "outlinewidth": 0,
              "ticks": ""
             }
            },
            "type": "scatterpolar"
           }
          ],
          "scatterpolargl": [
           {
            "marker": {
             "colorbar": {
              "outlinewidth": 0,
              "ticks": ""
             }
            },
            "type": "scatterpolargl"
           }
          ],
          "scatterternary": [
           {
            "marker": {
             "colorbar": {
              "outlinewidth": 0,
              "ticks": ""
             }
            },
            "type": "scatterternary"
           }
          ],
          "surface": [
           {
            "colorbar": {
             "outlinewidth": 0,
             "ticks": ""
            },
            "colorscale": [
             [
              0,
              "#0d0887"
             ],
             [
              0.1111111111111111,
              "#46039f"
             ],
             [
              0.2222222222222222,
              "#7201a8"
             ],
             [
              0.3333333333333333,
              "#9c179e"
             ],
             [
              0.4444444444444444,
              "#bd3786"
             ],
             [
              0.5555555555555556,
              "#d8576b"
             ],
             [
              0.6666666666666666,
              "#ed7953"
             ],
             [
              0.7777777777777778,
              "#fb9f3a"
             ],
             [
              0.8888888888888888,
              "#fdca26"
             ],
             [
              1,
              "#f0f921"
             ]
            ],
            "type": "surface"
           }
          ],
          "table": [
           {
            "cells": {
             "fill": {
              "color": "#EBF0F8"
             },
             "line": {
              "color": "white"
             }
            },
            "header": {
             "fill": {
              "color": "#C8D4E3"
             },
             "line": {
              "color": "white"
             }
            },
            "type": "table"
           }
          ]
         },
         "layout": {
          "annotationdefaults": {
           "arrowcolor": "#2a3f5f",
           "arrowhead": 0,
           "arrowwidth": 1
          },
          "coloraxis": {
           "colorbar": {
            "outlinewidth": 0,
            "ticks": ""
           }
          },
          "colorscale": {
           "diverging": [
            [
             0,
             "#8e0152"
            ],
            [
             0.1,
             "#c51b7d"
            ],
            [
             0.2,
             "#de77ae"
            ],
            [
             0.3,
             "#f1b6da"
            ],
            [
             0.4,
             "#fde0ef"
            ],
            [
             0.5,
             "#f7f7f7"
            ],
            [
             0.6,
             "#e6f5d0"
            ],
            [
             0.7,
             "#b8e186"
            ],
            [
             0.8,
             "#7fbc41"
            ],
            [
             0.9,
             "#4d9221"
            ],
            [
             1,
             "#276419"
            ]
           ],
           "sequential": [
            [
             0,
             "#0d0887"
            ],
            [
             0.1111111111111111,
             "#46039f"
            ],
            [
             0.2222222222222222,
             "#7201a8"
            ],
            [
             0.3333333333333333,
             "#9c179e"
            ],
            [
             0.4444444444444444,
             "#bd3786"
            ],
            [
             0.5555555555555556,
             "#d8576b"
            ],
            [
             0.6666666666666666,
             "#ed7953"
            ],
            [
             0.7777777777777778,
             "#fb9f3a"
            ],
            [
             0.8888888888888888,
             "#fdca26"
            ],
            [
             1,
             "#f0f921"
            ]
           ],
           "sequentialminus": [
            [
             0,
             "#0d0887"
            ],
            [
             0.1111111111111111,
             "#46039f"
            ],
            [
             0.2222222222222222,
             "#7201a8"
            ],
            [
             0.3333333333333333,
             "#9c179e"
            ],
            [
             0.4444444444444444,
             "#bd3786"
            ],
            [
             0.5555555555555556,
             "#d8576b"
            ],
            [
             0.6666666666666666,
             "#ed7953"
            ],
            [
             0.7777777777777778,
             "#fb9f3a"
            ],
            [
             0.8888888888888888,
             "#fdca26"
            ],
            [
             1,
             "#f0f921"
            ]
           ]
          },
          "colorway": [
           "#636efa",
           "#EF553B",
           "#00cc96",
           "#ab63fa",
           "#FFA15A",
           "#19d3f3",
           "#FF6692",
           "#B6E880",
           "#FF97FF",
           "#FECB52"
          ],
          "font": {
           "color": "#2a3f5f"
          },
          "geo": {
           "bgcolor": "white",
           "lakecolor": "white",
           "landcolor": "#E5ECF6",
           "showlakes": true,
           "showland": true,
           "subunitcolor": "white"
          },
          "hoverlabel": {
           "align": "left"
          },
          "hovermode": "closest",
          "mapbox": {
           "style": "light"
          },
          "paper_bgcolor": "white",
          "plot_bgcolor": "#E5ECF6",
          "polar": {
           "angularaxis": {
            "gridcolor": "white",
            "linecolor": "white",
            "ticks": ""
           },
           "bgcolor": "#E5ECF6",
           "radialaxis": {
            "gridcolor": "white",
            "linecolor": "white",
            "ticks": ""
           }
          },
          "scene": {
           "xaxis": {
            "backgroundcolor": "#E5ECF6",
            "gridcolor": "white",
            "gridwidth": 2,
            "linecolor": "white",
            "showbackground": true,
            "ticks": "",
            "zerolinecolor": "white"
           },
           "yaxis": {
            "backgroundcolor": "#E5ECF6",
            "gridcolor": "white",
            "gridwidth": 2,
            "linecolor": "white",
            "showbackground": true,
            "ticks": "",
            "zerolinecolor": "white"
           },
           "zaxis": {
            "backgroundcolor": "#E5ECF6",
            "gridcolor": "white",
            "gridwidth": 2,
            "linecolor": "white",
            "showbackground": true,
            "ticks": "",
            "zerolinecolor": "white"
           }
          },
          "shapedefaults": {
           "line": {
            "color": "#2a3f5f"
           }
          },
          "ternary": {
           "aaxis": {
            "gridcolor": "white",
            "linecolor": "white",
            "ticks": ""
           },
           "baxis": {
            "gridcolor": "white",
            "linecolor": "white",
            "ticks": ""
           },
           "bgcolor": "#E5ECF6",
           "caxis": {
            "gridcolor": "white",
            "linecolor": "white",
            "ticks": ""
           }
          },
          "title": {
           "x": 0.05
          },
          "xaxis": {
           "automargin": true,
           "gridcolor": "white",
           "linecolor": "white",
           "ticks": "",
           "title": {
            "standoff": 15
           },
           "zerolinecolor": "white",
           "zerolinewidth": 2
          },
          "yaxis": {
           "automargin": true,
           "gridcolor": "white",
           "linecolor": "white",
           "ticks": "",
           "title": {
            "standoff": 15
           },
           "zerolinecolor": "white",
           "zerolinewidth": 2
          }
         }
        }
       }
      },
      "text/html": [
       "<div>                            <div id=\"f640dc3c-e404-40fb-ab13-087b38c1204d\" class=\"plotly-graph-div\" style=\"height:525px; width:100%;\"></div>            <script type=\"text/javascript\">                require([\"plotly\"], function(Plotly) {                    window.PLOTLYENV=window.PLOTLYENV || {};                                    if (document.getElementById(\"f640dc3c-e404-40fb-ab13-087b38c1204d\")) {                    Plotly.newPlot(                        \"f640dc3c-e404-40fb-ab13-087b38c1204d\",                        [{\"hoverongaps\": false, \"type\": \"heatmap\", \"x\": [\"group1\", \"group2\", \"group3\"], \"y\": [\"Acetobacteraceae Roseomonas\", \"Burkholderiales_incertae_sedis Aquabacterium\", \"Clostridiales_Incertae_Sedis_XI Anaerococcus\", \"Corynebacteriaceae Corynebacterium\", \"Cytophagaceae Hymenobacter\", \"Erythrobacteraceae unclassified\", \"Flavobacteriaceae Chryseobacterium\", \"Flavobacteriaceae Flavobacterium\", \"Intrasporangiaceae unclassified\", \"Microbacteriaceae unclassified\", \"Micrococcaceae Arthrobacter\", \"Micrococcaceae Kocuria\", \"Moraxellaceae Acinetobacter\", \"Moraxellaceae Enhydrobacter\", \"Nocardioidaceae Nocardioides\", \"Phyllobacteriaceae unclassified\", \"Propionibacteriaceae Friedmanniella\", \"Propionibacteriaceae Propionibacterium\", \"Pseudomonadaceae Pseudomonas\", \"Sphingomonadaceae Sphingomonas\", \"Sphingomonadaceae unclassified\", \"Staphylococcaceae Staphylococcus\", \"Xanthomonadaceae Thermomonas\", \"Xanthomonadaceae unclassified\", \"others\"], \"z\": [[2.57550491013526, 0.9613917289790941, 0.30045067601402103], [0.12970168612191957, 2.891805280024418, 0.7511266900350526], [0.13896609227348528, 2.5026705325805, 0.15022533800701052], [1.6861219195849546, 18.140546314664988, 0.20030045067601399], [2.612562534741523, 0.23271783915763783, 0.10015022533800699], [0.16675931072818231, 0.11826644285060284, 2.1532298447671505], [3.2610709653511214, 0.07630093087135667, 0.5007511266900351], [0.676301649064295, 0.16023195482984898, 3.505257886830245], [1.0098202705206596, 0.05341065160994968, 11.016524787180773], [1.880674448767834, 0.20219746680909512, 2.704056084126189], [11.756531406336853, 0.6752632382115065, 0.6009013520280421], [2.5662405039836944, 0.37005951472607984, 0.0], [7.587548638132295, 1.2093697543110036, 0.20030045067601399], [19.909208819714657, 8.263390813367929, 0.0], [1.000555864369094, 0.05341065160994967, 5.558337506259389], [0.13896609227348528, 0.22508774607050216, 2.704056084126189], [2.7885862516212714, 0.12208148939417068, 0.35052578868302453], [1.9733185102834907, 22.03189378910422, 0.7511266900350526], [0.8986473967018713, 2.685792766671755, 0.20030045067601399], [1.3618677042801557, 4.059209522356176, 1.5523284927391086], [1.704650731888086, 0.3128338165725622, 10.766149223835754], [0.8430609597924773, 5.695864489546778, 0.25037556334501754], [0.09264406151565684, 0.026705325804974835, 4.056084126189284], [0.19455252918287938, 0.183122234091256, 3.3049574361542313], [33.0461367426348, 28.746375705783635, 48.322483725588384]]}],                        {\"template\": {\"data\": {\"bar\": [{\"error_x\": {\"color\": \"#2a3f5f\"}, \"error_y\": {\"color\": \"#2a3f5f\"}, \"marker\": {\"line\": {\"color\": \"#E5ECF6\", \"width\": 0.5}}, \"type\": \"bar\"}], \"barpolar\": [{\"marker\": {\"line\": {\"color\": \"#E5ECF6\", \"width\": 0.5}}, \"type\": \"barpolar\"}], \"carpet\": [{\"aaxis\": {\"endlinecolor\": \"#2a3f5f\", \"gridcolor\": \"white\", \"linecolor\": \"white\", \"minorgridcolor\": \"white\", \"startlinecolor\": \"#2a3f5f\"}, \"baxis\": {\"endlinecolor\": \"#2a3f5f\", \"gridcolor\": \"white\", \"linecolor\": \"white\", \"minorgridcolor\": \"white\", \"startlinecolor\": \"#2a3f5f\"}, \"type\": \"carpet\"}], \"choropleth\": [{\"colorbar\": {\"outlinewidth\": 0, \"ticks\": \"\"}, \"type\": \"choropleth\"}], \"contour\": [{\"colorbar\": {\"outlinewidth\": 0, \"ticks\": \"\"}, \"colorscale\": [[0.0, \"#0d0887\"], [0.1111111111111111, \"#46039f\"], [0.2222222222222222, \"#7201a8\"], [0.3333333333333333, \"#9c179e\"], [0.4444444444444444, \"#bd3786\"], [0.5555555555555556, \"#d8576b\"], [0.6666666666666666, \"#ed7953\"], [0.7777777777777778, \"#fb9f3a\"], [0.8888888888888888, \"#fdca26\"], [1.0, \"#f0f921\"]], \"type\": \"contour\"}], \"contourcarpet\": [{\"colorbar\": {\"outlinewidth\": 0, \"ticks\": \"\"}, \"type\": \"contourcarpet\"}], \"heatmap\": [{\"colorbar\": {\"outlinewidth\": 0, \"ticks\": \"\"}, \"colorscale\": [[0.0, \"#0d0887\"], [0.1111111111111111, \"#46039f\"], [0.2222222222222222, \"#7201a8\"], [0.3333333333333333, \"#9c179e\"], [0.4444444444444444, \"#bd3786\"], [0.5555555555555556, \"#d8576b\"], [0.6666666666666666, \"#ed7953\"], [0.7777777777777778, \"#fb9f3a\"], [0.8888888888888888, \"#fdca26\"], [1.0, \"#f0f921\"]], \"type\": \"heatmap\"}], \"heatmapgl\": [{\"colorbar\": {\"outlinewidth\": 0, \"ticks\": \"\"}, \"colorscale\": [[0.0, \"#0d0887\"], [0.1111111111111111, \"#46039f\"], [0.2222222222222222, \"#7201a8\"], [0.3333333333333333, \"#9c179e\"], [0.4444444444444444, \"#bd3786\"], [0.5555555555555556, \"#d8576b\"], [0.6666666666666666, \"#ed7953\"], [0.7777777777777778, \"#fb9f3a\"], [0.8888888888888888, \"#fdca26\"], [1.0, \"#f0f921\"]], \"type\": \"heatmapgl\"}], \"histogram\": [{\"marker\": {\"colorbar\": {\"outlinewidth\": 0, \"ticks\": \"\"}}, \"type\": \"histogram\"}], \"histogram2d\": [{\"colorbar\": {\"outlinewidth\": 0, \"ticks\": \"\"}, \"colorscale\": [[0.0, \"#0d0887\"], [0.1111111111111111, \"#46039f\"], [0.2222222222222222, \"#7201a8\"], [0.3333333333333333, \"#9c179e\"], [0.4444444444444444, \"#bd3786\"], [0.5555555555555556, \"#d8576b\"], [0.6666666666666666, \"#ed7953\"], [0.7777777777777778, \"#fb9f3a\"], [0.8888888888888888, \"#fdca26\"], [1.0, \"#f0f921\"]], \"type\": \"histogram2d\"}], \"histogram2dcontour\": [{\"colorbar\": {\"outlinewidth\": 0, \"ticks\": \"\"}, \"colorscale\": [[0.0, \"#0d0887\"], [0.1111111111111111, \"#46039f\"], [0.2222222222222222, \"#7201a8\"], [0.3333333333333333, \"#9c179e\"], [0.4444444444444444, \"#bd3786\"], [0.5555555555555556, \"#d8576b\"], [0.6666666666666666, \"#ed7953\"], [0.7777777777777778, \"#fb9f3a\"], [0.8888888888888888, \"#fdca26\"], [1.0, \"#f0f921\"]], \"type\": \"histogram2dcontour\"}], \"mesh3d\": [{\"colorbar\": {\"outlinewidth\": 0, \"ticks\": \"\"}, \"type\": \"mesh3d\"}], \"parcoords\": [{\"line\": {\"colorbar\": {\"outlinewidth\": 0, \"ticks\": \"\"}}, \"type\": \"parcoords\"}], \"pie\": [{\"automargin\": true, \"type\": \"pie\"}], \"scatter\": [{\"marker\": {\"colorbar\": {\"outlinewidth\": 0, \"ticks\": \"\"}}, \"type\": \"scatter\"}], \"scatter3d\": [{\"line\": {\"colorbar\": {\"outlinewidth\": 0, \"ticks\": \"\"}}, \"marker\": {\"colorbar\": {\"outlinewidth\": 0, \"ticks\": \"\"}}, \"type\": \"scatter3d\"}], \"scattercarpet\": [{\"marker\": {\"colorbar\": {\"outlinewidth\": 0, \"ticks\": \"\"}}, \"type\": \"scattercarpet\"}], \"scattergeo\": [{\"marker\": {\"colorbar\": {\"outlinewidth\": 0, \"ticks\": \"\"}}, \"type\": \"scattergeo\"}], \"scattergl\": [{\"marker\": {\"colorbar\": {\"outlinewidth\": 0, \"ticks\": \"\"}}, \"type\": \"scattergl\"}], \"scattermapbox\": [{\"marker\": {\"colorbar\": {\"outlinewidth\": 0, \"ticks\": \"\"}}, \"type\": \"scattermapbox\"}], \"scatterpolar\": [{\"marker\": {\"colorbar\": {\"outlinewidth\": 0, \"ticks\": \"\"}}, \"type\": \"scatterpolar\"}], \"scatterpolargl\": [{\"marker\": {\"colorbar\": {\"outlinewidth\": 0, \"ticks\": \"\"}}, \"type\": \"scatterpolargl\"}], \"scatterternary\": [{\"marker\": {\"colorbar\": {\"outlinewidth\": 0, \"ticks\": \"\"}}, \"type\": \"scatterternary\"}], \"surface\": [{\"colorbar\": {\"outlinewidth\": 0, \"ticks\": \"\"}, \"colorscale\": [[0.0, \"#0d0887\"], [0.1111111111111111, \"#46039f\"], [0.2222222222222222, \"#7201a8\"], [0.3333333333333333, \"#9c179e\"], [0.4444444444444444, \"#bd3786\"], [0.5555555555555556, \"#d8576b\"], [0.6666666666666666, \"#ed7953\"], [0.7777777777777778, \"#fb9f3a\"], [0.8888888888888888, \"#fdca26\"], [1.0, \"#f0f921\"]], \"type\": \"surface\"}], \"table\": [{\"cells\": {\"fill\": {\"color\": \"#EBF0F8\"}, \"line\": {\"color\": \"white\"}}, \"header\": {\"fill\": {\"color\": \"#C8D4E3\"}, \"line\": {\"color\": \"white\"}}, \"type\": \"table\"}]}, \"layout\": {\"annotationdefaults\": {\"arrowcolor\": \"#2a3f5f\", \"arrowhead\": 0, \"arrowwidth\": 1}, \"coloraxis\": {\"colorbar\": {\"outlinewidth\": 0, \"ticks\": \"\"}}, \"colorscale\": {\"diverging\": [[0, \"#8e0152\"], [0.1, \"#c51b7d\"], [0.2, \"#de77ae\"], [0.3, \"#f1b6da\"], [0.4, \"#fde0ef\"], [0.5, \"#f7f7f7\"], [0.6, \"#e6f5d0\"], [0.7, \"#b8e186\"], [0.8, \"#7fbc41\"], [0.9, \"#4d9221\"], [1, \"#276419\"]], \"sequential\": [[0.0, \"#0d0887\"], [0.1111111111111111, \"#46039f\"], [0.2222222222222222, \"#7201a8\"], [0.3333333333333333, \"#9c179e\"], [0.4444444444444444, \"#bd3786\"], [0.5555555555555556, \"#d8576b\"], [0.6666666666666666, \"#ed7953\"], [0.7777777777777778, \"#fb9f3a\"], [0.8888888888888888, \"#fdca26\"], [1.0, \"#f0f921\"]], \"sequentialminus\": [[0.0, \"#0d0887\"], [0.1111111111111111, \"#46039f\"], [0.2222222222222222, \"#7201a8\"], [0.3333333333333333, \"#9c179e\"], [0.4444444444444444, \"#bd3786\"], [0.5555555555555556, \"#d8576b\"], [0.6666666666666666, \"#ed7953\"], [0.7777777777777778, \"#fb9f3a\"], [0.8888888888888888, \"#fdca26\"], [1.0, \"#f0f921\"]]}, \"colorway\": [\"#636efa\", \"#EF553B\", \"#00cc96\", \"#ab63fa\", \"#FFA15A\", \"#19d3f3\", \"#FF6692\", \"#B6E880\", \"#FF97FF\", \"#FECB52\"], \"font\": {\"color\": \"#2a3f5f\"}, \"geo\": {\"bgcolor\": \"white\", \"lakecolor\": \"white\", \"landcolor\": \"#E5ECF6\", \"showlakes\": true, \"showland\": true, \"subunitcolor\": \"white\"}, \"hoverlabel\": {\"align\": \"left\"}, \"hovermode\": \"closest\", \"mapbox\": {\"style\": \"light\"}, \"paper_bgcolor\": \"white\", \"plot_bgcolor\": \"#E5ECF6\", \"polar\": {\"angularaxis\": {\"gridcolor\": \"white\", \"linecolor\": \"white\", \"ticks\": \"\"}, \"bgcolor\": \"#E5ECF6\", \"radialaxis\": {\"gridcolor\": \"white\", \"linecolor\": \"white\", \"ticks\": \"\"}}, \"scene\": {\"xaxis\": {\"backgroundcolor\": \"#E5ECF6\", \"gridcolor\": \"white\", \"gridwidth\": 2, \"linecolor\": \"white\", \"showbackground\": true, \"ticks\": \"\", \"zerolinecolor\": \"white\"}, \"yaxis\": {\"backgroundcolor\": \"#E5ECF6\", \"gridcolor\": \"white\", \"gridwidth\": 2, \"linecolor\": \"white\", \"showbackground\": true, \"ticks\": \"\", \"zerolinecolor\": \"white\"}, \"zaxis\": {\"backgroundcolor\": \"#E5ECF6\", \"gridcolor\": \"white\", \"gridwidth\": 2, \"linecolor\": \"white\", \"showbackground\": true, \"ticks\": \"\", \"zerolinecolor\": \"white\"}}, \"shapedefaults\": {\"line\": {\"color\": \"#2a3f5f\"}}, \"ternary\": {\"aaxis\": {\"gridcolor\": \"white\", \"linecolor\": \"white\", \"ticks\": \"\"}, \"baxis\": {\"gridcolor\": \"white\", \"linecolor\": \"white\", \"ticks\": \"\"}, \"bgcolor\": \"#E5ECF6\", \"caxis\": {\"gridcolor\": \"white\", \"linecolor\": \"white\", \"ticks\": \"\"}}, \"title\": {\"x\": 0.05}, \"xaxis\": {\"automargin\": true, \"gridcolor\": \"white\", \"linecolor\": \"white\", \"ticks\": \"\", \"title\": {\"standoff\": 15}, \"zerolinecolor\": \"white\", \"zerolinewidth\": 2}, \"yaxis\": {\"automargin\": true, \"gridcolor\": \"white\", \"linecolor\": \"white\", \"ticks\": \"\", \"title\": {\"standoff\": 15}, \"zerolinecolor\": \"white\", \"zerolinewidth\": 2}}}},                        {\"responsive\": true}                    ).then(function(){\n",
       "                            \n",
       "var gd = document.getElementById('f640dc3c-e404-40fb-ab13-087b38c1204d');\n",
       "var x = new MutationObserver(function (mutations, observer) {{\n",
       "        var display = window.getComputedStyle(gd).display;\n",
       "        if (!display || display === 'none') {{\n",
       "            console.log([gd, 'removed!']);\n",
       "            Plotly.purge(gd);\n",
       "            observer.disconnect();\n",
       "        }}\n",
       "}});\n",
       "\n",
       "// Listen for the removal of the full notebook cells\n",
       "var notebookContainer = gd.closest('#notebook-container');\n",
       "if (notebookContainer) {{\n",
       "    x.observe(notebookContainer, {childList: true});\n",
       "}}\n",
       "\n",
       "// Listen for the clearing of the current output cell\n",
       "var outputEl = gd.closest('.output');\n",
       "if (outputEl) {{\n",
       "    x.observe(outputEl, {childList: true});\n",
       "}}\n",
       "\n",
       "                        })                };                });            </script>        </div>"
      ]
     },
     "metadata": {},
     "output_type": "display_data"
    }
   ],
   "source": [
    "\n",
    "indexNamesArr = matrice.index.values\n",
    "\n",
    "embranchement = list(indexNamesArr)\n",
    "samples = list(matrice.columns.values)\n",
    "\n",
    "\n",
    "fig = go.Figure(data=go.Heatmap(\n",
    "                   z=matrice,\n",
    "                   x=samples,\n",
    "                   y=embranchement,\n",
    "                   hoverongaps = False))\n",
    "fig.show()"
   ]
  }
 ],
 "metadata": {
  "kernelspec": {
   "display_name": "Python 3",
   "language": "python",
   "name": "python3"
  },
  "language_info": {
   "codemirror_mode": {
    "name": "ipython",
    "version": 3
   },
   "file_extension": ".py",
   "mimetype": "text/x-python",
   "name": "python",
   "nbconvert_exporter": "python",
   "pygments_lexer": "ipython3",
   "version": "3.7.6"
  }
 },
 "nbformat": 4,
 "nbformat_minor": 4
}
