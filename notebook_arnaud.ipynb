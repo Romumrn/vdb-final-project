{
 "cells": [
  {
   "cell_type": "code",
   "execution_count": 74,
   "metadata": {},
   "outputs": [],
   "source": [
    "#Immportation des données de metagenomique\n",
    "import pandas as pd\n",
    "import re\n",
    "\n",
    "df = pd.read_csv(\"1335.vdb.tab\", sep ='\\t')\n",
    "\n"
   ]
  },
  {
   "cell_type": "code",
   "execution_count": 89,
   "metadata": {},
   "outputs": [
    {
     "data": {
      "text/html": [
       "<div>\n",
       "<style scoped>\n",
       "    .dataframe tbody tr th:only-of-type {\n",
       "        vertical-align: middle;\n",
       "    }\n",
       "\n",
       "    .dataframe tbody tr th {\n",
       "        vertical-align: top;\n",
       "    }\n",
       "\n",
       "    .dataframe thead th {\n",
       "        text-align: right;\n",
       "    }\n",
       "</style>\n",
       "<table border=\"1\" class=\"dataframe\">\n",
       "  <thead>\n",
       "    <tr style=\"text-align: right;\">\n",
       "      <th></th>\n",
       "      <th>OTUNumber</th>\n",
       "      <th>OTUConTaxonomy</th>\n",
       "      <th>door_in_1</th>\n",
       "      <th>door_in_2</th>\n",
       "      <th>faucet_handle_1</th>\n",
       "      <th>faucet_handle_2</th>\n",
       "      <th>sink_floor_1</th>\n",
       "      <th>sink_floor_2</th>\n",
       "      <th>soap_dispenser_1</th>\n",
       "      <th>stall_in_1</th>\n",
       "      <th>...</th>\n",
       "      <th>toilet_flush_handle_1</th>\n",
       "      <th>toilet_flush_handle_2</th>\n",
       "      <th>toilet_seat_1</th>\n",
       "      <th>toilet_seat_2</th>\n",
       "      <th>regne</th>\n",
       "      <th>embranchement</th>\n",
       "      <th>classe</th>\n",
       "      <th>ordre</th>\n",
       "      <th>famille</th>\n",
       "      <th>genre</th>\n",
       "    </tr>\n",
       "  </thead>\n",
       "  <tbody>\n",
       "    <tr>\n",
       "      <th>0</th>\n",
       "      <td>Otu00001</td>\n",
       "      <td>Bacteria(100);Actinobacteria(100);Actinobacter...</td>\n",
       "      <td>1381</td>\n",
       "      <td>1032</td>\n",
       "      <td>335</td>\n",
       "      <td>577</td>\n",
       "      <td>38</td>\n",
       "      <td>36</td>\n",
       "      <td>1115</td>\n",
       "      <td>598</td>\n",
       "      <td>...</td>\n",
       "      <td>13</td>\n",
       "      <td>329</td>\n",
       "      <td>76</td>\n",
       "      <td>156</td>\n",
       "      <td>Bacteria</td>\n",
       "      <td>Actinobacteria</td>\n",
       "      <td>Actinobacteria</td>\n",
       "      <td>Actinomycetales</td>\n",
       "      <td>Propionibacteriaceae</td>\n",
       "      <td>Propionibacterium</td>\n",
       "    </tr>\n",
       "    <tr>\n",
       "      <th>1</th>\n",
       "      <td>Otu00002</td>\n",
       "      <td>Bacteria(100);Proteobacteria(100);Gammaproteob...</td>\n",
       "      <td>20</td>\n",
       "      <td>17</td>\n",
       "      <td>1686</td>\n",
       "      <td>3</td>\n",
       "      <td>411</td>\n",
       "      <td>564</td>\n",
       "      <td>128</td>\n",
       "      <td>9</td>\n",
       "      <td>...</td>\n",
       "      <td>0</td>\n",
       "      <td>25</td>\n",
       "      <td>258</td>\n",
       "      <td>0</td>\n",
       "      <td>Bacteria</td>\n",
       "      <td>Proteobacteria</td>\n",
       "      <td>Gammaproteobacteria</td>\n",
       "      <td>Pseudomonadales</td>\n",
       "      <td>Moraxellaceae</td>\n",
       "      <td>Enhydrobacter</td>\n",
       "    </tr>\n",
       "    <tr>\n",
       "      <th>2</th>\n",
       "      <td>Otu00003</td>\n",
       "      <td>Bacteria(100);Actinobacteria(100);Actinobacter...</td>\n",
       "      <td>8</td>\n",
       "      <td>47</td>\n",
       "      <td>6</td>\n",
       "      <td>418</td>\n",
       "      <td>15</td>\n",
       "      <td>8</td>\n",
       "      <td>84</td>\n",
       "      <td>45</td>\n",
       "      <td>...</td>\n",
       "      <td>3</td>\n",
       "      <td>283</td>\n",
       "      <td>41</td>\n",
       "      <td>1059</td>\n",
       "      <td>Bacteria</td>\n",
       "      <td>Actinobacteria</td>\n",
       "      <td>Actinobacteria</td>\n",
       "      <td>Actinomycetales</td>\n",
       "      <td>Corynebacteriaceae</td>\n",
       "      <td>Corynebacterium</td>\n",
       "    </tr>\n",
       "    <tr>\n",
       "      <th>3</th>\n",
       "      <td>Otu00004</td>\n",
       "      <td>Bacteria(100);Actinobacteria(100);Actinobacter...</td>\n",
       "      <td>6</td>\n",
       "      <td>27</td>\n",
       "      <td>5</td>\n",
       "      <td>6</td>\n",
       "      <td>452</td>\n",
       "      <td>275</td>\n",
       "      <td>63</td>\n",
       "      <td>0</td>\n",
       "      <td>...</td>\n",
       "      <td>9</td>\n",
       "      <td>51</td>\n",
       "      <td>5</td>\n",
       "      <td>3</td>\n",
       "      <td>Bacteria</td>\n",
       "      <td>Actinobacteria</td>\n",
       "      <td>Actinobacteria</td>\n",
       "      <td>Actinomycetales</td>\n",
       "      <td>Micrococcaceae</td>\n",
       "      <td>Arthrobacter</td>\n",
       "    </tr>\n",
       "    <tr>\n",
       "      <th>4</th>\n",
       "      <td>Otu00005</td>\n",
       "      <td>Bacteria(100);Actinobacteria(100);Actinobacter...</td>\n",
       "      <td>0</td>\n",
       "      <td>29</td>\n",
       "      <td>0</td>\n",
       "      <td>648</td>\n",
       "      <td>2</td>\n",
       "      <td>8</td>\n",
       "      <td>3</td>\n",
       "      <td>32</td>\n",
       "      <td>...</td>\n",
       "      <td>0</td>\n",
       "      <td>206</td>\n",
       "      <td>7</td>\n",
       "      <td>95</td>\n",
       "      <td>Bacteria</td>\n",
       "      <td>Actinobacteria</td>\n",
       "      <td>Actinobacteria</td>\n",
       "      <td>Actinomycetales</td>\n",
       "      <td>Corynebacteriaceae</td>\n",
       "      <td>Corynebacterium</td>\n",
       "    </tr>\n",
       "    <tr>\n",
       "      <th>...</th>\n",
       "      <td>...</td>\n",
       "      <td>...</td>\n",
       "      <td>...</td>\n",
       "      <td>...</td>\n",
       "      <td>...</td>\n",
       "      <td>...</td>\n",
       "      <td>...</td>\n",
       "      <td>...</td>\n",
       "      <td>...</td>\n",
       "      <td>...</td>\n",
       "      <td>...</td>\n",
       "      <td>...</td>\n",
       "      <td>...</td>\n",
       "      <td>...</td>\n",
       "      <td>...</td>\n",
       "      <td>...</td>\n",
       "      <td>...</td>\n",
       "      <td>...</td>\n",
       "      <td>...</td>\n",
       "      <td>...</td>\n",
       "      <td>...</td>\n",
       "    </tr>\n",
       "    <tr>\n",
       "      <th>4100</th>\n",
       "      <td>Otu04101</td>\n",
       "      <td>Bacteria(100);Bacteroidetes(100);Cytophagia(10...</td>\n",
       "      <td>0</td>\n",
       "      <td>0</td>\n",
       "      <td>0</td>\n",
       "      <td>0</td>\n",
       "      <td>0</td>\n",
       "      <td>1</td>\n",
       "      <td>0</td>\n",
       "      <td>0</td>\n",
       "      <td>...</td>\n",
       "      <td>0</td>\n",
       "      <td>0</td>\n",
       "      <td>0</td>\n",
       "      <td>0</td>\n",
       "      <td>Bacteria</td>\n",
       "      <td>Bacteroidetes</td>\n",
       "      <td>Cytophagia</td>\n",
       "      <td>Cytophagales</td>\n",
       "      <td>Cytophagaceae</td>\n",
       "      <td>Hymenobacter</td>\n",
       "    </tr>\n",
       "    <tr>\n",
       "      <th>4101</th>\n",
       "      <td>Otu04102</td>\n",
       "      <td>Bacteria(100);Proteobacteria(100);Alphaproteob...</td>\n",
       "      <td>0</td>\n",
       "      <td>0</td>\n",
       "      <td>0</td>\n",
       "      <td>0</td>\n",
       "      <td>0</td>\n",
       "      <td>0</td>\n",
       "      <td>0</td>\n",
       "      <td>0</td>\n",
       "      <td>...</td>\n",
       "      <td>1</td>\n",
       "      <td>0</td>\n",
       "      <td>0</td>\n",
       "      <td>0</td>\n",
       "      <td>Bacteria</td>\n",
       "      <td>Proteobacteria</td>\n",
       "      <td>Alphaproteobacteria</td>\n",
       "      <td>Rhizobiales</td>\n",
       "      <td>unclassified</td>\n",
       "      <td>unclassified</td>\n",
       "    </tr>\n",
       "    <tr>\n",
       "      <th>4102</th>\n",
       "      <td>Otu04103</td>\n",
       "      <td>Bacteria(100);Firmicutes(100);unclassified(100...</td>\n",
       "      <td>0</td>\n",
       "      <td>0</td>\n",
       "      <td>0</td>\n",
       "      <td>0</td>\n",
       "      <td>0</td>\n",
       "      <td>0</td>\n",
       "      <td>1</td>\n",
       "      <td>0</td>\n",
       "      <td>...</td>\n",
       "      <td>0</td>\n",
       "      <td>0</td>\n",
       "      <td>0</td>\n",
       "      <td>0</td>\n",
       "      <td>Bacteria</td>\n",
       "      <td>Firmicutes</td>\n",
       "      <td>unclassified</td>\n",
       "      <td>unclassified</td>\n",
       "      <td>unclassified</td>\n",
       "      <td>unclassified</td>\n",
       "    </tr>\n",
       "    <tr>\n",
       "      <th>4103</th>\n",
       "      <td>Otu04104</td>\n",
       "      <td>Bacteria(100);Acidobacteria(100);Acidobacteria...</td>\n",
       "      <td>0</td>\n",
       "      <td>0</td>\n",
       "      <td>0</td>\n",
       "      <td>0</td>\n",
       "      <td>0</td>\n",
       "      <td>1</td>\n",
       "      <td>0</td>\n",
       "      <td>0</td>\n",
       "      <td>...</td>\n",
       "      <td>0</td>\n",
       "      <td>0</td>\n",
       "      <td>0</td>\n",
       "      <td>0</td>\n",
       "      <td>Bacteria</td>\n",
       "      <td>Acidobacteria</td>\n",
       "      <td>Acidobacteria_Gp6</td>\n",
       "      <td>Gp6</td>\n",
       "      <td>unclassified</td>\n",
       "      <td>unclassified</td>\n",
       "    </tr>\n",
       "    <tr>\n",
       "      <th>4104</th>\n",
       "      <td>Otu04105</td>\n",
       "      <td>Bacteria(100);Bacteroidetes(100);Sphingobacter...</td>\n",
       "      <td>0</td>\n",
       "      <td>0</td>\n",
       "      <td>0</td>\n",
       "      <td>0</td>\n",
       "      <td>0</td>\n",
       "      <td>1</td>\n",
       "      <td>0</td>\n",
       "      <td>0</td>\n",
       "      <td>...</td>\n",
       "      <td>0</td>\n",
       "      <td>0</td>\n",
       "      <td>0</td>\n",
       "      <td>0</td>\n",
       "      <td>Bacteria</td>\n",
       "      <td>Bacteroidetes</td>\n",
       "      <td>Sphingobacteriia</td>\n",
       "      <td>Sphingobacteriales</td>\n",
       "      <td>Chitinophagaceae</td>\n",
       "      <td>unclassified</td>\n",
       "    </tr>\n",
       "  </tbody>\n",
       "</table>\n",
       "<p>4105 rows × 22 columns</p>\n",
       "</div>"
      ],
      "text/plain": [
       "     OTUNumber                                     OTUConTaxonomy  door_in_1  \\\n",
       "0     Otu00001  Bacteria(100);Actinobacteria(100);Actinobacter...       1381   \n",
       "1     Otu00002  Bacteria(100);Proteobacteria(100);Gammaproteob...         20   \n",
       "2     Otu00003  Bacteria(100);Actinobacteria(100);Actinobacter...          8   \n",
       "3     Otu00004  Bacteria(100);Actinobacteria(100);Actinobacter...          6   \n",
       "4     Otu00005  Bacteria(100);Actinobacteria(100);Actinobacter...          0   \n",
       "...        ...                                                ...        ...   \n",
       "4100  Otu04101  Bacteria(100);Bacteroidetes(100);Cytophagia(10...          0   \n",
       "4101  Otu04102  Bacteria(100);Proteobacteria(100);Alphaproteob...          0   \n",
       "4102  Otu04103  Bacteria(100);Firmicutes(100);unclassified(100...          0   \n",
       "4103  Otu04104  Bacteria(100);Acidobacteria(100);Acidobacteria...          0   \n",
       "4104  Otu04105  Bacteria(100);Bacteroidetes(100);Sphingobacter...          0   \n",
       "\n",
       "      door_in_2  faucet_handle_1  faucet_handle_2  sink_floor_1  sink_floor_2  \\\n",
       "0          1032              335              577            38            36   \n",
       "1            17             1686                3           411           564   \n",
       "2            47                6              418            15             8   \n",
       "3            27                5                6           452           275   \n",
       "4            29                0              648             2             8   \n",
       "...         ...              ...              ...           ...           ...   \n",
       "4100          0                0                0             0             1   \n",
       "4101          0                0                0             0             0   \n",
       "4102          0                0                0             0             0   \n",
       "4103          0                0                0             0             1   \n",
       "4104          0                0                0             0             1   \n",
       "\n",
       "      soap_dispenser_1  stall_in_1  ...  toilet_flush_handle_1  \\\n",
       "0                 1115         598  ...                     13   \n",
       "1                  128           9  ...                      0   \n",
       "2                   84          45  ...                      3   \n",
       "3                   63           0  ...                      9   \n",
       "4                    3          32  ...                      0   \n",
       "...                ...         ...  ...                    ...   \n",
       "4100                 0           0  ...                      0   \n",
       "4101                 0           0  ...                      1   \n",
       "4102                 1           0  ...                      0   \n",
       "4103                 0           0  ...                      0   \n",
       "4104                 0           0  ...                      0   \n",
       "\n",
       "      toilet_flush_handle_2  toilet_seat_1  toilet_seat_2     regne  \\\n",
       "0                       329             76            156  Bacteria   \n",
       "1                        25            258              0  Bacteria   \n",
       "2                       283             41           1059  Bacteria   \n",
       "3                        51              5              3  Bacteria   \n",
       "4                       206              7             95  Bacteria   \n",
       "...                     ...            ...            ...       ...   \n",
       "4100                      0              0              0  Bacteria   \n",
       "4101                      0              0              0  Bacteria   \n",
       "4102                      0              0              0  Bacteria   \n",
       "4103                      0              0              0  Bacteria   \n",
       "4104                      0              0              0  Bacteria   \n",
       "\n",
       "       embranchement               classe               ordre  \\\n",
       "0     Actinobacteria       Actinobacteria     Actinomycetales   \n",
       "1     Proteobacteria  Gammaproteobacteria     Pseudomonadales   \n",
       "2     Actinobacteria       Actinobacteria     Actinomycetales   \n",
       "3     Actinobacteria       Actinobacteria     Actinomycetales   \n",
       "4     Actinobacteria       Actinobacteria     Actinomycetales   \n",
       "...              ...                  ...                 ...   \n",
       "4100   Bacteroidetes           Cytophagia        Cytophagales   \n",
       "4101  Proteobacteria  Alphaproteobacteria         Rhizobiales   \n",
       "4102      Firmicutes         unclassified        unclassified   \n",
       "4103   Acidobacteria    Acidobacteria_Gp6                 Gp6   \n",
       "4104   Bacteroidetes     Sphingobacteriia  Sphingobacteriales   \n",
       "\n",
       "                   famille              genre  \n",
       "0     Propionibacteriaceae  Propionibacterium  \n",
       "1            Moraxellaceae      Enhydrobacter  \n",
       "2       Corynebacteriaceae    Corynebacterium  \n",
       "3           Micrococcaceae       Arthrobacter  \n",
       "4       Corynebacteriaceae    Corynebacterium  \n",
       "...                    ...                ...  \n",
       "4100         Cytophagaceae       Hymenobacter  \n",
       "4101          unclassified       unclassified  \n",
       "4102          unclassified       unclassified  \n",
       "4103          unclassified       unclassified  \n",
       "4104      Chitinophagaceae       unclassified  \n",
       "\n",
       "[4105 rows x 22 columns]"
      ]
     },
     "execution_count": 89,
     "metadata": {},
     "output_type": "execute_result"
    }
   ],
   "source": [
    "pattern='\\((\\d+)\\)' #regex to target numbers enclosed in parenthesis\n",
    "sub_dtf=df['OTUConTaxonomy'].map(lambda x: re.sub(pattern, '', x).rstrip(\";\")).str.split(\";\",expand= True)\n",
    "df[['regne','embranchement','classe','ordre', 'famille', 'genre']] = sub_dtf\n",
    "df"
   ]
  },
  {
   "cell_type": "code",
   "execution_count": 108,
   "metadata": {},
   "outputs": [],
   "source": [
    "matrice=df.groupby(by=\"embranchement\").sum()\n",
    "#matrice['embranchement']\n",
    "indexNamesArr = matrice.index.values\n",
    "indexNamesArr\n",
    "listOfRowIndexLabels = list(indexNamesArr)\n",
    "matrice.to_numpy\n",
    "columnsNamesArr = matrice.columns.values\n",
    "listOfColumnNames = list(columnsNamesArr)"
   ]
  },
  {
   "cell_type": "code",
   "execution_count": 109,
   "metadata": {},
   "outputs": [
    {
     "data": {
      "application/vnd.plotly.v1+json": {
       "config": {
        "plotlyServerURL": "https://plot.ly"
       },
       "data": [
        {
         "hoverongaps": false,
         "type": "heatmap",
         "x": [
          "door_in_1",
          "door_in_2",
          "faucet_handle_1",
          "faucet_handle_2",
          "sink_floor_1",
          "sink_floor_2",
          "soap_dispenser_1",
          "stall_in_1",
          "toilet_floor_1",
          "toilet_floor_2",
          "toilet_flush_handle_1",
          "toilet_flush_handle_2",
          "toilet_seat_1",
          "toilet_seat_2"
         ],
         "y": [
          "Acidobacteria",
          "Actinobacteria",
          "Armatimonadetes",
          "Bacteroidetes",
          "Candidatus_Saccharibacteria",
          "Chloroflexi",
          "Deinococcus-Thermus",
          "Firmicutes",
          "Fusobacteria",
          "Gemmatimonadetes",
          "Microgenomates",
          "Parcubacteria",
          "Planctomycetes",
          "Proteobacteria",
          "Spirochaetes",
          "Synergistetes",
          "Verrucomicrobia",
          "unclassified"
         ],
         "z": [
          [
           6,
           0,
           3,
           0,
           17,
           13,
           0,
           11,
           19,
           16,
           65,
           23,
           7,
           1
          ],
          [
           1669,
           1483,
           434,
           2224,
           1382,
           978,
           1665,
           1077,
           1133,
           1013,
           1006,
           1400,
           685,
           1968
          ],
          [
           0,
           0,
           0,
           0,
           0,
           0,
           5,
           0,
           1,
           0,
           3,
           0,
           2,
           0
          ],
          [
           100,
           170,
           54,
           84,
           201,
           333,
           127,
           235,
           267,
           228,
           276,
           120,
           117,
           80
          ],
          [
           10,
           0,
           0,
           1,
           12,
           6,
           0,
           0,
           6,
           3,
           40,
           1,
           1,
           0
          ],
          [
           0,
           0,
           0,
           0,
           0,
           0,
           0,
           0,
           3,
           0,
           23,
           1,
           0,
           0
          ],
          [
           10,
           20,
           0,
           12,
           59,
           50,
           0,
           0,
           23,
           28,
           5,
           10,
           2,
           1
          ],
          [
           686,
           457,
           155,
           440,
           123,
           94,
           378,
           446,
           130,
           131,
           51,
           433,
           363,
           946
          ],
          [
           15,
           7,
           8,
           12,
           1,
           2,
           14,
           0,
           3,
           2,
           1,
           9,
           2,
           4
          ],
          [
           0,
           0,
           1,
           0,
           3,
           1,
           0,
           0,
           0,
           1,
           2,
           0,
           0,
           0
          ],
          [
           0,
           0,
           0,
           0,
           2,
           0,
           0,
           0,
           0,
           0,
           0,
           0,
           0,
           0
          ],
          [
           0,
           0,
           0,
           0,
           0,
           0,
           0,
           0,
           0,
           1,
           12,
           0,
           0,
           0
          ],
          [
           0,
           0,
           0,
           0,
           1,
           1,
           3,
           0,
           2,
           1,
           0,
           0,
           0,
           0
          ],
          [
           593,
           960,
           2445,
           340,
           1229,
           1555,
           897,
           1272,
           1419,
           1634,
           1133,
           1096,
           1906,
           100
          ],
          [
           0,
           0,
           0,
           0,
           0,
           0,
           0,
           0,
           6,
           0,
           0,
           0,
           0,
           0
          ],
          [
           0,
           0,
           0,
           0,
           0,
           0,
           0,
           0,
           0,
           0,
           0,
           0,
           2,
           0
          ],
          [
           0,
           0,
           0,
           0,
           0,
           1,
           0,
           0,
           1,
           1,
           16,
           0,
           0,
           0
          ],
          [
           30,
           22,
           19,
           6,
           89,
           85,
           30,
           78,
           106,
           60,
           486,
           26,
           32,
           19
          ]
         ]
        }
       ],
       "layout": {
        "template": {
         "data": {
          "bar": [
           {
            "error_x": {
             "color": "#2a3f5f"
            },
            "error_y": {
             "color": "#2a3f5f"
            },
            "marker": {
             "line": {
              "color": "#E5ECF6",
              "width": 0.5
             }
            },
            "type": "bar"
           }
          ],
          "barpolar": [
           {
            "marker": {
             "line": {
              "color": "#E5ECF6",
              "width": 0.5
             }
            },
            "type": "barpolar"
           }
          ],
          "carpet": [
           {
            "aaxis": {
             "endlinecolor": "#2a3f5f",
             "gridcolor": "white",
             "linecolor": "white",
             "minorgridcolor": "white",
             "startlinecolor": "#2a3f5f"
            },
            "baxis": {
             "endlinecolor": "#2a3f5f",
             "gridcolor": "white",
             "linecolor": "white",
             "minorgridcolor": "white",
             "startlinecolor": "#2a3f5f"
            },
            "type": "carpet"
           }
          ],
          "choropleth": [
           {
            "colorbar": {
             "outlinewidth": 0,
             "ticks": ""
            },
            "type": "choropleth"
           }
          ],
          "contour": [
           {
            "colorbar": {
             "outlinewidth": 0,
             "ticks": ""
            },
            "colorscale": [
             [
              0,
              "#0d0887"
             ],
             [
              0.1111111111111111,
              "#46039f"
             ],
             [
              0.2222222222222222,
              "#7201a8"
             ],
             [
              0.3333333333333333,
              "#9c179e"
             ],
             [
              0.4444444444444444,
              "#bd3786"
             ],
             [
              0.5555555555555556,
              "#d8576b"
             ],
             [
              0.6666666666666666,
              "#ed7953"
             ],
             [
              0.7777777777777778,
              "#fb9f3a"
             ],
             [
              0.8888888888888888,
              "#fdca26"
             ],
             [
              1,
              "#f0f921"
             ]
            ],
            "type": "contour"
           }
          ],
          "contourcarpet": [
           {
            "colorbar": {
             "outlinewidth": 0,
             "ticks": ""
            },
            "type": "contourcarpet"
           }
          ],
          "heatmap": [
           {
            "colorbar": {
             "outlinewidth": 0,
             "ticks": ""
            },
            "colorscale": [
             [
              0,
              "#0d0887"
             ],
             [
              0.1111111111111111,
              "#46039f"
             ],
             [
              0.2222222222222222,
              "#7201a8"
             ],
             [
              0.3333333333333333,
              "#9c179e"
             ],
             [
              0.4444444444444444,
              "#bd3786"
             ],
             [
              0.5555555555555556,
              "#d8576b"
             ],
             [
              0.6666666666666666,
              "#ed7953"
             ],
             [
              0.7777777777777778,
              "#fb9f3a"
             ],
             [
              0.8888888888888888,
              "#fdca26"
             ],
             [
              1,
              "#f0f921"
             ]
            ],
            "type": "heatmap"
           }
          ],
          "heatmapgl": [
           {
            "colorbar": {
             "outlinewidth": 0,
             "ticks": ""
            },
            "colorscale": [
             [
              0,
              "#0d0887"
             ],
             [
              0.1111111111111111,
              "#46039f"
             ],
             [
              0.2222222222222222,
              "#7201a8"
             ],
             [
              0.3333333333333333,
              "#9c179e"
             ],
             [
              0.4444444444444444,
              "#bd3786"
             ],
             [
              0.5555555555555556,
              "#d8576b"
             ],
             [
              0.6666666666666666,
              "#ed7953"
             ],
             [
              0.7777777777777778,
              "#fb9f3a"
             ],
             [
              0.8888888888888888,
              "#fdca26"
             ],
             [
              1,
              "#f0f921"
             ]
            ],
            "type": "heatmapgl"
           }
          ],
          "histogram": [
           {
            "marker": {
             "colorbar": {
              "outlinewidth": 0,
              "ticks": ""
             }
            },
            "type": "histogram"
           }
          ],
          "histogram2d": [
           {
            "colorbar": {
             "outlinewidth": 0,
             "ticks": ""
            },
            "colorscale": [
             [
              0,
              "#0d0887"
             ],
             [
              0.1111111111111111,
              "#46039f"
             ],
             [
              0.2222222222222222,
              "#7201a8"
             ],
             [
              0.3333333333333333,
              "#9c179e"
             ],
             [
              0.4444444444444444,
              "#bd3786"
             ],
             [
              0.5555555555555556,
              "#d8576b"
             ],
             [
              0.6666666666666666,
              "#ed7953"
             ],
             [
              0.7777777777777778,
              "#fb9f3a"
             ],
             [
              0.8888888888888888,
              "#fdca26"
             ],
             [
              1,
              "#f0f921"
             ]
            ],
            "type": "histogram2d"
           }
          ],
          "histogram2dcontour": [
           {
            "colorbar": {
             "outlinewidth": 0,
             "ticks": ""
            },
            "colorscale": [
             [
              0,
              "#0d0887"
             ],
             [
              0.1111111111111111,
              "#46039f"
             ],
             [
              0.2222222222222222,
              "#7201a8"
             ],
             [
              0.3333333333333333,
              "#9c179e"
             ],
             [
              0.4444444444444444,
              "#bd3786"
             ],
             [
              0.5555555555555556,
              "#d8576b"
             ],
             [
              0.6666666666666666,
              "#ed7953"
             ],
             [
              0.7777777777777778,
              "#fb9f3a"
             ],
             [
              0.8888888888888888,
              "#fdca26"
             ],
             [
              1,
              "#f0f921"
             ]
            ],
            "type": "histogram2dcontour"
           }
          ],
          "mesh3d": [
           {
            "colorbar": {
             "outlinewidth": 0,
             "ticks": ""
            },
            "type": "mesh3d"
           }
          ],
          "parcoords": [
           {
            "line": {
             "colorbar": {
              "outlinewidth": 0,
              "ticks": ""
             }
            },
            "type": "parcoords"
           }
          ],
          "pie": [
           {
            "automargin": true,
            "type": "pie"
           }
          ],
          "scatter": [
           {
            "marker": {
             "colorbar": {
              "outlinewidth": 0,
              "ticks": ""
             }
            },
            "type": "scatter"
           }
          ],
          "scatter3d": [
           {
            "line": {
             "colorbar": {
              "outlinewidth": 0,
              "ticks": ""
             }
            },
            "marker": {
             "colorbar": {
              "outlinewidth": 0,
              "ticks": ""
             }
            },
            "type": "scatter3d"
           }
          ],
          "scattercarpet": [
           {
            "marker": {
             "colorbar": {
              "outlinewidth": 0,
              "ticks": ""
             }
            },
            "type": "scattercarpet"
           }
          ],
          "scattergeo": [
           {
            "marker": {
             "colorbar": {
              "outlinewidth": 0,
              "ticks": ""
             }
            },
            "type": "scattergeo"
           }
          ],
          "scattergl": [
           {
            "marker": {
             "colorbar": {
              "outlinewidth": 0,
              "ticks": ""
             }
            },
            "type": "scattergl"
           }
          ],
          "scattermapbox": [
           {
            "marker": {
             "colorbar": {
              "outlinewidth": 0,
              "ticks": ""
             }
            },
            "type": "scattermapbox"
           }
          ],
          "scatterpolar": [
           {
            "marker": {
             "colorbar": {
              "outlinewidth": 0,
              "ticks": ""
             }
            },
            "type": "scatterpolar"
           }
          ],
          "scatterpolargl": [
           {
            "marker": {
             "colorbar": {
              "outlinewidth": 0,
              "ticks": ""
             }
            },
            "type": "scatterpolargl"
           }
          ],
          "scatterternary": [
           {
            "marker": {
             "colorbar": {
              "outlinewidth": 0,
              "ticks": ""
             }
            },
            "type": "scatterternary"
           }
          ],
          "surface": [
           {
            "colorbar": {
             "outlinewidth": 0,
             "ticks": ""
            },
            "colorscale": [
             [
              0,
              "#0d0887"
             ],
             [
              0.1111111111111111,
              "#46039f"
             ],
             [
              0.2222222222222222,
              "#7201a8"
             ],
             [
              0.3333333333333333,
              "#9c179e"
             ],
             [
              0.4444444444444444,
              "#bd3786"
             ],
             [
              0.5555555555555556,
              "#d8576b"
             ],
             [
              0.6666666666666666,
              "#ed7953"
             ],
             [
              0.7777777777777778,
              "#fb9f3a"
             ],
             [
              0.8888888888888888,
              "#fdca26"
             ],
             [
              1,
              "#f0f921"
             ]
            ],
            "type": "surface"
           }
          ],
          "table": [
           {
            "cells": {
             "fill": {
              "color": "#EBF0F8"
             },
             "line": {
              "color": "white"
             }
            },
            "header": {
             "fill": {
              "color": "#C8D4E3"
             },
             "line": {
              "color": "white"
             }
            },
            "type": "table"
           }
          ]
         },
         "layout": {
          "annotationdefaults": {
           "arrowcolor": "#2a3f5f",
           "arrowhead": 0,
           "arrowwidth": 1
          },
          "coloraxis": {
           "colorbar": {
            "outlinewidth": 0,
            "ticks": ""
           }
          },
          "colorscale": {
           "diverging": [
            [
             0,
             "#8e0152"
            ],
            [
             0.1,
             "#c51b7d"
            ],
            [
             0.2,
             "#de77ae"
            ],
            [
             0.3,
             "#f1b6da"
            ],
            [
             0.4,
             "#fde0ef"
            ],
            [
             0.5,
             "#f7f7f7"
            ],
            [
             0.6,
             "#e6f5d0"
            ],
            [
             0.7,
             "#b8e186"
            ],
            [
             0.8,
             "#7fbc41"
            ],
            [
             0.9,
             "#4d9221"
            ],
            [
             1,
             "#276419"
            ]
           ],
           "sequential": [
            [
             0,
             "#0d0887"
            ],
            [
             0.1111111111111111,
             "#46039f"
            ],
            [
             0.2222222222222222,
             "#7201a8"
            ],
            [
             0.3333333333333333,
             "#9c179e"
            ],
            [
             0.4444444444444444,
             "#bd3786"
            ],
            [
             0.5555555555555556,
             "#d8576b"
            ],
            [
             0.6666666666666666,
             "#ed7953"
            ],
            [
             0.7777777777777778,
             "#fb9f3a"
            ],
            [
             0.8888888888888888,
             "#fdca26"
            ],
            [
             1,
             "#f0f921"
            ]
           ],
           "sequentialminus": [
            [
             0,
             "#0d0887"
            ],
            [
             0.1111111111111111,
             "#46039f"
            ],
            [
             0.2222222222222222,
             "#7201a8"
            ],
            [
             0.3333333333333333,
             "#9c179e"
            ],
            [
             0.4444444444444444,
             "#bd3786"
            ],
            [
             0.5555555555555556,
             "#d8576b"
            ],
            [
             0.6666666666666666,
             "#ed7953"
            ],
            [
             0.7777777777777778,
             "#fb9f3a"
            ],
            [
             0.8888888888888888,
             "#fdca26"
            ],
            [
             1,
             "#f0f921"
            ]
           ]
          },
          "colorway": [
           "#636efa",
           "#EF553B",
           "#00cc96",
           "#ab63fa",
           "#FFA15A",
           "#19d3f3",
           "#FF6692",
           "#B6E880",
           "#FF97FF",
           "#FECB52"
          ],
          "font": {
           "color": "#2a3f5f"
          },
          "geo": {
           "bgcolor": "white",
           "lakecolor": "white",
           "landcolor": "#E5ECF6",
           "showlakes": true,
           "showland": true,
           "subunitcolor": "white"
          },
          "hoverlabel": {
           "align": "left"
          },
          "hovermode": "closest",
          "mapbox": {
           "style": "light"
          },
          "paper_bgcolor": "white",
          "plot_bgcolor": "#E5ECF6",
          "polar": {
           "angularaxis": {
            "gridcolor": "white",
            "linecolor": "white",
            "ticks": ""
           },
           "bgcolor": "#E5ECF6",
           "radialaxis": {
            "gridcolor": "white",
            "linecolor": "white",
            "ticks": ""
           }
          },
          "scene": {
           "xaxis": {
            "backgroundcolor": "#E5ECF6",
            "gridcolor": "white",
            "gridwidth": 2,
            "linecolor": "white",
            "showbackground": true,
            "ticks": "",
            "zerolinecolor": "white"
           },
           "yaxis": {
            "backgroundcolor": "#E5ECF6",
            "gridcolor": "white",
            "gridwidth": 2,
            "linecolor": "white",
            "showbackground": true,
            "ticks": "",
            "zerolinecolor": "white"
           },
           "zaxis": {
            "backgroundcolor": "#E5ECF6",
            "gridcolor": "white",
            "gridwidth": 2,
            "linecolor": "white",
            "showbackground": true,
            "ticks": "",
            "zerolinecolor": "white"
           }
          },
          "shapedefaults": {
           "line": {
            "color": "#2a3f5f"
           }
          },
          "ternary": {
           "aaxis": {
            "gridcolor": "white",
            "linecolor": "white",
            "ticks": ""
           },
           "baxis": {
            "gridcolor": "white",
            "linecolor": "white",
            "ticks": ""
           },
           "bgcolor": "#E5ECF6",
           "caxis": {
            "gridcolor": "white",
            "linecolor": "white",
            "ticks": ""
           }
          },
          "title": {
           "x": 0.05
          },
          "xaxis": {
           "automargin": true,
           "gridcolor": "white",
           "linecolor": "white",
           "ticks": "",
           "title": {
            "standoff": 15
           },
           "zerolinecolor": "white",
           "zerolinewidth": 2
          },
          "yaxis": {
           "automargin": true,
           "gridcolor": "white",
           "linecolor": "white",
           "ticks": "",
           "title": {
            "standoff": 15
           },
           "zerolinecolor": "white",
           "zerolinewidth": 2
          }
         }
        }
       }
      },
      "text/html": [
       "<div>                            <div id=\"ae97af4a-5e19-4815-8666-460a78cd477c\" class=\"plotly-graph-div\" style=\"height:525px; width:100%;\"></div>            <script type=\"text/javascript\">                require([\"plotly\"], function(Plotly) {                    window.PLOTLYENV=window.PLOTLYENV || {};                                    if (document.getElementById(\"ae97af4a-5e19-4815-8666-460a78cd477c\")) {                    Plotly.newPlot(                        \"ae97af4a-5e19-4815-8666-460a78cd477c\",                        [{\"hoverongaps\": false, \"type\": \"heatmap\", \"x\": [\"door_in_1\", \"door_in_2\", \"faucet_handle_1\", \"faucet_handle_2\", \"sink_floor_1\", \"sink_floor_2\", \"soap_dispenser_1\", \"stall_in_1\", \"toilet_floor_1\", \"toilet_floor_2\", \"toilet_flush_handle_1\", \"toilet_flush_handle_2\", \"toilet_seat_1\", \"toilet_seat_2\"], \"y\": [\"Acidobacteria\", \"Actinobacteria\", \"Armatimonadetes\", \"Bacteroidetes\", \"Candidatus_Saccharibacteria\", \"Chloroflexi\", \"Deinococcus-Thermus\", \"Firmicutes\", \"Fusobacteria\", \"Gemmatimonadetes\", \"Microgenomates\", \"Parcubacteria\", \"Planctomycetes\", \"Proteobacteria\", \"Spirochaetes\", \"Synergistetes\", \"Verrucomicrobia\", \"unclassified\"], \"z\": [[6, 0, 3, 0, 17, 13, 0, 11, 19, 16, 65, 23, 7, 1], [1669, 1483, 434, 2224, 1382, 978, 1665, 1077, 1133, 1013, 1006, 1400, 685, 1968], [0, 0, 0, 0, 0, 0, 5, 0, 1, 0, 3, 0, 2, 0], [100, 170, 54, 84, 201, 333, 127, 235, 267, 228, 276, 120, 117, 80], [10, 0, 0, 1, 12, 6, 0, 0, 6, 3, 40, 1, 1, 0], [0, 0, 0, 0, 0, 0, 0, 0, 3, 0, 23, 1, 0, 0], [10, 20, 0, 12, 59, 50, 0, 0, 23, 28, 5, 10, 2, 1], [686, 457, 155, 440, 123, 94, 378, 446, 130, 131, 51, 433, 363, 946], [15, 7, 8, 12, 1, 2, 14, 0, 3, 2, 1, 9, 2, 4], [0, 0, 1, 0, 3, 1, 0, 0, 0, 1, 2, 0, 0, 0], [0, 0, 0, 0, 2, 0, 0, 0, 0, 0, 0, 0, 0, 0], [0, 0, 0, 0, 0, 0, 0, 0, 0, 1, 12, 0, 0, 0], [0, 0, 0, 0, 1, 1, 3, 0, 2, 1, 0, 0, 0, 0], [593, 960, 2445, 340, 1229, 1555, 897, 1272, 1419, 1634, 1133, 1096, 1906, 100], [0, 0, 0, 0, 0, 0, 0, 0, 6, 0, 0, 0, 0, 0], [0, 0, 0, 0, 0, 0, 0, 0, 0, 0, 0, 0, 2, 0], [0, 0, 0, 0, 0, 1, 0, 0, 1, 1, 16, 0, 0, 0], [30, 22, 19, 6, 89, 85, 30, 78, 106, 60, 486, 26, 32, 19]]}],                        {\"template\": {\"data\": {\"bar\": [{\"error_x\": {\"color\": \"#2a3f5f\"}, \"error_y\": {\"color\": \"#2a3f5f\"}, \"marker\": {\"line\": {\"color\": \"#E5ECF6\", \"width\": 0.5}}, \"type\": \"bar\"}], \"barpolar\": [{\"marker\": {\"line\": {\"color\": \"#E5ECF6\", \"width\": 0.5}}, \"type\": \"barpolar\"}], \"carpet\": [{\"aaxis\": {\"endlinecolor\": \"#2a3f5f\", \"gridcolor\": \"white\", \"linecolor\": \"white\", \"minorgridcolor\": \"white\", \"startlinecolor\": \"#2a3f5f\"}, \"baxis\": {\"endlinecolor\": \"#2a3f5f\", \"gridcolor\": \"white\", \"linecolor\": \"white\", \"minorgridcolor\": \"white\", \"startlinecolor\": \"#2a3f5f\"}, \"type\": \"carpet\"}], \"choropleth\": [{\"colorbar\": {\"outlinewidth\": 0, \"ticks\": \"\"}, \"type\": \"choropleth\"}], \"contour\": [{\"colorbar\": {\"outlinewidth\": 0, \"ticks\": \"\"}, \"colorscale\": [[0.0, \"#0d0887\"], [0.1111111111111111, \"#46039f\"], [0.2222222222222222, \"#7201a8\"], [0.3333333333333333, \"#9c179e\"], [0.4444444444444444, \"#bd3786\"], [0.5555555555555556, \"#d8576b\"], [0.6666666666666666, \"#ed7953\"], [0.7777777777777778, \"#fb9f3a\"], [0.8888888888888888, \"#fdca26\"], [1.0, \"#f0f921\"]], \"type\": \"contour\"}], \"contourcarpet\": [{\"colorbar\": {\"outlinewidth\": 0, \"ticks\": \"\"}, \"type\": \"contourcarpet\"}], \"heatmap\": [{\"colorbar\": {\"outlinewidth\": 0, \"ticks\": \"\"}, \"colorscale\": [[0.0, \"#0d0887\"], [0.1111111111111111, \"#46039f\"], [0.2222222222222222, \"#7201a8\"], [0.3333333333333333, \"#9c179e\"], [0.4444444444444444, \"#bd3786\"], [0.5555555555555556, \"#d8576b\"], [0.6666666666666666, \"#ed7953\"], [0.7777777777777778, \"#fb9f3a\"], [0.8888888888888888, \"#fdca26\"], [1.0, \"#f0f921\"]], \"type\": \"heatmap\"}], \"heatmapgl\": [{\"colorbar\": {\"outlinewidth\": 0, \"ticks\": \"\"}, \"colorscale\": [[0.0, \"#0d0887\"], [0.1111111111111111, \"#46039f\"], [0.2222222222222222, \"#7201a8\"], [0.3333333333333333, \"#9c179e\"], [0.4444444444444444, \"#bd3786\"], [0.5555555555555556, \"#d8576b\"], [0.6666666666666666, \"#ed7953\"], [0.7777777777777778, \"#fb9f3a\"], [0.8888888888888888, \"#fdca26\"], [1.0, \"#f0f921\"]], \"type\": \"heatmapgl\"}], \"histogram\": [{\"marker\": {\"colorbar\": {\"outlinewidth\": 0, \"ticks\": \"\"}}, \"type\": \"histogram\"}], \"histogram2d\": [{\"colorbar\": {\"outlinewidth\": 0, \"ticks\": \"\"}, \"colorscale\": [[0.0, \"#0d0887\"], [0.1111111111111111, \"#46039f\"], [0.2222222222222222, \"#7201a8\"], [0.3333333333333333, \"#9c179e\"], [0.4444444444444444, \"#bd3786\"], [0.5555555555555556, \"#d8576b\"], [0.6666666666666666, \"#ed7953\"], [0.7777777777777778, \"#fb9f3a\"], [0.8888888888888888, \"#fdca26\"], [1.0, \"#f0f921\"]], \"type\": \"histogram2d\"}], \"histogram2dcontour\": [{\"colorbar\": {\"outlinewidth\": 0, \"ticks\": \"\"}, \"colorscale\": [[0.0, \"#0d0887\"], [0.1111111111111111, \"#46039f\"], [0.2222222222222222, \"#7201a8\"], [0.3333333333333333, \"#9c179e\"], [0.4444444444444444, \"#bd3786\"], [0.5555555555555556, \"#d8576b\"], [0.6666666666666666, \"#ed7953\"], [0.7777777777777778, \"#fb9f3a\"], [0.8888888888888888, \"#fdca26\"], [1.0, \"#f0f921\"]], \"type\": \"histogram2dcontour\"}], \"mesh3d\": [{\"colorbar\": {\"outlinewidth\": 0, \"ticks\": \"\"}, \"type\": \"mesh3d\"}], \"parcoords\": [{\"line\": {\"colorbar\": {\"outlinewidth\": 0, \"ticks\": \"\"}}, \"type\": \"parcoords\"}], \"pie\": [{\"automargin\": true, \"type\": \"pie\"}], \"scatter\": [{\"marker\": {\"colorbar\": {\"outlinewidth\": 0, \"ticks\": \"\"}}, \"type\": \"scatter\"}], \"scatter3d\": [{\"line\": {\"colorbar\": {\"outlinewidth\": 0, \"ticks\": \"\"}}, \"marker\": {\"colorbar\": {\"outlinewidth\": 0, \"ticks\": \"\"}}, \"type\": \"scatter3d\"}], \"scattercarpet\": [{\"marker\": {\"colorbar\": {\"outlinewidth\": 0, \"ticks\": \"\"}}, \"type\": \"scattercarpet\"}], \"scattergeo\": [{\"marker\": {\"colorbar\": {\"outlinewidth\": 0, \"ticks\": \"\"}}, \"type\": \"scattergeo\"}], \"scattergl\": [{\"marker\": {\"colorbar\": {\"outlinewidth\": 0, \"ticks\": \"\"}}, \"type\": \"scattergl\"}], \"scattermapbox\": [{\"marker\": {\"colorbar\": {\"outlinewidth\": 0, \"ticks\": \"\"}}, \"type\": \"scattermapbox\"}], \"scatterpolar\": [{\"marker\": {\"colorbar\": {\"outlinewidth\": 0, \"ticks\": \"\"}}, \"type\": \"scatterpolar\"}], \"scatterpolargl\": [{\"marker\": {\"colorbar\": {\"outlinewidth\": 0, \"ticks\": \"\"}}, \"type\": \"scatterpolargl\"}], \"scatterternary\": [{\"marker\": {\"colorbar\": {\"outlinewidth\": 0, \"ticks\": \"\"}}, \"type\": \"scatterternary\"}], \"surface\": [{\"colorbar\": {\"outlinewidth\": 0, \"ticks\": \"\"}, \"colorscale\": [[0.0, \"#0d0887\"], [0.1111111111111111, \"#46039f\"], [0.2222222222222222, \"#7201a8\"], [0.3333333333333333, \"#9c179e\"], [0.4444444444444444, \"#bd3786\"], [0.5555555555555556, \"#d8576b\"], [0.6666666666666666, \"#ed7953\"], [0.7777777777777778, \"#fb9f3a\"], [0.8888888888888888, \"#fdca26\"], [1.0, \"#f0f921\"]], \"type\": \"surface\"}], \"table\": [{\"cells\": {\"fill\": {\"color\": \"#EBF0F8\"}, \"line\": {\"color\": \"white\"}}, \"header\": {\"fill\": {\"color\": \"#C8D4E3\"}, \"line\": {\"color\": \"white\"}}, \"type\": \"table\"}]}, \"layout\": {\"annotationdefaults\": {\"arrowcolor\": \"#2a3f5f\", \"arrowhead\": 0, \"arrowwidth\": 1}, \"coloraxis\": {\"colorbar\": {\"outlinewidth\": 0, \"ticks\": \"\"}}, \"colorscale\": {\"diverging\": [[0, \"#8e0152\"], [0.1, \"#c51b7d\"], [0.2, \"#de77ae\"], [0.3, \"#f1b6da\"], [0.4, \"#fde0ef\"], [0.5, \"#f7f7f7\"], [0.6, \"#e6f5d0\"], [0.7, \"#b8e186\"], [0.8, \"#7fbc41\"], [0.9, \"#4d9221\"], [1, \"#276419\"]], \"sequential\": [[0.0, \"#0d0887\"], [0.1111111111111111, \"#46039f\"], [0.2222222222222222, \"#7201a8\"], [0.3333333333333333, \"#9c179e\"], [0.4444444444444444, \"#bd3786\"], [0.5555555555555556, \"#d8576b\"], [0.6666666666666666, \"#ed7953\"], [0.7777777777777778, \"#fb9f3a\"], [0.8888888888888888, \"#fdca26\"], [1.0, \"#f0f921\"]], \"sequentialminus\": [[0.0, \"#0d0887\"], [0.1111111111111111, \"#46039f\"], [0.2222222222222222, \"#7201a8\"], [0.3333333333333333, \"#9c179e\"], [0.4444444444444444, \"#bd3786\"], [0.5555555555555556, \"#d8576b\"], [0.6666666666666666, \"#ed7953\"], [0.7777777777777778, \"#fb9f3a\"], [0.8888888888888888, \"#fdca26\"], [1.0, \"#f0f921\"]]}, \"colorway\": [\"#636efa\", \"#EF553B\", \"#00cc96\", \"#ab63fa\", \"#FFA15A\", \"#19d3f3\", \"#FF6692\", \"#B6E880\", \"#FF97FF\", \"#FECB52\"], \"font\": {\"color\": \"#2a3f5f\"}, \"geo\": {\"bgcolor\": \"white\", \"lakecolor\": \"white\", \"landcolor\": \"#E5ECF6\", \"showlakes\": true, \"showland\": true, \"subunitcolor\": \"white\"}, \"hoverlabel\": {\"align\": \"left\"}, \"hovermode\": \"closest\", \"mapbox\": {\"style\": \"light\"}, \"paper_bgcolor\": \"white\", \"plot_bgcolor\": \"#E5ECF6\", \"polar\": {\"angularaxis\": {\"gridcolor\": \"white\", \"linecolor\": \"white\", \"ticks\": \"\"}, \"bgcolor\": \"#E5ECF6\", \"radialaxis\": {\"gridcolor\": \"white\", \"linecolor\": \"white\", \"ticks\": \"\"}}, \"scene\": {\"xaxis\": {\"backgroundcolor\": \"#E5ECF6\", \"gridcolor\": \"white\", \"gridwidth\": 2, \"linecolor\": \"white\", \"showbackground\": true, \"ticks\": \"\", \"zerolinecolor\": \"white\"}, \"yaxis\": {\"backgroundcolor\": \"#E5ECF6\", \"gridcolor\": \"white\", \"gridwidth\": 2, \"linecolor\": \"white\", \"showbackground\": true, \"ticks\": \"\", \"zerolinecolor\": \"white\"}, \"zaxis\": {\"backgroundcolor\": \"#E5ECF6\", \"gridcolor\": \"white\", \"gridwidth\": 2, \"linecolor\": \"white\", \"showbackground\": true, \"ticks\": \"\", \"zerolinecolor\": \"white\"}}, \"shapedefaults\": {\"line\": {\"color\": \"#2a3f5f\"}}, \"ternary\": {\"aaxis\": {\"gridcolor\": \"white\", \"linecolor\": \"white\", \"ticks\": \"\"}, \"baxis\": {\"gridcolor\": \"white\", \"linecolor\": \"white\", \"ticks\": \"\"}, \"bgcolor\": \"#E5ECF6\", \"caxis\": {\"gridcolor\": \"white\", \"linecolor\": \"white\", \"ticks\": \"\"}}, \"title\": {\"x\": 0.05}, \"xaxis\": {\"automargin\": true, \"gridcolor\": \"white\", \"linecolor\": \"white\", \"ticks\": \"\", \"title\": {\"standoff\": 15}, \"zerolinecolor\": \"white\", \"zerolinewidth\": 2}, \"yaxis\": {\"automargin\": true, \"gridcolor\": \"white\", \"linecolor\": \"white\", \"ticks\": \"\", \"title\": {\"standoff\": 15}, \"zerolinecolor\": \"white\", \"zerolinewidth\": 2}}}},                        {\"responsive\": true}                    ).then(function(){\n",
       "                            \n",
       "var gd = document.getElementById('ae97af4a-5e19-4815-8666-460a78cd477c');\n",
       "var x = new MutationObserver(function (mutations, observer) {{\n",
       "        var display = window.getComputedStyle(gd).display;\n",
       "        if (!display || display === 'none') {{\n",
       "            console.log([gd, 'removed!']);\n",
       "            Plotly.purge(gd);\n",
       "            observer.disconnect();\n",
       "        }}\n",
       "}});\n",
       "\n",
       "// Listen for the removal of the full notebook cells\n",
       "var notebookContainer = gd.closest('#notebook-container');\n",
       "if (notebookContainer) {{\n",
       "    x.observe(notebookContainer, {childList: true});\n",
       "}}\n",
       "\n",
       "// Listen for the clearing of the current output cell\n",
       "var outputEl = gd.closest('.output');\n",
       "if (outputEl) {{\n",
       "    x.observe(outputEl, {childList: true});\n",
       "}}\n",
       "\n",
       "                        })                };                });            </script>        </div>"
      ]
     },
     "metadata": {},
     "output_type": "display_data"
    }
   ],
   "source": [
    "import plotly.graph_objects as go\n",
    "\n",
    "fig = go.Figure(data=go.Heatmap(\n",
    "                   z=matrice,\n",
    "                   x=listOfColumnNames,\n",
    "                   y=listOfRowIndexLabels,\n",
    "                   hoverongaps = False))\n",
    "fig.show()"
   ]
  }
 ],
 "metadata": {
  "kernelspec": {
   "display_name": "Python 3",
   "language": "python",
   "name": "python3"
  },
  "language_info": {
   "codemirror_mode": {
    "name": "ipython",
    "version": 3
   },
   "file_extension": ".py",
   "mimetype": "text/x-python",
   "name": "python",
   "nbconvert_exporter": "python",
   "pygments_lexer": "ipython3",
   "version": "3.8.2"
  }
 },
 "nbformat": 4,
 "nbformat_minor": 4
}
